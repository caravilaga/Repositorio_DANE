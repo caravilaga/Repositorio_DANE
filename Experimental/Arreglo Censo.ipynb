{
 "cells": [
  {
   "cell_type": "code",
   "execution_count": 2,
   "metadata": {},
   "outputs": [],
   "source": [
    "import pandas as pd\n",
    "import numpy as np"
   ]
  },
  {
   "cell_type": "markdown",
   "metadata": {},
   "source": [
    "# Establecimientos"
   ]
  },
  {
   "cell_type": "code",
   "execution_count": 34,
   "metadata": {},
   "outputs": [],
   "source": [
    "data_path = r\"D:\\DANE - Contrato\\2024\\Operativo Barrido\\Data\\Despliegue prueba\\Establecimientos/\"\n",
    "dicc_path = r\"D:\\DANE - Contrato\\2024\\Operativo Barrido\\Data/\""
   ]
  },
  {
   "cell_type": "markdown",
   "metadata": {},
   "source": [
    "## Lectura de archivos"
   ]
  },
  {
   "cell_type": "code",
   "execution_count": 77,
   "metadata": {},
   "outputs": [
    {
     "name": "stderr",
     "output_type": "stream",
     "text": [
      "C:\\Users\\carlo\\AppData\\Roaming\\Python\\Python310\\site-packages\\openpyxl\\styles\\stylesheet.py:226: UserWarning: Workbook contains no default style, apply openpyxl's default\n",
      "  warn(\"Workbook contains no default style, apply openpyxl's default\")\n"
     ]
    }
   ],
   "source": [
    "#### Lectura de archivos\n",
    "\n",
    "#df_id: Módulo de identificación  \n",
    "df_id = pd.read_excel(data_path+\"Crudo/CENSO 2022/Capítulo 1.xlsx\",header = 0)\n",
    "#df_ib: Módulo identificación básica  \n",
    "df_ib = pd.read_excel(data_path+\"Crudo/CENSO 2022/Capítulo 2.xlsx\",header = 0)\n",
    "#df_po: Módulo de personal ocupado\n",
    "df_po = pd.read_excel(data_path+\"Crudo/CENSO 2022/Capítulo 3.xlsx\",header = 0)\n",
    "#df_cg: Módulo de costos y gastos\n",
    "df_cg = pd.read_excel(data_path+\"Crudo/CENSO 2022/Capítulo 4.xlsx\",header = 0)\n",
    "#df_ing: Módulo de ingresos\n",
    "df_ing = pd.read_excel(data_path+\"Crudo/CENSO 2022/Capítulo 5.xlsx\",header = 0)\n",
    "# df_res: Resultados de la entrevista\n",
    "df_res = pd.read_excel(data_path+\"Crudo/CENSO 2022/CE_REGISTROS_COLA_STATUS.xlsx\",header = 0)"
   ]
  },
  {
   "cell_type": "code",
   "execution_count": 78,
   "metadata": {},
   "outputs": [
    {
     "name": "stdout",
     "output_type": "stream",
     "text": [
      "Dimensiones df resultados entrevista: (3888, 32) \n",
      "\n",
      "Dimensiones df identificación: (3514, 49) \n",
      "\n",
      "Dimensiones df info básica: (3514, 99) \n",
      "\n",
      "Dimensiones df personal ocupado: (3514, 81) \n",
      "\n",
      "Dimensiones df costos y gastos: (3514, 72) \n",
      "\n",
      "Dimensiones df ingresos: (3514, 26) \n",
      "\n"
     ]
    }
   ],
   "source": [
    "print(\"Dimensiones df resultados entrevista:\",df_res.shape, \"\\n\")\n",
    "print(\"Dimensiones df identificación:\",df_id.shape, \"\\n\")\n",
    "print(\"Dimensiones df info básica:\",df_ib.shape, \"\\n\")\n",
    "print(\"Dimensiones df personal ocupado:\",df_po.shape, \"\\n\")\n",
    "print(\"Dimensiones df costos y gastos:\",df_cg.shape, \"\\n\")\n",
    "print(\"Dimensiones df ingresos:\",df_ing.shape, \"\\n\")"
   ]
  },
  {
   "cell_type": "markdown",
   "metadata": {},
   "source": [
    "## Filtrado de la información\n",
    "1. Quedarse con las encuestas:  \n",
    "    Status = Valido  \n",
    "    Estado = Completa"
   ]
  },
  {
   "cell_type": "code",
   "execution_count": 121,
   "metadata": {},
   "outputs": [],
   "source": [
    "df_res = df_res[df_res['STATUS']=='VALIDO']\n",
    "df_res = df_res[df_res['ESTADO']=='Completa']"
   ]
  },
  {
   "cell_type": "code",
   "execution_count": 158,
   "metadata": {},
   "outputs": [
    {
     "name": "stderr",
     "output_type": "stream",
     "text": [
      "C:\\Users\\carlo\\AppData\\Local\\Temp\\ipykernel_15032\\1150504175.py:3: FutureWarning: Passing 'suffixes' which cause duplicate columns {'ID_x', 'IMEI_x', 'ID_ENCUESTA_x'} in the result is deprecated and will raise a MergeError in a future version.\n",
      "  df = pd.merge(df, df_po, on='UID_ENCUESTA', how='left')\n",
      "C:\\Users\\carlo\\AppData\\Local\\Temp\\ipykernel_15032\\1150504175.py:4: FutureWarning: Passing 'suffixes' which cause duplicate columns {'USUARIO_x'} in the result is deprecated and will raise a MergeError in a future version.\n",
      "  df = pd.merge(df, df_cg, on='UID_ENCUESTA', how='left')\n",
      "C:\\Users\\carlo\\AppData\\Local\\Temp\\ipykernel_15032\\1150504175.py:5: FutureWarning: Passing 'suffixes' which cause duplicate columns {'ID_x', 'IMEI_x', 'FECHACREACION_x', 'ID_ENCUESTA_x'} in the result is deprecated and will raise a MergeError in a future version.\n",
      "  df = pd.merge(df, df_ing, on='UID_ENCUESTA', how='left')\n"
     ]
    }
   ],
   "source": [
    "df = pd.merge(df_res, df_id, on='UID_ENCUESTA', how='left')\n",
    "df = pd.merge(df, df_ib, on='UID_ENCUESTA', how='left')\n",
    "df = pd.merge(df, df_po, on='UID_ENCUESTA', how='left')\n",
    "df = pd.merge(df, df_cg, on='UID_ENCUESTA', how='left')\n",
    "df = pd.merge(df, df_ing, on='UID_ENCUESTA', how='left')"
   ]
  },
  {
   "cell_type": "code",
   "execution_count": 159,
   "metadata": {},
   "outputs": [],
   "source": [
    "df.rename(columns={\"CLASE_x\": \"CLASE\",\n",
    "                   \"SALPOHTEMP\":\"SALTEMPH\",\n",
    "                   'SALPOMTEMP':\"SALTEMPM\"}, inplace=True)\n",
    "\n",
    "ubi_dic = {\"1. Establecimiento fijo (Local, tiendas, oficinas, consultorios, bodegas, parqueaderos)\":\"1. Establecimiento fijo\",\n",
    "           \"3. Vivienda con actividad económica\":\"3. Vivienda con actividad económica visible\",\n",
    "           \"2. Establecimiento semifijo (Puesto anclado al piso, caseta, kioscos, islas)\":\"2. Establecimiento semifijo\"}\n",
    "df['UBICA'] = df['UBICA'].replace(ubi_dic)\n",
    "\n",
    "rut_dic = {'SÍ':1,\n",
    "           'NO':2}\n",
    "df['IDRUT'] = df['IDRUT'].replace(rut_dic)\n",
    "\n",
    "cont_dic = {\"4. No lleva registros\":\"4. No lleva registros\",\n",
    "           \"3. Otro tipo de cuentas (libreta, cuaderno, Excel, caja registradora)\":\"3. Otro tipo de cuentas\",\n",
    "           \"2. Libro de registro diario de operaciones\":\"2. Libro de registro de operaciones\",\n",
    "           \"1. Estado de situación financiera o Estado de Resultados Integrales (PyG)\":\"1. Estado de Situación Financiera o Estado de Resultados Integrales (PyG)\"}\n",
    "df['REG_CONT'] = df['REG_CONT'].replace(cont_dic)\n",
    "\n",
    "\n",
    "# Función para verificar si '1' está presente en la cadena\n",
    "def contain_one(value):\n",
    "    '''\n",
    "    Crear un vector de 1's y 0's con el objetivo crear la variable de Cámara de Comercio\n",
    "    '''\n",
    "    if pd.isna(value):\n",
    "        return np.nan\n",
    "    return \"Cámara de Comercio\" if '1' in value.split(',') else 0\n",
    "\n",
    "# Crear la nueva columna\n",
    "df['CAMCOMER'] = df['CUAL_AUT'].apply(contain_one)\n",
    "\n",
    "df.to_csv(data_path + \"Intermedio/CENU.csv\")\n"
   ]
  },
  {
   "cell_type": "markdown",
   "metadata": {},
   "source": [
    "## Ajuste variables"
   ]
  },
  {
   "cell_type": "code",
   "execution_count": 160,
   "metadata": {},
   "outputs": [],
   "source": [
    "# Definición labels y diccionarios\n",
    "dic_depto = {5:\"Antioquia\",8:\"Atlántico\",11:\"Bogotá, D. C.\",13:\"Bolívar\",15:\"Boyacá\",17:\"Caldas\",18:\"Caquetá\",\n",
    "             19:\"Cauca\",20:\"Cesar\",23:\"Córdoba\",25:\"Cundinamarca\",27:\"Chocó\",41:\"Huila\",44:\"La Guajira\",47:\"Magdalena\",\n",
    "             50:\"Meta\",52:\"Nariño\",54:\"Norte De Santander\",63:\"Quindío\",66:\"Risaralda\",68:\"Santander\",70:\"Sucre\",73:\"Tolima\",\n",
    "             76:\"Valle Del Cauca\",88:\"San Andrés\"}\n",
    "\n",
    "dic_sector = {2:\"Industria\",3:\"Comercio\",4:\"Servicios\"}\n",
    "\n",
    "dic_rut = {1:\"Sí\",0:\"No\"}\n",
    "\n",
    "dic_g12 = {3:\"Industria\",\n",
    "           4:\"Construcción\",\n",
    "           5:\"Comercio\",\n",
    "           6:\"Transporte y almacenamiento\",\n",
    "           7:\"Alojamiento/servicios de comida\",\n",
    "           8:\"Información y comunicaciones\",\n",
    "           9:\"Actividades inmobiliarias\",\n",
    "           10:\"Educación\",\n",
    "           11:\"Actividades de salud humana\",\n",
    "           12:\"Actividades artísticas\",\n",
    "}\n",
    "\n",
    "rel_reg_con= pd.read_excel(dicc_path + \"Diccionario.xlsx\", sheet_name=\"REG_CONT\")\n",
    "rel_ubica= pd.read_excel(dicc_path + \"Diccionario.xlsx\", sheet_name=\"UBICA\")\n",
    "rel_cam = pd.read_excel(dicc_path + \"Diccionario.xlsx\", sheet_name=\"CAM_COMER\")"
   ]
  },
  {
   "cell_type": "markdown",
   "metadata": {},
   "source": [
    "### Ingresos"
   ]
  },
  {
   "cell_type": "code",
   "execution_count": 83,
   "metadata": {},
   "outputs": [
    {
     "data": {
      "text/plain": [
       "count    1.114000e+03\n",
       "mean     1.078777e+08\n",
       "std      6.747386e+08\n",
       "min      0.000000e+00\n",
       "25%      4.000000e+06\n",
       "50%      1.500000e+07\n",
       "75%      5.000000e+07\n",
       "max      1.293199e+10\n",
       "Name: ING_TOTAL, dtype: float64"
      ]
     },
     "execution_count": 83,
     "metadata": {},
     "output_type": "execute_result"
    }
   ],
   "source": [
    "df['ING_TOTAL'].describe()"
   ]
  },
  {
   "cell_type": "code",
   "execution_count": 67,
   "metadata": {},
   "outputs": [
    {
     "data": {
      "text/plain": [
       "True     1069\n",
       "False     910\n",
       "dtype: int64"
      ]
     },
     "execution_count": 67,
     "metadata": {},
     "output_type": "execute_result"
    }
   ],
   "source": [
    "#vars_ings = [\"ING_IND\",\"ING_MAQUIL\",\"ING_MMTO\",\"ING_COM\",\"ING_SERV\",\"ING_OTROPER\",\"ING_FINAN\",\"ING_DON\",\"ING_CONSTRUC\",\"ING_ALQME\"]\n",
    "(df['ING_TOTAL'] == df[[\"ING_IND\",\"ING_MAQUIL\",\"ING_MMTO\",\"ING_COM\",\"ING_SERV\",\"ING_OTROPER\",\"ING_FINAN\",'ING_OTROS']].sum(axis=1)).value_counts()"
   ]
  },
  {
   "cell_type": "code",
   "execution_count": 68,
   "metadata": {},
   "outputs": [],
   "source": [
    "ids = (df['UID_ENCUESTA'][((df[[\"ING_IND\",\"ING_MAQUIL\",\"ING_MMTO\",\"ING_COM\",\"ING_SERV\",\"ING_OTROPER\",\"ING_FINAN\",'ING_OTROS']]==99).any(axis = 1))]).tolist()"
   ]
  },
  {
   "cell_type": "code",
   "execution_count": 69,
   "metadata": {},
   "outputs": [
    {
     "name": "stdout",
     "output_type": "stream",
     "text": [
      "Número de NA's de la var. Ingreso cuando la suma de las individuales no coincide:\n"
     ]
    },
    {
     "data": {
      "text/plain": [
       "865"
      ]
     },
     "execution_count": 69,
     "metadata": {},
     "output_type": "execute_result"
    }
   ],
   "source": [
    "print(\"Número de NA's de la var. Ingreso cuando la suma de las individuales no coincide:\")\n",
    "df['ING_TOTAL'][~(df['ING_TOTAL'] == df[[\"ING_IND\",\"ING_MAQUIL\",\"ING_MMTO\",\"ING_COM\",\"ING_SERV\",\"ING_OTROPER\",\"ING_FINAN\",'ING_OTROS']].sum(axis=1))].isna().sum()\n",
    "# 865 datos son NA y el resto pueden ser otro ingresos no contemplados al momento del Operativo"
   ]
  },
  {
   "cell_type": "code",
   "execution_count": 70,
   "metadata": {},
   "outputs": [],
   "source": [
    "ids = df['UID_ENCUESTA'][~(df['ING_TOTAL'] == df[[\"ING_IND\",\"ING_MAQUIL\",\"ING_MMTO\",\"ING_COM\",\"ING_SERV\",\"ING_OTROPER\",\"ING_FINAN\",'ING_OTROS']].sum(axis=1)) & ~(df['ING_TOTAL'].isna())]"
   ]
  },
  {
   "cell_type": "code",
   "execution_count": 71,
   "metadata": {},
   "outputs": [
    {
     "data": {
      "text/html": [
       "<div>\n",
       "<style scoped>\n",
       "    .dataframe tbody tr th:only-of-type {\n",
       "        vertical-align: middle;\n",
       "    }\n",
       "\n",
       "    .dataframe tbody tr th {\n",
       "        vertical-align: top;\n",
       "    }\n",
       "\n",
       "    .dataframe thead th {\n",
       "        text-align: right;\n",
       "    }\n",
       "</style>\n",
       "<table border=\"1\" class=\"dataframe\">\n",
       "  <thead>\n",
       "    <tr style=\"text-align: right;\">\n",
       "      <th></th>\n",
       "      <th>ING_IND</th>\n",
       "      <th>ING_MAQUIL</th>\n",
       "      <th>ING_MMTO</th>\n",
       "      <th>ING_COM</th>\n",
       "      <th>ING_SERV</th>\n",
       "      <th>ING_OTROPER</th>\n",
       "      <th>ING_FINAN</th>\n",
       "      <th>ING_OTROS</th>\n",
       "      <th>ING_TOTAL</th>\n",
       "    </tr>\n",
       "  </thead>\n",
       "  <tbody>\n",
       "    <tr>\n",
       "      <th>14</th>\n",
       "      <td>0.0</td>\n",
       "      <td>0.0</td>\n",
       "      <td>0.0</td>\n",
       "      <td>99.0</td>\n",
       "      <td>10000000.0</td>\n",
       "      <td>100000.0</td>\n",
       "      <td>NaN</td>\n",
       "      <td>NaN</td>\n",
       "      <td>1.010000e+07</td>\n",
       "    </tr>\n",
       "    <tr>\n",
       "      <th>59</th>\n",
       "      <td>99.0</td>\n",
       "      <td>99.0</td>\n",
       "      <td>99.0</td>\n",
       "      <td>99.0</td>\n",
       "      <td>99.0</td>\n",
       "      <td>99.0</td>\n",
       "      <td>NaN</td>\n",
       "      <td>NaN</td>\n",
       "      <td>0.000000e+00</td>\n",
       "    </tr>\n",
       "    <tr>\n",
       "      <th>179</th>\n",
       "      <td>99.0</td>\n",
       "      <td>99.0</td>\n",
       "      <td>99.0</td>\n",
       "      <td>99.0</td>\n",
       "      <td>99.0</td>\n",
       "      <td>99.0</td>\n",
       "      <td>NaN</td>\n",
       "      <td>NaN</td>\n",
       "      <td>0.000000e+00</td>\n",
       "    </tr>\n",
       "    <tr>\n",
       "      <th>218</th>\n",
       "      <td>99.0</td>\n",
       "      <td>99.0</td>\n",
       "      <td>99.0</td>\n",
       "      <td>99.0</td>\n",
       "      <td>99.0</td>\n",
       "      <td>99.0</td>\n",
       "      <td>NaN</td>\n",
       "      <td>NaN</td>\n",
       "      <td>0.000000e+00</td>\n",
       "    </tr>\n",
       "    <tr>\n",
       "      <th>441</th>\n",
       "      <td>80000000.0</td>\n",
       "      <td>0.0</td>\n",
       "      <td>400000.0</td>\n",
       "      <td>3000000.0</td>\n",
       "      <td>99.0</td>\n",
       "      <td>0.0</td>\n",
       "      <td>NaN</td>\n",
       "      <td>NaN</td>\n",
       "      <td>8.340000e+07</td>\n",
       "    </tr>\n",
       "    <tr>\n",
       "      <th>444</th>\n",
       "      <td>99.0</td>\n",
       "      <td>0.0</td>\n",
       "      <td>0.0</td>\n",
       "      <td>99.0</td>\n",
       "      <td>20000000.0</td>\n",
       "      <td>0.0</td>\n",
       "      <td>NaN</td>\n",
       "      <td>NaN</td>\n",
       "      <td>2.000000e+07</td>\n",
       "    </tr>\n",
       "    <tr>\n",
       "      <th>513</th>\n",
       "      <td>99.0</td>\n",
       "      <td>0.0</td>\n",
       "      <td>99.0</td>\n",
       "      <td>99.0</td>\n",
       "      <td>99.0</td>\n",
       "      <td>99.0</td>\n",
       "      <td>NaN</td>\n",
       "      <td>NaN</td>\n",
       "      <td>0.000000e+00</td>\n",
       "    </tr>\n",
       "    <tr>\n",
       "      <th>516</th>\n",
       "      <td>99.0</td>\n",
       "      <td>0.0</td>\n",
       "      <td>99.0</td>\n",
       "      <td>99.0</td>\n",
       "      <td>99.0</td>\n",
       "      <td>99.0</td>\n",
       "      <td>NaN</td>\n",
       "      <td>NaN</td>\n",
       "      <td>0.000000e+00</td>\n",
       "    </tr>\n",
       "    <tr>\n",
       "      <th>608</th>\n",
       "      <td>99.0</td>\n",
       "      <td>0.0</td>\n",
       "      <td>0.0</td>\n",
       "      <td>99.0</td>\n",
       "      <td>99.0</td>\n",
       "      <td>0.0</td>\n",
       "      <td>NaN</td>\n",
       "      <td>NaN</td>\n",
       "      <td>0.000000e+00</td>\n",
       "    </tr>\n",
       "    <tr>\n",
       "      <th>928</th>\n",
       "      <td>0.0</td>\n",
       "      <td>0.0</td>\n",
       "      <td>0.0</td>\n",
       "      <td>0.0</td>\n",
       "      <td>2.0</td>\n",
       "      <td>0.0</td>\n",
       "      <td>NaN</td>\n",
       "      <td>NaN</td>\n",
       "      <td>1.000000e+10</td>\n",
       "    </tr>\n",
       "    <tr>\n",
       "      <th>1048</th>\n",
       "      <td>0.0</td>\n",
       "      <td>0.0</td>\n",
       "      <td>0.0</td>\n",
       "      <td>99.0</td>\n",
       "      <td>0.0</td>\n",
       "      <td>0.0</td>\n",
       "      <td>NaN</td>\n",
       "      <td>NaN</td>\n",
       "      <td>0.000000e+00</td>\n",
       "    </tr>\n",
       "    <tr>\n",
       "      <th>1116</th>\n",
       "      <td>0.0</td>\n",
       "      <td>0.0</td>\n",
       "      <td>0.0</td>\n",
       "      <td>99.0</td>\n",
       "      <td>99.0</td>\n",
       "      <td>0.0</td>\n",
       "      <td>NaN</td>\n",
       "      <td>NaN</td>\n",
       "      <td>0.000000e+00</td>\n",
       "    </tr>\n",
       "    <tr>\n",
       "      <th>1147</th>\n",
       "      <td>0.0</td>\n",
       "      <td>0.0</td>\n",
       "      <td>0.0</td>\n",
       "      <td>99.0</td>\n",
       "      <td>99.0</td>\n",
       "      <td>0.0</td>\n",
       "      <td>NaN</td>\n",
       "      <td>NaN</td>\n",
       "      <td>0.000000e+00</td>\n",
       "    </tr>\n",
       "    <tr>\n",
       "      <th>1196</th>\n",
       "      <td>1200000.0</td>\n",
       "      <td>0.0</td>\n",
       "      <td>0.0</td>\n",
       "      <td>0.0</td>\n",
       "      <td>99.0</td>\n",
       "      <td>0.0</td>\n",
       "      <td>NaN</td>\n",
       "      <td>NaN</td>\n",
       "      <td>1.200000e+06</td>\n",
       "    </tr>\n",
       "    <tr>\n",
       "      <th>1283</th>\n",
       "      <td>99.0</td>\n",
       "      <td>99.0</td>\n",
       "      <td>99.0</td>\n",
       "      <td>99.0</td>\n",
       "      <td>99.0</td>\n",
       "      <td>99.0</td>\n",
       "      <td>NaN</td>\n",
       "      <td>NaN</td>\n",
       "      <td>0.000000e+00</td>\n",
       "    </tr>\n",
       "    <tr>\n",
       "      <th>1284</th>\n",
       "      <td>0.0</td>\n",
       "      <td>0.0</td>\n",
       "      <td>99.0</td>\n",
       "      <td>99.0</td>\n",
       "      <td>0.0</td>\n",
       "      <td>99.0</td>\n",
       "      <td>NaN</td>\n",
       "      <td>NaN</td>\n",
       "      <td>0.000000e+00</td>\n",
       "    </tr>\n",
       "    <tr>\n",
       "      <th>1291</th>\n",
       "      <td>0.0</td>\n",
       "      <td>0.0</td>\n",
       "      <td>0.0</td>\n",
       "      <td>0.0</td>\n",
       "      <td>99.0</td>\n",
       "      <td>0.0</td>\n",
       "      <td>NaN</td>\n",
       "      <td>NaN</td>\n",
       "      <td>0.000000e+00</td>\n",
       "    </tr>\n",
       "    <tr>\n",
       "      <th>1302</th>\n",
       "      <td>0.0</td>\n",
       "      <td>0.0</td>\n",
       "      <td>0.0</td>\n",
       "      <td>99.0</td>\n",
       "      <td>0.0</td>\n",
       "      <td>0.0</td>\n",
       "      <td>NaN</td>\n",
       "      <td>NaN</td>\n",
       "      <td>0.000000e+00</td>\n",
       "    </tr>\n",
       "    <tr>\n",
       "      <th>1335</th>\n",
       "      <td>99.0</td>\n",
       "      <td>0.0</td>\n",
       "      <td>99.0</td>\n",
       "      <td>99.0</td>\n",
       "      <td>99.0</td>\n",
       "      <td>0.0</td>\n",
       "      <td>NaN</td>\n",
       "      <td>NaN</td>\n",
       "      <td>0.000000e+00</td>\n",
       "    </tr>\n",
       "    <tr>\n",
       "      <th>1398</th>\n",
       "      <td>99.0</td>\n",
       "      <td>0.0</td>\n",
       "      <td>0.0</td>\n",
       "      <td>0.0</td>\n",
       "      <td>0.0</td>\n",
       "      <td>0.0</td>\n",
       "      <td>NaN</td>\n",
       "      <td>NaN</td>\n",
       "      <td>0.000000e+00</td>\n",
       "    </tr>\n",
       "    <tr>\n",
       "      <th>1410</th>\n",
       "      <td>0.0</td>\n",
       "      <td>0.0</td>\n",
       "      <td>99.0</td>\n",
       "      <td>99.0</td>\n",
       "      <td>99.0</td>\n",
       "      <td>0.0</td>\n",
       "      <td>NaN</td>\n",
       "      <td>NaN</td>\n",
       "      <td>0.000000e+00</td>\n",
       "    </tr>\n",
       "    <tr>\n",
       "      <th>1486</th>\n",
       "      <td>0.0</td>\n",
       "      <td>0.0</td>\n",
       "      <td>0.0</td>\n",
       "      <td>0.0</td>\n",
       "      <td>99.0</td>\n",
       "      <td>0.0</td>\n",
       "      <td>NaN</td>\n",
       "      <td>NaN</td>\n",
       "      <td>0.000000e+00</td>\n",
       "    </tr>\n",
       "    <tr>\n",
       "      <th>1589</th>\n",
       "      <td>0.0</td>\n",
       "      <td>0.0</td>\n",
       "      <td>0.0</td>\n",
       "      <td>99.0</td>\n",
       "      <td>99.0</td>\n",
       "      <td>0.0</td>\n",
       "      <td>NaN</td>\n",
       "      <td>NaN</td>\n",
       "      <td>0.000000e+00</td>\n",
       "    </tr>\n",
       "    <tr>\n",
       "      <th>1602</th>\n",
       "      <td>0.0</td>\n",
       "      <td>0.0</td>\n",
       "      <td>99.0</td>\n",
       "      <td>99.0</td>\n",
       "      <td>99.0</td>\n",
       "      <td>0.0</td>\n",
       "      <td>NaN</td>\n",
       "      <td>NaN</td>\n",
       "      <td>0.000000e+00</td>\n",
       "    </tr>\n",
       "    <tr>\n",
       "      <th>1616</th>\n",
       "      <td>99.0</td>\n",
       "      <td>0.0</td>\n",
       "      <td>0.0</td>\n",
       "      <td>99.0</td>\n",
       "      <td>99.0</td>\n",
       "      <td>0.0</td>\n",
       "      <td>NaN</td>\n",
       "      <td>NaN</td>\n",
       "      <td>0.000000e+00</td>\n",
       "    </tr>\n",
       "    <tr>\n",
       "      <th>1645</th>\n",
       "      <td>0.0</td>\n",
       "      <td>0.0</td>\n",
       "      <td>99.0</td>\n",
       "      <td>0.0</td>\n",
       "      <td>99.0</td>\n",
       "      <td>0.0</td>\n",
       "      <td>NaN</td>\n",
       "      <td>NaN</td>\n",
       "      <td>0.000000e+00</td>\n",
       "    </tr>\n",
       "    <tr>\n",
       "      <th>1671</th>\n",
       "      <td>0.0</td>\n",
       "      <td>0.0</td>\n",
       "      <td>0.0</td>\n",
       "      <td>0.0</td>\n",
       "      <td>99.0</td>\n",
       "      <td>0.0</td>\n",
       "      <td>NaN</td>\n",
       "      <td>NaN</td>\n",
       "      <td>0.000000e+00</td>\n",
       "    </tr>\n",
       "    <tr>\n",
       "      <th>1693</th>\n",
       "      <td>0.0</td>\n",
       "      <td>0.0</td>\n",
       "      <td>99.0</td>\n",
       "      <td>99.0</td>\n",
       "      <td>99.0</td>\n",
       "      <td>0.0</td>\n",
       "      <td>NaN</td>\n",
       "      <td>NaN</td>\n",
       "      <td>0.000000e+00</td>\n",
       "    </tr>\n",
       "    <tr>\n",
       "      <th>1702</th>\n",
       "      <td>0.0</td>\n",
       "      <td>0.0</td>\n",
       "      <td>99.0</td>\n",
       "      <td>99.0</td>\n",
       "      <td>0.0</td>\n",
       "      <td>0.0</td>\n",
       "      <td>NaN</td>\n",
       "      <td>NaN</td>\n",
       "      <td>0.000000e+00</td>\n",
       "    </tr>\n",
       "    <tr>\n",
       "      <th>1703</th>\n",
       "      <td>0.0</td>\n",
       "      <td>0.0</td>\n",
       "      <td>0.0</td>\n",
       "      <td>99.0</td>\n",
       "      <td>99.0</td>\n",
       "      <td>0.0</td>\n",
       "      <td>NaN</td>\n",
       "      <td>NaN</td>\n",
       "      <td>0.000000e+00</td>\n",
       "    </tr>\n",
       "    <tr>\n",
       "      <th>1711</th>\n",
       "      <td>0.0</td>\n",
       "      <td>0.0</td>\n",
       "      <td>99.0</td>\n",
       "      <td>0.0</td>\n",
       "      <td>0.0</td>\n",
       "      <td>0.0</td>\n",
       "      <td>NaN</td>\n",
       "      <td>NaN</td>\n",
       "      <td>0.000000e+00</td>\n",
       "    </tr>\n",
       "    <tr>\n",
       "      <th>1759</th>\n",
       "      <td>0.0</td>\n",
       "      <td>0.0</td>\n",
       "      <td>0.0</td>\n",
       "      <td>0.0</td>\n",
       "      <td>99.0</td>\n",
       "      <td>0.0</td>\n",
       "      <td>NaN</td>\n",
       "      <td>NaN</td>\n",
       "      <td>0.000000e+00</td>\n",
       "    </tr>\n",
       "    <tr>\n",
       "      <th>1760</th>\n",
       "      <td>99.0</td>\n",
       "      <td>0.0</td>\n",
       "      <td>99.0</td>\n",
       "      <td>99.0</td>\n",
       "      <td>99.0</td>\n",
       "      <td>0.0</td>\n",
       "      <td>NaN</td>\n",
       "      <td>NaN</td>\n",
       "      <td>0.000000e+00</td>\n",
       "    </tr>\n",
       "    <tr>\n",
       "      <th>1770</th>\n",
       "      <td>0.0</td>\n",
       "      <td>0.0</td>\n",
       "      <td>0.0</td>\n",
       "      <td>0.0</td>\n",
       "      <td>99.0</td>\n",
       "      <td>0.0</td>\n",
       "      <td>NaN</td>\n",
       "      <td>NaN</td>\n",
       "      <td>0.000000e+00</td>\n",
       "    </tr>\n",
       "    <tr>\n",
       "      <th>1808</th>\n",
       "      <td>99.0</td>\n",
       "      <td>0.0</td>\n",
       "      <td>99.0</td>\n",
       "      <td>99.0</td>\n",
       "      <td>99.0</td>\n",
       "      <td>0.0</td>\n",
       "      <td>NaN</td>\n",
       "      <td>NaN</td>\n",
       "      <td>0.000000e+00</td>\n",
       "    </tr>\n",
       "    <tr>\n",
       "      <th>1809</th>\n",
       "      <td>99.0</td>\n",
       "      <td>0.0</td>\n",
       "      <td>3000000.0</td>\n",
       "      <td>35000000.0</td>\n",
       "      <td>0.0</td>\n",
       "      <td>0.0</td>\n",
       "      <td>NaN</td>\n",
       "      <td>NaN</td>\n",
       "      <td>3.800000e+07</td>\n",
       "    </tr>\n",
       "    <tr>\n",
       "      <th>1821</th>\n",
       "      <td>99.0</td>\n",
       "      <td>0.0</td>\n",
       "      <td>0.0</td>\n",
       "      <td>99.0</td>\n",
       "      <td>99.0</td>\n",
       "      <td>0.0</td>\n",
       "      <td>NaN</td>\n",
       "      <td>NaN</td>\n",
       "      <td>0.000000e+00</td>\n",
       "    </tr>\n",
       "    <tr>\n",
       "      <th>1823</th>\n",
       "      <td>0.0</td>\n",
       "      <td>0.0</td>\n",
       "      <td>0.0</td>\n",
       "      <td>0.0</td>\n",
       "      <td>99.0</td>\n",
       "      <td>0.0</td>\n",
       "      <td>NaN</td>\n",
       "      <td>NaN</td>\n",
       "      <td>0.000000e+00</td>\n",
       "    </tr>\n",
       "    <tr>\n",
       "      <th>1843</th>\n",
       "      <td>0.0</td>\n",
       "      <td>0.0</td>\n",
       "      <td>0.0</td>\n",
       "      <td>0.0</td>\n",
       "      <td>99.0</td>\n",
       "      <td>0.0</td>\n",
       "      <td>NaN</td>\n",
       "      <td>NaN</td>\n",
       "      <td>0.000000e+00</td>\n",
       "    </tr>\n",
       "    <tr>\n",
       "      <th>1882</th>\n",
       "      <td>0.0</td>\n",
       "      <td>0.0</td>\n",
       "      <td>0.0</td>\n",
       "      <td>99.0</td>\n",
       "      <td>0.0</td>\n",
       "      <td>0.0</td>\n",
       "      <td>NaN</td>\n",
       "      <td>NaN</td>\n",
       "      <td>0.000000e+00</td>\n",
       "    </tr>\n",
       "    <tr>\n",
       "      <th>1886</th>\n",
       "      <td>0.0</td>\n",
       "      <td>0.0</td>\n",
       "      <td>0.0</td>\n",
       "      <td>0.0</td>\n",
       "      <td>99.0</td>\n",
       "      <td>0.0</td>\n",
       "      <td>NaN</td>\n",
       "      <td>NaN</td>\n",
       "      <td>0.000000e+00</td>\n",
       "    </tr>\n",
       "    <tr>\n",
       "      <th>1896</th>\n",
       "      <td>0.0</td>\n",
       "      <td>0.0</td>\n",
       "      <td>0.0</td>\n",
       "      <td>99.0</td>\n",
       "      <td>99.0</td>\n",
       "      <td>0.0</td>\n",
       "      <td>NaN</td>\n",
       "      <td>NaN</td>\n",
       "      <td>0.000000e+00</td>\n",
       "    </tr>\n",
       "    <tr>\n",
       "      <th>1958</th>\n",
       "      <td>99.0</td>\n",
       "      <td>0.0</td>\n",
       "      <td>99.0</td>\n",
       "      <td>0.0</td>\n",
       "      <td>0.0</td>\n",
       "      <td>0.0</td>\n",
       "      <td>NaN</td>\n",
       "      <td>NaN</td>\n",
       "      <td>0.000000e+00</td>\n",
       "    </tr>\n",
       "    <tr>\n",
       "      <th>1962</th>\n",
       "      <td>0.0</td>\n",
       "      <td>0.0</td>\n",
       "      <td>0.0</td>\n",
       "      <td>99.0</td>\n",
       "      <td>99.0</td>\n",
       "      <td>0.0</td>\n",
       "      <td>NaN</td>\n",
       "      <td>NaN</td>\n",
       "      <td>0.000000e+00</td>\n",
       "    </tr>\n",
       "    <tr>\n",
       "      <th>1964</th>\n",
       "      <td>99.0</td>\n",
       "      <td>0.0</td>\n",
       "      <td>99.0</td>\n",
       "      <td>99.0</td>\n",
       "      <td>99.0</td>\n",
       "      <td>0.0</td>\n",
       "      <td>NaN</td>\n",
       "      <td>NaN</td>\n",
       "      <td>0.000000e+00</td>\n",
       "    </tr>\n",
       "  </tbody>\n",
       "</table>\n",
       "</div>"
      ],
      "text/plain": [
       "         ING_IND  ING_MAQUIL   ING_MMTO     ING_COM    ING_SERV  ING_OTROPER  \\\n",
       "14           0.0         0.0        0.0        99.0  10000000.0     100000.0   \n",
       "59          99.0        99.0       99.0        99.0        99.0         99.0   \n",
       "179         99.0        99.0       99.0        99.0        99.0         99.0   \n",
       "218         99.0        99.0       99.0        99.0        99.0         99.0   \n",
       "441   80000000.0         0.0   400000.0   3000000.0        99.0          0.0   \n",
       "444         99.0         0.0        0.0        99.0  20000000.0          0.0   \n",
       "513         99.0         0.0       99.0        99.0        99.0         99.0   \n",
       "516         99.0         0.0       99.0        99.0        99.0         99.0   \n",
       "608         99.0         0.0        0.0        99.0        99.0          0.0   \n",
       "928          0.0         0.0        0.0         0.0         2.0          0.0   \n",
       "1048         0.0         0.0        0.0        99.0         0.0          0.0   \n",
       "1116         0.0         0.0        0.0        99.0        99.0          0.0   \n",
       "1147         0.0         0.0        0.0        99.0        99.0          0.0   \n",
       "1196   1200000.0         0.0        0.0         0.0        99.0          0.0   \n",
       "1283        99.0        99.0       99.0        99.0        99.0         99.0   \n",
       "1284         0.0         0.0       99.0        99.0         0.0         99.0   \n",
       "1291         0.0         0.0        0.0         0.0        99.0          0.0   \n",
       "1302         0.0         0.0        0.0        99.0         0.0          0.0   \n",
       "1335        99.0         0.0       99.0        99.0        99.0          0.0   \n",
       "1398        99.0         0.0        0.0         0.0         0.0          0.0   \n",
       "1410         0.0         0.0       99.0        99.0        99.0          0.0   \n",
       "1486         0.0         0.0        0.0         0.0        99.0          0.0   \n",
       "1589         0.0         0.0        0.0        99.0        99.0          0.0   \n",
       "1602         0.0         0.0       99.0        99.0        99.0          0.0   \n",
       "1616        99.0         0.0        0.0        99.0        99.0          0.0   \n",
       "1645         0.0         0.0       99.0         0.0        99.0          0.0   \n",
       "1671         0.0         0.0        0.0         0.0        99.0          0.0   \n",
       "1693         0.0         0.0       99.0        99.0        99.0          0.0   \n",
       "1702         0.0         0.0       99.0        99.0         0.0          0.0   \n",
       "1703         0.0         0.0        0.0        99.0        99.0          0.0   \n",
       "1711         0.0         0.0       99.0         0.0         0.0          0.0   \n",
       "1759         0.0         0.0        0.0         0.0        99.0          0.0   \n",
       "1760        99.0         0.0       99.0        99.0        99.0          0.0   \n",
       "1770         0.0         0.0        0.0         0.0        99.0          0.0   \n",
       "1808        99.0         0.0       99.0        99.0        99.0          0.0   \n",
       "1809        99.0         0.0  3000000.0  35000000.0         0.0          0.0   \n",
       "1821        99.0         0.0        0.0        99.0        99.0          0.0   \n",
       "1823         0.0         0.0        0.0         0.0        99.0          0.0   \n",
       "1843         0.0         0.0        0.0         0.0        99.0          0.0   \n",
       "1882         0.0         0.0        0.0        99.0         0.0          0.0   \n",
       "1886         0.0         0.0        0.0         0.0        99.0          0.0   \n",
       "1896         0.0         0.0        0.0        99.0        99.0          0.0   \n",
       "1958        99.0         0.0       99.0         0.0         0.0          0.0   \n",
       "1962         0.0         0.0        0.0        99.0        99.0          0.0   \n",
       "1964        99.0         0.0       99.0        99.0        99.0          0.0   \n",
       "\n",
       "      ING_FINAN  ING_OTROS     ING_TOTAL  \n",
       "14          NaN        NaN  1.010000e+07  \n",
       "59          NaN        NaN  0.000000e+00  \n",
       "179         NaN        NaN  0.000000e+00  \n",
       "218         NaN        NaN  0.000000e+00  \n",
       "441         NaN        NaN  8.340000e+07  \n",
       "444         NaN        NaN  2.000000e+07  \n",
       "513         NaN        NaN  0.000000e+00  \n",
       "516         NaN        NaN  0.000000e+00  \n",
       "608         NaN        NaN  0.000000e+00  \n",
       "928         NaN        NaN  1.000000e+10  \n",
       "1048        NaN        NaN  0.000000e+00  \n",
       "1116        NaN        NaN  0.000000e+00  \n",
       "1147        NaN        NaN  0.000000e+00  \n",
       "1196        NaN        NaN  1.200000e+06  \n",
       "1283        NaN        NaN  0.000000e+00  \n",
       "1284        NaN        NaN  0.000000e+00  \n",
       "1291        NaN        NaN  0.000000e+00  \n",
       "1302        NaN        NaN  0.000000e+00  \n",
       "1335        NaN        NaN  0.000000e+00  \n",
       "1398        NaN        NaN  0.000000e+00  \n",
       "1410        NaN        NaN  0.000000e+00  \n",
       "1486        NaN        NaN  0.000000e+00  \n",
       "1589        NaN        NaN  0.000000e+00  \n",
       "1602        NaN        NaN  0.000000e+00  \n",
       "1616        NaN        NaN  0.000000e+00  \n",
       "1645        NaN        NaN  0.000000e+00  \n",
       "1671        NaN        NaN  0.000000e+00  \n",
       "1693        NaN        NaN  0.000000e+00  \n",
       "1702        NaN        NaN  0.000000e+00  \n",
       "1703        NaN        NaN  0.000000e+00  \n",
       "1711        NaN        NaN  0.000000e+00  \n",
       "1759        NaN        NaN  0.000000e+00  \n",
       "1760        NaN        NaN  0.000000e+00  \n",
       "1770        NaN        NaN  0.000000e+00  \n",
       "1808        NaN        NaN  0.000000e+00  \n",
       "1809        NaN        NaN  3.800000e+07  \n",
       "1821        NaN        NaN  0.000000e+00  \n",
       "1823        NaN        NaN  0.000000e+00  \n",
       "1843        NaN        NaN  0.000000e+00  \n",
       "1882        NaN        NaN  0.000000e+00  \n",
       "1886        NaN        NaN  0.000000e+00  \n",
       "1896        NaN        NaN  0.000000e+00  \n",
       "1958        NaN        NaN  0.000000e+00  \n",
       "1962        NaN        NaN  0.000000e+00  \n",
       "1964        NaN        NaN  0.000000e+00  "
      ]
     },
     "execution_count": 71,
     "metadata": {},
     "output_type": "execute_result"
    }
   ],
   "source": [
    "df[[\"ING_IND\",\"ING_MAQUIL\",\"ING_MMTO\",\"ING_COM\",\"ING_SERV\",\"ING_OTROPER\",\"ING_FINAN\",'ING_OTROS','ING_TOTAL']][df['UID_ENCUESTA'].isin(ids)]"
   ]
  },
  {
   "cell_type": "code",
   "execution_count": 72,
   "metadata": {},
   "outputs": [
    {
     "data": {
      "text/plain": [
       "nan"
      ]
     },
     "execution_count": 72,
     "metadata": {},
     "output_type": "execute_result"
    }
   ],
   "source": [
    "np.sum([1,1,np.nan])"
   ]
  },
  {
   "cell_type": "markdown",
   "metadata": {},
   "source": [
    "### Costos y Gastos"
   ]
  },
  {
   "cell_type": "markdown",
   "metadata": {},
   "source": [
    "#### Gastos"
   ]
  },
  {
   "cell_type": "code",
   "execution_count": 73,
   "metadata": {},
   "outputs": [
    {
     "data": {
      "text/plain": [
       "False    1144\n",
       "True      835\n",
       "dtype: int64"
      ]
     },
     "execution_count": 73,
     "metadata": {},
     "output_type": "execute_result"
    }
   ],
   "source": [
    "(df['GTOTAL_ANO'] == df[[\"GARRIEN_ANO\",\"GENERGIA_ANO\",\"GCOMUN_ANO\",\"GACUED_ANO\",\"GCOMB_ANO\",\"GMANT_ANO\",\"GOTROS_ANO\"]].sum(axis=1)).value_counts()"
   ]
  },
  {
   "cell_type": "code",
   "execution_count": 74,
   "metadata": {},
   "outputs": [
    {
     "data": {
      "text/html": [
       "<div>\n",
       "<style scoped>\n",
       "    .dataframe tbody tr th:only-of-type {\n",
       "        vertical-align: middle;\n",
       "    }\n",
       "\n",
       "    .dataframe tbody tr th {\n",
       "        vertical-align: top;\n",
       "    }\n",
       "\n",
       "    .dataframe thead th {\n",
       "        text-align: right;\n",
       "    }\n",
       "</style>\n",
       "<table border=\"1\" class=\"dataframe\">\n",
       "  <thead>\n",
       "    <tr style=\"text-align: right;\">\n",
       "      <th></th>\n",
       "      <th>GTOTAL_ANO</th>\n",
       "      <th>GARRIEN_ANO</th>\n",
       "      <th>GENERGIA_ANO</th>\n",
       "      <th>GCOMUN_ANO</th>\n",
       "      <th>GACUED_ANO</th>\n",
       "      <th>GCOMB_ANO</th>\n",
       "      <th>GMANT_ANO</th>\n",
       "      <th>GOTROS_ANO</th>\n",
       "    </tr>\n",
       "  </thead>\n",
       "  <tbody>\n",
       "  </tbody>\n",
       "</table>\n",
       "</div>"
      ],
      "text/plain": [
       "Empty DataFrame\n",
       "Columns: [GTOTAL_ANO, GARRIEN_ANO, GENERGIA_ANO, GCOMUN_ANO, GACUED_ANO, GCOMB_ANO, GMANT_ANO, GOTROS_ANO]\n",
       "Index: []"
      ]
     },
     "execution_count": 74,
     "metadata": {},
     "output_type": "execute_result"
    }
   ],
   "source": [
    "df[['GTOTAL_ANO',\"GARRIEN_ANO\",\"GENERGIA_ANO\",\"GCOMUN_ANO\",\"GACUED_ANO\",\"GCOMB_ANO\",\"GMANT_ANO\",\"GOTROS_ANO\"]][(df[['GTOTAL_ANO',\"GARRIEN_ANO\",\"GENERGIA_ANO\",\"GCOMUN_ANO\",\"GACUED_ANO\",\"GCOMB_ANO\",\"GMANT_ANO\",\"GOTROS_ANO\"]]==99).any(axis=1)]"
   ]
  },
  {
   "cell_type": "code",
   "execution_count": 75,
   "metadata": {},
   "outputs": [
    {
     "data": {
      "text/plain": [
       "False    1979\n",
       "Name: GTOTAL, dtype: int64"
      ]
     },
     "execution_count": 75,
     "metadata": {},
     "output_type": "execute_result"
    }
   ],
   "source": [
    "(df['GTOTAL']==99).value_counts()"
   ]
  },
  {
   "cell_type": "code",
   "execution_count": 76,
   "metadata": {},
   "outputs": [
    {
     "name": "stdout",
     "output_type": "stream",
     "text": [
      "Número de NA's de la var. Gasto cuando la suma de las individuales no coincide:\n"
     ]
    },
    {
     "data": {
      "text/plain": [
       "1144"
      ]
     },
     "execution_count": 76,
     "metadata": {},
     "output_type": "execute_result"
    }
   ],
   "source": [
    "print(\"Número de NA's de la var. Gasto cuando la suma de las individuales no coincide:\")\n",
    "df['GTOTAL_ANO'][~(df['GTOTAL_ANO'] == df[[\"GARRIEN_ANO\",\"GENERGIA_ANO\",\"GCOMUN_ANO\",\"GACUED_ANO\",\"GCOMB_ANO\",\"GMANT_ANO\",\"GOTROS_ANO\"]].sum(axis=1))].isna().sum()\n",
    "# El total de datos que no coinciden son NA's"
   ]
  },
  {
   "cell_type": "code",
   "execution_count": 77,
   "metadata": {},
   "outputs": [
    {
     "data": {
      "text/plain": [
       "False    1726\n",
       "True      253\n",
       "dtype: int64"
      ]
     },
     "execution_count": 77,
     "metadata": {},
     "output_type": "execute_result"
    }
   ],
   "source": [
    "(df['GTOTAL_ANOV'] == df[[\"GARRIEN_ANOV\",\"GENERGIA_ANOV\",\"GCOMUN_ANOV\",\"GACUED_ANOV\",\"GCOMB_ANOV\",\"GMANT_ANOV\",\"GOTROS_ANOV\"]].sum(axis=1)).value_counts()"
   ]
  },
  {
   "cell_type": "code",
   "execution_count": 78,
   "metadata": {},
   "outputs": [
    {
     "data": {
      "text/html": [
       "<div>\n",
       "<style scoped>\n",
       "    .dataframe tbody tr th:only-of-type {\n",
       "        vertical-align: middle;\n",
       "    }\n",
       "\n",
       "    .dataframe tbody tr th {\n",
       "        vertical-align: top;\n",
       "    }\n",
       "\n",
       "    .dataframe thead th {\n",
       "        text-align: right;\n",
       "    }\n",
       "</style>\n",
       "<table border=\"1\" class=\"dataframe\">\n",
       "  <thead>\n",
       "    <tr style=\"text-align: right;\">\n",
       "      <th></th>\n",
       "      <th>GTOTAL_ANOV</th>\n",
       "      <th>GARRIEN_ANOV</th>\n",
       "      <th>GENERGIA_ANOV</th>\n",
       "      <th>GCOMUN_ANOV</th>\n",
       "      <th>GACUED_ANOV</th>\n",
       "      <th>GCOMB_ANOV</th>\n",
       "      <th>GMANT_ANOV</th>\n",
       "      <th>GOTROS_ANOV</th>\n",
       "    </tr>\n",
       "  </thead>\n",
       "  <tbody>\n",
       "  </tbody>\n",
       "</table>\n",
       "</div>"
      ],
      "text/plain": [
       "Empty DataFrame\n",
       "Columns: [GTOTAL_ANOV, GARRIEN_ANOV, GENERGIA_ANOV, GCOMUN_ANOV, GACUED_ANOV, GCOMB_ANOV, GMANT_ANOV, GOTROS_ANOV]\n",
       "Index: []"
      ]
     },
     "execution_count": 78,
     "metadata": {},
     "output_type": "execute_result"
    }
   ],
   "source": [
    "df[['GTOTAL_ANOV',\"GARRIEN_ANOV\",\"GENERGIA_ANOV\",\"GCOMUN_ANOV\",\"GACUED_ANOV\",\"GCOMB_ANOV\",\"GMANT_ANOV\",\"GOTROS_ANOV\"]][(df[['GTOTAL_ANOV',\"GARRIEN_ANOV\",\"GENERGIA_ANOV\",\"GCOMUN_ANOV\",\"GACUED_ANOV\",\"GCOMB_ANOV\",\"GMANT_ANOV\",\"GOTROS_ANOV\"]]==99).any(axis=1)]"
   ]
  },
  {
   "cell_type": "code",
   "execution_count": 79,
   "metadata": {},
   "outputs": [
    {
     "name": "stdout",
     "output_type": "stream",
     "text": [
      "Número de NA's de la var. Gasto cuando la suma de las individuales no coincide:\n"
     ]
    },
    {
     "data": {
      "text/plain": [
       "1726"
      ]
     },
     "execution_count": 79,
     "metadata": {},
     "output_type": "execute_result"
    }
   ],
   "source": [
    "print(\"Número de NA's de la var. Gasto cuando la suma de las individuales no coincide:\")\n",
    "df['GTOTAL_ANOV'][~(df['GTOTAL_ANOV'] == df[[\"GARRIEN_ANOV\",\"GENERGIA_ANOV\",\"GCOMUN_ANOV\",\"GACUED_ANOV\",\"GCOMB_ANOV\",\"GMANT_ANOV\",\"GOTROS_ANOV\"]].sum(axis=1))].isna().sum()\n",
    "# El total de datos que no coinciden son NA's"
   ]
  },
  {
   "cell_type": "code",
   "execution_count": 161,
   "metadata": {},
   "outputs": [],
   "source": [
    "# De esta manera se suman los gastos de estableicmientos y viviendas en una sola variable\n",
    "df['GASTOS'] =  df[['GTOTAL_ANO','GTOTAL_ANOV']].sum(axis=1)\n",
    "# Dejar NA's en función de las variables originales"
   ]
  },
  {
   "cell_type": "code",
   "execution_count": 162,
   "metadata": {},
   "outputs": [],
   "source": [
    "df.loc[(df['GTOTAL_ANOV'].isna()) & (df['GTOTAL_ANO'].isna()), 'GASTOS'] = np.nan"
   ]
  },
  {
   "cell_type": "markdown",
   "metadata": {},
   "source": [
    "#### Costos"
   ]
  },
  {
   "cell_type": "code",
   "execution_count": 82,
   "metadata": {},
   "outputs": [
    {
     "data": {
      "text/plain": [
       "True     1070\n",
       "False     909\n",
       "dtype: int64"
      ]
     },
     "execution_count": 82,
     "metadata": {},
     "output_type": "execute_result"
    }
   ],
   "source": [
    "(df['COSTO_TOTAL'] == df[['COSTO_FINAN','COSTO_HONO','COSTO_MAQ','COSTO_MMTO','COSTO_MPE','COSTO_PUB','COSTO_SERV','COSTO_TRANS','COSTO_VTA']].sum(axis=1)).value_counts()"
   ]
  },
  {
   "cell_type": "code",
   "execution_count": 83,
   "metadata": {},
   "outputs": [
    {
     "data": {
      "text/html": [
       "<div>\n",
       "<style scoped>\n",
       "    .dataframe tbody tr th:only-of-type {\n",
       "        vertical-align: middle;\n",
       "    }\n",
       "\n",
       "    .dataframe tbody tr th {\n",
       "        vertical-align: top;\n",
       "    }\n",
       "\n",
       "    .dataframe thead th {\n",
       "        text-align: right;\n",
       "    }\n",
       "</style>\n",
       "<table border=\"1\" class=\"dataframe\">\n",
       "  <thead>\n",
       "    <tr style=\"text-align: right;\">\n",
       "      <th></th>\n",
       "      <th>COSTO_TOTAL</th>\n",
       "      <th>COSTO_FINAN</th>\n",
       "      <th>COSTO_HONO</th>\n",
       "      <th>COSTO_MAQ</th>\n",
       "      <th>COSTO_MMTO</th>\n",
       "      <th>COSTO_MPE</th>\n",
       "      <th>COSTO_PUB</th>\n",
       "      <th>COSTO_SERV</th>\n",
       "      <th>COSTO_TRANS</th>\n",
       "      <th>COSTO_VTA</th>\n",
       "    </tr>\n",
       "  </thead>\n",
       "  <tbody>\n",
       "    <tr>\n",
       "      <th>59</th>\n",
       "      <td>0.0</td>\n",
       "      <td>0.0</td>\n",
       "      <td>99.0</td>\n",
       "      <td>99.0</td>\n",
       "      <td>0.0</td>\n",
       "      <td>99.0</td>\n",
       "      <td>99.0</td>\n",
       "      <td>99.0</td>\n",
       "      <td>99.0</td>\n",
       "      <td>99.0</td>\n",
       "    </tr>\n",
       "    <tr>\n",
       "      <th>192</th>\n",
       "      <td>0.0</td>\n",
       "      <td>0.0</td>\n",
       "      <td>0.0</td>\n",
       "      <td>0.0</td>\n",
       "      <td>0.0</td>\n",
       "      <td>99.0</td>\n",
       "      <td>0.0</td>\n",
       "      <td>0.0</td>\n",
       "      <td>0.0</td>\n",
       "      <td>0.0</td>\n",
       "    </tr>\n",
       "    <tr>\n",
       "      <th>513</th>\n",
       "      <td>0.0</td>\n",
       "      <td>0.0</td>\n",
       "      <td>0.0</td>\n",
       "      <td>0.0</td>\n",
       "      <td>99.0</td>\n",
       "      <td>99.0</td>\n",
       "      <td>0.0</td>\n",
       "      <td>0.0</td>\n",
       "      <td>0.0</td>\n",
       "      <td>99.0</td>\n",
       "    </tr>\n",
       "    <tr>\n",
       "      <th>515</th>\n",
       "      <td>0.0</td>\n",
       "      <td>0.0</td>\n",
       "      <td>0.0</td>\n",
       "      <td>99.0</td>\n",
       "      <td>0.0</td>\n",
       "      <td>99.0</td>\n",
       "      <td>0.0</td>\n",
       "      <td>0.0</td>\n",
       "      <td>99.0</td>\n",
       "      <td>99.0</td>\n",
       "    </tr>\n",
       "    <tr>\n",
       "      <th>608</th>\n",
       "      <td>0.0</td>\n",
       "      <td>0.0</td>\n",
       "      <td>0.0</td>\n",
       "      <td>0.0</td>\n",
       "      <td>99.0</td>\n",
       "      <td>99.0</td>\n",
       "      <td>0.0</td>\n",
       "      <td>0.0</td>\n",
       "      <td>99.0</td>\n",
       "      <td>99.0</td>\n",
       "    </tr>\n",
       "    <tr>\n",
       "      <th>609</th>\n",
       "      <td>0.0</td>\n",
       "      <td>0.0</td>\n",
       "      <td>0.0</td>\n",
       "      <td>0.0</td>\n",
       "      <td>99.0</td>\n",
       "      <td>0.0</td>\n",
       "      <td>0.0</td>\n",
       "      <td>0.0</td>\n",
       "      <td>0.0</td>\n",
       "      <td>99.0</td>\n",
       "    </tr>\n",
       "    <tr>\n",
       "      <th>653</th>\n",
       "      <td>0.0</td>\n",
       "      <td>0.0</td>\n",
       "      <td>0.0</td>\n",
       "      <td>0.0</td>\n",
       "      <td>99.0</td>\n",
       "      <td>99.0</td>\n",
       "      <td>0.0</td>\n",
       "      <td>0.0</td>\n",
       "      <td>99.0</td>\n",
       "      <td>99.0</td>\n",
       "    </tr>\n",
       "    <tr>\n",
       "      <th>844</th>\n",
       "      <td>0.0</td>\n",
       "      <td>0.0</td>\n",
       "      <td>0.0</td>\n",
       "      <td>0.0</td>\n",
       "      <td>0.0</td>\n",
       "      <td>0.0</td>\n",
       "      <td>0.0</td>\n",
       "      <td>99.0</td>\n",
       "      <td>0.0</td>\n",
       "      <td>0.0</td>\n",
       "    </tr>\n",
       "    <tr>\n",
       "      <th>1116</th>\n",
       "      <td>0.0</td>\n",
       "      <td>0.0</td>\n",
       "      <td>0.0</td>\n",
       "      <td>0.0</td>\n",
       "      <td>0.0</td>\n",
       "      <td>0.0</td>\n",
       "      <td>0.0</td>\n",
       "      <td>99.0</td>\n",
       "      <td>0.0</td>\n",
       "      <td>99.0</td>\n",
       "    </tr>\n",
       "    <tr>\n",
       "      <th>1146</th>\n",
       "      <td>9000000.0</td>\n",
       "      <td>0.0</td>\n",
       "      <td>0.0</td>\n",
       "      <td>0.0</td>\n",
       "      <td>0.0</td>\n",
       "      <td>0.0</td>\n",
       "      <td>0.0</td>\n",
       "      <td>0.0</td>\n",
       "      <td>9000000.0</td>\n",
       "      <td>99.0</td>\n",
       "    </tr>\n",
       "    <tr>\n",
       "      <th>1147</th>\n",
       "      <td>0.0</td>\n",
       "      <td>0.0</td>\n",
       "      <td>0.0</td>\n",
       "      <td>0.0</td>\n",
       "      <td>0.0</td>\n",
       "      <td>99.0</td>\n",
       "      <td>0.0</td>\n",
       "      <td>0.0</td>\n",
       "      <td>0.0</td>\n",
       "      <td>99.0</td>\n",
       "    </tr>\n",
       "    <tr>\n",
       "      <th>1283</th>\n",
       "      <td>22000000.0</td>\n",
       "      <td>0.0</td>\n",
       "      <td>99.0</td>\n",
       "      <td>0.0</td>\n",
       "      <td>0.0</td>\n",
       "      <td>0.0</td>\n",
       "      <td>0.0</td>\n",
       "      <td>0.0</td>\n",
       "      <td>22000000.0</td>\n",
       "      <td>99.0</td>\n",
       "    </tr>\n",
       "    <tr>\n",
       "      <th>1284</th>\n",
       "      <td>0.0</td>\n",
       "      <td>0.0</td>\n",
       "      <td>99.0</td>\n",
       "      <td>0.0</td>\n",
       "      <td>0.0</td>\n",
       "      <td>0.0</td>\n",
       "      <td>99.0</td>\n",
       "      <td>0.0</td>\n",
       "      <td>0.0</td>\n",
       "      <td>99.0</td>\n",
       "    </tr>\n",
       "    <tr>\n",
       "      <th>1335</th>\n",
       "      <td>0.0</td>\n",
       "      <td>0.0</td>\n",
       "      <td>99.0</td>\n",
       "      <td>0.0</td>\n",
       "      <td>99.0</td>\n",
       "      <td>99.0</td>\n",
       "      <td>0.0</td>\n",
       "      <td>0.0</td>\n",
       "      <td>99.0</td>\n",
       "      <td>99.0</td>\n",
       "    </tr>\n",
       "    <tr>\n",
       "      <th>1385</th>\n",
       "      <td>0.0</td>\n",
       "      <td>0.0</td>\n",
       "      <td>0.0</td>\n",
       "      <td>0.0</td>\n",
       "      <td>0.0</td>\n",
       "      <td>0.0</td>\n",
       "      <td>0.0</td>\n",
       "      <td>99.0</td>\n",
       "      <td>0.0</td>\n",
       "      <td>0.0</td>\n",
       "    </tr>\n",
       "    <tr>\n",
       "      <th>1398</th>\n",
       "      <td>0.0</td>\n",
       "      <td>0.0</td>\n",
       "      <td>0.0</td>\n",
       "      <td>0.0</td>\n",
       "      <td>0.0</td>\n",
       "      <td>99.0</td>\n",
       "      <td>0.0</td>\n",
       "      <td>0.0</td>\n",
       "      <td>0.0</td>\n",
       "      <td>0.0</td>\n",
       "    </tr>\n",
       "    <tr>\n",
       "      <th>1405</th>\n",
       "      <td>800000.0</td>\n",
       "      <td>0.0</td>\n",
       "      <td>300000.0</td>\n",
       "      <td>0.0</td>\n",
       "      <td>0.0</td>\n",
       "      <td>500000.0</td>\n",
       "      <td>0.0</td>\n",
       "      <td>0.0</td>\n",
       "      <td>99.0</td>\n",
       "      <td>99.0</td>\n",
       "    </tr>\n",
       "    <tr>\n",
       "      <th>1410</th>\n",
       "      <td>0.0</td>\n",
       "      <td>0.0</td>\n",
       "      <td>0.0</td>\n",
       "      <td>0.0</td>\n",
       "      <td>0.0</td>\n",
       "      <td>99.0</td>\n",
       "      <td>0.0</td>\n",
       "      <td>0.0</td>\n",
       "      <td>0.0</td>\n",
       "      <td>99.0</td>\n",
       "    </tr>\n",
       "    <tr>\n",
       "      <th>1486</th>\n",
       "      <td>0.0</td>\n",
       "      <td>0.0</td>\n",
       "      <td>0.0</td>\n",
       "      <td>0.0</td>\n",
       "      <td>0.0</td>\n",
       "      <td>0.0</td>\n",
       "      <td>0.0</td>\n",
       "      <td>99.0</td>\n",
       "      <td>0.0</td>\n",
       "      <td>0.0</td>\n",
       "    </tr>\n",
       "    <tr>\n",
       "      <th>1589</th>\n",
       "      <td>0.0</td>\n",
       "      <td>0.0</td>\n",
       "      <td>0.0</td>\n",
       "      <td>0.0</td>\n",
       "      <td>0.0</td>\n",
       "      <td>0.0</td>\n",
       "      <td>0.0</td>\n",
       "      <td>99.0</td>\n",
       "      <td>0.0</td>\n",
       "      <td>0.0</td>\n",
       "    </tr>\n",
       "    <tr>\n",
       "      <th>1602</th>\n",
       "      <td>0.0</td>\n",
       "      <td>0.0</td>\n",
       "      <td>99.0</td>\n",
       "      <td>0.0</td>\n",
       "      <td>0.0</td>\n",
       "      <td>99.0</td>\n",
       "      <td>0.0</td>\n",
       "      <td>0.0</td>\n",
       "      <td>99.0</td>\n",
       "      <td>99.0</td>\n",
       "    </tr>\n",
       "    <tr>\n",
       "      <th>1616</th>\n",
       "      <td>0.0</td>\n",
       "      <td>0.0</td>\n",
       "      <td>0.0</td>\n",
       "      <td>0.0</td>\n",
       "      <td>99.0</td>\n",
       "      <td>99.0</td>\n",
       "      <td>0.0</td>\n",
       "      <td>0.0</td>\n",
       "      <td>99.0</td>\n",
       "      <td>99.0</td>\n",
       "    </tr>\n",
       "    <tr>\n",
       "      <th>1645</th>\n",
       "      <td>0.0</td>\n",
       "      <td>0.0</td>\n",
       "      <td>0.0</td>\n",
       "      <td>0.0</td>\n",
       "      <td>99.0</td>\n",
       "      <td>0.0</td>\n",
       "      <td>0.0</td>\n",
       "      <td>0.0</td>\n",
       "      <td>0.0</td>\n",
       "      <td>0.0</td>\n",
       "    </tr>\n",
       "    <tr>\n",
       "      <th>1671</th>\n",
       "      <td>0.0</td>\n",
       "      <td>0.0</td>\n",
       "      <td>0.0</td>\n",
       "      <td>0.0</td>\n",
       "      <td>0.0</td>\n",
       "      <td>0.0</td>\n",
       "      <td>0.0</td>\n",
       "      <td>99.0</td>\n",
       "      <td>0.0</td>\n",
       "      <td>0.0</td>\n",
       "    </tr>\n",
       "    <tr>\n",
       "      <th>1693</th>\n",
       "      <td>0.0</td>\n",
       "      <td>0.0</td>\n",
       "      <td>99.0</td>\n",
       "      <td>0.0</td>\n",
       "      <td>99.0</td>\n",
       "      <td>99.0</td>\n",
       "      <td>0.0</td>\n",
       "      <td>0.0</td>\n",
       "      <td>99.0</td>\n",
       "      <td>99.0</td>\n",
       "    </tr>\n",
       "    <tr>\n",
       "      <th>1702</th>\n",
       "      <td>0.0</td>\n",
       "      <td>0.0</td>\n",
       "      <td>0.0</td>\n",
       "      <td>0.0</td>\n",
       "      <td>99.0</td>\n",
       "      <td>99.0</td>\n",
       "      <td>0.0</td>\n",
       "      <td>0.0</td>\n",
       "      <td>0.0</td>\n",
       "      <td>99.0</td>\n",
       "    </tr>\n",
       "    <tr>\n",
       "      <th>1703</th>\n",
       "      <td>0.0</td>\n",
       "      <td>0.0</td>\n",
       "      <td>0.0</td>\n",
       "      <td>0.0</td>\n",
       "      <td>0.0</td>\n",
       "      <td>99.0</td>\n",
       "      <td>0.0</td>\n",
       "      <td>99.0</td>\n",
       "      <td>0.0</td>\n",
       "      <td>99.0</td>\n",
       "    </tr>\n",
       "    <tr>\n",
       "      <th>1711</th>\n",
       "      <td>0.0</td>\n",
       "      <td>0.0</td>\n",
       "      <td>0.0</td>\n",
       "      <td>0.0</td>\n",
       "      <td>99.0</td>\n",
       "      <td>0.0</td>\n",
       "      <td>0.0</td>\n",
       "      <td>0.0</td>\n",
       "      <td>0.0</td>\n",
       "      <td>0.0</td>\n",
       "    </tr>\n",
       "    <tr>\n",
       "      <th>1760</th>\n",
       "      <td>96.0</td>\n",
       "      <td>0.0</td>\n",
       "      <td>99.0</td>\n",
       "      <td>0.0</td>\n",
       "      <td>0.0</td>\n",
       "      <td>96.0</td>\n",
       "      <td>0.0</td>\n",
       "      <td>99.0</td>\n",
       "      <td>0.0</td>\n",
       "      <td>0.0</td>\n",
       "    </tr>\n",
       "    <tr>\n",
       "      <th>1770</th>\n",
       "      <td>0.0</td>\n",
       "      <td>0.0</td>\n",
       "      <td>0.0</td>\n",
       "      <td>0.0</td>\n",
       "      <td>0.0</td>\n",
       "      <td>0.0</td>\n",
       "      <td>0.0</td>\n",
       "      <td>99.0</td>\n",
       "      <td>0.0</td>\n",
       "      <td>0.0</td>\n",
       "    </tr>\n",
       "    <tr>\n",
       "      <th>1771</th>\n",
       "      <td>0.0</td>\n",
       "      <td>0.0</td>\n",
       "      <td>0.0</td>\n",
       "      <td>0.0</td>\n",
       "      <td>0.0</td>\n",
       "      <td>0.0</td>\n",
       "      <td>0.0</td>\n",
       "      <td>99.0</td>\n",
       "      <td>0.0</td>\n",
       "      <td>0.0</td>\n",
       "    </tr>\n",
       "    <tr>\n",
       "      <th>1808</th>\n",
       "      <td>0.0</td>\n",
       "      <td>0.0</td>\n",
       "      <td>0.0</td>\n",
       "      <td>0.0</td>\n",
       "      <td>0.0</td>\n",
       "      <td>99.0</td>\n",
       "      <td>0.0</td>\n",
       "      <td>99.0</td>\n",
       "      <td>0.0</td>\n",
       "      <td>99.0</td>\n",
       "    </tr>\n",
       "    <tr>\n",
       "      <th>1821</th>\n",
       "      <td>0.0</td>\n",
       "      <td>0.0</td>\n",
       "      <td>0.0</td>\n",
       "      <td>0.0</td>\n",
       "      <td>99.0</td>\n",
       "      <td>99.0</td>\n",
       "      <td>0.0</td>\n",
       "      <td>0.0</td>\n",
       "      <td>99.0</td>\n",
       "      <td>99.0</td>\n",
       "    </tr>\n",
       "    <tr>\n",
       "      <th>1823</th>\n",
       "      <td>0.0</td>\n",
       "      <td>0.0</td>\n",
       "      <td>0.0</td>\n",
       "      <td>0.0</td>\n",
       "      <td>0.0</td>\n",
       "      <td>99.0</td>\n",
       "      <td>0.0</td>\n",
       "      <td>99.0</td>\n",
       "      <td>0.0</td>\n",
       "      <td>99.0</td>\n",
       "    </tr>\n",
       "    <tr>\n",
       "      <th>1866</th>\n",
       "      <td>600000.0</td>\n",
       "      <td>0.0</td>\n",
       "      <td>0.0</td>\n",
       "      <td>0.0</td>\n",
       "      <td>0.0</td>\n",
       "      <td>0.0</td>\n",
       "      <td>600000.0</td>\n",
       "      <td>99.0</td>\n",
       "      <td>0.0</td>\n",
       "      <td>0.0</td>\n",
       "    </tr>\n",
       "    <tr>\n",
       "      <th>1882</th>\n",
       "      <td>0.0</td>\n",
       "      <td>0.0</td>\n",
       "      <td>0.0</td>\n",
       "      <td>0.0</td>\n",
       "      <td>0.0</td>\n",
       "      <td>99.0</td>\n",
       "      <td>0.0</td>\n",
       "      <td>0.0</td>\n",
       "      <td>99.0</td>\n",
       "      <td>99.0</td>\n",
       "    </tr>\n",
       "    <tr>\n",
       "      <th>1886</th>\n",
       "      <td>0.0</td>\n",
       "      <td>0.0</td>\n",
       "      <td>0.0</td>\n",
       "      <td>0.0</td>\n",
       "      <td>0.0</td>\n",
       "      <td>0.0</td>\n",
       "      <td>0.0</td>\n",
       "      <td>99.0</td>\n",
       "      <td>0.0</td>\n",
       "      <td>0.0</td>\n",
       "    </tr>\n",
       "    <tr>\n",
       "      <th>1896</th>\n",
       "      <td>0.0</td>\n",
       "      <td>0.0</td>\n",
       "      <td>0.0</td>\n",
       "      <td>0.0</td>\n",
       "      <td>0.0</td>\n",
       "      <td>99.0</td>\n",
       "      <td>0.0</td>\n",
       "      <td>0.0</td>\n",
       "      <td>99.0</td>\n",
       "      <td>99.0</td>\n",
       "    </tr>\n",
       "    <tr>\n",
       "      <th>1955</th>\n",
       "      <td>0.0</td>\n",
       "      <td>0.0</td>\n",
       "      <td>0.0</td>\n",
       "      <td>0.0</td>\n",
       "      <td>99.0</td>\n",
       "      <td>0.0</td>\n",
       "      <td>0.0</td>\n",
       "      <td>0.0</td>\n",
       "      <td>0.0</td>\n",
       "      <td>0.0</td>\n",
       "    </tr>\n",
       "    <tr>\n",
       "      <th>1958</th>\n",
       "      <td>0.0</td>\n",
       "      <td>0.0</td>\n",
       "      <td>0.0</td>\n",
       "      <td>99.0</td>\n",
       "      <td>99.0</td>\n",
       "      <td>99.0</td>\n",
       "      <td>0.0</td>\n",
       "      <td>0.0</td>\n",
       "      <td>99.0</td>\n",
       "      <td>0.0</td>\n",
       "    </tr>\n",
       "    <tr>\n",
       "      <th>1962</th>\n",
       "      <td>0.0</td>\n",
       "      <td>0.0</td>\n",
       "      <td>0.0</td>\n",
       "      <td>0.0</td>\n",
       "      <td>0.0</td>\n",
       "      <td>0.0</td>\n",
       "      <td>0.0</td>\n",
       "      <td>99.0</td>\n",
       "      <td>0.0</td>\n",
       "      <td>99.0</td>\n",
       "    </tr>\n",
       "    <tr>\n",
       "      <th>1973</th>\n",
       "      <td>0.0</td>\n",
       "      <td>0.0</td>\n",
       "      <td>0.0</td>\n",
       "      <td>0.0</td>\n",
       "      <td>99.0</td>\n",
       "      <td>0.0</td>\n",
       "      <td>0.0</td>\n",
       "      <td>0.0</td>\n",
       "      <td>0.0</td>\n",
       "      <td>0.0</td>\n",
       "    </tr>\n",
       "  </tbody>\n",
       "</table>\n",
       "</div>"
      ],
      "text/plain": [
       "      COSTO_TOTAL  COSTO_FINAN  COSTO_HONO  COSTO_MAQ  COSTO_MMTO  COSTO_MPE  \\\n",
       "59            0.0          0.0        99.0       99.0         0.0       99.0   \n",
       "192           0.0          0.0         0.0        0.0         0.0       99.0   \n",
       "513           0.0          0.0         0.0        0.0        99.0       99.0   \n",
       "515           0.0          0.0         0.0       99.0         0.0       99.0   \n",
       "608           0.0          0.0         0.0        0.0        99.0       99.0   \n",
       "609           0.0          0.0         0.0        0.0        99.0        0.0   \n",
       "653           0.0          0.0         0.0        0.0        99.0       99.0   \n",
       "844           0.0          0.0         0.0        0.0         0.0        0.0   \n",
       "1116          0.0          0.0         0.0        0.0         0.0        0.0   \n",
       "1146    9000000.0          0.0         0.0        0.0         0.0        0.0   \n",
       "1147          0.0          0.0         0.0        0.0         0.0       99.0   \n",
       "1283   22000000.0          0.0        99.0        0.0         0.0        0.0   \n",
       "1284          0.0          0.0        99.0        0.0         0.0        0.0   \n",
       "1335          0.0          0.0        99.0        0.0        99.0       99.0   \n",
       "1385          0.0          0.0         0.0        0.0         0.0        0.0   \n",
       "1398          0.0          0.0         0.0        0.0         0.0       99.0   \n",
       "1405     800000.0          0.0    300000.0        0.0         0.0   500000.0   \n",
       "1410          0.0          0.0         0.0        0.0         0.0       99.0   \n",
       "1486          0.0          0.0         0.0        0.0         0.0        0.0   \n",
       "1589          0.0          0.0         0.0        0.0         0.0        0.0   \n",
       "1602          0.0          0.0        99.0        0.0         0.0       99.0   \n",
       "1616          0.0          0.0         0.0        0.0        99.0       99.0   \n",
       "1645          0.0          0.0         0.0        0.0        99.0        0.0   \n",
       "1671          0.0          0.0         0.0        0.0         0.0        0.0   \n",
       "1693          0.0          0.0        99.0        0.0        99.0       99.0   \n",
       "1702          0.0          0.0         0.0        0.0        99.0       99.0   \n",
       "1703          0.0          0.0         0.0        0.0         0.0       99.0   \n",
       "1711          0.0          0.0         0.0        0.0        99.0        0.0   \n",
       "1760         96.0          0.0        99.0        0.0         0.0       96.0   \n",
       "1770          0.0          0.0         0.0        0.0         0.0        0.0   \n",
       "1771          0.0          0.0         0.0        0.0         0.0        0.0   \n",
       "1808          0.0          0.0         0.0        0.0         0.0       99.0   \n",
       "1821          0.0          0.0         0.0        0.0        99.0       99.0   \n",
       "1823          0.0          0.0         0.0        0.0         0.0       99.0   \n",
       "1866     600000.0          0.0         0.0        0.0         0.0        0.0   \n",
       "1882          0.0          0.0         0.0        0.0         0.0       99.0   \n",
       "1886          0.0          0.0         0.0        0.0         0.0        0.0   \n",
       "1896          0.0          0.0         0.0        0.0         0.0       99.0   \n",
       "1955          0.0          0.0         0.0        0.0        99.0        0.0   \n",
       "1958          0.0          0.0         0.0       99.0        99.0       99.0   \n",
       "1962          0.0          0.0         0.0        0.0         0.0        0.0   \n",
       "1973          0.0          0.0         0.0        0.0        99.0        0.0   \n",
       "\n",
       "      COSTO_PUB  COSTO_SERV  COSTO_TRANS  COSTO_VTA  \n",
       "59         99.0        99.0         99.0       99.0  \n",
       "192         0.0         0.0          0.0        0.0  \n",
       "513         0.0         0.0          0.0       99.0  \n",
       "515         0.0         0.0         99.0       99.0  \n",
       "608         0.0         0.0         99.0       99.0  \n",
       "609         0.0         0.0          0.0       99.0  \n",
       "653         0.0         0.0         99.0       99.0  \n",
       "844         0.0        99.0          0.0        0.0  \n",
       "1116        0.0        99.0          0.0       99.0  \n",
       "1146        0.0         0.0    9000000.0       99.0  \n",
       "1147        0.0         0.0          0.0       99.0  \n",
       "1283        0.0         0.0   22000000.0       99.0  \n",
       "1284       99.0         0.0          0.0       99.0  \n",
       "1335        0.0         0.0         99.0       99.0  \n",
       "1385        0.0        99.0          0.0        0.0  \n",
       "1398        0.0         0.0          0.0        0.0  \n",
       "1405        0.0         0.0         99.0       99.0  \n",
       "1410        0.0         0.0          0.0       99.0  \n",
       "1486        0.0        99.0          0.0        0.0  \n",
       "1589        0.0        99.0          0.0        0.0  \n",
       "1602        0.0         0.0         99.0       99.0  \n",
       "1616        0.0         0.0         99.0       99.0  \n",
       "1645        0.0         0.0          0.0        0.0  \n",
       "1671        0.0        99.0          0.0        0.0  \n",
       "1693        0.0         0.0         99.0       99.0  \n",
       "1702        0.0         0.0          0.0       99.0  \n",
       "1703        0.0        99.0          0.0       99.0  \n",
       "1711        0.0         0.0          0.0        0.0  \n",
       "1760        0.0        99.0          0.0        0.0  \n",
       "1770        0.0        99.0          0.0        0.0  \n",
       "1771        0.0        99.0          0.0        0.0  \n",
       "1808        0.0        99.0          0.0       99.0  \n",
       "1821        0.0         0.0         99.0       99.0  \n",
       "1823        0.0        99.0          0.0       99.0  \n",
       "1866   600000.0        99.0          0.0        0.0  \n",
       "1882        0.0         0.0         99.0       99.0  \n",
       "1886        0.0        99.0          0.0        0.0  \n",
       "1896        0.0         0.0         99.0       99.0  \n",
       "1955        0.0         0.0          0.0        0.0  \n",
       "1958        0.0         0.0         99.0        0.0  \n",
       "1962        0.0        99.0          0.0       99.0  \n",
       "1973        0.0         0.0          0.0        0.0  "
      ]
     },
     "execution_count": 83,
     "metadata": {},
     "output_type": "execute_result"
    }
   ],
   "source": [
    "df[['COSTO_TOTAL','COSTO_FINAN','COSTO_HONO','COSTO_MAQ','COSTO_MMTO','COSTO_MPE','COSTO_PUB','COSTO_SERV','COSTO_TRANS','COSTO_VTA']][(df[['COSTO_FINAN','COSTO_HONO','COSTO_MAQ','COSTO_MMTO','COSTO_MPE','COSTO_PUB','COSTO_SERV','COSTO_TRANS','COSTO_VTA']]==99).any(axis=1)]"
   ]
  },
  {
   "cell_type": "code",
   "execution_count": 84,
   "metadata": {},
   "outputs": [
    {
     "name": "stdout",
     "output_type": "stream",
     "text": [
      "Número de NA's de la var. Costo cuando la suma de las individuales no coincide:\n"
     ]
    },
    {
     "data": {
      "text/plain": [
       "866"
      ]
     },
     "execution_count": 84,
     "metadata": {},
     "output_type": "execute_result"
    }
   ],
   "source": [
    "print(\"Número de NA's de la var. Costo cuando la suma de las individuales no coincide:\")\n",
    "df['COSTO_TOTAL'][~(df['COSTO_TOTAL'] == df[['COSTO_FINAN','COSTO_HONO','COSTO_MAQ','COSTO_MMTO','COSTO_MPE','COSTO_PUB','COSTO_SERV','COSTO_TRANS','COSTO_VTA']].sum(axis=1))].isna().sum()\n",
    "# 866 de 909 datos que no coinciden son NA's"
   ]
  },
  {
   "cell_type": "code",
   "execution_count": 85,
   "metadata": {},
   "outputs": [
    {
     "data": {
      "text/plain": [
       "0.0           37\n",
       "9000000.0      1\n",
       "22000000.0     1\n",
       "800000.0       1\n",
       "3000000.0      1\n",
       "96.0           1\n",
       "600000.0       1\n",
       "Name: COSTO_TOTAL, dtype: int64"
      ]
     },
     "execution_count": 85,
     "metadata": {},
     "output_type": "execute_result"
    }
   ],
   "source": [
    "(df['COSTO_TOTAL'][~(df['COSTO_TOTAL'] == df[['COSTO_FINAN','COSTO_HONO','COSTO_MAQ','COSTO_MMTO','COSTO_MPE','COSTO_PUB','COSTO_SERV','COSTO_TRANS','COSTO_VTA']].sum(axis=1))]).value_counts()"
   ]
  },
  {
   "cell_type": "code",
   "execution_count": 86,
   "metadata": {},
   "outputs": [
    {
     "data": {
      "text/html": [
       "<div>\n",
       "<style scoped>\n",
       "    .dataframe tbody tr th:only-of-type {\n",
       "        vertical-align: middle;\n",
       "    }\n",
       "\n",
       "    .dataframe tbody tr th {\n",
       "        vertical-align: top;\n",
       "    }\n",
       "\n",
       "    .dataframe thead th {\n",
       "        text-align: right;\n",
       "    }\n",
       "</style>\n",
       "<table border=\"1\" class=\"dataframe\">\n",
       "  <thead>\n",
       "    <tr style=\"text-align: right;\">\n",
       "      <th></th>\n",
       "      <th>COSTO_TOTAL</th>\n",
       "      <th>COSTO_FINAN</th>\n",
       "      <th>COSTO_HONO</th>\n",
       "      <th>COSTO_MAQ</th>\n",
       "      <th>COSTO_MMTO</th>\n",
       "      <th>COSTO_MPE</th>\n",
       "      <th>COSTO_PUB</th>\n",
       "      <th>COSTO_SERV</th>\n",
       "      <th>COSTO_TRANS</th>\n",
       "      <th>COSTO_VTA</th>\n",
       "    </tr>\n",
       "  </thead>\n",
       "  <tbody>\n",
       "    <tr>\n",
       "      <th>0</th>\n",
       "      <td>NaN</td>\n",
       "      <td>NaN</td>\n",
       "      <td>NaN</td>\n",
       "      <td>NaN</td>\n",
       "      <td>NaN</td>\n",
       "      <td>NaN</td>\n",
       "      <td>NaN</td>\n",
       "      <td>NaN</td>\n",
       "      <td>NaN</td>\n",
       "      <td>NaN</td>\n",
       "    </tr>\n",
       "    <tr>\n",
       "      <th>1</th>\n",
       "      <td>NaN</td>\n",
       "      <td>NaN</td>\n",
       "      <td>NaN</td>\n",
       "      <td>NaN</td>\n",
       "      <td>NaN</td>\n",
       "      <td>NaN</td>\n",
       "      <td>NaN</td>\n",
       "      <td>NaN</td>\n",
       "      <td>NaN</td>\n",
       "      <td>NaN</td>\n",
       "    </tr>\n",
       "    <tr>\n",
       "      <th>4</th>\n",
       "      <td>NaN</td>\n",
       "      <td>NaN</td>\n",
       "      <td>NaN</td>\n",
       "      <td>NaN</td>\n",
       "      <td>NaN</td>\n",
       "      <td>NaN</td>\n",
       "      <td>NaN</td>\n",
       "      <td>NaN</td>\n",
       "      <td>NaN</td>\n",
       "      <td>NaN</td>\n",
       "    </tr>\n",
       "    <tr>\n",
       "      <th>5</th>\n",
       "      <td>NaN</td>\n",
       "      <td>NaN</td>\n",
       "      <td>NaN</td>\n",
       "      <td>NaN</td>\n",
       "      <td>NaN</td>\n",
       "      <td>NaN</td>\n",
       "      <td>NaN</td>\n",
       "      <td>NaN</td>\n",
       "      <td>NaN</td>\n",
       "      <td>NaN</td>\n",
       "    </tr>\n",
       "    <tr>\n",
       "      <th>6</th>\n",
       "      <td>NaN</td>\n",
       "      <td>NaN</td>\n",
       "      <td>NaN</td>\n",
       "      <td>NaN</td>\n",
       "      <td>NaN</td>\n",
       "      <td>NaN</td>\n",
       "      <td>NaN</td>\n",
       "      <td>NaN</td>\n",
       "      <td>NaN</td>\n",
       "      <td>NaN</td>\n",
       "    </tr>\n",
       "    <tr>\n",
       "      <th>...</th>\n",
       "      <td>...</td>\n",
       "      <td>...</td>\n",
       "      <td>...</td>\n",
       "      <td>...</td>\n",
       "      <td>...</td>\n",
       "      <td>...</td>\n",
       "      <td>...</td>\n",
       "      <td>...</td>\n",
       "      <td>...</td>\n",
       "      <td>...</td>\n",
       "    </tr>\n",
       "    <tr>\n",
       "      <th>1968</th>\n",
       "      <td>NaN</td>\n",
       "      <td>NaN</td>\n",
       "      <td>NaN</td>\n",
       "      <td>NaN</td>\n",
       "      <td>NaN</td>\n",
       "      <td>NaN</td>\n",
       "      <td>NaN</td>\n",
       "      <td>NaN</td>\n",
       "      <td>NaN</td>\n",
       "      <td>NaN</td>\n",
       "    </tr>\n",
       "    <tr>\n",
       "      <th>1971</th>\n",
       "      <td>NaN</td>\n",
       "      <td>NaN</td>\n",
       "      <td>NaN</td>\n",
       "      <td>NaN</td>\n",
       "      <td>NaN</td>\n",
       "      <td>NaN</td>\n",
       "      <td>NaN</td>\n",
       "      <td>NaN</td>\n",
       "      <td>NaN</td>\n",
       "      <td>NaN</td>\n",
       "    </tr>\n",
       "    <tr>\n",
       "      <th>1973</th>\n",
       "      <td>0.0</td>\n",
       "      <td>0.0</td>\n",
       "      <td>0.0</td>\n",
       "      <td>0.0</td>\n",
       "      <td>99.0</td>\n",
       "      <td>0.0</td>\n",
       "      <td>0.0</td>\n",
       "      <td>0.0</td>\n",
       "      <td>0.0</td>\n",
       "      <td>0.0</td>\n",
       "    </tr>\n",
       "    <tr>\n",
       "      <th>1976</th>\n",
       "      <td>NaN</td>\n",
       "      <td>NaN</td>\n",
       "      <td>NaN</td>\n",
       "      <td>NaN</td>\n",
       "      <td>NaN</td>\n",
       "      <td>NaN</td>\n",
       "      <td>NaN</td>\n",
       "      <td>NaN</td>\n",
       "      <td>NaN</td>\n",
       "      <td>NaN</td>\n",
       "    </tr>\n",
       "    <tr>\n",
       "      <th>1978</th>\n",
       "      <td>NaN</td>\n",
       "      <td>NaN</td>\n",
       "      <td>NaN</td>\n",
       "      <td>NaN</td>\n",
       "      <td>NaN</td>\n",
       "      <td>NaN</td>\n",
       "      <td>NaN</td>\n",
       "      <td>NaN</td>\n",
       "      <td>NaN</td>\n",
       "      <td>NaN</td>\n",
       "    </tr>\n",
       "  </tbody>\n",
       "</table>\n",
       "<p>909 rows × 10 columns</p>\n",
       "</div>"
      ],
      "text/plain": [
       "      COSTO_TOTAL  COSTO_FINAN  COSTO_HONO  COSTO_MAQ  COSTO_MMTO  COSTO_MPE  \\\n",
       "0             NaN          NaN         NaN        NaN         NaN        NaN   \n",
       "1             NaN          NaN         NaN        NaN         NaN        NaN   \n",
       "4             NaN          NaN         NaN        NaN         NaN        NaN   \n",
       "5             NaN          NaN         NaN        NaN         NaN        NaN   \n",
       "6             NaN          NaN         NaN        NaN         NaN        NaN   \n",
       "...           ...          ...         ...        ...         ...        ...   \n",
       "1968          NaN          NaN         NaN        NaN         NaN        NaN   \n",
       "1971          NaN          NaN         NaN        NaN         NaN        NaN   \n",
       "1973          0.0          0.0         0.0        0.0        99.0        0.0   \n",
       "1976          NaN          NaN         NaN        NaN         NaN        NaN   \n",
       "1978          NaN          NaN         NaN        NaN         NaN        NaN   \n",
       "\n",
       "      COSTO_PUB  COSTO_SERV  COSTO_TRANS  COSTO_VTA  \n",
       "0           NaN         NaN          NaN        NaN  \n",
       "1           NaN         NaN          NaN        NaN  \n",
       "4           NaN         NaN          NaN        NaN  \n",
       "5           NaN         NaN          NaN        NaN  \n",
       "6           NaN         NaN          NaN        NaN  \n",
       "...         ...         ...          ...        ...  \n",
       "1968        NaN         NaN          NaN        NaN  \n",
       "1971        NaN         NaN          NaN        NaN  \n",
       "1973        0.0         0.0          0.0        0.0  \n",
       "1976        NaN         NaN          NaN        NaN  \n",
       "1978        NaN         NaN          NaN        NaN  \n",
       "\n",
       "[909 rows x 10 columns]"
      ]
     },
     "execution_count": 86,
     "metadata": {},
     "output_type": "execute_result"
    }
   ],
   "source": [
    "(df[['COSTO_TOTAL','COSTO_FINAN','COSTO_HONO','COSTO_MAQ','COSTO_MMTO','COSTO_MPE','COSTO_PUB','COSTO_SERV','COSTO_TRANS','COSTO_VTA']][~(df['COSTO_TOTAL'] == df[['COSTO_FINAN','COSTO_HONO','COSTO_MAQ','COSTO_MMTO','COSTO_MPE','COSTO_PUB','COSTO_SERV','COSTO_TRANS','COSTO_VTA']].sum(axis=1))])\n",
    "# El valor restante de valores que no coinciden se debe a los 99 que presentan algunas de las variables individuales"
   ]
  },
  {
   "cell_type": "markdown",
   "metadata": {},
   "source": [
    "#### Construcción de la variables de costos y gastos agregados"
   ]
  },
  {
   "cell_type": "code",
   "execution_count": 163,
   "metadata": {},
   "outputs": [],
   "source": [
    "df['CYG'] = df[['COSTO_TOTAL','GASTOS']].sum(axis=1)"
   ]
  },
  {
   "cell_type": "code",
   "execution_count": 164,
   "metadata": {},
   "outputs": [
    {
     "data": {
      "text/html": [
       "<div>\n",
       "<style scoped>\n",
       "    .dataframe tbody tr th:only-of-type {\n",
       "        vertical-align: middle;\n",
       "    }\n",
       "\n",
       "    .dataframe tbody tr th {\n",
       "        vertical-align: top;\n",
       "    }\n",
       "\n",
       "    .dataframe thead th {\n",
       "        text-align: right;\n",
       "    }\n",
       "</style>\n",
       "<table border=\"1\" class=\"dataframe\">\n",
       "  <thead>\n",
       "    <tr style=\"text-align: right;\">\n",
       "      <th></th>\n",
       "      <th>COSTO_TOTAL</th>\n",
       "      <th>GASTOS</th>\n",
       "      <th>CYG</th>\n",
       "    </tr>\n",
       "  </thead>\n",
       "  <tbody>\n",
       "    <tr>\n",
       "      <th>0</th>\n",
       "      <td>NaN</td>\n",
       "      <td>NaN</td>\n",
       "      <td>0.0</td>\n",
       "    </tr>\n",
       "    <tr>\n",
       "      <th>1</th>\n",
       "      <td>NaN</td>\n",
       "      <td>NaN</td>\n",
       "      <td>0.0</td>\n",
       "    </tr>\n",
       "    <tr>\n",
       "      <th>2</th>\n",
       "      <td>60000000.0</td>\n",
       "      <td>168720000.0</td>\n",
       "      <td>228720000.0</td>\n",
       "    </tr>\n",
       "    <tr>\n",
       "      <th>3</th>\n",
       "      <td>84000000.0</td>\n",
       "      <td>15840000.0</td>\n",
       "      <td>99840000.0</td>\n",
       "    </tr>\n",
       "    <tr>\n",
       "      <th>4</th>\n",
       "      <td>NaN</td>\n",
       "      <td>NaN</td>\n",
       "      <td>0.0</td>\n",
       "    </tr>\n",
       "    <tr>\n",
       "      <th>...</th>\n",
       "      <td>...</td>\n",
       "      <td>...</td>\n",
       "      <td>...</td>\n",
       "    </tr>\n",
       "    <tr>\n",
       "      <th>1974</th>\n",
       "      <td>12000000.0</td>\n",
       "      <td>1110000.0</td>\n",
       "      <td>13110000.0</td>\n",
       "    </tr>\n",
       "    <tr>\n",
       "      <th>1975</th>\n",
       "      <td>1000000.0</td>\n",
       "      <td>2400000.0</td>\n",
       "      <td>3400000.0</td>\n",
       "    </tr>\n",
       "    <tr>\n",
       "      <th>1976</th>\n",
       "      <td>NaN</td>\n",
       "      <td>NaN</td>\n",
       "      <td>0.0</td>\n",
       "    </tr>\n",
       "    <tr>\n",
       "      <th>1977</th>\n",
       "      <td>163704520.0</td>\n",
       "      <td>48840000.0</td>\n",
       "      <td>212544520.0</td>\n",
       "    </tr>\n",
       "    <tr>\n",
       "      <th>1978</th>\n",
       "      <td>NaN</td>\n",
       "      <td>NaN</td>\n",
       "      <td>0.0</td>\n",
       "    </tr>\n",
       "  </tbody>\n",
       "</table>\n",
       "<p>1979 rows × 3 columns</p>\n",
       "</div>"
      ],
      "text/plain": [
       "      COSTO_TOTAL       GASTOS          CYG\n",
       "0             NaN          NaN          0.0\n",
       "1             NaN          NaN          0.0\n",
       "2      60000000.0  168720000.0  228720000.0\n",
       "3      84000000.0   15840000.0   99840000.0\n",
       "4             NaN          NaN          0.0\n",
       "...           ...          ...          ...\n",
       "1974   12000000.0    1110000.0   13110000.0\n",
       "1975    1000000.0    2400000.0    3400000.0\n",
       "1976          NaN          NaN          0.0\n",
       "1977  163704520.0   48840000.0  212544520.0\n",
       "1978          NaN          NaN          0.0\n",
       "\n",
       "[1979 rows x 3 columns]"
      ]
     },
     "execution_count": 164,
     "metadata": {},
     "output_type": "execute_result"
    }
   ],
   "source": [
    "df[['COSTO_TOTAL','GASTOS','CYG']]"
   ]
  },
  {
   "cell_type": "code",
   "execution_count": 165,
   "metadata": {},
   "outputs": [],
   "source": [
    "df.loc[(df['GASTOS'].isna()) & (df['COSTO_TOTAL'].isna()), 'CYG'] = np.nan"
   ]
  },
  {
   "cell_type": "markdown",
   "metadata": {},
   "source": [
    "### Personal"
   ]
  },
  {
   "cell_type": "code",
   "execution_count": 90,
   "metadata": {},
   "outputs": [
    {
     "data": {
      "text/plain": [
       "count    1130.000000\n",
       "mean        3.197345\n",
       "std        11.211273\n",
       "min         1.000000\n",
       "25%         1.000000\n",
       "50%         2.000000\n",
       "75%         3.000000\n",
       "max       322.000000\n",
       "Name: POTTOT, dtype: float64"
      ]
     },
     "execution_count": 90,
     "metadata": {},
     "output_type": "execute_result"
    }
   ],
   "source": [
    "df['POTTOT'].describe()"
   ]
  },
  {
   "cell_type": "markdown",
   "metadata": {},
   "source": [
    "### Remuneración Total"
   ]
  },
  {
   "cell_type": "code",
   "execution_count": 91,
   "metadata": {},
   "outputs": [
    {
     "data": {
      "text/plain": [
       "35          70\n",
       "399    4807221\n",
       "Name: UID_ENCUESTA, dtype: int64"
      ]
     },
     "execution_count": 91,
     "metadata": {},
     "output_type": "execute_result"
    }
   ],
   "source": [
    "df['UID_ENCUESTA'][(df[['SALFIJOH','SALFIJOM','SALPERMH','SALPERMM','SALTEMPH','SALTEMPM']]==99).any(axis=1)]"
   ]
  },
  {
   "cell_type": "code",
   "execution_count": 166,
   "metadata": {},
   "outputs": [],
   "source": [
    "df['REMUNERACION_TOTAL'] = (df[['SALFIJOH','SALFIJOM','SALPERMH','SALPERMM','SALTEMPH','SALTEMPM']].replace(99,np.nan).sum(axis=1))*df['MESOPA']"
   ]
  },
  {
   "cell_type": "code",
   "execution_count": 91,
   "metadata": {},
   "outputs": [
    {
     "ename": "KeyError",
     "evalue": "\"['SALPOHTEMP', 'SALPOMTEMP'] not in index\"",
     "output_type": "error",
     "traceback": [
      "\u001b[1;31m---------------------------------------------------------------------------\u001b[0m",
      "\u001b[1;31mKeyError\u001b[0m                                  Traceback (most recent call last)",
      "Cell \u001b[1;32mIn[91], line 1\u001b[0m\n\u001b[1;32m----> 1\u001b[0m \u001b[43mdf\u001b[49m\u001b[43m[\u001b[49m\u001b[43m[\u001b[49m\u001b[38;5;124;43m'\u001b[39;49m\u001b[38;5;124;43mSALFIJOH\u001b[39;49m\u001b[38;5;124;43m'\u001b[39;49m\u001b[43m,\u001b[49m\u001b[38;5;124;43m'\u001b[39;49m\u001b[38;5;124;43mSALFIJOM\u001b[39;49m\u001b[38;5;124;43m'\u001b[39;49m\u001b[43m,\u001b[49m\u001b[38;5;124;43m'\u001b[39;49m\u001b[38;5;124;43mSALPERMH\u001b[39;49m\u001b[38;5;124;43m'\u001b[39;49m\u001b[43m,\u001b[49m\u001b[38;5;124;43m'\u001b[39;49m\u001b[38;5;124;43mSALPERMM\u001b[39;49m\u001b[38;5;124;43m'\u001b[39;49m\u001b[43m,\u001b[49m\u001b[38;5;124;43m'\u001b[39;49m\u001b[38;5;124;43mSALPOHTEMP\u001b[39;49m\u001b[38;5;124;43m'\u001b[39;49m\u001b[43m,\u001b[49m\u001b[38;5;124;43m'\u001b[39;49m\u001b[38;5;124;43mSALPOMTEMP\u001b[39;49m\u001b[38;5;124;43m'\u001b[39;49m\u001b[43m,\u001b[49m\u001b[38;5;124;43m'\u001b[39;49m\u001b[38;5;124;43mMESOPA\u001b[39;49m\u001b[38;5;124;43m'\u001b[39;49m\u001b[43m]\u001b[49m\u001b[43m]\u001b[49m[(df[[\u001b[38;5;124m'\u001b[39m\u001b[38;5;124mSALFIJOH\u001b[39m\u001b[38;5;124m'\u001b[39m,\u001b[38;5;124m'\u001b[39m\u001b[38;5;124mSALFIJOM\u001b[39m\u001b[38;5;124m'\u001b[39m,\u001b[38;5;124m'\u001b[39m\u001b[38;5;124mSALPERMH\u001b[39m\u001b[38;5;124m'\u001b[39m,\u001b[38;5;124m'\u001b[39m\u001b[38;5;124mSALPERMM\u001b[39m\u001b[38;5;124m'\u001b[39m,\u001b[38;5;124m'\u001b[39m\u001b[38;5;124mSALPOHTEMP\u001b[39m\u001b[38;5;124m'\u001b[39m,\u001b[38;5;124m'\u001b[39m\u001b[38;5;124mSALPOMTEMP\u001b[39m\u001b[38;5;124m'\u001b[39m,\u001b[38;5;124m'\u001b[39m\u001b[38;5;124mMESOPA\u001b[39m\u001b[38;5;124m'\u001b[39m]]\u001b[38;5;241m==\u001b[39m\u001b[38;5;241m99\u001b[39m)\u001b[38;5;241m.\u001b[39many(axis\u001b[38;5;241m=\u001b[39m\u001b[38;5;241m1\u001b[39m)]\n",
      "File \u001b[1;32m~\\AppData\\Roaming\\Python\\Python310\\site-packages\\pandas\\core\\frame.py:3511\u001b[0m, in \u001b[0;36mDataFrame.__getitem__\u001b[1;34m(self, key)\u001b[0m\n\u001b[0;32m   3509\u001b[0m     \u001b[38;5;28;01mif\u001b[39;00m is_iterator(key):\n\u001b[0;32m   3510\u001b[0m         key \u001b[38;5;241m=\u001b[39m \u001b[38;5;28mlist\u001b[39m(key)\n\u001b[1;32m-> 3511\u001b[0m     indexer \u001b[38;5;241m=\u001b[39m \u001b[38;5;28;43mself\u001b[39;49m\u001b[38;5;241;43m.\u001b[39;49m\u001b[43mcolumns\u001b[49m\u001b[38;5;241;43m.\u001b[39;49m\u001b[43m_get_indexer_strict\u001b[49m\u001b[43m(\u001b[49m\u001b[43mkey\u001b[49m\u001b[43m,\u001b[49m\u001b[43m \u001b[49m\u001b[38;5;124;43m\"\u001b[39;49m\u001b[38;5;124;43mcolumns\u001b[39;49m\u001b[38;5;124;43m\"\u001b[39;49m\u001b[43m)\u001b[49m[\u001b[38;5;241m1\u001b[39m]\n\u001b[0;32m   3513\u001b[0m \u001b[38;5;66;03m# take() does not accept boolean indexers\u001b[39;00m\n\u001b[0;32m   3514\u001b[0m \u001b[38;5;28;01mif\u001b[39;00m \u001b[38;5;28mgetattr\u001b[39m(indexer, \u001b[38;5;124m\"\u001b[39m\u001b[38;5;124mdtype\u001b[39m\u001b[38;5;124m\"\u001b[39m, \u001b[38;5;28;01mNone\u001b[39;00m) \u001b[38;5;241m==\u001b[39m \u001b[38;5;28mbool\u001b[39m:\n",
      "File \u001b[1;32m~\\AppData\\Roaming\\Python\\Python310\\site-packages\\pandas\\core\\indexes\\base.py:5782\u001b[0m, in \u001b[0;36mIndex._get_indexer_strict\u001b[1;34m(self, key, axis_name)\u001b[0m\n\u001b[0;32m   5779\u001b[0m \u001b[38;5;28;01melse\u001b[39;00m:\n\u001b[0;32m   5780\u001b[0m     keyarr, indexer, new_indexer \u001b[38;5;241m=\u001b[39m \u001b[38;5;28mself\u001b[39m\u001b[38;5;241m.\u001b[39m_reindex_non_unique(keyarr)\n\u001b[1;32m-> 5782\u001b[0m \u001b[38;5;28;43mself\u001b[39;49m\u001b[38;5;241;43m.\u001b[39;49m\u001b[43m_raise_if_missing\u001b[49m\u001b[43m(\u001b[49m\u001b[43mkeyarr\u001b[49m\u001b[43m,\u001b[49m\u001b[43m \u001b[49m\u001b[43mindexer\u001b[49m\u001b[43m,\u001b[49m\u001b[43m \u001b[49m\u001b[43maxis_name\u001b[49m\u001b[43m)\u001b[49m\n\u001b[0;32m   5784\u001b[0m keyarr \u001b[38;5;241m=\u001b[39m \u001b[38;5;28mself\u001b[39m\u001b[38;5;241m.\u001b[39mtake(indexer)\n\u001b[0;32m   5785\u001b[0m \u001b[38;5;28;01mif\u001b[39;00m \u001b[38;5;28misinstance\u001b[39m(key, Index):\n\u001b[0;32m   5786\u001b[0m     \u001b[38;5;66;03m# GH 42790 - Preserve name from an Index\u001b[39;00m\n",
      "File \u001b[1;32m~\\AppData\\Roaming\\Python\\Python310\\site-packages\\pandas\\core\\indexes\\base.py:5845\u001b[0m, in \u001b[0;36mIndex._raise_if_missing\u001b[1;34m(self, key, indexer, axis_name)\u001b[0m\n\u001b[0;32m   5842\u001b[0m     \u001b[38;5;28;01mraise\u001b[39;00m \u001b[38;5;167;01mKeyError\u001b[39;00m(\u001b[38;5;124mf\u001b[39m\u001b[38;5;124m\"\u001b[39m\u001b[38;5;124mNone of [\u001b[39m\u001b[38;5;132;01m{\u001b[39;00mkey\u001b[38;5;132;01m}\u001b[39;00m\u001b[38;5;124m] are in the [\u001b[39m\u001b[38;5;132;01m{\u001b[39;00maxis_name\u001b[38;5;132;01m}\u001b[39;00m\u001b[38;5;124m]\u001b[39m\u001b[38;5;124m\"\u001b[39m)\n\u001b[0;32m   5844\u001b[0m not_found \u001b[38;5;241m=\u001b[39m \u001b[38;5;28mlist\u001b[39m(ensure_index(key)[missing_mask\u001b[38;5;241m.\u001b[39mnonzero()[\u001b[38;5;241m0\u001b[39m]]\u001b[38;5;241m.\u001b[39munique())\n\u001b[1;32m-> 5845\u001b[0m \u001b[38;5;28;01mraise\u001b[39;00m \u001b[38;5;167;01mKeyError\u001b[39;00m(\u001b[38;5;124mf\u001b[39m\u001b[38;5;124m\"\u001b[39m\u001b[38;5;132;01m{\u001b[39;00mnot_found\u001b[38;5;132;01m}\u001b[39;00m\u001b[38;5;124m not in index\u001b[39m\u001b[38;5;124m\"\u001b[39m)\n",
      "\u001b[1;31mKeyError\u001b[0m: \"['SALPOHTEMP', 'SALPOMTEMP'] not in index\""
     ]
    }
   ],
   "source": [
    "df[['SALFIJOH','SALFIJOM','SALPERMH','SALPERMM','SALPOHTEMP','SALPOMTEMP','MESOPA']][(df[['SALFIJOH','SALFIJOM','SALPERMH','SALPERMM','SALPOHTEMP','SALPOMTEMP','MESOPA']]==99).any(axis=1)]"
   ]
  },
  {
   "cell_type": "code",
   "execution_count": 92,
   "metadata": {},
   "outputs": [
    {
     "data": {
      "text/plain": [
       "count    1.155000e+03\n",
       "mean     1.299048e+07\n",
       "std      7.629155e+07\n",
       "min      0.000000e+00\n",
       "25%      0.000000e+00\n",
       "50%      0.000000e+00\n",
       "75%      6.500000e+06\n",
       "max      1.582000e+09\n",
       "Name: REMUNERACION_TOTAL, dtype: float64"
      ]
     },
     "execution_count": 92,
     "metadata": {},
     "output_type": "execute_result"
    }
   ],
   "source": [
    "df['REMUNERACION_TOTAL'].describe()"
   ]
  },
  {
   "cell_type": "markdown",
   "metadata": {},
   "source": [
    "### Departamento"
   ]
  },
  {
   "cell_type": "code",
   "execution_count": 141,
   "metadata": {},
   "outputs": [
    {
     "data": {
      "text/plain": [
       "91.0    984\n",
       "13.0    641\n",
       "11.0     51\n",
       "Name: DPTO, dtype: int64"
      ]
     },
     "execution_count": 141,
     "metadata": {},
     "output_type": "execute_result"
    }
   ],
   "source": [
    "df['DPTO'].value_counts()"
   ]
  },
  {
   "cell_type": "code",
   "execution_count": 167,
   "metadata": {},
   "outputs": [
    {
     "data": {
      "text/plain": [
       "False    1287\n",
       "True      692\n",
       "Name: DPTO, dtype: int64"
      ]
     },
     "execution_count": 167,
     "metadata": {},
     "output_type": "execute_result"
    }
   ],
   "source": [
    "# Mantener sólo los departamentos que se encuentran en EMICRON\n",
    "df['DPTO'].isin(dic_depto.keys()).value_counts()"
   ]
  },
  {
   "cell_type": "markdown",
   "metadata": {},
   "source": [
    "### Ciudad Principal o Área Metropolitana  \n",
    "Ciudades Principales y áreas metropolitanas:  \n",
    "- 11001: Bogotá  \n",
    "- 5001: Medellín  \n",
    "    - Valle de Aburra:  \n",
    "    - 5079: Barbosa  \n",
    "    - 5088: Bello  \n",
    "    - 5129: Caldas  \n",
    "    - 5212: Copacabana  \n",
    "    - 5266: Envigado  \n",
    "    - 5308: Girardota  \n",
    "    - 5360: Itagui  \n",
    "    - 5380: La Estrella  \n",
    "    - 5631: Sabaneta  \n",
    "- 76001: Cali  \n",
    "    - 76892: Yumbo\n",
    "- 8001: Barranquilla\n",
    "    - 8758: Soledad\n",
    "- 68001: Bucaramanga\n",
    "    - 68276: Floridablanca\n",
    "    - 68307: Girón\n",
    "    - 68547: Piedecuesta\n",
    "- 17001: Manizales\n",
    "    - 17873: Villamaría\n",
    "- 52001: Pasto\n",
    "- 66001: Pereira\n",
    "    - 66170: Dosquebradas\n",
    "    - 66400: La Virginia\n",
    "- 73001: Ibagué\n",
    "- 54001: Cúcuta\n",
    "    - 54874: Villa del Rosario\n",
    "    - 54405: Los Patios\n",
    "    - 54261: El Zulia\n",
    "- 50001: Villavicencio\n",
    "- 23001: Montería\n",
    "- 13001: Cartagena\n",
    "- 15001: Tunja\n",
    "- 18001: Florencia\n",
    "- 19001: Popayán\n",
    "- 20001: Valledupar\n",
    "- 27001: Quibdó\n",
    "- 41001: Neiva\n",
    "- 44001: Riohacha\n",
    "- 47001: Santa Marta\n",
    "- 63001: Armenia\n",
    "- 70001: Sincelejo\n",
    "- 88001: San Andrés    "
   ]
  },
  {
   "cell_type": "code",
   "execution_count": 168,
   "metadata": {},
   "outputs": [],
   "source": [
    "cpam = [11001,\t5001,\t5079,\t5088,\t5129,\t5212,\t5266,\t5308,\t5360,\t5380,\t5631,\t76001,\t76892,\t8001,\t8758,\t68001,\t68276,\t68307,\t68547,\t17001,\t17873,\t52001,\t66001,\t66170,\t66400,\t73001,\t54001,\t54874,\t54405,\t54261,\t50001,\t23001,\t13001,\t15001,\t18001,\t19001,\t20001,\t27001,\t41001,\t44001,\t47001,\t63001,\t70001,\t88001, 1]"
   ]
  },
  {
   "cell_type": "code",
   "execution_count": 169,
   "metadata": {},
   "outputs": [],
   "source": [
    "df['CPAM'] = (df['MPIO'].isin(cpam) & df['CLASE']==1).apply(lambda x: int(x))"
   ]
  },
  {
   "cell_type": "code",
   "execution_count": 170,
   "metadata": {},
   "outputs": [
    {
     "data": {
      "text/html": [
       "<div>\n",
       "<style scoped>\n",
       "    .dataframe tbody tr th:only-of-type {\n",
       "        vertical-align: middle;\n",
       "    }\n",
       "\n",
       "    .dataframe tbody tr th {\n",
       "        vertical-align: top;\n",
       "    }\n",
       "\n",
       "    .dataframe thead th {\n",
       "        text-align: right;\n",
       "    }\n",
       "</style>\n",
       "<table border=\"1\" class=\"dataframe\">\n",
       "  <thead>\n",
       "    <tr style=\"text-align: right;\">\n",
       "      <th></th>\n",
       "      <th>MPIO</th>\n",
       "      <th>CLASE</th>\n",
       "      <th>CPAM</th>\n",
       "    </tr>\n",
       "  </thead>\n",
       "  <tbody>\n",
       "    <tr>\n",
       "      <th>0</th>\n",
       "      <td>1.0</td>\n",
       "      <td>1</td>\n",
       "      <td>1</td>\n",
       "    </tr>\n",
       "    <tr>\n",
       "      <th>1</th>\n",
       "      <td>1.0</td>\n",
       "      <td>1</td>\n",
       "      <td>1</td>\n",
       "    </tr>\n",
       "    <tr>\n",
       "      <th>2</th>\n",
       "      <td>433.0</td>\n",
       "      <td>1</td>\n",
       "      <td>0</td>\n",
       "    </tr>\n",
       "    <tr>\n",
       "      <th>3</th>\n",
       "      <td>1.0</td>\n",
       "      <td>1</td>\n",
       "      <td>1</td>\n",
       "    </tr>\n",
       "    <tr>\n",
       "      <th>4</th>\n",
       "      <td>NaN</td>\n",
       "      <td>1</td>\n",
       "      <td>0</td>\n",
       "    </tr>\n",
       "    <tr>\n",
       "      <th>...</th>\n",
       "      <td>...</td>\n",
       "      <td>...</td>\n",
       "      <td>...</td>\n",
       "    </tr>\n",
       "    <tr>\n",
       "      <th>1974</th>\n",
       "      <td>1.0</td>\n",
       "      <td>1</td>\n",
       "      <td>1</td>\n",
       "    </tr>\n",
       "    <tr>\n",
       "      <th>1975</th>\n",
       "      <td>1.0</td>\n",
       "      <td>1</td>\n",
       "      <td>1</td>\n",
       "    </tr>\n",
       "    <tr>\n",
       "      <th>1976</th>\n",
       "      <td>1.0</td>\n",
       "      <td>1</td>\n",
       "      <td>1</td>\n",
       "    </tr>\n",
       "    <tr>\n",
       "      <th>1977</th>\n",
       "      <td>1.0</td>\n",
       "      <td>1</td>\n",
       "      <td>1</td>\n",
       "    </tr>\n",
       "    <tr>\n",
       "      <th>1978</th>\n",
       "      <td>1.0</td>\n",
       "      <td>1</td>\n",
       "      <td>1</td>\n",
       "    </tr>\n",
       "  </tbody>\n",
       "</table>\n",
       "<p>1979 rows × 3 columns</p>\n",
       "</div>"
      ],
      "text/plain": [
       "       MPIO  CLASE  CPAM\n",
       "0       1.0      1     1\n",
       "1       1.0      1     1\n",
       "2     433.0      1     0\n",
       "3       1.0      1     1\n",
       "4       NaN      1     0\n",
       "...     ...    ...   ...\n",
       "1974    1.0      1     1\n",
       "1975    1.0      1     1\n",
       "1976    1.0      1     1\n",
       "1977    1.0      1     1\n",
       "1978    1.0      1     1\n",
       "\n",
       "[1979 rows x 3 columns]"
      ]
     },
     "execution_count": 170,
     "metadata": {},
     "output_type": "execute_result"
    }
   ],
   "source": [
    "df[['MPIO','CLASE','CPAM']]"
   ]
  },
  {
   "cell_type": "markdown",
   "metadata": {},
   "source": [
    "### Actividad Económica"
   ]
  },
  {
   "cell_type": "code",
   "execution_count": 171,
   "metadata": {},
   "outputs": [],
   "source": [
    "rel_g12 = pd.read_excel(R\"D:\\DANE - Contrato\\2024\\Operativo Barrido\\Data\\Diccionario.xlsx\", sheet_name=\"GRUPOS12\")"
   ]
  },
  {
   "cell_type": "code",
   "execution_count": 172,
   "metadata": {},
   "outputs": [],
   "source": [
    "def extract_first_two_digits(x):\n",
    "    '''\n",
    "    Definición de una función para extraer los primeros dos dígitos del CIIU para obtener la división\n",
    "    x: Columna a la que se le aplicará la columna \n",
    "    '''\n",
    "    try:\n",
    "        # Convert x to string, split at decimal point if present, and extract first two characters\n",
    "        first_two_digits_str = str(x).split('.')[0][:2]\n",
    "        # Convert the extracted string to an integer\n",
    "        first_two_digits_int = int(first_two_digits_str)\n",
    "        return first_two_digits_int\n",
    "    except (ValueError, TypeError):\n",
    "        # Return NaN (or any other value you prefer) if conversion fails\n",
    "        return np.nan\n",
    "\n",
    "# Aplicar  the function to the 'CIIU_3' column\n",
    "df['Division'] = df['CIIUSELECCIONADO'].apply(extract_first_two_digits)\n"
   ]
  },
  {
   "cell_type": "code",
   "execution_count": 101,
   "metadata": {},
   "outputs": [
    {
     "data": {
      "text/plain": [
       "(1979, 359)"
      ]
     },
     "execution_count": 101,
     "metadata": {},
     "output_type": "execute_result"
    }
   ],
   "source": [
    "df.shape"
   ]
  },
  {
   "cell_type": "code",
   "execution_count": 173,
   "metadata": {},
   "outputs": [],
   "source": [
    "df = pd.merge(df,rel_g12,on='Division',how=\"left\")"
   ]
  },
  {
   "cell_type": "code",
   "execution_count": 174,
   "metadata": {},
   "outputs": [
    {
     "data": {
      "text/html": [
       "<div>\n",
       "<style scoped>\n",
       "    .dataframe tbody tr th:only-of-type {\n",
       "        vertical-align: middle;\n",
       "    }\n",
       "\n",
       "    .dataframe tbody tr th {\n",
       "        vertical-align: top;\n",
       "    }\n",
       "\n",
       "    .dataframe thead th {\n",
       "        text-align: right;\n",
       "    }\n",
       "</style>\n",
       "<table border=\"1\" class=\"dataframe\">\n",
       "  <thead>\n",
       "    <tr style=\"text-align: right;\">\n",
       "      <th></th>\n",
       "      <th>GRUPOS12</th>\n",
       "      <th>Division</th>\n",
       "      <th>CIIUSELECCIONADO</th>\n",
       "    </tr>\n",
       "  </thead>\n",
       "  <tbody>\n",
       "    <tr>\n",
       "      <th>0</th>\n",
       "      <td>4.0</td>\n",
       "      <td>43.0</td>\n",
       "      <td>4311</td>\n",
       "    </tr>\n",
       "    <tr>\n",
       "      <th>1</th>\n",
       "      <td>6.0</td>\n",
       "      <td>49.0</td>\n",
       "      <td>4922</td>\n",
       "    </tr>\n",
       "    <tr>\n",
       "      <th>2</th>\n",
       "      <td>5.0</td>\n",
       "      <td>47.0</td>\n",
       "      <td>4711</td>\n",
       "    </tr>\n",
       "    <tr>\n",
       "      <th>3</th>\n",
       "      <td>5.0</td>\n",
       "      <td>47.0</td>\n",
       "      <td>4719</td>\n",
       "    </tr>\n",
       "    <tr>\n",
       "      <th>4</th>\n",
       "      <td>NaN</td>\n",
       "      <td>NaN</td>\n",
       "      <td>NaN</td>\n",
       "    </tr>\n",
       "    <tr>\n",
       "      <th>...</th>\n",
       "      <td>...</td>\n",
       "      <td>...</td>\n",
       "      <td>...</td>\n",
       "    </tr>\n",
       "    <tr>\n",
       "      <th>1974</th>\n",
       "      <td>5.0</td>\n",
       "      <td>47.0</td>\n",
       "      <td>4711</td>\n",
       "    </tr>\n",
       "    <tr>\n",
       "      <th>1975</th>\n",
       "      <td>9.0</td>\n",
       "      <td>77.0</td>\n",
       "      <td>7710</td>\n",
       "    </tr>\n",
       "    <tr>\n",
       "      <th>1976</th>\n",
       "      <td>7.0</td>\n",
       "      <td>56.0</td>\n",
       "      <td>5611</td>\n",
       "    </tr>\n",
       "    <tr>\n",
       "      <th>1977</th>\n",
       "      <td>11.0</td>\n",
       "      <td>88.0</td>\n",
       "      <td>8810</td>\n",
       "    </tr>\n",
       "    <tr>\n",
       "      <th>1978</th>\n",
       "      <td>7.0</td>\n",
       "      <td>56.0</td>\n",
       "      <td>5619</td>\n",
       "    </tr>\n",
       "  </tbody>\n",
       "</table>\n",
       "<p>1979 rows × 3 columns</p>\n",
       "</div>"
      ],
      "text/plain": [
       "      GRUPOS12  Division CIIUSELECCIONADO\n",
       "0          4.0      43.0             4311\n",
       "1          6.0      49.0             4922\n",
       "2          5.0      47.0             4711\n",
       "3          5.0      47.0             4719\n",
       "4          NaN       NaN              NaN\n",
       "...        ...       ...              ...\n",
       "1974       5.0      47.0             4711\n",
       "1975       9.0      77.0             7710\n",
       "1976       7.0      56.0             5611\n",
       "1977      11.0      88.0             8810\n",
       "1978       7.0      56.0             5619\n",
       "\n",
       "[1979 rows x 3 columns]"
      ]
     },
     "execution_count": 174,
     "metadata": {},
     "output_type": "execute_result"
    }
   ],
   "source": [
    "df[['GRUPOS12','Division','CIIUSELECCIONADO']]"
   ]
  },
  {
   "cell_type": "markdown",
   "metadata": {},
   "source": [
    "### RUT"
   ]
  },
  {
   "cell_type": "code",
   "execution_count": 175,
   "metadata": {},
   "outputs": [
    {
     "data": {
      "text/plain": [
       "0       1.0\n",
       "1       1.0\n",
       "2       1.0\n",
       "3       1.0\n",
       "4       NaN\n",
       "       ... \n",
       "1974    1.0\n",
       "1975    1.0\n",
       "1976    2.0\n",
       "1977    1.0\n",
       "1978    1.0\n",
       "Name: IDRUT, Length: 1979, dtype: float64"
      ]
     },
     "execution_count": 175,
     "metadata": {},
     "output_type": "execute_result"
    }
   ],
   "source": [
    "df['IDRUT']"
   ]
  },
  {
   "cell_type": "markdown",
   "metadata": {},
   "source": [
    "### Cámara de Comercio"
   ]
  },
  {
   "cell_type": "code",
   "execution_count": 151,
   "metadata": {},
   "outputs": [],
   "source": [
    "# Función para verificar si '1' está presente en la cadena\n",
    "def contain_one(value):\n",
    "    '''\n",
    "    Crear un vector de 1's y 0's con el objetivo crear la variable de Cámara de Comercio\n",
    "    '''\n",
    "    if pd.isna(value):\n",
    "        return 0\n",
    "    return 1 if '1' in value.split(',') else 0\n",
    "\n",
    "# Crear la nueva columna\n",
    "df['CAMCOMER'] = df['CUAL_AUT'].apply(contain_one)"
   ]
  },
  {
   "cell_type": "code",
   "execution_count": 177,
   "metadata": {},
   "outputs": [],
   "source": [
    "df['CAMCOMER'] = df['CAMCOMER'].map(dict(zip(rel_cam['CAMCOMER'], rel_cam['Codigo'])))"
   ]
  },
  {
   "cell_type": "code",
   "execution_count": 178,
   "metadata": {},
   "outputs": [
    {
     "data": {
      "text/plain": [
       "0       0\n",
       "1       0\n",
       "2       1\n",
       "3       1\n",
       "4       0\n",
       "       ..\n",
       "1974    0\n",
       "1975    1\n",
       "1976    0\n",
       "1977    1\n",
       "1978    1\n",
       "Name: CAMCOMER, Length: 1979, dtype: int64"
      ]
     },
     "execution_count": 178,
     "metadata": {},
     "output_type": "execute_result"
    }
   ],
   "source": [
    "df['CAMCOMER']"
   ]
  },
  {
   "cell_type": "markdown",
   "metadata": {},
   "source": [
    "### Registros Contables"
   ]
  },
  {
   "cell_type": "code",
   "execution_count": 179,
   "metadata": {},
   "outputs": [],
   "source": [
    "df['REG_CONT'] = df['REG_CONT'].map(dict(zip(rel_reg_con['REG_CONT'], rel_reg_con['Codigo'])))"
   ]
  },
  {
   "cell_type": "code",
   "execution_count": 180,
   "metadata": {},
   "outputs": [
    {
     "data": {
      "text/plain": [
       "4.0    623\n",
       "3.0    513\n",
       "2.0    262\n",
       "1.0    182\n",
       "Name: REG_CONT, dtype: int64"
      ]
     },
     "execution_count": 180,
     "metadata": {},
     "output_type": "execute_result"
    }
   ],
   "source": [
    "df['REG_CONT'].value_counts()"
   ]
  },
  {
   "cell_type": "markdown",
   "metadata": {},
   "source": [
    "### Antigüedad"
   ]
  },
  {
   "cell_type": "code",
   "execution_count": 181,
   "metadata": {},
   "outputs": [],
   "source": [
    "df['ANIOS_OPERACION'] = 2024 - df['IDAIO']"
   ]
  },
  {
   "cell_type": "markdown",
   "metadata": {},
   "source": [
    "### Ubicación"
   ]
  },
  {
   "cell_type": "code",
   "execution_count": 182,
   "metadata": {},
   "outputs": [],
   "source": [
    "df['UBICA'] = df['UBICA'].map(dict(zip(rel_ubica['UBICA'], rel_ubica['Codigo'])))"
   ]
  },
  {
   "cell_type": "code",
   "execution_count": 183,
   "metadata": {},
   "outputs": [
    {
     "data": {
      "text/plain": [
       "1.0    1202\n",
       "3.0     393\n",
       "2.0      81\n",
       "Name: UBICA, dtype: int64"
      ]
     },
     "execution_count": 183,
     "metadata": {},
     "output_type": "execute_result"
    }
   ],
   "source": [
    "df['UBICA'].value_counts()"
   ]
  },
  {
   "cell_type": "markdown",
   "metadata": {},
   "source": [
    "## Creación Variables"
   ]
  },
  {
   "cell_type": "code",
   "execution_count": 184,
   "metadata": {},
   "outputs": [],
   "source": [
    "df['VA'] = df['ING_TOTAL'] - df['CYG']\n",
    "df['C_V'] = df['CYG'] / (df['ING_TOTAL'] + 1)"
   ]
  },
  {
   "cell_type": "markdown",
   "metadata": {},
   "source": [
    "## Selección Variables"
   ]
  },
  {
   "cell_type": "code",
   "execution_count": 185,
   "metadata": {},
   "outputs": [],
   "source": [
    "var_estab = ['UID_ENCUESTA','ING_TOTAL','CYG','POTTOT','REMUNERACION_TOTAL','DPTO','CPAM','GRUPOS12','UBICA','IDRUT','CAMCOMER','REG_CONT','ANIOS_OPERACION','VA','C_V'] \n",
    "\n",
    "var_mov = ['id','VENTAS_MES_ANTERIOR','POTTOT','REMUNERACION_TOTAL','CYG','COD_DEPTO','CPAM','GRUPOS4','ANOS_ESPACIO','HOMBRE']"
   ]
  },
  {
   "cell_type": "code",
   "execution_count": 186,
   "metadata": {},
   "outputs": [
    {
     "data": {
      "text/plain": [
       "1.0    1202\n",
       "3.0     393\n",
       "2.0      81\n",
       "Name: UBICA, dtype: int64"
      ]
     },
     "execution_count": 186,
     "metadata": {},
     "output_type": "execute_result"
    }
   ],
   "source": [
    "df['UBICA'].value_counts()"
   ]
  },
  {
   "cell_type": "code",
   "execution_count": 187,
   "metadata": {},
   "outputs": [],
   "source": [
    "df_final = df[var_estab]"
   ]
  },
  {
   "cell_type": "code",
   "execution_count": 188,
   "metadata": {},
   "outputs": [
    {
     "data": {
      "text/html": [
       "<div>\n",
       "<style scoped>\n",
       "    .dataframe tbody tr th:only-of-type {\n",
       "        vertical-align: middle;\n",
       "    }\n",
       "\n",
       "    .dataframe tbody tr th {\n",
       "        vertical-align: top;\n",
       "    }\n",
       "\n",
       "    .dataframe thead th {\n",
       "        text-align: right;\n",
       "    }\n",
       "</style>\n",
       "<table border=\"1\" class=\"dataframe\">\n",
       "  <thead>\n",
       "    <tr style=\"text-align: right;\">\n",
       "      <th></th>\n",
       "      <th>UID_ENCUESTA</th>\n",
       "      <th>ING_TOTAL</th>\n",
       "      <th>CYG</th>\n",
       "      <th>POTTOT</th>\n",
       "      <th>REMUNERACION_TOTAL</th>\n",
       "      <th>DPTO</th>\n",
       "      <th>CPAM</th>\n",
       "      <th>GRUPOS12</th>\n",
       "      <th>UBICA</th>\n",
       "      <th>IDRUT</th>\n",
       "      <th>CAMCOMER</th>\n",
       "      <th>REG_CONT</th>\n",
       "      <th>ANIOS_OPERACION</th>\n",
       "      <th>VA</th>\n",
       "      <th>C_V</th>\n",
       "    </tr>\n",
       "  </thead>\n",
       "  <tbody>\n",
       "    <tr>\n",
       "      <th>0</th>\n",
       "      <td>72</td>\n",
       "      <td>NaN</td>\n",
       "      <td>NaN</td>\n",
       "      <td>1.0</td>\n",
       "      <td>0.0</td>\n",
       "      <td>11.0</td>\n",
       "      <td>1</td>\n",
       "      <td>4.0</td>\n",
       "      <td>1.0</td>\n",
       "      <td>1.0</td>\n",
       "      <td>0</td>\n",
       "      <td>3.0</td>\n",
       "      <td>24.0</td>\n",
       "      <td>NaN</td>\n",
       "      <td>NaN</td>\n",
       "    </tr>\n",
       "    <tr>\n",
       "      <th>1</th>\n",
       "      <td>74</td>\n",
       "      <td>NaN</td>\n",
       "      <td>NaN</td>\n",
       "      <td>NaN</td>\n",
       "      <td>NaN</td>\n",
       "      <td>11.0</td>\n",
       "      <td>1</td>\n",
       "      <td>6.0</td>\n",
       "      <td>1.0</td>\n",
       "      <td>1.0</td>\n",
       "      <td>0</td>\n",
       "      <td>NaN</td>\n",
       "      <td>NaN</td>\n",
       "      <td>NaN</td>\n",
       "      <td>NaN</td>\n",
       "    </tr>\n",
       "    <tr>\n",
       "      <th>2</th>\n",
       "      <td>1472675</td>\n",
       "      <td>150000000.0</td>\n",
       "      <td>228720000.0</td>\n",
       "      <td>7.0</td>\n",
       "      <td>15528000.0</td>\n",
       "      <td>13.0</td>\n",
       "      <td>0</td>\n",
       "      <td>5.0</td>\n",
       "      <td>1.0</td>\n",
       "      <td>1.0</td>\n",
       "      <td>1</td>\n",
       "      <td>3.0</td>\n",
       "      <td>5.0</td>\n",
       "      <td>-78720000.0</td>\n",
       "      <td>1.524800</td>\n",
       "    </tr>\n",
       "    <tr>\n",
       "      <th>3</th>\n",
       "      <td>4264925</td>\n",
       "      <td>180000000.0</td>\n",
       "      <td>99840000.0</td>\n",
       "      <td>4.0</td>\n",
       "      <td>11136000.0</td>\n",
       "      <td>91.0</td>\n",
       "      <td>1</td>\n",
       "      <td>5.0</td>\n",
       "      <td>1.0</td>\n",
       "      <td>1.0</td>\n",
       "      <td>1</td>\n",
       "      <td>2.0</td>\n",
       "      <td>27.0</td>\n",
       "      <td>80160000.0</td>\n",
       "      <td>0.554667</td>\n",
       "    </tr>\n",
       "    <tr>\n",
       "      <th>4</th>\n",
       "      <td>4780793</td>\n",
       "      <td>NaN</td>\n",
       "      <td>NaN</td>\n",
       "      <td>NaN</td>\n",
       "      <td>NaN</td>\n",
       "      <td>NaN</td>\n",
       "      <td>0</td>\n",
       "      <td>NaN</td>\n",
       "      <td>NaN</td>\n",
       "      <td>NaN</td>\n",
       "      <td>0</td>\n",
       "      <td>NaN</td>\n",
       "      <td>NaN</td>\n",
       "      <td>NaN</td>\n",
       "      <td>NaN</td>\n",
       "    </tr>\n",
       "  </tbody>\n",
       "</table>\n",
       "</div>"
      ],
      "text/plain": [
       "   UID_ENCUESTA    ING_TOTAL          CYG  POTTOT  REMUNERACION_TOTAL  DPTO  \\\n",
       "0            72          NaN          NaN     1.0                 0.0  11.0   \n",
       "1            74          NaN          NaN     NaN                 NaN  11.0   \n",
       "2       1472675  150000000.0  228720000.0     7.0          15528000.0  13.0   \n",
       "3       4264925  180000000.0   99840000.0     4.0          11136000.0  91.0   \n",
       "4       4780793          NaN          NaN     NaN                 NaN   NaN   \n",
       "\n",
       "   CPAM  GRUPOS12  UBICA  IDRUT  CAMCOMER  REG_CONT  ANIOS_OPERACION  \\\n",
       "0     1       4.0    1.0    1.0         0       3.0             24.0   \n",
       "1     1       6.0    1.0    1.0         0       NaN              NaN   \n",
       "2     0       5.0    1.0    1.0         1       3.0              5.0   \n",
       "3     1       5.0    1.0    1.0         1       2.0             27.0   \n",
       "4     0       NaN    NaN    NaN         0       NaN              NaN   \n",
       "\n",
       "           VA       C_V  \n",
       "0         NaN       NaN  \n",
       "1         NaN       NaN  \n",
       "2 -78720000.0  1.524800  \n",
       "3  80160000.0  0.554667  \n",
       "4         NaN       NaN  "
      ]
     },
     "execution_count": 188,
     "metadata": {},
     "output_type": "execute_result"
    }
   ],
   "source": [
    "df_final.head()"
   ]
  },
  {
   "cell_type": "markdown",
   "metadata": {},
   "source": [
    "## Filtrado de unidades"
   ]
  },
  {
   "cell_type": "code",
   "execution_count": 189,
   "metadata": {},
   "outputs": [],
   "source": [
    "# Seleccionar unidades económicas ubicadas en vivienda o establecimiento fijo (1 y 3)\n",
    "df_final = df_final[df_final['UBICA'].isin([1,3])]"
   ]
  },
  {
   "cell_type": "code",
   "execution_count": 190,
   "metadata": {},
   "outputs": [],
   "source": [
    "# Departamentos con los que se entrenó el modelo\n",
    "depto_emicron = [8, 13, 44, 47, 70, 20, 25, 11, 18, 41, 15, 68, 54, 76, 52, 19, 17, 63, 73, 66,  5, 23, 27, 50, 88]\n",
    "df_final = df_final[df_final['DPTO'].isin(depto_emicron)]"
   ]
  },
  {
   "cell_type": "code",
   "execution_count": 195,
   "metadata": {},
   "outputs": [
    {
     "data": {
      "text/plain": [
       "(663, 15)"
      ]
     },
     "execution_count": 195,
     "metadata": {},
     "output_type": "execute_result"
    }
   ],
   "source": [
    "df_final.shape"
   ]
  },
  {
   "cell_type": "code",
   "execution_count": 192,
   "metadata": {},
   "outputs": [],
   "source": [
    "id_ig = df_final['UID_ENCUESTA'][((df_final.isna()) | (df_final==99)).any(axis=1)]"
   ]
  },
  {
   "cell_type": "code",
   "execution_count": 193,
   "metadata": {},
   "outputs": [
    {
     "data": {
      "text/plain": [
       "210"
      ]
     },
     "execution_count": 193,
     "metadata": {},
     "output_type": "execute_result"
    }
   ],
   "source": [
    "len(id_ig)"
   ]
  },
  {
   "cell_type": "code",
   "execution_count": 223,
   "metadata": {},
   "outputs": [
    {
     "data": {
      "text/plain": [
       "0       NaN\n",
       "1       NaN\n",
       "2       1.0\n",
       "14      NaN\n",
       "15      1.0\n",
       "       ... \n",
       "1925    NaN\n",
       "1931    1.0\n",
       "1933    1.0\n",
       "1954    1.0\n",
       "1968    NaN\n",
       "Name: CAMCOMER, Length: 663, dtype: float64"
      ]
     },
     "execution_count": 223,
     "metadata": {},
     "output_type": "execute_result"
    }
   ],
   "source": [
    "df_final['CAMCOMER'].map({'Cámara de Comercio':1})"
   ]
  },
  {
   "cell_type": "code",
   "execution_count": 128,
   "metadata": {},
   "outputs": [],
   "source": [
    "id_na = df_final['UID_ENCUESTA'][df_final.isna().any(axis=1)]"
   ]
  },
  {
   "cell_type": "code",
   "execution_count": 28,
   "metadata": {},
   "outputs": [],
   "source": [
    "cpam = [11001,\t5001,\t5079,\t5088,\t5129,\t5212,\t5266,\t5308,\t5360,\t5380,\t5631,\t76001,\t76892,\t8001,\n",
    "        8758,\t68001,\t68276,\t68307,\t68547,\t17001,\t17873,\t52001,\t66001,\t66170,\t66400,\t73001,\t54001,\t54874,\n",
    "        54405,\t54261,\t50001,\t23001,\t13001,\t15001,\t18001,\t19001,\t20001,\t27001,\t41001,\t44001,\t47001,\t63001,\t\n",
    "        70001,\t88001]"
   ]
  },
  {
   "cell_type": "code",
   "execution_count": 130,
   "metadata": {},
   "outputs": [],
   "source": [
    "id_na = df_final['UID_ENCUESTA'][((df_final.isna()) | (df_final==99)).any(axis=1)]"
   ]
  },
  {
   "cell_type": "code",
   "execution_count": 132,
   "metadata": {},
   "outputs": [
    {
     "data": {
      "text/html": [
       "<div>\n",
       "<style scoped>\n",
       "    .dataframe tbody tr th:only-of-type {\n",
       "        vertical-align: middle;\n",
       "    }\n",
       "\n",
       "    .dataframe tbody tr th {\n",
       "        vertical-align: top;\n",
       "    }\n",
       "\n",
       "    .dataframe thead th {\n",
       "        text-align: right;\n",
       "    }\n",
       "</style>\n",
       "<table border=\"1\" class=\"dataframe\">\n",
       "  <thead>\n",
       "    <tr style=\"text-align: right;\">\n",
       "      <th></th>\n",
       "      <th>UID_ENCUESTA</th>\n",
       "      <th>ING_TOTAL</th>\n",
       "      <th>CYG</th>\n",
       "      <th>POTTOT</th>\n",
       "      <th>REMUNERACION_TOTAL</th>\n",
       "      <th>DPTO</th>\n",
       "      <th>CPAM</th>\n",
       "      <th>GRUPOS12</th>\n",
       "      <th>UBICA</th>\n",
       "      <th>IDRUT</th>\n",
       "      <th>CAMCOMER</th>\n",
       "      <th>REG_CONT</th>\n",
       "      <th>ANIOS_OPERACION</th>\n",
       "      <th>VA</th>\n",
       "      <th>C_V</th>\n",
       "    </tr>\n",
       "  </thead>\n",
       "  <tbody>\n",
       "    <tr>\n",
       "      <th>0</th>\n",
       "      <td>72</td>\n",
       "      <td>NaN</td>\n",
       "      <td>NaN</td>\n",
       "      <td>1.0</td>\n",
       "      <td>0.0</td>\n",
       "      <td>11.0</td>\n",
       "      <td>1</td>\n",
       "      <td>4.0</td>\n",
       "      <td>1.0</td>\n",
       "      <td>SÍ</td>\n",
       "      <td>0</td>\n",
       "      <td>3.0</td>\n",
       "      <td>24.0</td>\n",
       "      <td>NaN</td>\n",
       "      <td>NaN</td>\n",
       "    </tr>\n",
       "    <tr>\n",
       "      <th>1</th>\n",
       "      <td>74</td>\n",
       "      <td>NaN</td>\n",
       "      <td>NaN</td>\n",
       "      <td>NaN</td>\n",
       "      <td>NaN</td>\n",
       "      <td>11.0</td>\n",
       "      <td>1</td>\n",
       "      <td>6.0</td>\n",
       "      <td>1.0</td>\n",
       "      <td>SÍ</td>\n",
       "      <td>0</td>\n",
       "      <td>NaN</td>\n",
       "      <td>NaN</td>\n",
       "      <td>NaN</td>\n",
       "      <td>NaN</td>\n",
       "    </tr>\n",
       "    <tr>\n",
       "      <th>2</th>\n",
       "      <td>1472675</td>\n",
       "      <td>150000000.0</td>\n",
       "      <td>2.287200e+08</td>\n",
       "      <td>7.0</td>\n",
       "      <td>15528000.0</td>\n",
       "      <td>13.0</td>\n",
       "      <td>0</td>\n",
       "      <td>5.0</td>\n",
       "      <td>1.0</td>\n",
       "      <td>SÍ</td>\n",
       "      <td>1</td>\n",
       "      <td>3.0</td>\n",
       "      <td>5.0</td>\n",
       "      <td>-7.872000e+07</td>\n",
       "      <td>1.524800</td>\n",
       "    </tr>\n",
       "    <tr>\n",
       "      <th>14</th>\n",
       "      <td>43</td>\n",
       "      <td>10100000.0</td>\n",
       "      <td>2.000000e+09</td>\n",
       "      <td>1.0</td>\n",
       "      <td>0.0</td>\n",
       "      <td>11.0</td>\n",
       "      <td>1</td>\n",
       "      <td>5.0</td>\n",
       "      <td>1.0</td>\n",
       "      <td>NO</td>\n",
       "      <td>0</td>\n",
       "      <td>1.0</td>\n",
       "      <td>24.0</td>\n",
       "      <td>-1.989900e+09</td>\n",
       "      <td>198.019782</td>\n",
       "    </tr>\n",
       "    <tr>\n",
       "      <th>15</th>\n",
       "      <td>45</td>\n",
       "      <td>1000005.0</td>\n",
       "      <td>1.000050e+05</td>\n",
       "      <td>12.0</td>\n",
       "      <td>48000000.0</td>\n",
       "      <td>11.0</td>\n",
       "      <td>1</td>\n",
       "      <td>7.0</td>\n",
       "      <td>1.0</td>\n",
       "      <td>SÍ</td>\n",
       "      <td>1</td>\n",
       "      <td>1.0</td>\n",
       "      <td>24.0</td>\n",
       "      <td>9.000000e+05</td>\n",
       "      <td>0.100004</td>\n",
       "    </tr>\n",
       "  </tbody>\n",
       "</table>\n",
       "</div>"
      ],
      "text/plain": [
       "    UID_ENCUESTA    ING_TOTAL           CYG  POTTOT  REMUNERACION_TOTAL  DPTO  \\\n",
       "0             72          NaN           NaN     1.0                 0.0  11.0   \n",
       "1             74          NaN           NaN     NaN                 NaN  11.0   \n",
       "2        1472675  150000000.0  2.287200e+08     7.0          15528000.0  13.0   \n",
       "14            43   10100000.0  2.000000e+09     1.0                 0.0  11.0   \n",
       "15            45    1000005.0  1.000050e+05    12.0          48000000.0  11.0   \n",
       "\n",
       "    CPAM  GRUPOS12  UBICA IDRUT  CAMCOMER  REG_CONT  ANIOS_OPERACION  \\\n",
       "0      1       4.0    1.0    SÍ         0       3.0             24.0   \n",
       "1      1       6.0    1.0    SÍ         0       NaN              NaN   \n",
       "2      0       5.0    1.0    SÍ         1       3.0              5.0   \n",
       "14     1       5.0    1.0    NO         0       1.0             24.0   \n",
       "15     1       7.0    1.0    SÍ         1       1.0             24.0   \n",
       "\n",
       "              VA         C_V  \n",
       "0            NaN         NaN  \n",
       "1            NaN         NaN  \n",
       "2  -7.872000e+07    1.524800  \n",
       "14 -1.989900e+09  198.019782  \n",
       "15  9.000000e+05    0.100004  "
      ]
     },
     "execution_count": 132,
     "metadata": {},
     "output_type": "execute_result"
    }
   ],
   "source": [
    "df_final.head()"
   ]
  },
  {
   "cell_type": "code",
   "execution_count": 120,
   "metadata": {},
   "outputs": [
    {
     "data": {
      "text/plain": [
       "UID_ENCUESTA          0\n",
       "ING_TOTAL             0\n",
       "CYG                   0\n",
       "POTTOT                0\n",
       "REMUNERACION_TOTAL    0\n",
       "DPTO                  0\n",
       "CPAM                  0\n",
       "GRUPOS12              0\n",
       "UBICA                 0\n",
       "IDRUT                 0\n",
       "CAMCOMER              0\n",
       "REG_CONT              0\n",
       "ANIOS_OPERACION       0\n",
       "VA                    0\n",
       "C_V                   0\n",
       "dtype: int64"
      ]
     },
     "execution_count": 120,
     "metadata": {},
     "output_type": "execute_result"
    }
   ],
   "source": [
    "# Descripción variables no responde\n",
    "(df_final==99).sum()"
   ]
  },
  {
   "cell_type": "code",
   "execution_count": 147,
   "metadata": {},
   "outputs": [
    {
     "data": {
      "text/plain": [
       "0       False\n",
       "1       False\n",
       "2       False\n",
       "14       True\n",
       "15      False\n",
       "        ...  \n",
       "1925    False\n",
       "1931    False\n",
       "1933    False\n",
       "1954    False\n",
       "1968    False\n",
       "Name: UID_ENCUESTA, Length: 663, dtype: bool"
      ]
     },
     "execution_count": 147,
     "metadata": {},
     "output_type": "execute_result"
    }
   ],
   "source": [
    "(df_final['UID_ENCUESTA'].isin(ids))"
   ]
  },
  {
   "cell_type": "code",
   "execution_count": 148,
   "metadata": {},
   "outputs": [
    {
     "data": {
      "text/html": [
       "<div>\n",
       "<style scoped>\n",
       "    .dataframe tbody tr th:only-of-type {\n",
       "        vertical-align: middle;\n",
       "    }\n",
       "\n",
       "    .dataframe tbody tr th {\n",
       "        vertical-align: top;\n",
       "    }\n",
       "\n",
       "    .dataframe thead th {\n",
       "        text-align: right;\n",
       "    }\n",
       "</style>\n",
       "<table border=\"1\" class=\"dataframe\">\n",
       "  <thead>\n",
       "    <tr style=\"text-align: right;\">\n",
       "      <th></th>\n",
       "      <th>UID_ENCUESTA</th>\n",
       "      <th>ING_TOTAL</th>\n",
       "      <th>CYG</th>\n",
       "      <th>POTTOT</th>\n",
       "      <th>REMUNERACION_TOTAL</th>\n",
       "      <th>DPTO</th>\n",
       "      <th>CPAM</th>\n",
       "      <th>GRUPOS12</th>\n",
       "      <th>UBICA</th>\n",
       "      <th>IDRUT</th>\n",
       "      <th>CAMCOMER</th>\n",
       "      <th>REG_CONT</th>\n",
       "      <th>ANIOS_OPERACION</th>\n",
       "      <th>VA</th>\n",
       "      <th>C_V</th>\n",
       "    </tr>\n",
       "  </thead>\n",
       "  <tbody>\n",
       "    <tr>\n",
       "      <th>0</th>\n",
       "      <td>72</td>\n",
       "      <td>NaN</td>\n",
       "      <td>NaN</td>\n",
       "      <td>1.0</td>\n",
       "      <td>0.0</td>\n",
       "      <td>11.0</td>\n",
       "      <td>1</td>\n",
       "      <td>4.0</td>\n",
       "      <td>1.0</td>\n",
       "      <td>SÍ</td>\n",
       "      <td>0</td>\n",
       "      <td>3.0</td>\n",
       "      <td>24.0</td>\n",
       "      <td>NaN</td>\n",
       "      <td>NaN</td>\n",
       "    </tr>\n",
       "    <tr>\n",
       "      <th>1</th>\n",
       "      <td>74</td>\n",
       "      <td>NaN</td>\n",
       "      <td>NaN</td>\n",
       "      <td>NaN</td>\n",
       "      <td>NaN</td>\n",
       "      <td>11.0</td>\n",
       "      <td>1</td>\n",
       "      <td>6.0</td>\n",
       "      <td>1.0</td>\n",
       "      <td>SÍ</td>\n",
       "      <td>0</td>\n",
       "      <td>NaN</td>\n",
       "      <td>NaN</td>\n",
       "      <td>NaN</td>\n",
       "      <td>NaN</td>\n",
       "    </tr>\n",
       "    <tr>\n",
       "      <th>2</th>\n",
       "      <td>1472675</td>\n",
       "      <td>150000000.0</td>\n",
       "      <td>2.287200e+08</td>\n",
       "      <td>7.0</td>\n",
       "      <td>15528000.0</td>\n",
       "      <td>13.0</td>\n",
       "      <td>0</td>\n",
       "      <td>5.0</td>\n",
       "      <td>1.0</td>\n",
       "      <td>SÍ</td>\n",
       "      <td>1</td>\n",
       "      <td>3.0</td>\n",
       "      <td>5.0</td>\n",
       "      <td>-7.872000e+07</td>\n",
       "      <td>1.524800</td>\n",
       "    </tr>\n",
       "    <tr>\n",
       "      <th>14</th>\n",
       "      <td>43</td>\n",
       "      <td>10100000.0</td>\n",
       "      <td>2.000000e+09</td>\n",
       "      <td>1.0</td>\n",
       "      <td>0.0</td>\n",
       "      <td>11.0</td>\n",
       "      <td>1</td>\n",
       "      <td>5.0</td>\n",
       "      <td>1.0</td>\n",
       "      <td>NO</td>\n",
       "      <td>0</td>\n",
       "      <td>1.0</td>\n",
       "      <td>24.0</td>\n",
       "      <td>-1.989900e+09</td>\n",
       "      <td>198.019782</td>\n",
       "    </tr>\n",
       "    <tr>\n",
       "      <th>15</th>\n",
       "      <td>45</td>\n",
       "      <td>1000005.0</td>\n",
       "      <td>1.000050e+05</td>\n",
       "      <td>12.0</td>\n",
       "      <td>48000000.0</td>\n",
       "      <td>11.0</td>\n",
       "      <td>1</td>\n",
       "      <td>7.0</td>\n",
       "      <td>1.0</td>\n",
       "      <td>SÍ</td>\n",
       "      <td>1</td>\n",
       "      <td>1.0</td>\n",
       "      <td>24.0</td>\n",
       "      <td>9.000000e+05</td>\n",
       "      <td>0.100004</td>\n",
       "    </tr>\n",
       "    <tr>\n",
       "      <th>16</th>\n",
       "      <td>1463212</td>\n",
       "      <td>500000.0</td>\n",
       "      <td>1.720000e+06</td>\n",
       "      <td>1.0</td>\n",
       "      <td>0.0</td>\n",
       "      <td>13.0</td>\n",
       "      <td>0</td>\n",
       "      <td>3.0</td>\n",
       "      <td>1.0</td>\n",
       "      <td>NO</td>\n",
       "      <td>0</td>\n",
       "      <td>4.0</td>\n",
       "      <td>14.0</td>\n",
       "      <td>-1.220000e+06</td>\n",
       "      <td>3.439993</td>\n",
       "    </tr>\n",
       "    <tr>\n",
       "      <th>29</th>\n",
       "      <td>1466730</td>\n",
       "      <td>144000000.0</td>\n",
       "      <td>1.087050e+08</td>\n",
       "      <td>3.0</td>\n",
       "      <td>0.0</td>\n",
       "      <td>13.0</td>\n",
       "      <td>0</td>\n",
       "      <td>5.0</td>\n",
       "      <td>3.0</td>\n",
       "      <td>NO</td>\n",
       "      <td>0</td>\n",
       "      <td>3.0</td>\n",
       "      <td>8.0</td>\n",
       "      <td>3.529500e+07</td>\n",
       "      <td>0.754896</td>\n",
       "    </tr>\n",
       "    <tr>\n",
       "      <th>30</th>\n",
       "      <td>1469310</td>\n",
       "      <td>9600000.0</td>\n",
       "      <td>4.760000e+06</td>\n",
       "      <td>1.0</td>\n",
       "      <td>0.0</td>\n",
       "      <td>13.0</td>\n",
       "      <td>0</td>\n",
       "      <td>12.0</td>\n",
       "      <td>1.0</td>\n",
       "      <td>NO</td>\n",
       "      <td>1</td>\n",
       "      <td>4.0</td>\n",
       "      <td>15.0</td>\n",
       "      <td>4.840000e+06</td>\n",
       "      <td>0.495833</td>\n",
       "    </tr>\n",
       "    <tr>\n",
       "      <th>31</th>\n",
       "      <td>1469318</td>\n",
       "      <td>54000000.0</td>\n",
       "      <td>6.046800e+07</td>\n",
       "      <td>4.0</td>\n",
       "      <td>0.0</td>\n",
       "      <td>13.0</td>\n",
       "      <td>0</td>\n",
       "      <td>5.0</td>\n",
       "      <td>1.0</td>\n",
       "      <td>SÍ</td>\n",
       "      <td>1</td>\n",
       "      <td>3.0</td>\n",
       "      <td>24.0</td>\n",
       "      <td>-6.468000e+06</td>\n",
       "      <td>1.119778</td>\n",
       "    </tr>\n",
       "    <tr>\n",
       "      <th>32</th>\n",
       "      <td>1469412</td>\n",
       "      <td>102000000.0</td>\n",
       "      <td>1.482560e+08</td>\n",
       "      <td>2.0</td>\n",
       "      <td>4200000.0</td>\n",
       "      <td>13.0</td>\n",
       "      <td>0</td>\n",
       "      <td>5.0</td>\n",
       "      <td>1.0</td>\n",
       "      <td>SÍ</td>\n",
       "      <td>1</td>\n",
       "      <td>3.0</td>\n",
       "      <td>5.0</td>\n",
       "      <td>-4.625600e+07</td>\n",
       "      <td>1.453490</td>\n",
       "    </tr>\n",
       "    <tr>\n",
       "      <th>33</th>\n",
       "      <td>1473542</td>\n",
       "      <td>20000000.0</td>\n",
       "      <td>1.228000e+07</td>\n",
       "      <td>4.0</td>\n",
       "      <td>15120000.0</td>\n",
       "      <td>13.0</td>\n",
       "      <td>0</td>\n",
       "      <td>5.0</td>\n",
       "      <td>1.0</td>\n",
       "      <td>NO</td>\n",
       "      <td>0</td>\n",
       "      <td>4.0</td>\n",
       "      <td>14.0</td>\n",
       "      <td>7.720000e+06</td>\n",
       "      <td>0.614000</td>\n",
       "    </tr>\n",
       "    <tr>\n",
       "      <th>35</th>\n",
       "      <td>70</td>\n",
       "      <td>NaN</td>\n",
       "      <td>NaN</td>\n",
       "      <td>1.0</td>\n",
       "      <td>99.0</td>\n",
       "      <td>11.0</td>\n",
       "      <td>1</td>\n",
       "      <td>6.0</td>\n",
       "      <td>1.0</td>\n",
       "      <td>NO</td>\n",
       "      <td>0</td>\n",
       "      <td>4.0</td>\n",
       "      <td>4.0</td>\n",
       "      <td>NaN</td>\n",
       "      <td>NaN</td>\n",
       "    </tr>\n",
       "    <tr>\n",
       "      <th>36</th>\n",
       "      <td>1029608</td>\n",
       "      <td>2500000.0</td>\n",
       "      <td>1.800000e+06</td>\n",
       "      <td>2.0</td>\n",
       "      <td>0.0</td>\n",
       "      <td>13.0</td>\n",
       "      <td>0</td>\n",
       "      <td>3.0</td>\n",
       "      <td>3.0</td>\n",
       "      <td>SÍ</td>\n",
       "      <td>0</td>\n",
       "      <td>4.0</td>\n",
       "      <td>27.0</td>\n",
       "      <td>7.000000e+05</td>\n",
       "      <td>0.720000</td>\n",
       "    </tr>\n",
       "    <tr>\n",
       "      <th>37</th>\n",
       "      <td>1877997</td>\n",
       "      <td>NaN</td>\n",
       "      <td>NaN</td>\n",
       "      <td>NaN</td>\n",
       "      <td>NaN</td>\n",
       "      <td>13.0</td>\n",
       "      <td>0</td>\n",
       "      <td>7.0</td>\n",
       "      <td>1.0</td>\n",
       "      <td>NO</td>\n",
       "      <td>0</td>\n",
       "      <td>2.0</td>\n",
       "      <td>2.0</td>\n",
       "      <td>NaN</td>\n",
       "      <td>NaN</td>\n",
       "    </tr>\n",
       "  </tbody>\n",
       "</table>\n",
       "</div>"
      ],
      "text/plain": [
       "    UID_ENCUESTA    ING_TOTAL           CYG  POTTOT  REMUNERACION_TOTAL  DPTO  \\\n",
       "0             72          NaN           NaN     1.0                 0.0  11.0   \n",
       "1             74          NaN           NaN     NaN                 NaN  11.0   \n",
       "2        1472675  150000000.0  2.287200e+08     7.0          15528000.0  13.0   \n",
       "14            43   10100000.0  2.000000e+09     1.0                 0.0  11.0   \n",
       "15            45    1000005.0  1.000050e+05    12.0          48000000.0  11.0   \n",
       "16       1463212     500000.0  1.720000e+06     1.0                 0.0  13.0   \n",
       "29       1466730  144000000.0  1.087050e+08     3.0                 0.0  13.0   \n",
       "30       1469310    9600000.0  4.760000e+06     1.0                 0.0  13.0   \n",
       "31       1469318   54000000.0  6.046800e+07     4.0                 0.0  13.0   \n",
       "32       1469412  102000000.0  1.482560e+08     2.0           4200000.0  13.0   \n",
       "33       1473542   20000000.0  1.228000e+07     4.0          15120000.0  13.0   \n",
       "35            70          NaN           NaN     1.0                99.0  11.0   \n",
       "36       1029608    2500000.0  1.800000e+06     2.0                 0.0  13.0   \n",
       "37       1877997          NaN           NaN     NaN                 NaN  13.0   \n",
       "\n",
       "    CPAM  GRUPOS12  UBICA IDRUT  CAMCOMER  REG_CONT  ANIOS_OPERACION  \\\n",
       "0      1       4.0    1.0    SÍ         0       3.0             24.0   \n",
       "1      1       6.0    1.0    SÍ         0       NaN              NaN   \n",
       "2      0       5.0    1.0    SÍ         1       3.0              5.0   \n",
       "14     1       5.0    1.0    NO         0       1.0             24.0   \n",
       "15     1       7.0    1.0    SÍ         1       1.0             24.0   \n",
       "16     0       3.0    1.0    NO         0       4.0             14.0   \n",
       "29     0       5.0    3.0    NO         0       3.0              8.0   \n",
       "30     0      12.0    1.0    NO         1       4.0             15.0   \n",
       "31     0       5.0    1.0    SÍ         1       3.0             24.0   \n",
       "32     0       5.0    1.0    SÍ         1       3.0              5.0   \n",
       "33     0       5.0    1.0    NO         0       4.0             14.0   \n",
       "35     1       6.0    1.0    NO         0       4.0              4.0   \n",
       "36     0       3.0    3.0    SÍ         0       4.0             27.0   \n",
       "37     0       7.0    1.0    NO         0       2.0              2.0   \n",
       "\n",
       "              VA         C_V  \n",
       "0            NaN         NaN  \n",
       "1            NaN         NaN  \n",
       "2  -7.872000e+07    1.524800  \n",
       "14 -1.989900e+09  198.019782  \n",
       "15  9.000000e+05    0.100004  \n",
       "16 -1.220000e+06    3.439993  \n",
       "29  3.529500e+07    0.754896  \n",
       "30  4.840000e+06    0.495833  \n",
       "31 -6.468000e+06    1.119778  \n",
       "32 -4.625600e+07    1.453490  \n",
       "33  7.720000e+06    0.614000  \n",
       "35           NaN         NaN  \n",
       "36  7.000000e+05    0.720000  \n",
       "37           NaN         NaN  "
      ]
     },
     "execution_count": 148,
     "metadata": {},
     "output_type": "execute_result"
    }
   ],
   "source": [
    "df_final.head(14)"
   ]
  },
  {
   "cell_type": "code",
   "execution_count": 154,
   "metadata": {},
   "outputs": [
    {
     "data": {
      "text/plain": [
       "14     43\n",
       "218    26\n",
       "Name: UID_ENCUESTA, dtype: int64"
      ]
     },
     "execution_count": 154,
     "metadata": {},
     "output_type": "execute_result"
    }
   ],
   "source": [
    "df_final['UID_ENCUESTA'][(df_final['UID_ENCUESTA'].isin(ids))]"
   ]
  },
  {
   "cell_type": "code",
   "execution_count": 160,
   "metadata": {},
   "outputs": [
    {
     "data": {
      "text/html": [
       "<div>\n",
       "<style scoped>\n",
       "    .dataframe tbody tr th:only-of-type {\n",
       "        vertical-align: middle;\n",
       "    }\n",
       "\n",
       "    .dataframe tbody tr th {\n",
       "        vertical-align: top;\n",
       "    }\n",
       "\n",
       "    .dataframe thead th {\n",
       "        text-align: right;\n",
       "    }\n",
       "</style>\n",
       "<table border=\"1\" class=\"dataframe\">\n",
       "  <thead>\n",
       "    <tr style=\"text-align: right;\">\n",
       "      <th></th>\n",
       "      <th>SALFIJOH</th>\n",
       "      <th>SALFIJOM</th>\n",
       "      <th>SALPERMH</th>\n",
       "      <th>SALPERMM</th>\n",
       "      <th>SALPOHTEMP</th>\n",
       "      <th>SALPOMTEMP</th>\n",
       "      <th>MESOPA</th>\n",
       "    </tr>\n",
       "  </thead>\n",
       "  <tbody>\n",
       "    <tr>\n",
       "      <th>35</th>\n",
       "      <td>0.0</td>\n",
       "      <td>0.0</td>\n",
       "      <td>99.0</td>\n",
       "      <td>0.0</td>\n",
       "      <td>0.0</td>\n",
       "      <td>0.0</td>\n",
       "      <td>1.0</td>\n",
       "    </tr>\n",
       "  </tbody>\n",
       "</table>\n",
       "</div>"
      ],
      "text/plain": [
       "    SALFIJOH  SALFIJOM  SALPERMH  SALPERMM  SALPOHTEMP  SALPOMTEMP  MESOPA\n",
       "35       0.0       0.0      99.0       0.0         0.0         0.0     1.0"
      ]
     },
     "execution_count": 160,
     "metadata": {},
     "output_type": "execute_result"
    }
   ],
   "source": [
    "df[['SALFIJOH','SALFIJOM','SALPERMH','SALPERMM','SALPOHTEMP','SALPOMTEMP','MESOPA']][df['UID_ENCUESTA']==70]"
   ]
  },
  {
   "cell_type": "code",
   "execution_count": 167,
   "metadata": {},
   "outputs": [
    {
     "data": {
      "text/html": [
       "<div>\n",
       "<style scoped>\n",
       "    .dataframe tbody tr th:only-of-type {\n",
       "        vertical-align: middle;\n",
       "    }\n",
       "\n",
       "    .dataframe tbody tr th {\n",
       "        vertical-align: top;\n",
       "    }\n",
       "\n",
       "    .dataframe thead th {\n",
       "        text-align: right;\n",
       "    }\n",
       "</style>\n",
       "<table border=\"1\" class=\"dataframe\">\n",
       "  <thead>\n",
       "    <tr style=\"text-align: right;\">\n",
       "      <th></th>\n",
       "      <th>UID_ENCUESTA</th>\n",
       "      <th>ING_TOTAL</th>\n",
       "      <th>CYG</th>\n",
       "      <th>POTTOT</th>\n",
       "      <th>REMUNERACION_TOTAL</th>\n",
       "      <th>DPTO</th>\n",
       "      <th>CPAM</th>\n",
       "      <th>GRUPOS12</th>\n",
       "      <th>UBICA</th>\n",
       "      <th>IDRUT</th>\n",
       "      <th>CAMCOMER</th>\n",
       "      <th>REG_CONT</th>\n",
       "      <th>ANIOS_OPERACION</th>\n",
       "      <th>VA</th>\n",
       "      <th>C_V</th>\n",
       "    </tr>\n",
       "  </thead>\n",
       "  <tbody>\n",
       "  </tbody>\n",
       "</table>\n",
       "</div>"
      ],
      "text/plain": [
       "Empty DataFrame\n",
       "Columns: [UID_ENCUESTA, ING_TOTAL, CYG, POTTOT, REMUNERACION_TOTAL, DPTO, CPAM, GRUPOS12, UBICA, IDRUT, CAMCOMER, REG_CONT, ANIOS_OPERACION, VA, C_V]\n",
       "Index: []"
      ]
     },
     "execution_count": 167,
     "metadata": {},
     "output_type": "execute_result"
    }
   ],
   "source": [
    "df_final[df_final['UID_ENCUESTA']==399]"
   ]
  },
  {
   "cell_type": "code",
   "execution_count": 158,
   "metadata": {},
   "outputs": [
    {
     "data": {
      "text/plain": [
       "35    70\n",
       "Name: UID_ENCUESTA, dtype: int64"
      ]
     },
     "execution_count": 158,
     "metadata": {},
     "output_type": "execute_result"
    }
   ],
   "source": [
    "df_final['UID_ENCUESTA'][df_final['REMUNERACION_TOTAL']==99]"
   ]
  },
  {
   "cell_type": "code",
   "execution_count": 179,
   "metadata": {},
   "outputs": [
    {
     "data": {
      "text/plain": [
       "count    1130.000000\n",
       "mean        3.197345\n",
       "std        11.211273\n",
       "min         1.000000\n",
       "25%         1.000000\n",
       "50%         2.000000\n",
       "75%         3.000000\n",
       "max       322.000000\n",
       "Name: POTTOT, dtype: float64"
      ]
     },
     "execution_count": 179,
     "metadata": {},
     "output_type": "execute_result"
    }
   ],
   "source": [
    "df['POTTOT'].describe()"
   ]
  },
  {
   "cell_type": "code",
   "execution_count": 180,
   "metadata": {},
   "outputs": [
    {
     "data": {
      "text/plain": [
       "0        1.0\n",
       "1        NaN\n",
       "2        7.0\n",
       "3        4.0\n",
       "4        NaN\n",
       "        ... \n",
       "1974     1.0\n",
       "1975     2.0\n",
       "1976     4.0\n",
       "1977    17.0\n",
       "1978     NaN\n",
       "Name: POTTOT, Length: 1979, dtype: float64"
      ]
     },
     "execution_count": 180,
     "metadata": {},
     "output_type": "execute_result"
    }
   ],
   "source": [
    "df['POTTOT']"
   ]
  },
  {
   "cell_type": "code",
   "execution_count": 133,
   "metadata": {},
   "outputs": [
    {
     "data": {
      "text/plain": [
       "0       1.0\n",
       "1       1.0\n",
       "2       1.0\n",
       "3       1.0\n",
       "4       NaN\n",
       "       ... \n",
       "1974    1.0\n",
       "1975    1.0\n",
       "1976    0.0\n",
       "1977    1.0\n",
       "1978    1.0\n",
       "Name: IDRUT, Length: 1979, dtype: float64"
      ]
     },
     "execution_count": 133,
     "metadata": {},
     "output_type": "execute_result"
    }
   ],
   "source": [
    "df['IDRUT'].map({\"SÍ\":1,\n",
    "                 \"NO\":0})"
   ]
  },
  {
   "cell_type": "markdown",
   "metadata": {},
   "source": [
    "# Establecimientos: Simulación"
   ]
  },
  {
   "cell_type": "code",
   "execution_count": 409,
   "metadata": {},
   "outputs": [],
   "source": [
    "data_path = r\"D:\\DANE - Contrato\\2024\\Operativo Barrido\\Data\\Despliegue prueba\\Establecimientos/\"\n",
    "dicc_path = r\"D:\\DANE - Contrato\\2024\\Operativo Barrido\\Data/\""
   ]
  },
  {
   "cell_type": "markdown",
   "metadata": {},
   "source": [
    "## Lectura de archivos"
   ]
  },
  {
   "cell_type": "code",
   "execution_count": 410,
   "metadata": {},
   "outputs": [],
   "source": [
    "#### Lectura de archivos\n",
    "\n",
    "#df_id: Módulo de identificación  \n",
    "df_id = pd.read_excel(data_path+\"Crudo/2024/MOD1-UBICA.xlsx\",header = 0)\n",
    "#df_ib: Módulo identificación básica  \n",
    "df_ib = pd.read_excel(data_path+\"Crudo/2024/MOD2-ACTE.xlsx\",header = 0)\n",
    "#df_po: Módulo de personal ocupado\n",
    "df_po = pd.read_excel(data_path+\"Crudo/2024/MOD3-POC.xlsx\",header = 0)\n",
    "#df_cg: Módulo de costos y gastos\n",
    "df_cg = pd.read_excel(data_path+\"Crudo/2024/MOD4-CYG.xlsx\",header = 0)\n",
    "#df_ing: Módulo de ingresos\n",
    "df_ing = pd.read_excel(data_path+\"Crudo/2024/MOD5-ING.xlsx\",header = 0)\n",
    "# df_res: Resultados de la entrevista\n",
    "#df_res = pd.read_excel(data_path+\"CENSO 2022/CE_REGISTROS_COLA_STATUS.xlsx\",header = 0)"
   ]
  },
  {
   "cell_type": "code",
   "execution_count": 411,
   "metadata": {},
   "outputs": [
    {
     "name": "stdout",
     "output_type": "stream",
     "text": [
      "Dimensiones df identificación: (300, 11) \n",
      "\n",
      "Dimensiones df info básica: (300, 28) \n",
      "\n",
      "Dimensiones df personal ocupado: (300, 73) \n",
      "\n",
      "Dimensiones df costos y gastos: (300, 30) \n",
      "\n",
      "Dimensiones df ingresos: (300, 13) \n",
      "\n"
     ]
    }
   ],
   "source": [
    "#print(\"Dimensiones df resultados entrevista:\",df_res.shape, \"\\n\")\n",
    "print(\"Dimensiones df identificación:\",df_id.shape, \"\\n\")\n",
    "print(\"Dimensiones df info básica:\",df_ib.shape, \"\\n\")\n",
    "print(\"Dimensiones df personal ocupado:\",df_po.shape, \"\\n\")\n",
    "print(\"Dimensiones df costos y gastos:\",df_cg.shape, \"\\n\")\n",
    "print(\"Dimensiones df ingresos:\",df_ing.shape, \"\\n\")"
   ]
  },
  {
   "cell_type": "code",
   "execution_count": 412,
   "metadata": {},
   "outputs": [],
   "source": [
    "#df = pd.merge(df_res, df_id, on='UID_ENCUESTA', how='left')\n",
    "df = pd.merge(df_id, df_ib, on='UID_ENCUESTA', how='left')\n",
    "df = pd.merge(df, df_po, on='UID_ENCUESTA', how='left')\n",
    "df = pd.merge(df, df_cg, on='UID_ENCUESTA', how='left')\n",
    "df = pd.merge(df, df_ing, on='UID_ENCUESTA', how='left')"
   ]
  },
  {
   "cell_type": "code",
   "execution_count": 413,
   "metadata": {},
   "outputs": [],
   "source": [
    "#df.rename(columns={\"CLASE_x\": \"CLASE\"}, inplace=True)\n",
    "df['GTOTAL_ANOV'] = 1\n",
    "df['CIIUSELECCIONADO'] = 1889\n",
    "df.to_csv(data_path + \"Intermedio/CENU_SIMULADO.csv\")"
   ]
  },
  {
   "cell_type": "markdown",
   "metadata": {},
   "source": [
    "## Ajuste variables"
   ]
  },
  {
   "cell_type": "code",
   "execution_count": 414,
   "metadata": {},
   "outputs": [],
   "source": [
    "# Definición labels y diccionarios\n",
    "dic_depto = {5:\"Antioquia\",8:\"Atlántico\",11:\"Bogotá, D. C.\",13:\"Bolívar\",15:\"Boyacá\",17:\"Caldas\",18:\"Caquetá\",\n",
    "             19:\"Cauca\",20:\"Cesar\",23:\"Córdoba\",25:\"Cundinamarca\",27:\"Chocó\",41:\"Huila\",44:\"La Guajira\",47:\"Magdalena\",\n",
    "             50:\"Meta\",52:\"Nariño\",54:\"Norte De Santander\",63:\"Quindío\",66:\"Risaralda\",68:\"Santander\",70:\"Sucre\",73:\"Tolima\",\n",
    "             76:\"Valle Del Cauca\",88:\"San Andrés\"}\n",
    "\n",
    "dic_sector = {2:\"Industria\",3:\"Comercio\",4:\"Servicios\"}\n",
    "\n",
    "dic_rut = {1:\"Sí\",0:\"No\"}\n",
    "\n",
    "dic_g12 = {3:\"Industria\",\n",
    "           4:\"Construcción\",\n",
    "           5:\"Comercio\",\n",
    "           6:\"Transporte y almacenamiento\",\n",
    "           7:\"Alojamiento/servicios de comida\",\n",
    "           8:\"Información y comunicaciones\",\n",
    "           9:\"Actividades inmobiliarias\",\n",
    "           10:\"Educación\",\n",
    "           11:\"Actividades de salud humana\",\n",
    "           12:\"Actividades artísticas\",\n",
    "}\n",
    "\n",
    "rel_reg_con= pd.read_excel(dicc_path + \"Diccionario.xlsx\", sheet_name=\"REG_CONT\")\n",
    "rel_ubica= pd.read_excel(dicc_path + \"Diccionario.xlsx\", sheet_name=\"UBICA\")\n",
    "rel_g12 = pd.read_excel(R\"D:\\DANE - Contrato\\2024\\Operativo Barrido\\Data\\Diccionario.xlsx\", sheet_name=\"GRUPOS12\")"
   ]
  },
  {
   "cell_type": "markdown",
   "metadata": {},
   "source": [
    "### Costos y Gastos"
   ]
  },
  {
   "cell_type": "markdown",
   "metadata": {},
   "source": [
    "#### Gastos"
   ]
  },
  {
   "cell_type": "code",
   "execution_count": 415,
   "metadata": {},
   "outputs": [],
   "source": [
    "# De esta manera se suman los gastos de estableicmientos y viviendas en una sola variable\n",
    "df['GASTOS'] =  df[['GTOTAL_ANO','GTOTAL_ANOV']].sum(axis=1)\n",
    "# Dejar NA's en función de las variables originales"
   ]
  },
  {
   "cell_type": "code",
   "execution_count": 416,
   "metadata": {},
   "outputs": [],
   "source": [
    "df.loc[(df['GTOTAL_ANOV'].isna()) & (df['GTOTAL_ANO'].isna()), 'GASTOS'] = np.nan"
   ]
  },
  {
   "cell_type": "markdown",
   "metadata": {},
   "source": [
    "#### Construcción de la variables de costos y gastos agregados"
   ]
  },
  {
   "cell_type": "code",
   "execution_count": 417,
   "metadata": {},
   "outputs": [],
   "source": [
    "df['CYG'] = df[['COSTO_TOTAL','GASTOS']].sum(axis=1)"
   ]
  },
  {
   "cell_type": "code",
   "execution_count": 418,
   "metadata": {},
   "outputs": [
    {
     "data": {
      "text/html": [
       "<div>\n",
       "<style scoped>\n",
       "    .dataframe tbody tr th:only-of-type {\n",
       "        vertical-align: middle;\n",
       "    }\n",
       "\n",
       "    .dataframe tbody tr th {\n",
       "        vertical-align: top;\n",
       "    }\n",
       "\n",
       "    .dataframe thead th {\n",
       "        text-align: right;\n",
       "    }\n",
       "</style>\n",
       "<table border=\"1\" class=\"dataframe\">\n",
       "  <thead>\n",
       "    <tr style=\"text-align: right;\">\n",
       "      <th></th>\n",
       "      <th>COSTO_TOTAL</th>\n",
       "      <th>GASTOS</th>\n",
       "      <th>CYG</th>\n",
       "    </tr>\n",
       "  </thead>\n",
       "  <tbody>\n",
       "    <tr>\n",
       "      <th>0</th>\n",
       "      <td>1.368480e+08</td>\n",
       "      <td>3.186625e+07</td>\n",
       "      <td>1.687142e+08</td>\n",
       "    </tr>\n",
       "    <tr>\n",
       "      <th>1</th>\n",
       "      <td>1.024033e+08</td>\n",
       "      <td>5.430252e+07</td>\n",
       "      <td>1.567058e+08</td>\n",
       "    </tr>\n",
       "    <tr>\n",
       "      <th>2</th>\n",
       "      <td>1.094108e+08</td>\n",
       "      <td>4.101737e+07</td>\n",
       "      <td>1.504281e+08</td>\n",
       "    </tr>\n",
       "    <tr>\n",
       "      <th>3</th>\n",
       "      <td>8.942701e+07</td>\n",
       "      <td>2.500911e+07</td>\n",
       "      <td>1.144361e+08</td>\n",
       "    </tr>\n",
       "    <tr>\n",
       "      <th>4</th>\n",
       "      <td>1.007306e+08</td>\n",
       "      <td>3.334200e+07</td>\n",
       "      <td>1.340726e+08</td>\n",
       "    </tr>\n",
       "    <tr>\n",
       "      <th>...</th>\n",
       "      <td>...</td>\n",
       "      <td>...</td>\n",
       "      <td>...</td>\n",
       "    </tr>\n",
       "    <tr>\n",
       "      <th>295</th>\n",
       "      <td>1.748346e+08</td>\n",
       "      <td>3.346614e+07</td>\n",
       "      <td>2.083007e+08</td>\n",
       "    </tr>\n",
       "    <tr>\n",
       "      <th>296</th>\n",
       "      <td>1.251210e+08</td>\n",
       "      <td>2.579219e+07</td>\n",
       "      <td>1.509132e+08</td>\n",
       "    </tr>\n",
       "    <tr>\n",
       "      <th>297</th>\n",
       "      <td>1.073023e+08</td>\n",
       "      <td>2.554715e+07</td>\n",
       "      <td>1.328495e+08</td>\n",
       "    </tr>\n",
       "    <tr>\n",
       "      <th>298</th>\n",
       "      <td>5.307983e+07</td>\n",
       "      <td>5.292526e+07</td>\n",
       "      <td>1.060051e+08</td>\n",
       "    </tr>\n",
       "    <tr>\n",
       "      <th>299</th>\n",
       "      <td>2.249389e+08</td>\n",
       "      <td>3.733544e+07</td>\n",
       "      <td>2.622744e+08</td>\n",
       "    </tr>\n",
       "  </tbody>\n",
       "</table>\n",
       "<p>300 rows × 3 columns</p>\n",
       "</div>"
      ],
      "text/plain": [
       "      COSTO_TOTAL        GASTOS           CYG\n",
       "0    1.368480e+08  3.186625e+07  1.687142e+08\n",
       "1    1.024033e+08  5.430252e+07  1.567058e+08\n",
       "2    1.094108e+08  4.101737e+07  1.504281e+08\n",
       "3    8.942701e+07  2.500911e+07  1.144361e+08\n",
       "4    1.007306e+08  3.334200e+07  1.340726e+08\n",
       "..            ...           ...           ...\n",
       "295  1.748346e+08  3.346614e+07  2.083007e+08\n",
       "296  1.251210e+08  2.579219e+07  1.509132e+08\n",
       "297  1.073023e+08  2.554715e+07  1.328495e+08\n",
       "298  5.307983e+07  5.292526e+07  1.060051e+08\n",
       "299  2.249389e+08  3.733544e+07  2.622744e+08\n",
       "\n",
       "[300 rows x 3 columns]"
      ]
     },
     "execution_count": 418,
     "metadata": {},
     "output_type": "execute_result"
    }
   ],
   "source": [
    "df[['COSTO_TOTAL','GASTOS','CYG']]"
   ]
  },
  {
   "cell_type": "code",
   "execution_count": 419,
   "metadata": {},
   "outputs": [],
   "source": [
    "df.loc[(df['GASTOS'].isna()) & (df['COSTO_TOTAL'].isna()), 'CYG'] = np.nan"
   ]
  },
  {
   "cell_type": "markdown",
   "metadata": {},
   "source": [
    "### Remuneración Total"
   ]
  },
  {
   "cell_type": "code",
   "execution_count": 420,
   "metadata": {},
   "outputs": [],
   "source": [
    "df['REMUNERACION_TOTAL'] = (df[['SALFIJOH','SALFIJOM','SALPERMH','SALPERMM','SALTEMPH','SALTEMPM']].replace(99,np.nan).sum(axis=1))*df['MESOPA']"
   ]
  },
  {
   "cell_type": "markdown",
   "metadata": {},
   "source": [
    "### Ciudad Principal o Área Metropolitana  \n",
    "Ciudades Principales y áreas metropolitanas:  \n",
    "- 11001: Bogotá  \n",
    "- 5001: Medellín  \n",
    "    - Valle de Aburra:  \n",
    "    - 5079: Barbosa  \n",
    "    - 5088: Bello  \n",
    "    - 5129: Caldas  \n",
    "    - 5212: Copacabana  \n",
    "    - 5266: Envigado  \n",
    "    - 5308: Girardota  \n",
    "    - 5360: Itagui  \n",
    "    - 5380: La Estrella  \n",
    "    - 5631: Sabaneta  \n",
    "- 76001: Cali  \n",
    "    - 76892: Yumbo\n",
    "- 8001: Barranquilla\n",
    "    - 8758: Soledad\n",
    "- 68001: Bucaramanga\n",
    "    - 68276: Floridablanca\n",
    "    - 68307: Girón\n",
    "    - 68547: Piedecuesta\n",
    "- 17001: Manizales\n",
    "    - 17873: Villamaría\n",
    "- 52001: Pasto\n",
    "- 66001: Pereira\n",
    "    - 66170: Dosquebradas\n",
    "    - 66400: La Virginia\n",
    "- 73001: Ibagué\n",
    "- 54001: Cúcuta\n",
    "    - 54874: Villa del Rosario\n",
    "    - 54405: Los Patios\n",
    "    - 54261: El Zulia\n",
    "- 50001: Villavicencio\n",
    "- 23001: Montería\n",
    "- 13001: Cartagena\n",
    "- 15001: Tunja\n",
    "- 18001: Florencia\n",
    "- 19001: Popayán\n",
    "- 20001: Valledupar\n",
    "- 27001: Quibdó\n",
    "- 41001: Neiva\n",
    "- 44001: Riohacha\n",
    "- 47001: Santa Marta\n",
    "- 63001: Armenia\n",
    "- 70001: Sincelejo\n",
    "- 88001: San Andrés    "
   ]
  },
  {
   "cell_type": "code",
   "execution_count": 421,
   "metadata": {},
   "outputs": [],
   "source": [
    "cpam = [11001,5001,5079,5088,5129,5212,5266,5308,5360,5380,5631,76001,76892,8001,8758,68001,68276,68307,68547,17001,17873,52001,66001,66170,66400,73001,54001,54874,54405,54261,50001,23001,13001,15001,18001,19001,20001,27001,41001,44001,47001,63001,70001,88001]"
   ]
  },
  {
   "cell_type": "code",
   "execution_count": 422,
   "metadata": {},
   "outputs": [],
   "source": [
    "df['MPIO'] = pd.to_numeric(df['MPIO'], errors= 'coerce')\n",
    "df['CPAM'] = (df['MPIO'].isin(cpam) & df['CLASE']==1).apply(lambda x: int(x))"
   ]
  },
  {
   "cell_type": "markdown",
   "metadata": {},
   "source": [
    "### Actividad Económica"
   ]
  },
  {
   "cell_type": "code",
   "execution_count": 423,
   "metadata": {},
   "outputs": [],
   "source": [
    "def extract_first_two_digits(x):\n",
    "    '''\n",
    "    Definición de una función para extraer los primeros dos dígitos del CIIU para obtener la división\n",
    "    x: Columna a la que se le aplicará la columna \n",
    "    '''\n",
    "    try:\n",
    "        # Convert x to string, split at decimal point if present, and extract first two characters\n",
    "        first_two_digits_str = str(x).split('.')[0][:2]\n",
    "        # Convert the extracted string to an integer\n",
    "        first_two_digits_int = int(first_two_digits_str)\n",
    "        return first_two_digits_int\n",
    "    except (ValueError, TypeError):\n",
    "        # Return NaN (or any other value you prefer) if conversion fails\n",
    "        return np.nan\n",
    "\n",
    "# Aplicar  the function to the 'CIIU_3' column\n",
    "df['Division'] = df['CIIUSELECCIONADO'].apply(extract_first_two_digits)\n"
   ]
  },
  {
   "cell_type": "code",
   "execution_count": 424,
   "metadata": {},
   "outputs": [
    {
     "data": {
      "text/plain": [
       "(300, 158)"
      ]
     },
     "execution_count": 424,
     "metadata": {},
     "output_type": "execute_result"
    }
   ],
   "source": [
    "df.shape"
   ]
  },
  {
   "cell_type": "code",
   "execution_count": 425,
   "metadata": {},
   "outputs": [],
   "source": [
    "df = pd.merge(df,rel_g12,on='Division',how=\"left\")"
   ]
  },
  {
   "cell_type": "code",
   "execution_count": 426,
   "metadata": {},
   "outputs": [
    {
     "data": {
      "text/html": [
       "<div>\n",
       "<style scoped>\n",
       "    .dataframe tbody tr th:only-of-type {\n",
       "        vertical-align: middle;\n",
       "    }\n",
       "\n",
       "    .dataframe tbody tr th {\n",
       "        vertical-align: top;\n",
       "    }\n",
       "\n",
       "    .dataframe thead th {\n",
       "        text-align: right;\n",
       "    }\n",
       "</style>\n",
       "<table border=\"1\" class=\"dataframe\">\n",
       "  <thead>\n",
       "    <tr style=\"text-align: right;\">\n",
       "      <th></th>\n",
       "      <th>GRUPOS12</th>\n",
       "      <th>Division</th>\n",
       "      <th>CIIUSELECCIONADO</th>\n",
       "    </tr>\n",
       "  </thead>\n",
       "  <tbody>\n",
       "    <tr>\n",
       "      <th>0</th>\n",
       "      <td>3</td>\n",
       "      <td>18</td>\n",
       "      <td>1889</td>\n",
       "    </tr>\n",
       "    <tr>\n",
       "      <th>1</th>\n",
       "      <td>3</td>\n",
       "      <td>18</td>\n",
       "      <td>1889</td>\n",
       "    </tr>\n",
       "    <tr>\n",
       "      <th>2</th>\n",
       "      <td>3</td>\n",
       "      <td>18</td>\n",
       "      <td>1889</td>\n",
       "    </tr>\n",
       "    <tr>\n",
       "      <th>3</th>\n",
       "      <td>3</td>\n",
       "      <td>18</td>\n",
       "      <td>1889</td>\n",
       "    </tr>\n",
       "    <tr>\n",
       "      <th>4</th>\n",
       "      <td>3</td>\n",
       "      <td>18</td>\n",
       "      <td>1889</td>\n",
       "    </tr>\n",
       "    <tr>\n",
       "      <th>...</th>\n",
       "      <td>...</td>\n",
       "      <td>...</td>\n",
       "      <td>...</td>\n",
       "    </tr>\n",
       "    <tr>\n",
       "      <th>295</th>\n",
       "      <td>3</td>\n",
       "      <td>18</td>\n",
       "      <td>1889</td>\n",
       "    </tr>\n",
       "    <tr>\n",
       "      <th>296</th>\n",
       "      <td>3</td>\n",
       "      <td>18</td>\n",
       "      <td>1889</td>\n",
       "    </tr>\n",
       "    <tr>\n",
       "      <th>297</th>\n",
       "      <td>3</td>\n",
       "      <td>18</td>\n",
       "      <td>1889</td>\n",
       "    </tr>\n",
       "    <tr>\n",
       "      <th>298</th>\n",
       "      <td>3</td>\n",
       "      <td>18</td>\n",
       "      <td>1889</td>\n",
       "    </tr>\n",
       "    <tr>\n",
       "      <th>299</th>\n",
       "      <td>3</td>\n",
       "      <td>18</td>\n",
       "      <td>1889</td>\n",
       "    </tr>\n",
       "  </tbody>\n",
       "</table>\n",
       "<p>300 rows × 3 columns</p>\n",
       "</div>"
      ],
      "text/plain": [
       "     GRUPOS12  Division  CIIUSELECCIONADO\n",
       "0           3        18              1889\n",
       "1           3        18              1889\n",
       "2           3        18              1889\n",
       "3           3        18              1889\n",
       "4           3        18              1889\n",
       "..        ...       ...               ...\n",
       "295         3        18              1889\n",
       "296         3        18              1889\n",
       "297         3        18              1889\n",
       "298         3        18              1889\n",
       "299         3        18              1889\n",
       "\n",
       "[300 rows x 3 columns]"
      ]
     },
     "execution_count": 426,
     "metadata": {},
     "output_type": "execute_result"
    }
   ],
   "source": [
    "df[['GRUPOS12','Division','CIIUSELECCIONADO']]"
   ]
  },
  {
   "cell_type": "markdown",
   "metadata": {},
   "source": [
    "### RUT"
   ]
  },
  {
   "cell_type": "code",
   "execution_count": 427,
   "metadata": {},
   "outputs": [
    {
     "data": {
      "text/plain": [
       "0      2\n",
       "1      2\n",
       "2      1\n",
       "3      2\n",
       "4      2\n",
       "      ..\n",
       "295    2\n",
       "296    1\n",
       "297    1\n",
       "298    2\n",
       "299    2\n",
       "Name: IDRUT, Length: 300, dtype: int64"
      ]
     },
     "execution_count": 427,
     "metadata": {},
     "output_type": "execute_result"
    }
   ],
   "source": [
    "df['IDRUT']"
   ]
  },
  {
   "cell_type": "markdown",
   "metadata": {},
   "source": [
    "### Registros Contables"
   ]
  },
  {
   "cell_type": "code",
   "execution_count": 428,
   "metadata": {},
   "outputs": [
    {
     "data": {
      "text/plain": [
       "1. Estado de Situación Financiera o Estado de Resultados Integrales (PyG)    100\n",
       "2. Libro de registro de operaciones                                           71\n",
       "3. Otro tipo de cuentas                                                       67\n",
       "4. No lleva registros                                                         62\n",
       "Name: REG_CONT, dtype: int64"
      ]
     },
     "execution_count": 428,
     "metadata": {},
     "output_type": "execute_result"
    }
   ],
   "source": [
    "df['REG_CONT'].value_counts()"
   ]
  },
  {
   "cell_type": "code",
   "execution_count": 429,
   "metadata": {},
   "outputs": [],
   "source": [
    "df['REG_CONT'] = df['REG_CONT'].map(dict(zip(rel_reg_con['REG_CONT'], rel_reg_con['Codigo'])))"
   ]
  },
  {
   "cell_type": "code",
   "execution_count": 430,
   "metadata": {},
   "outputs": [
    {
     "data": {
      "text/plain": [
       "1    100\n",
       "2     71\n",
       "3     67\n",
       "4     62\n",
       "Name: REG_CONT, dtype: int64"
      ]
     },
     "execution_count": 430,
     "metadata": {},
     "output_type": "execute_result"
    }
   ],
   "source": [
    "df['REG_CONT'].value_counts()"
   ]
  },
  {
   "cell_type": "markdown",
   "metadata": {},
   "source": [
    "### Antigüedad"
   ]
  },
  {
   "cell_type": "code",
   "execution_count": 431,
   "metadata": {},
   "outputs": [],
   "source": [
    "df['ANIOS_OPERACION'] = 2024 - df['IDAIO']"
   ]
  },
  {
   "cell_type": "markdown",
   "metadata": {},
   "source": [
    "### Ubicación"
   ]
  },
  {
   "cell_type": "code",
   "execution_count": 432,
   "metadata": {},
   "outputs": [],
   "source": [
    "df['UBICA'] = df['UBICA'].map(dict(zip(rel_ubica['UBICA'], rel_ubica['Codigo'])))"
   ]
  },
  {
   "cell_type": "code",
   "execution_count": 433,
   "metadata": {},
   "outputs": [
    {
     "data": {
      "text/plain": [
       "3    78\n",
       "4    75\n",
       "1    74\n",
       "2    73\n",
       "Name: UBICA, dtype: int64"
      ]
     },
     "execution_count": 433,
     "metadata": {},
     "output_type": "execute_result"
    }
   ],
   "source": [
    "df['UBICA'].value_counts()"
   ]
  },
  {
   "cell_type": "markdown",
   "metadata": {},
   "source": [
    "## Creación Variables"
   ]
  },
  {
   "cell_type": "code",
   "execution_count": 434,
   "metadata": {},
   "outputs": [],
   "source": [
    "df['VA'] = df['ING_TOTAL'] - df['CYG']\n",
    "df['C_V'] = df['CYG'] / (df['ING_TOTAL'] + 1)"
   ]
  },
  {
   "cell_type": "markdown",
   "metadata": {},
   "source": [
    "## Selección Variables"
   ]
  },
  {
   "cell_type": "code",
   "execution_count": 435,
   "metadata": {},
   "outputs": [],
   "source": [
    "var_estab = ['UID_ENCUESTA','ING_TOTAL','CYG','POTTOT','REMUNERACION_TOTAL','DPTO','CPAM','GRUPOS12','UBICA','IDRUT','CAMCOMER','REG_CONT','ANIOS_OPERACION','VA','C_V'] \n",
    "\n",
    "var_mov = ['id','VENTAS_MES_ANTERIOR','POTTOT','REMUNERACION_TOTAL','CYG','COD_DEPTO','CPAM','GRUPOS4','ANOS_ESPACIO','HOMBRE']"
   ]
  },
  {
   "cell_type": "code",
   "execution_count": 436,
   "metadata": {},
   "outputs": [
    {
     "data": {
      "text/plain": [
       "3    78\n",
       "4    75\n",
       "1    74\n",
       "2    73\n",
       "Name: UBICA, dtype: int64"
      ]
     },
     "execution_count": 436,
     "metadata": {},
     "output_type": "execute_result"
    }
   ],
   "source": [
    "df['UBICA'].value_counts()"
   ]
  },
  {
   "cell_type": "code",
   "execution_count": 437,
   "metadata": {},
   "outputs": [],
   "source": [
    "df_final = df[var_estab]"
   ]
  },
  {
   "cell_type": "code",
   "execution_count": 438,
   "metadata": {},
   "outputs": [
    {
     "data": {
      "text/html": [
       "<div>\n",
       "<style scoped>\n",
       "    .dataframe tbody tr th:only-of-type {\n",
       "        vertical-align: middle;\n",
       "    }\n",
       "\n",
       "    .dataframe tbody tr th {\n",
       "        vertical-align: top;\n",
       "    }\n",
       "\n",
       "    .dataframe thead th {\n",
       "        text-align: right;\n",
       "    }\n",
       "</style>\n",
       "<table border=\"1\" class=\"dataframe\">\n",
       "  <thead>\n",
       "    <tr style=\"text-align: right;\">\n",
       "      <th></th>\n",
       "      <th>UID_ENCUESTA</th>\n",
       "      <th>ING_TOTAL</th>\n",
       "      <th>CYG</th>\n",
       "      <th>POTTOT</th>\n",
       "      <th>REMUNERACION_TOTAL</th>\n",
       "      <th>DPTO</th>\n",
       "      <th>CPAM</th>\n",
       "      <th>GRUPOS12</th>\n",
       "      <th>UBICA</th>\n",
       "      <th>IDRUT</th>\n",
       "      <th>CAMCOMER</th>\n",
       "      <th>REG_CONT</th>\n",
       "      <th>ANIOS_OPERACION</th>\n",
       "      <th>VA</th>\n",
       "      <th>C_V</th>\n",
       "    </tr>\n",
       "  </thead>\n",
       "  <tbody>\n",
       "    <tr>\n",
       "      <th>0</th>\n",
       "      <td>1</td>\n",
       "      <td>3.936199e+08</td>\n",
       "      <td>1.687142e+08</td>\n",
       "      <td>146</td>\n",
       "      <td>1.726303e+07</td>\n",
       "      <td>95</td>\n",
       "      <td>0</td>\n",
       "      <td>3</td>\n",
       "      <td>4</td>\n",
       "      <td>2</td>\n",
       "      <td></td>\n",
       "      <td>2</td>\n",
       "      <td>1</td>\n",
       "      <td>2.249057e+08</td>\n",
       "      <td>0.428622</td>\n",
       "    </tr>\n",
       "    <tr>\n",
       "      <th>1</th>\n",
       "      <td>2</td>\n",
       "      <td>2.377089e+08</td>\n",
       "      <td>1.567058e+08</td>\n",
       "      <td>138</td>\n",
       "      <td>NaN</td>\n",
       "      <td>44</td>\n",
       "      <td>0</td>\n",
       "      <td>3</td>\n",
       "      <td>2</td>\n",
       "      <td>2</td>\n",
       "      <td>Cámara de Comercio</td>\n",
       "      <td>2</td>\n",
       "      <td>38</td>\n",
       "      <td>8.100306e+07</td>\n",
       "      <td>0.659234</td>\n",
       "    </tr>\n",
       "    <tr>\n",
       "      <th>2</th>\n",
       "      <td>3</td>\n",
       "      <td>7.148410e+08</td>\n",
       "      <td>1.504281e+08</td>\n",
       "      <td>157</td>\n",
       "      <td>NaN</td>\n",
       "      <td>44</td>\n",
       "      <td>0</td>\n",
       "      <td>3</td>\n",
       "      <td>2</td>\n",
       "      <td>1</td>\n",
       "      <td></td>\n",
       "      <td>1</td>\n",
       "      <td>46</td>\n",
       "      <td>5.644129e+08</td>\n",
       "      <td>0.210436</td>\n",
       "    </tr>\n",
       "    <tr>\n",
       "      <th>3</th>\n",
       "      <td>4</td>\n",
       "      <td>4.067645e+08</td>\n",
       "      <td>1.144361e+08</td>\n",
       "      <td>136</td>\n",
       "      <td>NaN</td>\n",
       "      <td>81</td>\n",
       "      <td>0</td>\n",
       "      <td>3</td>\n",
       "      <td>2</td>\n",
       "      <td>2</td>\n",
       "      <td>NaN</td>\n",
       "      <td>2</td>\n",
       "      <td>5</td>\n",
       "      <td>2.923284e+08</td>\n",
       "      <td>0.281333</td>\n",
       "    </tr>\n",
       "    <tr>\n",
       "      <th>4</th>\n",
       "      <td>5</td>\n",
       "      <td>3.772557e+08</td>\n",
       "      <td>1.340726e+08</td>\n",
       "      <td>109</td>\n",
       "      <td>NaN</td>\n",
       "      <td>86</td>\n",
       "      <td>0</td>\n",
       "      <td>3</td>\n",
       "      <td>4</td>\n",
       "      <td>2</td>\n",
       "      <td>Cámara de Comercio</td>\n",
       "      <td>1</td>\n",
       "      <td>8</td>\n",
       "      <td>2.431831e+08</td>\n",
       "      <td>0.355389</td>\n",
       "    </tr>\n",
       "  </tbody>\n",
       "</table>\n",
       "</div>"
      ],
      "text/plain": [
       "   UID_ENCUESTA     ING_TOTAL           CYG  POTTOT  REMUNERACION_TOTAL  DPTO  \\\n",
       "0             1  3.936199e+08  1.687142e+08     146        1.726303e+07    95   \n",
       "1             2  2.377089e+08  1.567058e+08     138                 NaN    44   \n",
       "2             3  7.148410e+08  1.504281e+08     157                 NaN    44   \n",
       "3             4  4.067645e+08  1.144361e+08     136                 NaN    81   \n",
       "4             5  3.772557e+08  1.340726e+08     109                 NaN    86   \n",
       "\n",
       "   CPAM  GRUPOS12  UBICA  IDRUT            CAMCOMER  REG_CONT  \\\n",
       "0     0         3      4      2                             2   \n",
       "1     0         3      2      2  Cámara de Comercio         2   \n",
       "2     0         3      2      1                             1   \n",
       "3     0         3      2      2                 NaN         2   \n",
       "4     0         3      4      2  Cámara de Comercio         1   \n",
       "\n",
       "   ANIOS_OPERACION            VA       C_V  \n",
       "0                1  2.249057e+08  0.428622  \n",
       "1               38  8.100306e+07  0.659234  \n",
       "2               46  5.644129e+08  0.210436  \n",
       "3                5  2.923284e+08  0.281333  \n",
       "4                8  2.431831e+08  0.355389  "
      ]
     },
     "execution_count": 438,
     "metadata": {},
     "output_type": "execute_result"
    }
   ],
   "source": [
    "df_final.head()"
   ]
  },
  {
   "cell_type": "code",
   "execution_count": 439,
   "metadata": {},
   "outputs": [
    {
     "data": {
      "text/plain": [
       "3    78\n",
       "4    75\n",
       "1    74\n",
       "2    73\n",
       "Name: UBICA, dtype: int64"
      ]
     },
     "execution_count": 439,
     "metadata": {},
     "output_type": "execute_result"
    }
   ],
   "source": [
    "df['UBICA'].value_counts()"
   ]
  },
  {
   "cell_type": "code",
   "execution_count": 440,
   "metadata": {},
   "outputs": [
    {
     "data": {
      "text/plain": [
       "3    78\n",
       "4    75\n",
       "1    74\n",
       "2    73\n",
       "Name: UBICA, dtype: int64"
      ]
     },
     "execution_count": 440,
     "metadata": {},
     "output_type": "execute_result"
    }
   ],
   "source": [
    "df['UBICA'].value_counts()"
   ]
  },
  {
   "cell_type": "markdown",
   "metadata": {},
   "source": [
    "## Filtrado de unidades"
   ]
  },
  {
   "cell_type": "code",
   "execution_count": 441,
   "metadata": {},
   "outputs": [],
   "source": [
    "# Seleccionar unidades económicas ubicadas en vivienda o establecimiento fijo (1 y 3)\n",
    "df_final = df_final[df_final['UBICA'].isin([1,3])]"
   ]
  },
  {
   "cell_type": "code",
   "execution_count": 442,
   "metadata": {},
   "outputs": [],
   "source": [
    "# Departamentos con los que se entrenó el modelo\n",
    "depto_emicron = [8, 13, 44, 47, 70, 20, 25, 11, 18, 41, 15, 68, 54, 76, 52, 19, 17, 63, 73, 66,  5, 23, 27, 50, 88]\n",
    "df_final = df_final[df_final['DPTO'].isin(depto_emicron)]"
   ]
  },
  {
   "cell_type": "code",
   "execution_count": 443,
   "metadata": {},
   "outputs": [
    {
     "data": {
      "text/plain": [
       "UID_ENCUESTA            0\n",
       "ING_TOTAL               0\n",
       "CYG                     0\n",
       "POTTOT                  0\n",
       "REMUNERACION_TOTAL    105\n",
       "DPTO                    0\n",
       "CPAM                    0\n",
       "GRUPOS12                0\n",
       "UBICA                   0\n",
       "IDRUT                   0\n",
       "CAMCOMER               45\n",
       "REG_CONT                0\n",
       "ANIOS_OPERACION         0\n",
       "VA                      0\n",
       "C_V                     0\n",
       "dtype: int64"
      ]
     },
     "execution_count": 443,
     "metadata": {},
     "output_type": "execute_result"
    }
   ],
   "source": [
    "# Descripción variables nulas\n",
    "df_final.isna().sum()"
   ]
  },
  {
   "cell_type": "code",
   "execution_count": 444,
   "metadata": {},
   "outputs": [
    {
     "data": {
      "text/plain": [
       "UID_ENCUESTA          0\n",
       "ING_TOTAL             0\n",
       "CYG                   0\n",
       "POTTOT                1\n",
       "REMUNERACION_TOTAL    0\n",
       "DPTO                  0\n",
       "CPAM                  0\n",
       "GRUPOS12              0\n",
       "UBICA                 0\n",
       "IDRUT                 0\n",
       "CAMCOMER              0\n",
       "REG_CONT              0\n",
       "ANIOS_OPERACION       0\n",
       "VA                    0\n",
       "C_V                   0\n",
       "dtype: int64"
      ]
     },
     "execution_count": 444,
     "metadata": {},
     "output_type": "execute_result"
    }
   ],
   "source": [
    "# Descripción variables no responde\n",
    "(df_final==99).sum()"
   ]
  },
  {
   "cell_type": "code",
   "execution_count": 445,
   "metadata": {},
   "outputs": [],
   "source": [
    "id_ig = df_final['UID_ENCUESTA'][((df_final.isna()) | (df_final==99)).any(axis=1)]\n",
    "# df_final = df_final[~(df_final['UID_ENCUESTA'].isin(id_ig))]"
   ]
  },
  {
   "cell_type": "code",
   "execution_count": 446,
   "metadata": {},
   "outputs": [
    {
     "data": {
      "text/plain": [
       "6        7\n",
       "7        8\n",
       "8        9\n",
       "10      11\n",
       "11      12\n",
       "      ... \n",
       "288    289\n",
       "291    292\n",
       "292    293\n",
       "293    294\n",
       "299    300\n",
       "Name: UID_ENCUESTA, Length: 107, dtype: int64"
      ]
     },
     "execution_count": 446,
     "metadata": {},
     "output_type": "execute_result"
    }
   ],
   "source": [
    "df_final['UID_ENCUESTA']"
   ]
  },
  {
   "cell_type": "code",
   "execution_count": 447,
   "metadata": {},
   "outputs": [
    {
     "data": {
      "text/plain": [
       "106"
      ]
     },
     "execution_count": 447,
     "metadata": {},
     "output_type": "execute_result"
    }
   ],
   "source": [
    "len(id_ig)"
   ]
  },
  {
   "cell_type": "code",
   "execution_count": 448,
   "metadata": {},
   "outputs": [
    {
     "data": {
      "text/html": [
       "<div>\n",
       "<style scoped>\n",
       "    .dataframe tbody tr th:only-of-type {\n",
       "        vertical-align: middle;\n",
       "    }\n",
       "\n",
       "    .dataframe tbody tr th {\n",
       "        vertical-align: top;\n",
       "    }\n",
       "\n",
       "    .dataframe thead th {\n",
       "        text-align: right;\n",
       "    }\n",
       "</style>\n",
       "<table border=\"1\" class=\"dataframe\">\n",
       "  <thead>\n",
       "    <tr style=\"text-align: right;\">\n",
       "      <th></th>\n",
       "      <th>UID_ENCUESTA</th>\n",
       "      <th>ING_TOTAL</th>\n",
       "      <th>CYG</th>\n",
       "      <th>POTTOT</th>\n",
       "      <th>REMUNERACION_TOTAL</th>\n",
       "      <th>DPTO</th>\n",
       "      <th>CPAM</th>\n",
       "      <th>GRUPOS12</th>\n",
       "      <th>UBICA</th>\n",
       "      <th>IDRUT</th>\n",
       "      <th>CAMCOMER</th>\n",
       "      <th>REG_CONT</th>\n",
       "      <th>ANIOS_OPERACION</th>\n",
       "      <th>VA</th>\n",
       "      <th>C_V</th>\n",
       "    </tr>\n",
       "  </thead>\n",
       "  <tbody>\n",
       "    <tr>\n",
       "      <th>6</th>\n",
       "      <td>7</td>\n",
       "      <td>4.576379e+08</td>\n",
       "      <td>1.608479e+08</td>\n",
       "      <td>145</td>\n",
       "      <td>NaN</td>\n",
       "      <td>88</td>\n",
       "      <td>1</td>\n",
       "      <td>3</td>\n",
       "      <td>1</td>\n",
       "      <td>1</td>\n",
       "      <td>NaN</td>\n",
       "      <td>2</td>\n",
       "      <td>43</td>\n",
       "      <td>2.967899e+08</td>\n",
       "      <td>0.351474</td>\n",
       "    </tr>\n",
       "    <tr>\n",
       "      <th>7</th>\n",
       "      <td>8</td>\n",
       "      <td>2.889470e+08</td>\n",
       "      <td>8.189908e+07</td>\n",
       "      <td>145</td>\n",
       "      <td>NaN</td>\n",
       "      <td>20</td>\n",
       "      <td>0</td>\n",
       "      <td>3</td>\n",
       "      <td>1</td>\n",
       "      <td>2</td>\n",
       "      <td>Cámara de Comercio</td>\n",
       "      <td>2</td>\n",
       "      <td>17</td>\n",
       "      <td>2.070480e+08</td>\n",
       "      <td>0.283440</td>\n",
       "    </tr>\n",
       "    <tr>\n",
       "      <th>8</th>\n",
       "      <td>9</td>\n",
       "      <td>3.867773e+08</td>\n",
       "      <td>1.630674e+08</td>\n",
       "      <td>153</td>\n",
       "      <td>NaN</td>\n",
       "      <td>18</td>\n",
       "      <td>0</td>\n",
       "      <td>3</td>\n",
       "      <td>3</td>\n",
       "      <td>2</td>\n",
       "      <td></td>\n",
       "      <td>3</td>\n",
       "      <td>5</td>\n",
       "      <td>2.237099e+08</td>\n",
       "      <td>0.421605</td>\n",
       "    </tr>\n",
       "    <tr>\n",
       "      <th>10</th>\n",
       "      <td>11</td>\n",
       "      <td>4.639375e+08</td>\n",
       "      <td>3.474247e+08</td>\n",
       "      <td>179</td>\n",
       "      <td>NaN</td>\n",
       "      <td>20</td>\n",
       "      <td>0</td>\n",
       "      <td>3</td>\n",
       "      <td>1</td>\n",
       "      <td>2</td>\n",
       "      <td>NaN</td>\n",
       "      <td>4</td>\n",
       "      <td>60</td>\n",
       "      <td>1.165128e+08</td>\n",
       "      <td>0.748861</td>\n",
       "    </tr>\n",
       "    <tr>\n",
       "      <th>11</th>\n",
       "      <td>12</td>\n",
       "      <td>4.967122e+08</td>\n",
       "      <td>1.548614e+08</td>\n",
       "      <td>142</td>\n",
       "      <td>NaN</td>\n",
       "      <td>44</td>\n",
       "      <td>0</td>\n",
       "      <td>3</td>\n",
       "      <td>1</td>\n",
       "      <td>1</td>\n",
       "      <td>NaN</td>\n",
       "      <td>1</td>\n",
       "      <td>29</td>\n",
       "      <td>3.418508e+08</td>\n",
       "      <td>0.311773</td>\n",
       "    </tr>\n",
       "    <tr>\n",
       "      <th>12</th>\n",
       "      <td>13</td>\n",
       "      <td>3.549875e+08</td>\n",
       "      <td>1.276670e+08</td>\n",
       "      <td>138</td>\n",
       "      <td>NaN</td>\n",
       "      <td>27</td>\n",
       "      <td>0</td>\n",
       "      <td>3</td>\n",
       "      <td>1</td>\n",
       "      <td>2</td>\n",
       "      <td></td>\n",
       "      <td>4</td>\n",
       "      <td>21</td>\n",
       "      <td>2.273205e+08</td>\n",
       "      <td>0.359638</td>\n",
       "    </tr>\n",
       "    <tr>\n",
       "      <th>14</th>\n",
       "      <td>15</td>\n",
       "      <td>3.811541e+08</td>\n",
       "      <td>1.678021e+08</td>\n",
       "      <td>120</td>\n",
       "      <td>NaN</td>\n",
       "      <td>17</td>\n",
       "      <td>0</td>\n",
       "      <td>3</td>\n",
       "      <td>1</td>\n",
       "      <td>1</td>\n",
       "      <td>NaN</td>\n",
       "      <td>1</td>\n",
       "      <td>31</td>\n",
       "      <td>2.133520e+08</td>\n",
       "      <td>0.440247</td>\n",
       "    </tr>\n",
       "    <tr>\n",
       "      <th>17</th>\n",
       "      <td>18</td>\n",
       "      <td>2.742435e+08</td>\n",
       "      <td>1.357881e+08</td>\n",
       "      <td>137</td>\n",
       "      <td>NaN</td>\n",
       "      <td>17</td>\n",
       "      <td>0</td>\n",
       "      <td>3</td>\n",
       "      <td>1</td>\n",
       "      <td>2</td>\n",
       "      <td>NaN</td>\n",
       "      <td>3</td>\n",
       "      <td>4</td>\n",
       "      <td>1.384553e+08</td>\n",
       "      <td>0.495137</td>\n",
       "    </tr>\n",
       "    <tr>\n",
       "      <th>21</th>\n",
       "      <td>22</td>\n",
       "      <td>1.813283e+08</td>\n",
       "      <td>3.247078e+08</td>\n",
       "      <td>89</td>\n",
       "      <td>NaN</td>\n",
       "      <td>18</td>\n",
       "      <td>0</td>\n",
       "      <td>3</td>\n",
       "      <td>1</td>\n",
       "      <td>2</td>\n",
       "      <td>NaN</td>\n",
       "      <td>1</td>\n",
       "      <td>21</td>\n",
       "      <td>-1.433795e+08</td>\n",
       "      <td>1.790718</td>\n",
       "    </tr>\n",
       "    <tr>\n",
       "      <th>22</th>\n",
       "      <td>23</td>\n",
       "      <td>1.067330e+08</td>\n",
       "      <td>2.608031e+08</td>\n",
       "      <td>117</td>\n",
       "      <td>NaN</td>\n",
       "      <td>41</td>\n",
       "      <td>0</td>\n",
       "      <td>3</td>\n",
       "      <td>3</td>\n",
       "      <td>1</td>\n",
       "      <td>NaN</td>\n",
       "      <td>2</td>\n",
       "      <td>7</td>\n",
       "      <td>-1.540700e+08</td>\n",
       "      <td>2.443508</td>\n",
       "    </tr>\n",
       "    <tr>\n",
       "      <th>25</th>\n",
       "      <td>26</td>\n",
       "      <td>2.030879e+08</td>\n",
       "      <td>2.960546e+08</td>\n",
       "      <td>102</td>\n",
       "      <td>5.673341e+07</td>\n",
       "      <td>68</td>\n",
       "      <td>0</td>\n",
       "      <td>3</td>\n",
       "      <td>1</td>\n",
       "      <td>1</td>\n",
       "      <td>Cámara de Comercio</td>\n",
       "      <td>3</td>\n",
       "      <td>1</td>\n",
       "      <td>-9.296670e+07</td>\n",
       "      <td>1.457766</td>\n",
       "    </tr>\n",
       "    <tr>\n",
       "      <th>29</th>\n",
       "      <td>30</td>\n",
       "      <td>1.732487e+08</td>\n",
       "      <td>1.338671e+08</td>\n",
       "      <td>127</td>\n",
       "      <td>NaN</td>\n",
       "      <td>70</td>\n",
       "      <td>0</td>\n",
       "      <td>3</td>\n",
       "      <td>1</td>\n",
       "      <td>2</td>\n",
       "      <td></td>\n",
       "      <td>2</td>\n",
       "      <td>9</td>\n",
       "      <td>3.938162e+07</td>\n",
       "      <td>0.772687</td>\n",
       "    </tr>\n",
       "    <tr>\n",
       "      <th>35</th>\n",
       "      <td>36</td>\n",
       "      <td>4.740300e+08</td>\n",
       "      <td>2.521144e+08</td>\n",
       "      <td>100</td>\n",
       "      <td>NaN</td>\n",
       "      <td>70</td>\n",
       "      <td>0</td>\n",
       "      <td>3</td>\n",
       "      <td>3</td>\n",
       "      <td>1</td>\n",
       "      <td>Cámara de Comercio</td>\n",
       "      <td>1</td>\n",
       "      <td>6</td>\n",
       "      <td>2.219156e+08</td>\n",
       "      <td>0.531853</td>\n",
       "    </tr>\n",
       "    <tr>\n",
       "      <th>41</th>\n",
       "      <td>42</td>\n",
       "      <td>2.311076e+08</td>\n",
       "      <td>2.204253e+08</td>\n",
       "      <td>123</td>\n",
       "      <td>NaN</td>\n",
       "      <td>44</td>\n",
       "      <td>0</td>\n",
       "      <td>3</td>\n",
       "      <td>1</td>\n",
       "      <td>2</td>\n",
       "      <td>Cámara de Comercio</td>\n",
       "      <td>1</td>\n",
       "      <td>44</td>\n",
       "      <td>1.068229e+07</td>\n",
       "      <td>0.953778</td>\n",
       "    </tr>\n",
       "  </tbody>\n",
       "</table>\n",
       "</div>"
      ],
      "text/plain": [
       "    UID_ENCUESTA     ING_TOTAL           CYG  POTTOT  REMUNERACION_TOTAL  \\\n",
       "6              7  4.576379e+08  1.608479e+08     145                 NaN   \n",
       "7              8  2.889470e+08  8.189908e+07     145                 NaN   \n",
       "8              9  3.867773e+08  1.630674e+08     153                 NaN   \n",
       "10            11  4.639375e+08  3.474247e+08     179                 NaN   \n",
       "11            12  4.967122e+08  1.548614e+08     142                 NaN   \n",
       "12            13  3.549875e+08  1.276670e+08     138                 NaN   \n",
       "14            15  3.811541e+08  1.678021e+08     120                 NaN   \n",
       "17            18  2.742435e+08  1.357881e+08     137                 NaN   \n",
       "21            22  1.813283e+08  3.247078e+08      89                 NaN   \n",
       "22            23  1.067330e+08  2.608031e+08     117                 NaN   \n",
       "25            26  2.030879e+08  2.960546e+08     102        5.673341e+07   \n",
       "29            30  1.732487e+08  1.338671e+08     127                 NaN   \n",
       "35            36  4.740300e+08  2.521144e+08     100                 NaN   \n",
       "41            42  2.311076e+08  2.204253e+08     123                 NaN   \n",
       "\n",
       "    DPTO  CPAM  GRUPOS12  UBICA  IDRUT            CAMCOMER  REG_CONT  \\\n",
       "6     88     1         3      1      1                 NaN         2   \n",
       "7     20     0         3      1      2  Cámara de Comercio         2   \n",
       "8     18     0         3      3      2                             3   \n",
       "10    20     0         3      1      2                 NaN         4   \n",
       "11    44     0         3      1      1                 NaN         1   \n",
       "12    27     0         3      1      2                             4   \n",
       "14    17     0         3      1      1                 NaN         1   \n",
       "17    17     0         3      1      2                 NaN         3   \n",
       "21    18     0         3      1      2                 NaN         1   \n",
       "22    41     0         3      3      1                 NaN         2   \n",
       "25    68     0         3      1      1  Cámara de Comercio         3   \n",
       "29    70     0         3      1      2                             2   \n",
       "35    70     0         3      3      1  Cámara de Comercio         1   \n",
       "41    44     0         3      1      2  Cámara de Comercio         1   \n",
       "\n",
       "    ANIOS_OPERACION            VA       C_V  \n",
       "6                43  2.967899e+08  0.351474  \n",
       "7                17  2.070480e+08  0.283440  \n",
       "8                 5  2.237099e+08  0.421605  \n",
       "10               60  1.165128e+08  0.748861  \n",
       "11               29  3.418508e+08  0.311773  \n",
       "12               21  2.273205e+08  0.359638  \n",
       "14               31  2.133520e+08  0.440247  \n",
       "17                4  1.384553e+08  0.495137  \n",
       "21               21 -1.433795e+08  1.790718  \n",
       "22                7 -1.540700e+08  2.443508  \n",
       "25                1 -9.296670e+07  1.457766  \n",
       "29                9  3.938162e+07  0.772687  \n",
       "35                6  2.219156e+08  0.531853  \n",
       "41               44  1.068229e+07  0.953778  "
      ]
     },
     "execution_count": 448,
     "metadata": {},
     "output_type": "execute_result"
    }
   ],
   "source": [
    "df_final.head(14)"
   ]
  },
  {
   "cell_type": "code",
   "execution_count": 449,
   "metadata": {},
   "outputs": [
    {
     "data": {
      "text/plain": [
       "25    26\n",
       "Name: UID_ENCUESTA, dtype: int64"
      ]
     },
     "execution_count": 449,
     "metadata": {},
     "output_type": "execute_result"
    }
   ],
   "source": [
    "df_final['UID_ENCUESTA'][(df_final['UID_ENCUESTA'].isin(ids))]"
   ]
  },
  {
   "cell_type": "markdown",
   "metadata": {},
   "source": [
    "# Vendedores de calle: Simulación"
   ]
  },
  {
   "cell_type": "code",
   "execution_count": 226,
   "metadata": {},
   "outputs": [],
   "source": [
    "data_path = r\"D:\\DANE - Contrato\\2024\\Operativo Barrido\\Data\\Despliegue prueba\\Vcalle/\"\n",
    "dicc_path = r\"D:\\DANE - Contrato\\2024\\Operativo Barrido\\Data/\""
   ]
  },
  {
   "cell_type": "code",
   "execution_count": 232,
   "metadata": {},
   "outputs": [],
   "source": [
    "#### Lectura de archivos\n",
    "\n",
    "#df_id: Módulo de identificación  \n",
    "df = pd.read_csv(data_path+\"Crudo/DB_SIMULADA_VDC.csv\", sep=';',header = 0)"
   ]
  },
  {
   "cell_type": "code",
   "execution_count": 245,
   "metadata": {},
   "outputs": [],
   "source": [
    "df['CIIU_4'] = 1789\n",
    "df.to_csv(data_path+\"Crudo/DB_SIMULADA_VDC (2).csv\", sep=';', index=False)"
   ]
  },
  {
   "cell_type": "code",
   "execution_count": 240,
   "metadata": {},
   "outputs": [
    {
     "name": "stderr",
     "output_type": "stream",
     "text": [
      "C:\\Users\\carlo\\AppData\\Local\\Temp\\ipykernel_15032\\1151748353.py:1: FutureWarning: Dropping of nuisance columns in DataFrame reductions (with 'numeric_only=None') is deprecated; in a future version this will raise TypeError.  Select only valid columns before calling the reduction.\n",
      "  df['POTTOT'] = df[['TRABAJSOC','TRABAJPAGO','TRABAJFAMI']].sum(axis=1)\n"
     ]
    }
   ],
   "source": [
    "df['POTTOT'] = df[['TRABAJSOC','TRABAJPAGO','TRABAJFAMI']].sum(axis=1)"
   ]
  },
  {
   "cell_type": "code",
   "execution_count": 244,
   "metadata": {},
   "outputs": [
    {
     "name": "stdout",
     "output_type": "stream",
     "text": [
      "<class 'pandas.core.frame.DataFrame'>\n",
      "RangeIndex: 600000 entries, 0 to 599999\n",
      "Data columns (total 3 columns):\n",
      " #   Column      Non-Null Count   Dtype \n",
      "---  ------      --------------   ----- \n",
      " 0   TRABAJSOC   600000 non-null  object\n",
      " 1   TRABAJPAGO  600000 non-null  int64 \n",
      " 2   TRABAJFAMI  600000 non-null  int64 \n",
      "dtypes: int64(2), object(1)\n",
      "memory usage: 13.7+ MB\n"
     ]
    }
   ],
   "source": [
    "df['ANOS_ESPACIO']"
   ]
  }
 ],
 "metadata": {
  "kernelspec": {
   "display_name": "Python 3",
   "language": "python",
   "name": "python3"
  },
  "language_info": {
   "codemirror_mode": {
    "name": "ipython",
    "version": 3
   },
   "file_extension": ".py",
   "mimetype": "text/x-python",
   "name": "python",
   "nbconvert_exporter": "python",
   "pygments_lexer": "ipython3",
   "version": "3.10.5"
  }
 },
 "nbformat": 4,
 "nbformat_minor": 2
}
