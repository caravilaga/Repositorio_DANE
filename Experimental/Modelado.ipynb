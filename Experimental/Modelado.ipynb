{
 "cells": [
  {
   "cell_type": "code",
   "execution_count": 12,
   "metadata": {},
   "outputs": [],
   "source": [
    "import pandas as pd\n",
    "import numpy as np\n",
    "\n",
    "from sklearn.compose import ColumnTransformer\n",
    "from sklearn.pipeline import Pipeline\n",
    "from sklearn.preprocessing import OneHotEncoder, StandardScaler\n",
    "import joblib"
   ]
  },
  {
   "cell_type": "markdown",
   "metadata": {},
   "source": [
    "# Establecimientos"
   ]
  },
  {
   "cell_type": "code",
   "execution_count": 3,
   "metadata": {},
   "outputs": [],
   "source": [
    "data_path = r\"D:\\DANE - Contrato\\2024\\Operativo Barrido\\Data\\Despliegue prueba\\Establecimientos/\""
   ]
  },
  {
   "cell_type": "markdown",
   "metadata": {},
   "source": [
    "## Lectura de archivos"
   ]
  },
  {
   "cell_type": "code",
   "execution_count": 6,
   "metadata": {},
   "outputs": [],
   "source": [
    "#### Lectura de archivos\n",
    "\n",
    "#df_id: Módulo de identificación  \n",
    "df = pd.read_csv(data_path+\"Intermedio/CENU_SIMULADO_modelo.csv\",header = 0)"
   ]
  },
  {
   "cell_type": "code",
   "execution_count": 9,
   "metadata": {},
   "outputs": [],
   "source": [
    "# Variables\n",
    "numeric_var = ['ING_TOTAL','CYG', 'POTTOT', 'REMUNERACION_TOTAL','ANIOS_OPERACION', 'VA', 'C_V']\n",
    "categoric_var = ['DPTO', 'CPAM', 'GRUPOS12', 'UBICA', 'IDRUT', 'CAMCOMER', 'REG_CONT']"
   ]
  },
  {
   "cell_type": "code",
   "execution_count": 13,
   "metadata": {},
   "outputs": [],
   "source": [
    "# Variables\n",
    "numeric_var = ['ING_TOTAL','CYG', 'POTTOT', 'REMUNERACION_TOTAL','ANIOS_OPERACION', 'VA', 'C_V']\n",
    "categoric_var = ['DPTO', 'CPAM', 'GRUPOS12', 'UBICA', 'IDRUT', 'CAMCOMER', 'REG_CONT']\n",
    "\n",
    "# Definir la trasnformación a los datos numéricos\n",
    "numeric_transformer = Pipeline(steps=[\n",
    "    ('scaler', StandardScaler())\n",
    "])\n",
    "\n",
    "\n",
    "# Definir la transformación a los datos categóricos\n",
    "categorical_transformer = Pipeline(steps=[\n",
    "    ('onehot', OneHotEncoder(handle_unknown='ignore'))\n",
    "])\n",
    "\n",
    "preprocessor = ColumnTransformer(\n",
    "    transformers=[\n",
    "        ('num', numeric_transformer, numeric_var),\n",
    "        ('cat', categorical_transformer, categoric_var)\n",
    "    ])"
   ]
  },
  {
   "cell_type": "code",
   "execution_count": 14,
   "metadata": {},
   "outputs": [],
   "source": [
    "# Definir la transformación a los datos categóricos\n",
    "categorical_transformer = Pipeline(steps=[\n",
    "    ('onehot', OneHotEncoder(handle_unknown='ignore'))\n",
    "])"
   ]
  },
  {
   "cell_type": "code",
   "execution_count": 15,
   "metadata": {},
   "outputs": [],
   "source": [
    "preprocessor = ColumnTransformer(\n",
    "    transformers=[\n",
    "        ('num', numeric_transformer, numeric_var),\n",
    "        ('cat', categorical_transformer, categoric_var)\n",
    "    ])"
   ]
  },
  {
   "cell_type": "code",
   "execution_count": 19,
   "metadata": {},
   "outputs": [],
   "source": [
    "# Fit the preprocessor\n",
    "preprocessor.fit(df)\n",
    "\n",
    "# Transform the data\n",
    "df_transformed = preprocessor.transform(df)\n",
    "\n",
    "# Optionally, convert the transformed data back to a DataFrame for readability\n",
    "#df_transformed = pd.DataFrame(df_transformed, columns=numeric_var + list(preprocessor.named_transformers_['cat']['onehot'].get_feature_names_out(categoric_var)))"
   ]
  },
  {
   "cell_type": "code",
   "execution_count": 20,
   "metadata": {},
   "outputs": [
    {
     "data": {
      "text/plain": [
       "array([[-1.,  1.,  1.,  1.,  0., -1.,  1.,  0.,  1.,  1.,  1.,  1.,  0.,\n",
       "         0.,  1.,  0.,  1.,  0.,  1.],\n",
       "       [ 1., -1., -1., -1.,  0.,  1., -1.,  1.,  0.,  1.,  1.,  0.,  1.,\n",
       "         1.,  0.,  1.,  0.,  1.,  0.]])"
      ]
     },
     "execution_count": 20,
     "metadata": {},
     "output_type": "execute_result"
    }
   ],
   "source": [
    "df_transformed"
   ]
  }
 ],
 "metadata": {
  "kernelspec": {
   "display_name": "Python 3",
   "language": "python",
   "name": "python3"
  },
  "language_info": {
   "codemirror_mode": {
    "name": "ipython",
    "version": 3
   },
   "file_extension": ".py",
   "mimetype": "text/x-python",
   "name": "python",
   "nbconvert_exporter": "python",
   "pygments_lexer": "ipython3",
   "version": "3.10.5"
  }
 },
 "nbformat": 4,
 "nbformat_minor": 2
}
