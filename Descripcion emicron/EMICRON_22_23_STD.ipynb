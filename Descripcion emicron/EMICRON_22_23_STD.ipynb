{
 "cells": [
  {
   "cell_type": "code",
   "execution_count": 1,
   "metadata": {},
   "outputs": [],
   "source": [
    "import pandas as pd\n",
    "import os\n",
    "import re\n",
    "import numpy as np"
   ]
  },
  {
   "cell_type": "markdown",
   "metadata": {},
   "source": [
    "# EMICRON 22"
   ]
  },
  {
   "cell_type": "markdown",
   "metadata": {},
   "source": [
    "### 1. Lectura información"
   ]
  },
  {
   "cell_type": "code",
   "execution_count": 2,
   "metadata": {},
   "outputs": [],
   "source": [
    "data_path = r\"D:\\DANE - Contrato\\2024\\Operativo Barrido\\Data\\Crudos\""
   ]
  },
  {
   "cell_type": "code",
   "execution_count": 3,
   "metadata": {},
   "outputs": [],
   "source": [
    "emicron_22 = pd.read_sas(os.path.join(data_path,\"emicron_2022.sas7bdat\"), format = \"sas7bdat\")\n",
    "# pd.DataFrame(emicron_22.columns).to_excel(\"Variables.xlsx\")\n",
    "# emicron_22[:5].transpose().to_excel(\"Muestra.xlsx\")"
   ]
  },
  {
   "cell_type": "markdown",
   "metadata": {},
   "source": [
    "#### 1.1 Arreglo variables"
   ]
  },
  {
   "cell_type": "code",
   "execution_count": 4,
   "metadata": {},
   "outputs": [
    {
     "name": "stderr",
     "output_type": "stream",
     "text": [
      "C:\\Users\\carlo\\AppData\\Local\\Temp\\ipykernel_19044\\104079840.py:2: PerformanceWarning: DataFrame is highly fragmented.  This is usually the result of calling `frame.insert` many times, which has poor performance.  Consider joining all columns at once using pd.concat(axis=1) instead. To get a de-fragmented frame, use `newframe = frame.copy()`\n",
      "  emicron_22['id'] = emicron_22['DIRECTORIO'].astype(int).astype(str) + emicron_22['SECUENCIA_P'].astype(int).astype(str) + emicron_22['ORDEN'].astype(int).astype(str)\n"
     ]
    }
   ],
   "source": [
    "# Construcción id\n",
    "emicron_22['id'] = emicron_22['DIRECTORIO'].astype(int).astype(str) + emicron_22['SECUENCIA_P'].astype(int).astype(str) + emicron_22['ORDEN'].astype(int).astype(str)"
   ]
  },
  {
   "cell_type": "code",
   "execution_count": 5,
   "metadata": {},
   "outputs": [
    {
     "name": "stdout",
     "output_type": "stream",
     "text": [
      "<class 'pandas.core.frame.DataFrame'>\n",
      "RangeIndex: 84753 entries, 0 to 84752\n",
      "Data columns (total 32 columns):\n",
      " #   Column               Non-Null Count  Dtype  \n",
      "---  ------               --------------  -----  \n",
      " 0   REMUNERACION_TOTAL   84753 non-null  float64\n",
      " 1   GASTOS_MES           84753 non-null  float64\n",
      " 2   P3017_A              84753 non-null  float64\n",
      " 3   P3017_B              84753 non-null  float64\n",
      " 4   P3017_C              84753 non-null  float64\n",
      " 5   P3017_D              84753 non-null  float64\n",
      " 6   P3017_E              84753 non-null  float64\n",
      " 7   P3017_F              84753 non-null  float64\n",
      " 8   P3017_G              84753 non-null  float64\n",
      " 9   P3017_H              84753 non-null  float64\n",
      " 10  P3017_K              84753 non-null  float64\n",
      " 11  COSTOS_MES_ANTERIOR  84753 non-null  float64\n",
      " 12  P3056_A              21803 non-null  float64\n",
      " 13  P3056_B              44510 non-null  float64\n",
      " 14  P3056_C              7653 non-null   float64\n",
      " 15  P3056_D              10767 non-null  float64\n",
      " 16  P3032_1              15017 non-null  float64\n",
      " 17  P3032_2              15017 non-null  float64\n",
      " 18  P3032_3              15017 non-null  float64\n",
      " 19  COD_DEPTO            84753 non-null  object \n",
      " 20  area                 56224 non-null  float64\n",
      " 21  GRUPOS4              84753 non-null  object \n",
      " 22  P3053                84753 non-null  float64\n",
      " 23  P1633                84753 non-null  float64\n",
      " 24  P1055                84753 non-null  float64\n",
      " 25  P640                 84753 non-null  float64\n",
      " 26  P639                 84753 non-null  float64\n",
      " 27  P3034                84753 non-null  float64\n",
      " 28  MPIO                 84753 non-null  object \n",
      " 29  GRUPOS12             84753 non-null  object \n",
      " 30  CIIU_3               84753 non-null  float64\n",
      " 31  P2760                57942 non-null  object \n",
      "dtypes: float64(27), object(5)\n",
      "memory usage: 20.7+ MB\n"
     ]
    },
    {
     "data": {
      "text/html": [
       "<div>\n",
       "<style scoped>\n",
       "    .dataframe tbody tr th:only-of-type {\n",
       "        vertical-align: middle;\n",
       "    }\n",
       "\n",
       "    .dataframe tbody tr th {\n",
       "        vertical-align: top;\n",
       "    }\n",
       "\n",
       "    .dataframe thead th {\n",
       "        text-align: right;\n",
       "    }\n",
       "</style>\n",
       "<table border=\"1\" class=\"dataframe\">\n",
       "  <thead>\n",
       "    <tr style=\"text-align: right;\">\n",
       "      <th></th>\n",
       "    </tr>\n",
       "  </thead>\n",
       "  <tbody>\n",
       "  </tbody>\n",
       "</table>\n",
       "</div>"
      ],
      "text/plain": [
       "Empty DataFrame\n",
       "Columns: []\n",
       "Index: []"
      ]
     },
     "execution_count": 5,
     "metadata": {},
     "output_type": "execute_result"
    }
   ],
   "source": [
    "# pd.DataFrame(emicron_22[['VENTAS_MES_ANTERIOR','P3057','P3058','P3059','P3060','P3061','P3062','P4002','P3063','P3064','P3065','P3066','P3067','P3092','P3093',\n",
    "#             'REMUNERACION_TOTAL',\n",
    "#             'GASTOS_MES','P3017_A','P3017_B','P3017_C','P3017_D','P3017_E','P3017_F','P3017_G','P3017_H','P3017_K',\n",
    "#             'COSTOS_MES_ANTERIOR','P3056_A','P3056_B','P3056_C','P3056_D',\n",
    "#             'P3032_1','P3032_2','P3032_3',\n",
    "#             'COD_DEPTO','area','GRUPOS4','P3053','P1633','P1055','P640','P639','P3034']].isna().sum())\n",
    "\n",
    "pd.DataFrame(emicron_22[[#'VENTAS_MES_ANTERIOR','P3057','P3058','P3059','P3060','P3061','P3062','P4002','P3063','P3064','P3065','P3066','P3067','P3092','P3093',\n",
    "           'REMUNERACION_TOTAL',\n",
    "           'GASTOS_MES','P3017_A','P3017_B','P3017_C','P3017_D','P3017_E','P3017_F','P3017_G','P3017_H','P3017_K',\n",
    "           'COSTOS_MES_ANTERIOR','P3056_A','P3056_B','P3056_C','P3056_D',\n",
    "           'P3032_1','P3032_2','P3032_3',\n",
    "           'COD_DEPTO','area','GRUPOS4','P3053','P1633','P1055','P640','P639','P3034','MPIO','GRUPOS12','CIIU_3','P2760']].info())"
   ]
  },
  {
   "cell_type": "code",
   "execution_count": 6,
   "metadata": {},
   "outputs": [
    {
     "data": {
      "text/plain": [
       "0         8\n",
       "1         8\n",
       "2         8\n",
       "3         8\n",
       "4         8\n",
       "         ..\n",
       "84748    66\n",
       "84749    66\n",
       "84750    66\n",
       "84751    25\n",
       "84752    25\n",
       "Name: COD_DEPTO, Length: 84753, dtype: int32"
      ]
     },
     "execution_count": 6,
     "metadata": {},
     "output_type": "execute_result"
    }
   ],
   "source": [
    "emicron_22['COD_DEPTO'].astype('int')"
   ]
  },
  {
   "cell_type": "code",
   "execution_count": 7,
   "metadata": {},
   "outputs": [],
   "source": [
    "emicron_22['GRUPOS12'] = emicron_22['GRUPOS12'].astype('int')\n",
    "emicron_22['GRUPOS4'] = emicron_22['GRUPOS4'].astype('int')\n",
    "emicron_22['MPIO'] = emicron_22['MPIO'].astype('int')\n",
    "emicron_22['COD_DEPTO'] = emicron_22['COD_DEPTO'].astype('int')"
   ]
  },
  {
   "cell_type": "markdown",
   "metadata": {},
   "source": [
    "### 2. Filtrado de la información\n",
    "Se procederá a filtrar la base de datos con base en unos elementos particulares:  \n",
    "1. Actividades económicas que cubre EMICRON y que no serán tenidas en cuenta en CENU.  \n",
    "2. Ubicación del micronegocio. Ya que se entrenará un modelo para puestos fijos y micronegocios en vivienda (sólo los visibles al público), y otro para puestos móviles.   \n",
    "3. Otras variables como el número de establecimientos, que permitan mantener una información homogénea."
   ]
  },
  {
   "cell_type": "markdown",
   "metadata": {},
   "source": [
    "#### 2.1 Actividades económicas que cubrirá el CENU \n",
    "Emicron incluye preguntas a los sectores de agricultura, ganadería, caza, silvicultura y pesca; además, de minería. Debido a que estos sectores no harán parte del Universo del Censo Económico, se descartarán de la base de datos:"
   ]
  },
  {
   "cell_type": "code",
   "execution_count": 8,
   "metadata": {},
   "outputs": [
    {
     "data": {
      "text/plain": [
       "(73966, 496)"
      ]
     },
     "execution_count": 8,
     "metadata": {},
     "output_type": "execute_result"
    }
   ],
   "source": [
    "emicron_22 = emicron_22[~(emicron_22['GRUPOS12'].isin([1,2,13]))]\n",
    "emicron_22.shape"
   ]
  },
  {
   "cell_type": "markdown",
   "metadata": {},
   "source": [
    "#### 2.2 Ubicación del micronegocio\n",
    "Para el entrenamiento de los modelos se utilizará la ubicación de micronegocios en 1: Vivienda, 2: Local (puestos fijos), 4: Ambulante, por lo tanto sólo estas categorías se mantendrán. De igual manera, el CENU, sólo recolectará información de actividades económicas visibles, por lo tanto se filtrará por este tipo de micronegocios."
   ]
  },
  {
   "cell_type": "code",
   "execution_count": 9,
   "metadata": {},
   "outputs": [
    {
     "name": "stdout",
     "output_type": "stream",
     "text": [
      "1.0    24206\n",
      "3.0    15006\n",
      "5.0    11263\n",
      "2.0    10739\n",
      "4.0     9184\n",
      "6.0     2812\n",
      "8.0      390\n",
      "7.0      366\n",
      "Name: P3053, dtype: int64\n",
      "1.0    24206\n",
      "2.0    10739\n",
      "4.0     9184\n",
      "Name: P3053, dtype: int64\n"
     ]
    }
   ],
   "source": [
    "print(emicron_22['P3053'].value_counts())\n",
    "\n",
    "# Seleccionar sólo viviendas, establecimientos y ambulantes\n",
    "emicron_22 = emicron_22[emicron_22['P3053'].isin([1,2,4])]\n",
    "\n",
    "print(emicron_22['P3053'].value_counts())"
   ]
  },
  {
   "cell_type": "code",
   "execution_count": 10,
   "metadata": {},
   "outputs": [
    {
     "name": "stdout",
     "output_type": "stream",
     "text": [
      "1.0    13395\n",
      "2.0    10739\n",
      "4.0     9184\n",
      "Name: P3053, dtype: int64\n"
     ]
    }
   ],
   "source": [
    "# Visibilidad del micronegocio (sólo para viviendas)\n",
    "emicron_22.drop(emicron_22[(emicron_22['P3053'] == 1) & (emicron_22['P469'] == 2)].index, inplace = True)\n",
    "\n",
    "# [(emicron_22['P469'] == 1)]\n",
    "print(emicron_22['P3053'].value_counts())"
   ]
  },
  {
   "cell_type": "code",
   "execution_count": 11,
   "metadata": {},
   "outputs": [
    {
     "data": {
      "text/plain": [
       "(33318, 496)"
      ]
     },
     "execution_count": 11,
     "metadata": {},
     "output_type": "execute_result"
    }
   ],
   "source": [
    "emicron_22.shape"
   ]
  },
  {
   "cell_type": "code",
   "execution_count": 12,
   "metadata": {},
   "outputs": [
    {
     "name": "stdout",
     "output_type": "stream",
     "text": [
      "3.0    13395\n",
      "1.0    10739\n",
      "4.0     9184\n",
      "Name: P3053, dtype: int64\n"
     ]
    }
   ],
   "source": [
    "# Reemplazar los códigos en función de la codificación que se recibirá en el CENU\n",
    "# 1: Establecimiento fijo\n",
    "# 3: Vivienda con actividad económica visible\n",
    "def rule(i):\n",
    "    if i == 1:\n",
    "        return 3\n",
    "    elif i == 2:\n",
    "        return 1\n",
    "    return i\n",
    "\n",
    "emicron_22['P3053'] = list(map(rule,emicron_22['P3053']))\n",
    "print(emicron_22['P3053'].value_counts())"
   ]
  },
  {
   "cell_type": "markdown",
   "metadata": {},
   "source": [
    "#### 2.3 Ventas del mes anterior\n",
    "Eliminar las filas cuyas ventas del año pasado son missing y cero"
   ]
  },
  {
   "cell_type": "code",
   "execution_count": 13,
   "metadata": {},
   "outputs": [
    {
     "name": "stdout",
     "output_type": "stream",
     "text": [
      "Valores nulos ventas:  0\n",
      "Ventas en cero:  817\n"
     ]
    },
    {
     "data": {
      "text/plain": [
       "(33318, 496)"
      ]
     },
     "execution_count": 13,
     "metadata": {},
     "output_type": "execute_result"
    }
   ],
   "source": [
    "# Valores nulos ventas\n",
    "print(\"Valores nulos ventas: \", emicron_22[\"VENTAS_MES_ANTERIOR\"].isna().sum())\n",
    "\n",
    "# Valores cero ventas\n",
    "print(\"Ventas en cero: \", (emicron_22[\"VENTAS_MES_ANTERIOR\"]==0).sum())\n",
    "\n",
    "# Eliminar los registros con venta cero\n",
    "#emicron_22 = emicron_22[~(emicron_22[\"VENTAS_MES_ANTERIOR\"] == 0)]\n",
    "\n",
    "emicron_22.shape"
   ]
  },
  {
   "cell_type": "markdown",
   "metadata": {},
   "source": [
    "#### 2.4 Número de establecimientos\n",
    "Eliminar las filas cuyo número de estabecimientos es diferente a 1, ya que la información que recolecta el CENU es por establecimiento y la recolectada por EMICRON es a nivel de negocio, pero a veces se presenta información también solo por establecimiento cuando el negocio tiene más de un establecimiento. Para evitar eso, sólo utilizar los micronegocios que reportan un sólo establecimiento comercial, que representan el 99.36 % de la muestra (casi todos)."
   ]
  },
  {
   "cell_type": "code",
   "execution_count": 14,
   "metadata": {},
   "outputs": [
    {
     "name": "stdout",
     "output_type": "stream",
     "text": [
      "1.0     27363\n",
      "2.0        99\n",
      "3.0        13\n",
      "99.0       12\n",
      "4.0         2\n",
      "9.0         1\n",
      "Name: P3054, dtype: int64 \n",
      "_____________\n",
      "\n"
     ]
    },
    {
     "data": {
      "text/plain": [
       "(33191, 496)"
      ]
     },
     "execution_count": 14,
     "metadata": {},
     "output_type": "execute_result"
    }
   ],
   "source": [
    "emicron_22['P3054'] = pd.to_numeric(emicron_22['P3054'], errors='coerce')\n",
    "print(emicron_22['P3054'].value_counts(),\"\\n_____________\\n\")\n",
    "emicron_22 = emicron_22[(emicron_22['P3054'] == 1) | ((emicron_22['P3054'].isna()) & (emicron_22['P3053']==4))]\n",
    "emicron_22.shape"
   ]
  },
  {
   "cell_type": "code",
   "execution_count": 15,
   "metadata": {},
   "outputs": [
    {
     "data": {
      "text/html": [
       "<div>\n",
       "<style scoped>\n",
       "    .dataframe tbody tr th:only-of-type {\n",
       "        vertical-align: middle;\n",
       "    }\n",
       "\n",
       "    .dataframe tbody tr th {\n",
       "        vertical-align: top;\n",
       "    }\n",
       "\n",
       "    .dataframe thead th {\n",
       "        text-align: right;\n",
       "    }\n",
       "</style>\n",
       "<table border=\"1\" class=\"dataframe\">\n",
       "  <thead>\n",
       "    <tr style=\"text-align: right;\">\n",
       "      <th>P3053</th>\n",
       "      <th>1.0</th>\n",
       "      <th>3.0</th>\n",
       "      <th>4.0</th>\n",
       "    </tr>\n",
       "    <tr>\n",
       "      <th>P3054</th>\n",
       "      <th></th>\n",
       "      <th></th>\n",
       "      <th></th>\n",
       "    </tr>\n",
       "  </thead>\n",
       "  <tbody>\n",
       "    <tr>\n",
       "      <th>False</th>\n",
       "      <td>10655</td>\n",
       "      <td>13371</td>\n",
       "      <td>3337</td>\n",
       "    </tr>\n",
       "    <tr>\n",
       "      <th>True</th>\n",
       "      <td>0</td>\n",
       "      <td>0</td>\n",
       "      <td>5828</td>\n",
       "    </tr>\n",
       "  </tbody>\n",
       "</table>\n",
       "</div>"
      ],
      "text/plain": [
       "P3053    1.0    3.0   4.0\n",
       "P3054                    \n",
       "False  10655  13371  3337\n",
       "True       0      0  5828"
      ]
     },
     "execution_count": 15,
     "metadata": {},
     "output_type": "execute_result"
    }
   ],
   "source": [
    "pd.crosstab(emicron_22['P3054'].isna(), emicron_22['P3053'])"
   ]
  },
  {
   "cell_type": "code",
   "execution_count": 16,
   "metadata": {},
   "outputs": [
    {
     "data": {
      "text/html": [
       "<div>\n",
       "<style scoped>\n",
       "    .dataframe tbody tr th:only-of-type {\n",
       "        vertical-align: middle;\n",
       "    }\n",
       "\n",
       "    .dataframe tbody tr th {\n",
       "        vertical-align: top;\n",
       "    }\n",
       "\n",
       "    .dataframe thead th {\n",
       "        text-align: right;\n",
       "    }\n",
       "</style>\n",
       "<table border=\"1\" class=\"dataframe\">\n",
       "  <thead>\n",
       "    <tr style=\"text-align: right;\">\n",
       "      <th>P3053</th>\n",
       "      <th>1.0</th>\n",
       "      <th>3.0</th>\n",
       "      <th>4.0</th>\n",
       "    </tr>\n",
       "    <tr>\n",
       "      <th>P469</th>\n",
       "      <th></th>\n",
       "      <th></th>\n",
       "      <th></th>\n",
       "    </tr>\n",
       "  </thead>\n",
       "  <tbody>\n",
       "    <tr>\n",
       "      <th>1.0</th>\n",
       "      <td>9972</td>\n",
       "      <td>13371</td>\n",
       "      <td>3129</td>\n",
       "    </tr>\n",
       "    <tr>\n",
       "      <th>2.0</th>\n",
       "      <td>683</td>\n",
       "      <td>0</td>\n",
       "      <td>208</td>\n",
       "    </tr>\n",
       "  </tbody>\n",
       "</table>\n",
       "</div>"
      ],
      "text/plain": [
       "P3053   1.0    3.0   4.0\n",
       "P469                    \n",
       "1.0    9972  13371  3129\n",
       "2.0     683      0   208"
      ]
     },
     "execution_count": 16,
     "metadata": {},
     "output_type": "execute_result"
    }
   ],
   "source": [
    "pd.crosstab(emicron_22['P469'], emicron_22['P3053'])"
   ]
  },
  {
   "cell_type": "markdown",
   "metadata": {},
   "source": [
    "### 3. Creación variables principales\n",
    "1. Se creará una agrupación para la variable del número total de empleados  \n",
    "2. Se agregarán los costos y los gastos en una sola variable (CYG)  \n",
    "3. AREA se recodificará para que muestre si la observación pertenece a una ciudad capital del departamento  \n",
    "4. Contabilidad"
   ]
  },
  {
   "cell_type": "markdown",
   "metadata": {},
   "source": [
    "#### 3.1 Personal Ocupado"
   ]
  },
  {
   "cell_type": "code",
   "execution_count": 17,
   "metadata": {},
   "outputs": [],
   "source": [
    "emicron_22['POTTOT'] = emicron_22[['P3032_1','P3032_2','P3032_3']].sum(axis=1) + 1\n",
    "#emicron_22['POT_rem'] = emicron_22[['P3032_1']].sum(axis=1) + 1\n",
    "#emicron_22['POT_norem'] = emicron_22[['P3032_2','P3032_3']].sum(axis=1)\n",
    "\n",
    "# emicron_22[['POTTOT','POT_rem','POT_norem']].describe()\n",
    "# emicron_22[['POTTOT','POT_rem','POT_norem','REMUNERACION_TOTAL']].corr()\n",
    "\n",
    "#print(\"Coincidentes entre POTTOT y desagregación propuesta:\\n\",(emicron_22['POTTOT'] == emicron_22[['POT_rem','POT_norem']].sum(axis=1)).value_counts())"
   ]
  },
  {
   "cell_type": "code",
   "execution_count": 18,
   "metadata": {},
   "outputs": [
    {
     "data": {
      "text/plain": [
       "count    33191.000000\n",
       "mean         1.386611\n",
       "std          0.867077\n",
       "min          1.000000\n",
       "25%          1.000000\n",
       "50%          1.000000\n",
       "75%          1.000000\n",
       "max          9.000000\n",
       "Name: POTTOT, dtype: float64"
      ]
     },
     "execution_count": 18,
     "metadata": {},
     "output_type": "execute_result"
    }
   ],
   "source": [
    "emicron_22['POTTOT'].describe()"
   ]
  },
  {
   "cell_type": "markdown",
   "metadata": {},
   "source": [
    "#### 3.2 Ventas al mes"
   ]
  },
  {
   "cell_type": "code",
   "execution_count": 19,
   "metadata": {},
   "outputs": [
    {
     "name": "stdout",
     "output_type": "stream",
     "text": [
      "Número de filas coincidentes entre la variable agregada y la suma de las individuales:\n",
      " True    33191\n",
      "dtype: int64\n"
     ]
    }
   ],
   "source": [
    "# Comparación suma individual y la agregada\n",
    "print(\"Número de filas coincidentes entre la variable agregada y la suma de las individuales:\\n\",(emicron_22['VENTAS_MES_ANTERIOR'] == emicron_22[['P3057','P3058','P3059','P3060','P3061','P3062','P4002','P3063','P3064','P3065','P3066','P3067','P3092','P3093']].sum(axis=1)).value_counts())\n",
    "#emicron_22[['VENTAS_MES_ANTERIOR','P3057','P3058','P3059','P3060','P3061','P3062','P4002','P3063','P3064','P3065','P3066','P3067','P3092','P3093']][~(emicron_22['VENTAS_MES_ANTERIOR'] == emicron_22[['P3057','P3058','P3059','P3060','P3061','P3062','P4002','P3063','P3064','P3065','P3066','P3067','P3092','P3093']].sum(axis=1))]"
   ]
  },
  {
   "cell_type": "markdown",
   "metadata": {},
   "source": [
    "#### 3.3 Costos y gastos al mes"
   ]
  },
  {
   "cell_type": "code",
   "execution_count": 20,
   "metadata": {},
   "outputs": [
    {
     "name": "stdout",
     "output_type": "stream",
     "text": [
      "Número de filas coincidentes entre la variable agregada y la suma de las individuales:\n",
      " True    33191\n",
      "dtype: int64\n"
     ]
    }
   ],
   "source": [
    "# Comparación suma individual y la agregada\n",
    "print(\"Número de filas coincidentes entre la variable agregada y la suma de las individuales:\\n\",(emicron_22['COSTOS_MES_ANTERIOR'] == emicron_22[['P3056_A','P3056_B','P3056_C','P3056_D']].sum(axis=1)).value_counts())"
   ]
  },
  {
   "cell_type": "code",
   "execution_count": 21,
   "metadata": {},
   "outputs": [
    {
     "name": "stdout",
     "output_type": "stream",
     "text": [
      "Número de filas coincidentes entre la variable agregada y la suma de las individuales:\n",
      " True    33191\n",
      "dtype: int64\n"
     ]
    }
   ],
   "source": [
    "# Comparación suma individual y la agregada\n",
    "print(\"Número de filas coincidentes entre la variable agregada y la suma de las individuales:\\n\",(emicron_22['GASTOS_MES'] == emicron_22[['P3017_A','P3017_B','P3017_C','P3017_D','P3017_E','P3017_F','P3017_G','P3017_H','P3017_K']].sum(axis=1)).value_counts())"
   ]
  },
  {
   "cell_type": "code",
   "execution_count": 22,
   "metadata": {},
   "outputs": [],
   "source": [
    "# Agregación de la variable\n",
    "emicron_22['CYG'] = emicron_22[['COSTOS_MES_ANTERIOR','GASTOS_MES']].sum(axis=1)"
   ]
  },
  {
   "cell_type": "markdown",
   "metadata": {},
   "source": [
    "#### 3.4 Variable de Ciudad Capital y A.M\n",
    "Recodificar la variable de Área en función de si es una ciudad principal o un área metropolitana dentro del departamento"
   ]
  },
  {
   "cell_type": "code",
   "execution_count": 23,
   "metadata": {},
   "outputs": [],
   "source": [
    "def rule_city(i):\n",
    "    if pd.isna(i) == True:\n",
    "        return 0\n",
    "    else:\n",
    "        return 1\n",
    "    return i\n",
    "\n",
    "emicron_22['CPAM'] = list(map(rule_city,emicron_22['area']))"
   ]
  },
  {
   "cell_type": "code",
   "execution_count": 24,
   "metadata": {},
   "outputs": [
    {
     "data": {
      "text/html": [
       "<div>\n",
       "<style scoped>\n",
       "    .dataframe tbody tr th:only-of-type {\n",
       "        vertical-align: middle;\n",
       "    }\n",
       "\n",
       "    .dataframe tbody tr th {\n",
       "        vertical-align: top;\n",
       "    }\n",
       "\n",
       "    .dataframe thead th {\n",
       "        text-align: right;\n",
       "    }\n",
       "</style>\n",
       "<table border=\"1\" class=\"dataframe\">\n",
       "  <thead>\n",
       "    <tr style=\"text-align: right;\">\n",
       "      <th>area</th>\n",
       "      <th>False</th>\n",
       "      <th>True</th>\n",
       "    </tr>\n",
       "    <tr>\n",
       "      <th>COD_DEPTO</th>\n",
       "      <th></th>\n",
       "      <th></th>\n",
       "    </tr>\n",
       "  </thead>\n",
       "  <tbody>\n",
       "    <tr>\n",
       "      <th>5</th>\n",
       "      <td>1487</td>\n",
       "      <td>419</td>\n",
       "    </tr>\n",
       "    <tr>\n",
       "      <th>8</th>\n",
       "      <td>1343</td>\n",
       "      <td>434</td>\n",
       "    </tr>\n",
       "    <tr>\n",
       "      <th>11</th>\n",
       "      <td>663</td>\n",
       "      <td>11</td>\n",
       "    </tr>\n",
       "    <tr>\n",
       "      <th>13</th>\n",
       "      <td>1392</td>\n",
       "      <td>350</td>\n",
       "    </tr>\n",
       "    <tr>\n",
       "      <th>15</th>\n",
       "      <td>659</td>\n",
       "      <td>260</td>\n",
       "    </tr>\n",
       "    <tr>\n",
       "      <th>17</th>\n",
       "      <td>1018</td>\n",
       "      <td>269</td>\n",
       "    </tr>\n",
       "    <tr>\n",
       "      <th>18</th>\n",
       "      <td>1249</td>\n",
       "      <td>261</td>\n",
       "    </tr>\n",
       "    <tr>\n",
       "      <th>19</th>\n",
       "      <td>723</td>\n",
       "      <td>263</td>\n",
       "    </tr>\n",
       "    <tr>\n",
       "      <th>20</th>\n",
       "      <td>843</td>\n",
       "      <td>246</td>\n",
       "    </tr>\n",
       "    <tr>\n",
       "      <th>23</th>\n",
       "      <td>791</td>\n",
       "      <td>315</td>\n",
       "    </tr>\n",
       "    <tr>\n",
       "      <th>25</th>\n",
       "      <td>0</td>\n",
       "      <td>433</td>\n",
       "    </tr>\n",
       "    <tr>\n",
       "      <th>27</th>\n",
       "      <td>704</td>\n",
       "      <td>159</td>\n",
       "    </tr>\n",
       "    <tr>\n",
       "      <th>41</th>\n",
       "      <td>710</td>\n",
       "      <td>311</td>\n",
       "    </tr>\n",
       "    <tr>\n",
       "      <th>44</th>\n",
       "      <td>1186</td>\n",
       "      <td>535</td>\n",
       "    </tr>\n",
       "    <tr>\n",
       "      <th>47</th>\n",
       "      <td>1465</td>\n",
       "      <td>724</td>\n",
       "    </tr>\n",
       "    <tr>\n",
       "      <th>50</th>\n",
       "      <td>1171</td>\n",
       "      <td>383</td>\n",
       "    </tr>\n",
       "    <tr>\n",
       "      <th>52</th>\n",
       "      <td>1220</td>\n",
       "      <td>706</td>\n",
       "    </tr>\n",
       "    <tr>\n",
       "      <th>54</th>\n",
       "      <td>1147</td>\n",
       "      <td>232</td>\n",
       "    </tr>\n",
       "    <tr>\n",
       "      <th>63</th>\n",
       "      <td>783</td>\n",
       "      <td>242</td>\n",
       "    </tr>\n",
       "    <tr>\n",
       "      <th>66</th>\n",
       "      <td>1036</td>\n",
       "      <td>178</td>\n",
       "    </tr>\n",
       "    <tr>\n",
       "      <th>68</th>\n",
       "      <td>1510</td>\n",
       "      <td>597</td>\n",
       "    </tr>\n",
       "    <tr>\n",
       "      <th>70</th>\n",
       "      <td>1319</td>\n",
       "      <td>368</td>\n",
       "    </tr>\n",
       "    <tr>\n",
       "      <th>73</th>\n",
       "      <td>748</td>\n",
       "      <td>315</td>\n",
       "    </tr>\n",
       "    <tr>\n",
       "      <th>76</th>\n",
       "      <td>1144</td>\n",
       "      <td>550</td>\n",
       "    </tr>\n",
       "    <tr>\n",
       "      <th>88</th>\n",
       "      <td>319</td>\n",
       "      <td>0</td>\n",
       "    </tr>\n",
       "  </tbody>\n",
       "</table>\n",
       "</div>"
      ],
      "text/plain": [
       "area       False  True\n",
       "COD_DEPTO             \n",
       "5           1487   419\n",
       "8           1343   434\n",
       "11           663    11\n",
       "13          1392   350\n",
       "15           659   260\n",
       "17          1018   269\n",
       "18          1249   261\n",
       "19           723   263\n",
       "20           843   246\n",
       "23           791   315\n",
       "25             0   433\n",
       "27           704   159\n",
       "41           710   311\n",
       "44          1186   535\n",
       "47          1465   724\n",
       "50          1171   383\n",
       "52          1220   706\n",
       "54          1147   232\n",
       "63           783   242\n",
       "66          1036   178\n",
       "68          1510   597\n",
       "70          1319   368\n",
       "73           748   315\n",
       "76          1144   550\n",
       "88           319     0"
      ]
     },
     "execution_count": 24,
     "metadata": {},
     "output_type": "execute_result"
    }
   ],
   "source": [
    "pd.crosstab(emicron_22['COD_DEPTO'],emicron_22['area'].isna())"
   ]
  },
  {
   "cell_type": "markdown",
   "metadata": {},
   "source": [
    "#### 3.5 Variables de formalidad"
   ]
  },
  {
   "cell_type": "code",
   "execution_count": 25,
   "metadata": {},
   "outputs": [],
   "source": [
    "## Formalidad del micronegocio\n",
    "# Tiene RUT\n",
    "emicron_22['P1633'] = [0 if num == 2 else num for num in emicron_22['P1633']]\n",
    "# Está inscrito en CC\n",
    "emicron_22['P1055'] = [0 if num == 2 else num for num in emicron_22['P1055']]"
   ]
  },
  {
   "cell_type": "markdown",
   "metadata": {},
   "source": [
    "#### 3.6 Manera de llevar la contabilidad"
   ]
  },
  {
   "cell_type": "code",
   "execution_count": 26,
   "metadata": {},
   "outputs": [
    {
     "name": "stdout",
     "output_type": "stream",
     "text": [
      "Frecuencia forma de llevar contabilidad emicron:\n",
      " 5.0    18080\n",
      "3.0    11317\n",
      "2.0     2626\n",
      "1.0     1034\n",
      "4.0      134\n",
      "Name: P640, dtype: int64 __________\n",
      "\n",
      "Frecuencia luego de la homologación:\n",
      " 5.0    18080\n",
      "3.0    11317\n",
      "2.0     2626\n",
      "1.0     1168\n",
      "Name: P640, dtype: int64 ________\n",
      "\n",
      "Frecuencia luego del cambio de códificación:\n",
      " 4.0    18080\n",
      "3.0    11317\n",
      "2.0     2626\n",
      "1.0     1168\n",
      "Name: P640, dtype: int64 ________\n",
      "\n"
     ]
    }
   ],
   "source": [
    "## Manera de llevar contabilidad\n",
    "# Se unifica 4: informes financieros en 1: Balance General P&G\n",
    "print(\"Frecuencia forma de llevar contabilidad emicron:\\n\",emicron_22['P640'].value_counts(),\"__________\\n\")\n",
    "\n",
    "emicron_22['P640'] = [1 if num == 4 else num for num in emicron_22['P640']]\n",
    "print(\"Frecuencia luego de la homologación:\\n\",emicron_22['P640'].value_counts(),\"________\\n\")\n",
    "\n",
    "# Se cambia el 5 por 4, para homogenizar con los códigos de CENU\n",
    "emicron_22['P640'] = [4 if num == 5 else num for num in emicron_22['P640']]\n",
    "print(\"Frecuencia luego del cambio de códificación:\\n\",emicron_22['P640'].value_counts(),\"________\\n\")"
   ]
  },
  {
   "cell_type": "markdown",
   "metadata": {},
   "source": [
    "#### 3.7 Antigüedad"
   ]
  },
  {
   "cell_type": "code",
   "execution_count": 27,
   "metadata": {},
   "outputs": [
    {
     "data": {
      "text/plain": [
       "count    33191.000000\n",
       "mean        10.077973\n",
       "std         10.228451\n",
       "min          0.000000\n",
       "25%          2.000000\n",
       "50%          6.000000\n",
       "75%         15.000000\n",
       "max         83.000000\n",
       "Name: ANIOS_OPERACION, dtype: float64"
      ]
     },
     "execution_count": 27,
     "metadata": {},
     "output_type": "execute_result"
    }
   ],
   "source": [
    "emicron_22['ANIOS_OPERACION'] = emicron_22['P3034'] / 12\n",
    "#emicron_22['ANIOS_OPERACION'].describe()\n",
    "emicron_22['ANIOS_OPERACION'] = round(emicron_22['ANIOS_OPERACION'])\n",
    "emicron_22['ANIOS_OPERACION'].describe()"
   ]
  },
  {
   "cell_type": "markdown",
   "metadata": {},
   "source": [
    "#### 3.8 Sexo"
   ]
  },
  {
   "cell_type": "code",
   "execution_count": 28,
   "metadata": {},
   "outputs": [],
   "source": [
    "emicron_22['P35'].value_counts()\n",
    "emicron_22['P35'] = [0 if num == 2 else num for num in emicron_22['P35']]"
   ]
  },
  {
   "cell_type": "markdown",
   "metadata": {},
   "source": [
    "## 4. Renombrar variables"
   ]
  },
  {
   "cell_type": "code",
   "execution_count": 29,
   "metadata": {},
   "outputs": [],
   "source": [
    "nombre_estandar = {'P3053': 'UBICA',\n",
    "                   'P1633': 'IDRUT',\n",
    "                   'P640': 'REG_CONT',\n",
    "                   'P1055':'CAMCOMER',\n",
    "                   'P639' : 'ANOS_ESPACIO',\n",
    "                   'P35' : 'HOMBRE'\n",
    "               }\n",
    "\n",
    "emicron_22.rename(columns=nombre_estandar, inplace=True)"
   ]
  },
  {
   "cell_type": "code",
   "execution_count": 69,
   "metadata": {},
   "outputs": [],
   "source": [
    "emicron_22['OLA'] = 2022\n",
    "emicron_22.to_csv(r\"D:\\DANE - Contrato\\2024\\Operativo Barrido\\Data\\EMICRON_22_vf.csv\", index= False)"
   ]
  },
  {
   "cell_type": "code",
   "execution_count": 90,
   "metadata": {},
   "outputs": [
    {
     "name": "stderr",
     "output_type": "stream",
     "text": [
      "C:\\Users\\carlo\\AppData\\Local\\Temp\\ipykernel_14244\\176852474.py:1: DtypeWarning: Columns (59,60,102,104,106,132,133,134,135,136,137,141,143) have mixed types. Specify dtype option on import or set low_memory=False.\n",
      "  emicron_22 = pd.read_csv(r\"D:\\DANE - Contrato\\2024\\Operativo Barrido\\Data\\EMICRON_22_vf.csv\", header=0)\n"
     ]
    }
   ],
   "source": [
    "emicron_22 = pd.read_csv(r\"D:\\DANE - Contrato\\2024\\Operativo Barrido\\Data\\EMICRON_22_vf.csv\", header=0)    \n"
   ]
  },
  {
   "cell_type": "code",
   "execution_count": 99,
   "metadata": {},
   "outputs": [
    {
     "data": {
      "text/plain": [
       "True    33191\n",
       "dtype: int64"
      ]
     },
     "execution_count": 99,
     "metadata": {},
     "output_type": "execute_result"
    }
   ],
   "source": [
    "(emicron_22['REMUNERACION_TOTAL'] == emicron_22[['SUELDOS','PRESTACIONES']].sum(axis = 1)).value_counts()"
   ]
  },
  {
   "cell_type": "code",
   "execution_count": 106,
   "metadata": {},
   "outputs": [
    {
     "data": {
      "text/html": [
       "<div>\n",
       "<style scoped>\n",
       "    .dataframe tbody tr th:only-of-type {\n",
       "        vertical-align: middle;\n",
       "    }\n",
       "\n",
       "    .dataframe tbody tr th {\n",
       "        vertical-align: top;\n",
       "    }\n",
       "\n",
       "    .dataframe thead th {\n",
       "        text-align: right;\n",
       "    }\n",
       "</style>\n",
       "<table border=\"1\" class=\"dataframe\">\n",
       "  <thead>\n",
       "    <tr style=\"text-align: right;\">\n",
       "      <th></th>\n",
       "      <th>id</th>\n",
       "      <th>fex</th>\n",
       "      <th>fex_micro_c</th>\n",
       "      <th>FEX_C</th>\n",
       "      <th>FEX_P</th>\n",
       "      <th>F_EXP</th>\n",
       "    </tr>\n",
       "  </thead>\n",
       "  <tbody>\n",
       "    <tr>\n",
       "      <th>0</th>\n",
       "      <td>212002411</td>\n",
       "      <td>122.952097</td>\n",
       "      <td>1475.425169</td>\n",
       "      <td>1475.425169</td>\n",
       "      <td>142.486375</td>\n",
       "      <td>NaN</td>\n",
       "    </tr>\n",
       "    <tr>\n",
       "      <th>1</th>\n",
       "      <td>212002612</td>\n",
       "      <td>182.474123</td>\n",
       "      <td>2189.689475</td>\n",
       "      <td>2189.689475</td>\n",
       "      <td>142.486375</td>\n",
       "      <td>NaN</td>\n",
       "    </tr>\n",
       "    <tr>\n",
       "      <th>2</th>\n",
       "      <td>212003711</td>\n",
       "      <td>132.915712</td>\n",
       "      <td>1594.988546</td>\n",
       "      <td>1594.988546</td>\n",
       "      <td>156.735013</td>\n",
       "      <td>NaN</td>\n",
       "    </tr>\n",
       "    <tr>\n",
       "      <th>3</th>\n",
       "      <td>212003812</td>\n",
       "      <td>124.146742</td>\n",
       "      <td>1489.760902</td>\n",
       "      <td>1489.760902</td>\n",
       "      <td>156.735013</td>\n",
       "      <td>NaN</td>\n",
       "    </tr>\n",
       "    <tr>\n",
       "      <th>4</th>\n",
       "      <td>212005312</td>\n",
       "      <td>83.988234</td>\n",
       "      <td>1007.858812</td>\n",
       "      <td>1007.858812</td>\n",
       "      <td>130.612511</td>\n",
       "      <td>NaN</td>\n",
       "    </tr>\n",
       "    <tr>\n",
       "      <th>...</th>\n",
       "      <td>...</td>\n",
       "      <td>...</td>\n",
       "      <td>...</td>\n",
       "      <td>...</td>\n",
       "      <td>...</td>\n",
       "      <td>...</td>\n",
       "    </tr>\n",
       "    <tr>\n",
       "      <th>33186</th>\n",
       "      <td>727700811</td>\n",
       "      <td>28.994475</td>\n",
       "      <td>347.933697</td>\n",
       "      <td>341.774929</td>\n",
       "      <td>22.368639</td>\n",
       "      <td>NaN</td>\n",
       "    </tr>\n",
       "    <tr>\n",
       "      <th>33187</th>\n",
       "      <td>727701011</td>\n",
       "      <td>32.625588</td>\n",
       "      <td>391.507060</td>\n",
       "      <td>391.507060</td>\n",
       "      <td>31.846120</td>\n",
       "      <td>NaN</td>\n",
       "    </tr>\n",
       "    <tr>\n",
       "      <th>33188</th>\n",
       "      <td>727702714</td>\n",
       "      <td>15.316276</td>\n",
       "      <td>183.795312</td>\n",
       "      <td>178.216696</td>\n",
       "      <td>15.090721</td>\n",
       "      <td>NaN</td>\n",
       "    </tr>\n",
       "    <tr>\n",
       "      <th>33189</th>\n",
       "      <td>727702811</td>\n",
       "      <td>21.269300</td>\n",
       "      <td>255.231595</td>\n",
       "      <td>247.484721</td>\n",
       "      <td>16.096769</td>\n",
       "      <td>NaN</td>\n",
       "    </tr>\n",
       "    <tr>\n",
       "      <th>33190</th>\n",
       "      <td>727706812</td>\n",
       "      <td>11.244637</td>\n",
       "      <td>134.935639</td>\n",
       "      <td>134.935639</td>\n",
       "      <td>7.187147</td>\n",
       "      <td>NaN</td>\n",
       "    </tr>\n",
       "  </tbody>\n",
       "</table>\n",
       "<p>33191 rows × 6 columns</p>\n",
       "</div>"
      ],
      "text/plain": [
       "              id         fex  fex_micro_c        FEX_C       FEX_P  F_EXP\n",
       "0      212002411  122.952097  1475.425169  1475.425169  142.486375    NaN\n",
       "1      212002612  182.474123  2189.689475  2189.689475  142.486375    NaN\n",
       "2      212003711  132.915712  1594.988546  1594.988546  156.735013    NaN\n",
       "3      212003812  124.146742  1489.760902  1489.760902  156.735013    NaN\n",
       "4      212005312   83.988234  1007.858812  1007.858812  130.612511    NaN\n",
       "...          ...         ...          ...          ...         ...    ...\n",
       "33186  727700811   28.994475   347.933697   341.774929   22.368639    NaN\n",
       "33187  727701011   32.625588   391.507060   391.507060   31.846120    NaN\n",
       "33188  727702714   15.316276   183.795312   178.216696   15.090721    NaN\n",
       "33189  727702811   21.269300   255.231595   247.484721   16.096769    NaN\n",
       "33190  727706812   11.244637   134.935639   134.935639    7.187147    NaN\n",
       "\n",
       "[33191 rows x 6 columns]"
      ]
     },
     "execution_count": 106,
     "metadata": {},
     "output_type": "execute_result"
    }
   ],
   "source": [
    "emicron_22[['id','fex','fex_micro_c','FEX_C','FEX_P','F_EXP']]"
   ]
  },
  {
   "cell_type": "code",
   "execution_count": 107,
   "metadata": {},
   "outputs": [],
   "source": [
    "# data_path = r\"D:\\DANE - Contrato\\2024\\Operativo Barrido\\Data\"\n",
    "# emicron_22_pub = pd.read_csv(os.path.join(data_path,\"EMICRON_22.csv\"),header = 0)\n",
    "# emicron_22 = pd.merge(emicron_22, emicron_22_pub[['id','F_EXP']], on='id')"
   ]
  },
  {
   "cell_type": "code",
   "execution_count": 42,
   "metadata": {},
   "outputs": [],
   "source": [
    "var_estab = ['id','VENTAS_MES_ANTERIOR','CYG','POTTOT','REMUNERACION_TOTAL','COD_DEPTO','CPAM','GRUPOS4','UBICA','IDRUT','CAMCOMER','REG_CONT','ANIOS_OPERACION'] \n",
    "\n",
    "var_mov = ['id','VENTAS_MES_ANTERIOR','POTTOT','REMUNERACION_TOTAL','CYG','COD_DEPTO','CPAM','GRUPOS4','ANOS_ESPACIO','HOMBRE']"
   ]
  },
  {
   "cell_type": "code",
   "execution_count": 57,
   "metadata": {},
   "outputs": [
    {
     "data": {
      "text/plain": [
       "0        b'SE TOMA PUNTO DE GEORREFERENCIACION LUGAR DE...\n",
       "1                                     b'CEDULA VENEZOLANA'\n",
       "2                                                      NaN\n",
       "3                        b'NO SUMINISTRO NUMERO DE CEDULA'\n",
       "4                                                      NaN\n",
       "                               ...                        \n",
       "33186    b'FUENTE AFIRMA QUE EN EL CANON DE ARRENDAMIEN...\n",
       "33187                                                  NaN\n",
       "33188    b'EN LA SALUD ES BENEFICIARIO DE OTRA PERSONA ...\n",
       "33189                                                  NaN\n",
       "33190    b'MES DIC NO LE SALIO NINGUN TRABAJO PERO ESTU...\n",
       "Name: P2760, Length: 33191, dtype: object"
      ]
     },
     "execution_count": 57,
     "metadata": {},
     "output_type": "execute_result"
    }
   ],
   "source": [
    "emicron_22['P2760']"
   ]
  },
  {
   "cell_type": "markdown",
   "metadata": {},
   "source": [
    "# EMICRON 23"
   ]
  },
  {
   "cell_type": "markdown",
   "metadata": {},
   "source": [
    "### 1. Lectura información"
   ]
  },
  {
   "cell_type": "code",
   "execution_count": 31,
   "metadata": {},
   "outputs": [],
   "source": [
    "data_path = r\"D:\\DANE - Contrato\\2024\\Operativo Barrido\\Data\\Crudos\""
   ]
  },
  {
   "cell_type": "code",
   "execution_count": 32,
   "metadata": {},
   "outputs": [],
   "source": [
    "emicron_23 = pd.read_sas(os.path.join(data_path,\"emicron_2023.sas7bdat\"), format = \"sas7bdat\")\n",
    "# pd.DataFrame(emicron_23.columns).to_excel(\"Variables.xlsx\")\n",
    "# emicron_23[:5].transpose().to_excel(\"Muestra.xlsx\")"
   ]
  },
  {
   "cell_type": "markdown",
   "metadata": {},
   "source": [
    "#### 1.1 Arreglo variables"
   ]
  },
  {
   "cell_type": "code",
   "execution_count": 33,
   "metadata": {},
   "outputs": [
    {
     "name": "stderr",
     "output_type": "stream",
     "text": [
      "C:\\Users\\carlo\\AppData\\Local\\Temp\\ipykernel_19044\\1834767636.py:2: PerformanceWarning: DataFrame is highly fragmented.  This is usually the result of calling `frame.insert` many times, which has poor performance.  Consider joining all columns at once using pd.concat(axis=1) instead. To get a de-fragmented frame, use `newframe = frame.copy()`\n",
      "  emicron_23['id'] = emicron_23['DIRECTORIO'].astype(int).astype(str) + emicron_23['SECUENCIA_P'].astype(int).astype(str) + emicron_23['orden'].astype(int).astype(str)\n"
     ]
    }
   ],
   "source": [
    "# Construcción id\n",
    "emicron_23['id'] = emicron_23['DIRECTORIO'].astype(int).astype(str) + emicron_23['SECUENCIA_P'].astype(int).astype(str) + emicron_23['orden'].astype(int).astype(str)"
   ]
  },
  {
   "cell_type": "code",
   "execution_count": 34,
   "metadata": {},
   "outputs": [
    {
     "name": "stdout",
     "output_type": "stream",
     "text": [
      "<class 'pandas.core.frame.DataFrame'>\n",
      "RangeIndex: 81018 entries, 0 to 81017\n",
      "Data columns (total 21 columns):\n",
      " #   Column               Non-Null Count  Dtype  \n",
      "---  ------               --------------  -----  \n",
      " 0   VENTAS_MES_ANTERIOR  0 non-null      float64\n",
      " 1   REMUNERACION_TOTAL   0 non-null      float64\n",
      " 2   GASTOS_MES           0 non-null      float64\n",
      " 3   COSTOS_MES_ANTERIOR  0 non-null      float64\n",
      " 4   P3032_1              13498 non-null  float64\n",
      " 5   P3032_2              13496 non-null  float64\n",
      " 6   P3032_3              13496 non-null  float64\n",
      " 7   COD_DEPTO            81018 non-null  object \n",
      " 8   area                 55388 non-null  float64\n",
      " 9   GRUPOS4              81018 non-null  object \n",
      " 10  P3053                81018 non-null  float64\n",
      " 11  P3054                55786 non-null  float64\n",
      " 12  P1633                81018 non-null  float64\n",
      " 13  P1055                81018 non-null  float64\n",
      " 14  P640                 81018 non-null  float64\n",
      " 15  P639                 81017 non-null  float64\n",
      " 16  P3034                81018 non-null  float64\n",
      " 17  MPIO                 81018 non-null  object \n",
      " 18  GRUPOS12             81018 non-null  object \n",
      " 19  CIIU_3               81018 non-null  float64\n",
      " 20  P2760                52814 non-null  object \n",
      "dtypes: float64(16), object(5)\n",
      "memory usage: 13.0+ MB\n"
     ]
    },
    {
     "data": {
      "text/html": [
       "<div>\n",
       "<style scoped>\n",
       "    .dataframe tbody tr th:only-of-type {\n",
       "        vertical-align: middle;\n",
       "    }\n",
       "\n",
       "    .dataframe tbody tr th {\n",
       "        vertical-align: top;\n",
       "    }\n",
       "\n",
       "    .dataframe thead th {\n",
       "        text-align: right;\n",
       "    }\n",
       "</style>\n",
       "<table border=\"1\" class=\"dataframe\">\n",
       "  <thead>\n",
       "    <tr style=\"text-align: right;\">\n",
       "      <th></th>\n",
       "    </tr>\n",
       "  </thead>\n",
       "  <tbody>\n",
       "  </tbody>\n",
       "</table>\n",
       "</div>"
      ],
      "text/plain": [
       "Empty DataFrame\n",
       "Columns: []\n",
       "Index: []"
      ]
     },
     "execution_count": 34,
     "metadata": {},
     "output_type": "execute_result"
    }
   ],
   "source": [
    "# pd.DataFrame(emicron_23[['VENTAS_MES_ANTERIOR','P3057','P3058','P3059','P3060','P3061','P3062','P4002','P3063','P3064','P3065','P3066','P3067','P3092','P3093',\n",
    "#             'REMUNERACION_TOTAL',\n",
    "#             'GASTOS_MES','P3017_A','P3017_B','P3017_C','P3017_D','P3017_E','P3017_F','P3017_G','P3017_H','P3017_K',\n",
    "#             'COSTOS_MES_ANTERIOR','P3056_A','P3056_B','P3056_C','P3056_D',\n",
    "#             'P3032_1','P3032_2','P3032_3',\n",
    "#             'COD_DEPTO','area','GRUPOS4','P3053','P1633','P1055','P640','P639','P3034']].isna().sum())\n",
    "\n",
    "pd.DataFrame(emicron_23[['VENTAS_MES_ANTERIOR',#'P3057','P3058','P3059','P3060','P3061','P3062','P4002','P3063','P3064','P3065','P3066','P3067','P3092','P3093',\n",
    "           'REMUNERACION_TOTAL',\n",
    "           'GASTOS_MES',#'P3017_A','P3017_B','P3017_C','P3017_D','P3017_E','P3017_F','P3017_G','P3017_H','P3017_K',\n",
    "           'COSTOS_MES_ANTERIOR',#'P3056_A','P3056_B','P3056_C','P3056_D',\n",
    "           'P3032_1','P3032_2','P3032_3',\n",
    "           'COD_DEPTO','area','GRUPOS4','P3053','P3054','P1633','P1055','P640','P639','P3034','MPIO','GRUPOS12','CIIU_3','P2760']].info())"
   ]
  },
  {
   "cell_type": "code",
   "execution_count": 35,
   "metadata": {},
   "outputs": [],
   "source": [
    "emicron_23['GRUPOS12'] = emicron_23['GRUPOS12'].astype('int')\n",
    "emicron_23['GRUPOS4'] = emicron_23['GRUPOS4'].astype('int')\n",
    "emicron_23['MPIO'] = emicron_23['MPIO'].astype('int')\n",
    "emicron_23['COD_DEPTO'] = emicron_23['COD_DEPTO'].astype('int')"
   ]
  },
  {
   "cell_type": "markdown",
   "metadata": {},
   "source": [
    "### 2. Filtrado de la información\n",
    "Se procederá a filtrar la base de datos con base en unos elementos particulares:  \n",
    "1. Actividades económicas que cubre EMICRON y que no serán tenidas en cuenta en CENU.  \n",
    "2. Ubicación del micronegocio. Ya que se entrenará un modelo para puestos fijos y micronegocios en vivienda (sólo los visibles al público), y otro para puestos móviles.   \n",
    "3. Otras variables como el número de establecimientos, que permitan mantener una información homogénea."
   ]
  },
  {
   "cell_type": "markdown",
   "metadata": {},
   "source": [
    "#### 2.1 Actividades económicas que cubrirá el CENU \n",
    "Emicron incluye preguntas a los sectores de agricultura, ganadería, caza, silvicultura y pesca; además, de minería. Debido a que estos sectores no harán parte del Universo del Censo Económico, se descartarán de la base de datos:"
   ]
  },
  {
   "cell_type": "code",
   "execution_count": 36,
   "metadata": {},
   "outputs": [
    {
     "data": {
      "text/plain": [
       "(70597, 519)"
      ]
     },
     "execution_count": 36,
     "metadata": {},
     "output_type": "execute_result"
    }
   ],
   "source": [
    "emicron_23 = emicron_23[~(emicron_23['GRUPOS12'].isin([1,2,13]))]\n",
    "emicron_23.shape"
   ]
  },
  {
   "cell_type": "markdown",
   "metadata": {},
   "source": [
    "#### 2.2 Ubicación del micronegocio\n",
    "Para el entrenamiento de los modelos se utilizará la ubicación de micronegocios en 1: Vivienda, 2: Local (puestos fijos), 4: Ambulante, por lo tanto sólo estas categorías se mantendrán. De igual manera, el CENU, sólo recolectará información de actividades económicas visibles, por lo tanto se filtrará por este tipo de micronegocios."
   ]
  },
  {
   "cell_type": "code",
   "execution_count": 37,
   "metadata": {},
   "outputs": [
    {
     "name": "stdout",
     "output_type": "stream",
     "text": [
      "1.0    23469\n",
      "3.0    13563\n",
      "5.0    11383\n",
      "2.0    10043\n",
      "4.0     8662\n",
      "6.0     2691\n",
      "8.0      456\n",
      "7.0      330\n",
      "Name: P3053, dtype: int64\n",
      "1.0    23469\n",
      "2.0    10043\n",
      "4.0     8662\n",
      "Name: P3053, dtype: int64\n"
     ]
    }
   ],
   "source": [
    "print(emicron_23['P3053'].value_counts())\n",
    "\n",
    "# Seleccionar sólo viviendas, establecimientos y ambulantes\n",
    "emicron_23 = emicron_23[emicron_23['P3053'].isin([1,2,4])]\n",
    "\n",
    "print(emicron_23['P3053'].value_counts())"
   ]
  },
  {
   "cell_type": "code",
   "execution_count": 38,
   "metadata": {},
   "outputs": [
    {
     "name": "stdout",
     "output_type": "stream",
     "text": [
      "1.0    12685\n",
      "2.0    10043\n",
      "4.0     8662\n",
      "Name: P3053, dtype: int64\n"
     ]
    }
   ],
   "source": [
    "# Visibilidad del micronegocio (sólo eliminar viviendas no visibles al público)\n",
    "emicron_23.drop(emicron_23[(emicron_23['P3053'] == 1) & (emicron_23['P469'] == 2)].index, inplace = True)\n",
    "\n",
    "# [(emicron_23['P469'] == 1)]\n",
    "print(emicron_23['P3053'].value_counts())"
   ]
  },
  {
   "cell_type": "code",
   "execution_count": 39,
   "metadata": {},
   "outputs": [
    {
     "data": {
      "text/plain": [
       "(31390, 519)"
      ]
     },
     "execution_count": 39,
     "metadata": {},
     "output_type": "execute_result"
    }
   ],
   "source": [
    "emicron_23.shape"
   ]
  },
  {
   "cell_type": "code",
   "execution_count": 40,
   "metadata": {},
   "outputs": [
    {
     "name": "stdout",
     "output_type": "stream",
     "text": [
      "3.0    12685\n",
      "1.0    10043\n",
      "4.0     8662\n",
      "Name: P3053, dtype: int64\n"
     ]
    }
   ],
   "source": [
    "# Reemplazar los códigos en función de la codificación que se recibirá en el CENU\n",
    "# 1: Establecimiento fijo\n",
    "# 3: Vivienda con actividad económica visible\n",
    "def rule(i):\n",
    "    if i == 1:\n",
    "        return 3\n",
    "    elif i == 2:\n",
    "        return 1\n",
    "    return i\n",
    "\n",
    "emicron_23['P3053'] = list(map(rule,emicron_23['P3053']))\n",
    "print(emicron_23['P3053'].value_counts())"
   ]
  },
  {
   "cell_type": "markdown",
   "metadata": {},
   "source": [
    "#### 2.3 Ventas del mes anterior\n",
    "Eliminar las filas cuyas ventas del año pasado son missing y cero"
   ]
  },
  {
   "cell_type": "code",
   "execution_count": 41,
   "metadata": {},
   "outputs": [
    {
     "name": "stdout",
     "output_type": "stream",
     "text": [
      "Valores nulos ventas:  31390\n",
      "Ventas en cero:  0\n"
     ]
    },
    {
     "data": {
      "text/plain": [
       "(31390, 519)"
      ]
     },
     "execution_count": 41,
     "metadata": {},
     "output_type": "execute_result"
    }
   ],
   "source": [
    "# Valores nulos ventas\n",
    "print(\"Valores nulos ventas: \", emicron_23[\"VENTAS_MES_ANTERIOR\"].isna().sum())\n",
    "\n",
    "# Valores cero ventas\n",
    "print(\"Ventas en cero: \", (emicron_23[\"VENTAS_MES_ANTERIOR\"]==0).sum())\n",
    "\n",
    "# Eliminar los registros con venta cero\n",
    "#emicron_23 = emicron_23[~(emicron_23[\"VENTAS_MES_ANTERIOR\"] == 0)]\n",
    "\n",
    "emicron_23.shape"
   ]
  },
  {
   "cell_type": "markdown",
   "metadata": {},
   "source": [
    "#### 2.4 Número de establecimientos\n",
    "Eliminar las filas cuyo número de estabecimientos es diferente a 1, ya que la información que recolecta el CENU es por establecimiento y la recolectada por EMICRON es a nivel de negocio, pero a veces se presenta información también solo por establecimiento cuando el negocio tiene más de un establecimiento. Para evitar eso, sólo utilizar los micronegocios que reportan un sólo establecimiento comercial, que representan el 99.36 % de la muestra (casi todos)."
   ]
  },
  {
   "cell_type": "code",
   "execution_count": 42,
   "metadata": {},
   "outputs": [
    {
     "data": {
      "text/html": [
       "<div>\n",
       "<style scoped>\n",
       "    .dataframe tbody tr th:only-of-type {\n",
       "        vertical-align: middle;\n",
       "    }\n",
       "\n",
       "    .dataframe tbody tr th {\n",
       "        vertical-align: top;\n",
       "    }\n",
       "\n",
       "    .dataframe thead th {\n",
       "        text-align: right;\n",
       "    }\n",
       "</style>\n",
       "<table border=\"1\" class=\"dataframe\">\n",
       "  <thead>\n",
       "    <tr style=\"text-align: right;\">\n",
       "      <th>P3053</th>\n",
       "      <th>1.0</th>\n",
       "      <th>3.0</th>\n",
       "      <th>4.0</th>\n",
       "    </tr>\n",
       "    <tr>\n",
       "      <th>P3054</th>\n",
       "      <th></th>\n",
       "      <th></th>\n",
       "      <th></th>\n",
       "    </tr>\n",
       "  </thead>\n",
       "  <tbody>\n",
       "    <tr>\n",
       "      <th>False</th>\n",
       "      <td>10043</td>\n",
       "      <td>12685</td>\n",
       "      <td>3450</td>\n",
       "    </tr>\n",
       "    <tr>\n",
       "      <th>True</th>\n",
       "      <td>0</td>\n",
       "      <td>0</td>\n",
       "      <td>5212</td>\n",
       "    </tr>\n",
       "  </tbody>\n",
       "</table>\n",
       "</div>"
      ],
      "text/plain": [
       "P3053    1.0    3.0   4.0\n",
       "P3054                    \n",
       "False  10043  12685  3450\n",
       "True       0      0  5212"
      ]
     },
     "execution_count": 42,
     "metadata": {},
     "output_type": "execute_result"
    }
   ],
   "source": [
    "pd.crosstab(emicron_23['P3054'].isna(), emicron_23['P3053'])"
   ]
  },
  {
   "cell_type": "code",
   "execution_count": 43,
   "metadata": {},
   "outputs": [
    {
     "name": "stdout",
     "output_type": "stream",
     "text": [
      "1.0     26078\n",
      "2.0        77\n",
      "3.0        19\n",
      "11.0        2\n",
      "6.0         1\n",
      "5.0         1\n",
      "Name: P3054, dtype: int64 \n",
      "_____________\n",
      "\n"
     ]
    },
    {
     "data": {
      "text/plain": [
       "(31290, 519)"
      ]
     },
     "execution_count": 43,
     "metadata": {},
     "output_type": "execute_result"
    }
   ],
   "source": [
    "emicron_23['P3054'] = pd.to_numeric(emicron_23['P3054'], errors='coerce')\n",
    "print(emicron_23['P3054'].value_counts(),\"\\n_____________\\n\")\n",
    "emicron_23 = emicron_23[(emicron_23['P3054'] == 1) | ((emicron_23['P3054'].isna()) & (emicron_23['P3053']==4))]\n",
    "emicron_23.shape"
   ]
  },
  {
   "cell_type": "code",
   "execution_count": 44,
   "metadata": {},
   "outputs": [
    {
     "data": {
      "text/html": [
       "<div>\n",
       "<style scoped>\n",
       "    .dataframe tbody tr th:only-of-type {\n",
       "        vertical-align: middle;\n",
       "    }\n",
       "\n",
       "    .dataframe tbody tr th {\n",
       "        vertical-align: top;\n",
       "    }\n",
       "\n",
       "    .dataframe thead th {\n",
       "        text-align: right;\n",
       "    }\n",
       "</style>\n",
       "<table border=\"1\" class=\"dataframe\">\n",
       "  <thead>\n",
       "    <tr style=\"text-align: right;\">\n",
       "      <th>P3053</th>\n",
       "      <th>1.0</th>\n",
       "      <th>3.0</th>\n",
       "      <th>4.0</th>\n",
       "    </tr>\n",
       "    <tr>\n",
       "      <th>P3054</th>\n",
       "      <th></th>\n",
       "      <th></th>\n",
       "      <th></th>\n",
       "    </tr>\n",
       "  </thead>\n",
       "  <tbody>\n",
       "    <tr>\n",
       "      <th>False</th>\n",
       "      <td>9974</td>\n",
       "      <td>12669</td>\n",
       "      <td>3435</td>\n",
       "    </tr>\n",
       "    <tr>\n",
       "      <th>True</th>\n",
       "      <td>0</td>\n",
       "      <td>0</td>\n",
       "      <td>5212</td>\n",
       "    </tr>\n",
       "  </tbody>\n",
       "</table>\n",
       "</div>"
      ],
      "text/plain": [
       "P3053   1.0    3.0   4.0\n",
       "P3054                   \n",
       "False  9974  12669  3435\n",
       "True      0      0  5212"
      ]
     },
     "execution_count": 44,
     "metadata": {},
     "output_type": "execute_result"
    }
   ],
   "source": [
    "pd.crosstab(emicron_23['P3054'].isna(), emicron_23['P3053'])"
   ]
  },
  {
   "cell_type": "code",
   "execution_count": 45,
   "metadata": {},
   "outputs": [
    {
     "data": {
      "text/html": [
       "<div>\n",
       "<style scoped>\n",
       "    .dataframe tbody tr th:only-of-type {\n",
       "        vertical-align: middle;\n",
       "    }\n",
       "\n",
       "    .dataframe tbody tr th {\n",
       "        vertical-align: top;\n",
       "    }\n",
       "\n",
       "    .dataframe thead th {\n",
       "        text-align: right;\n",
       "    }\n",
       "</style>\n",
       "<table border=\"1\" class=\"dataframe\">\n",
       "  <thead>\n",
       "    <tr style=\"text-align: right;\">\n",
       "      <th>P3053</th>\n",
       "      <th>1.0</th>\n",
       "      <th>3.0</th>\n",
       "      <th>4.0</th>\n",
       "    </tr>\n",
       "    <tr>\n",
       "      <th>P469</th>\n",
       "      <th></th>\n",
       "      <th></th>\n",
       "      <th></th>\n",
       "    </tr>\n",
       "  </thead>\n",
       "  <tbody>\n",
       "    <tr>\n",
       "      <th>1.0</th>\n",
       "      <td>9374</td>\n",
       "      <td>12669</td>\n",
       "      <td>3195</td>\n",
       "    </tr>\n",
       "    <tr>\n",
       "      <th>2.0</th>\n",
       "      <td>600</td>\n",
       "      <td>0</td>\n",
       "      <td>240</td>\n",
       "    </tr>\n",
       "  </tbody>\n",
       "</table>\n",
       "</div>"
      ],
      "text/plain": [
       "P3053   1.0    3.0   4.0\n",
       "P469                    \n",
       "1.0    9374  12669  3195\n",
       "2.0     600      0   240"
      ]
     },
     "execution_count": 45,
     "metadata": {},
     "output_type": "execute_result"
    }
   ],
   "source": [
    "pd.crosstab(emicron_23['P469'], emicron_23['P3053'])"
   ]
  },
  {
   "cell_type": "markdown",
   "metadata": {},
   "source": [
    "### 3. Creación variables principales\n",
    "1. Se creará una agrupación para la variable del número total de empleados  \n",
    "2. Se agregarán los costos y los gastos en una sola variable (CYG)  \n",
    "3. AREA se recodificará para que muestre si la observación pertenece a una ciudad capital del departamento  \n",
    "4. Contabilidad"
   ]
  },
  {
   "cell_type": "markdown",
   "metadata": {},
   "source": [
    "#### 3.1 Personal Ocupado"
   ]
  },
  {
   "cell_type": "code",
   "execution_count": 46,
   "metadata": {},
   "outputs": [],
   "source": [
    "emicron_23['POTTOT'] = emicron_23[['P3032_1','P3032_2','P3032_3']].sum(axis=1) + 1\n",
    "#emicron_23['POT_rem'] = emicron_23[['P3032_1']].sum(axis=1) + 1\n",
    "#emicron_23['POT_norem'] = emicron_23[['P3032_2','P3032_3']].sum(axis=1)\n",
    "\n",
    "# emicron_23[['POTTOT','POT_rem','POT_norem']].describe()\n",
    "# emicron_23[['POTTOT','POT_rem','POT_norem','REMUNERACION_TOTAL']].corr()\n",
    "\n",
    "#print(\"Coincidentes entre POTTOT y desagregación propuesta:\\n\",(emicron_23['POTTOT'] == emicron_23[['POT_rem','POT_norem']].sum(axis=1)).value_counts())"
   ]
  },
  {
   "cell_type": "code",
   "execution_count": 47,
   "metadata": {},
   "outputs": [
    {
     "data": {
      "text/plain": [
       "count    22643.000000\n",
       "mean         1.496666\n",
       "std          1.011429\n",
       "min          1.000000\n",
       "25%          1.000000\n",
       "50%          1.000000\n",
       "75%          2.000000\n",
       "max          9.000000\n",
       "Name: POTTOT, dtype: float64"
      ]
     },
     "execution_count": 47,
     "metadata": {},
     "output_type": "execute_result"
    }
   ],
   "source": [
    "emicron_23[emicron_23['P3053']!=4]['POTTOT'].describe()"
   ]
  },
  {
   "cell_type": "markdown",
   "metadata": {},
   "source": [
    "#### 3.2 Ventas al mes"
   ]
  },
  {
   "cell_type": "code",
   "execution_count": 48,
   "metadata": {},
   "outputs": [
    {
     "name": "stdout",
     "output_type": "stream",
     "text": [
      "Número de filas coincidentes entre la variable agregada y la suma de las individuales:\n",
      " False    31290\n",
      "dtype: int64\n"
     ]
    }
   ],
   "source": [
    "# Comparación suma individual y la agregada\n",
    "print(\"Número de filas coincidentes entre la variable agregada y la suma de las individuales:\\n\",(emicron_23['VENTAS_MES_ANTERIOR'] == emicron_23[['P3057','P3058','P3059','P3060','P3061','P3062','P4002','P3063','P3064','P3065','P3066','P3067','P3092','P3093']].sum(axis=1)).value_counts())\n",
    "#emicron_23[['VENTAS_MES_ANTERIOR','P3057','P3058','P3059','P3060','P3061','P3062','P4002','P3063','P3064','P3065','P3066','P3067','P3092','P3093']][~(emicron_23['VENTAS_MES_ANTERIOR'] == emicron_23[['P3057','P3058','P3059','P3060','P3061','P3062','P4002','P3063','P3064','P3065','P3066','P3067','P3092','P3093']].sum(axis=1))]"
   ]
  },
  {
   "cell_type": "code",
   "execution_count": 49,
   "metadata": {},
   "outputs": [
    {
     "name": "stdout",
     "output_type": "stream",
     "text": [
      "Información datos\n",
      ": (31290, 520) \n",
      "\n"
     ]
    },
    {
     "data": {
      "text/plain": [
       "False    31290\n",
       "dtype: int64"
      ]
     },
     "execution_count": 49,
     "metadata": {},
     "output_type": "execute_result"
    }
   ],
   "source": [
    "# ¿Existen filas que no cuenten con información?\n",
    "print(\"Información datos\\n:\",emicron_23.shape,\"\\n\")\n",
    "(emicron_23[['P3057','P3058','P3059','P3060','P3061','P3062','P4002','P3063','P3064','P3065','P3066','P3067','P3092','P3093']].isna().all(axis = 1)).value_counts()\n",
    "\n",
    "# Parece que no existe filas con NA's"
   ]
  },
  {
   "cell_type": "markdown",
   "metadata": {},
   "source": [
    "#### 3.3 Costos y gastos al mes"
   ]
  },
  {
   "cell_type": "code",
   "execution_count": 50,
   "metadata": {},
   "outputs": [
    {
     "name": "stdout",
     "output_type": "stream",
     "text": [
      "Número de filas coincidentes entre la variable agregada y la suma de las individuales:\n",
      " False    31290\n",
      "dtype: int64\n"
     ]
    }
   ],
   "source": [
    "# Comparación suma individual y la agregada\n",
    "print(\"Número de filas coincidentes entre la variable agregada y la suma de las individuales:\\n\",(emicron_23['COSTOS_MES_ANTERIOR'] == emicron_23[['P3056_A','P3056_B','P3056_C','P3056_D']].sum(axis=1)).value_counts())"
   ]
  },
  {
   "cell_type": "code",
   "execution_count": 51,
   "metadata": {},
   "outputs": [
    {
     "name": "stdout",
     "output_type": "stream",
     "text": [
      "Información datos\n",
      ": (31290, 520) \n",
      "\n"
     ]
    },
    {
     "data": {
      "text/plain": [
       "False    31290\n",
       "dtype: int64"
      ]
     },
     "execution_count": 51,
     "metadata": {},
     "output_type": "execute_result"
    }
   ],
   "source": [
    "# ¿Existen filas que no cuenten con información?\n",
    "print(\"Información datos\\n:\",emicron_23.shape,\"\\n\")\n",
    "(emicron_23[['P3056_A','P3056_B','P3056_C','P3056_D']].isna().all(axis = 1)).value_counts()\n",
    "\n",
    "# Parece que no existe filas con NA's"
   ]
  },
  {
   "cell_type": "code",
   "execution_count": 52,
   "metadata": {},
   "outputs": [
    {
     "name": "stdout",
     "output_type": "stream",
     "text": [
      "Número de filas coincidentes entre la variable agregada y la suma de las individuales:\n",
      " False    31290\n",
      "dtype: int64\n"
     ]
    }
   ],
   "source": [
    "# Comparación suma individual y la agregada\n",
    "print(\"Número de filas coincidentes entre la variable agregada y la suma de las individuales:\\n\",(emicron_23['GASTOS_MES'] == emicron_23[['P3017_A','P3017_B','P3017_C','P3017_D','P3017_E','P3017_F','P3017_G','P3017_H','P3017_K']].sum(axis=1)).value_counts())"
   ]
  },
  {
   "cell_type": "code",
   "execution_count": 53,
   "metadata": {},
   "outputs": [
    {
     "name": "stdout",
     "output_type": "stream",
     "text": [
      "Información datos\n",
      ": (31290, 520) \n",
      "\n"
     ]
    },
    {
     "data": {
      "text/plain": [
       "False    31290\n",
       "dtype: int64"
      ]
     },
     "execution_count": 53,
     "metadata": {},
     "output_type": "execute_result"
    }
   ],
   "source": [
    "# ¿Existen filas que no cuenten con información?\n",
    "print(\"Información datos\\n:\",emicron_23.shape,\"\\n\")\n",
    "(emicron_23[['P3017_A','P3017_B','P3017_C','P3017_D','P3017_E','P3017_F','P3017_G','P3017_H','P3017_K']].isna().all(axis = 1)).value_counts()\n",
    "\n",
    "# Parece que no existe filas con NA's"
   ]
  },
  {
   "cell_type": "code",
   "execution_count": 54,
   "metadata": {},
   "outputs": [],
   "source": [
    "# Agregación de la variable\n",
    "emicron_23['CYG'] = emicron_23[['COSTOS_MES_ANTERIOR','GASTOS_MES']].sum(axis=1)"
   ]
  },
  {
   "cell_type": "markdown",
   "metadata": {},
   "source": [
    "#### 3.4 Remuneración Total"
   ]
  },
  {
   "cell_type": "code",
   "execution_count": 55,
   "metadata": {},
   "outputs": [
    {
     "name": "stdout",
     "output_type": "stream",
     "text": [
      "Valores nulos: remuneración 31290 \n",
      "_________________\n",
      "Valores nulos: prestaciones 31290 \n",
      "_________________\n",
      "Valores nulos: sueldos 31290 \n",
      "_________________\n"
     ]
    }
   ],
   "source": [
    "print(\"Valores nulos: remuneración\",emicron_23['REMUNERACION_TOTAL'].isna().sum(),\"\\n_________________\")\n",
    "print(\"Valores nulos: prestaciones\",emicron_23['PRESTACIONES'].isna().sum(),\"\\n_________________\")\n",
    "print(\"Valores nulos: sueldos\",emicron_23['SUELDOS'].isna().sum(),\"\\n_________________\")"
   ]
  },
  {
   "cell_type": "code",
   "execution_count": 56,
   "metadata": {},
   "outputs": [
    {
     "ename": "KeyError",
     "evalue": "'P3079'",
     "output_type": "error",
     "traceback": [
      "\u001b[1;31m---------------------------------------------------------------------------\u001b[0m",
      "\u001b[1;31mKeyError\u001b[0m                                  Traceback (most recent call last)",
      "File \u001b[1;32m~\\AppData\\Roaming\\Python\\Python310\\site-packages\\pandas\\core\\indexes\\base.py:3621\u001b[0m, in \u001b[0;36mIndex.get_loc\u001b[1;34m(self, key, method, tolerance)\u001b[0m\n\u001b[0;32m   3620\u001b[0m \u001b[38;5;28;01mtry\u001b[39;00m:\n\u001b[1;32m-> 3621\u001b[0m     \u001b[38;5;28;01mreturn\u001b[39;00m \u001b[38;5;28;43mself\u001b[39;49m\u001b[38;5;241;43m.\u001b[39;49m\u001b[43m_engine\u001b[49m\u001b[38;5;241;43m.\u001b[39;49m\u001b[43mget_loc\u001b[49m\u001b[43m(\u001b[49m\u001b[43mcasted_key\u001b[49m\u001b[43m)\u001b[49m\n\u001b[0;32m   3622\u001b[0m \u001b[38;5;28;01mexcept\u001b[39;00m \u001b[38;5;167;01mKeyError\u001b[39;00m \u001b[38;5;28;01mas\u001b[39;00m err:\n",
      "File \u001b[1;32m~\\AppData\\Roaming\\Python\\Python310\\site-packages\\pandas\\_libs\\index.pyx:136\u001b[0m, in \u001b[0;36mpandas._libs.index.IndexEngine.get_loc\u001b[1;34m()\u001b[0m\n",
      "File \u001b[1;32m~\\AppData\\Roaming\\Python\\Python310\\site-packages\\pandas\\_libs\\index.pyx:163\u001b[0m, in \u001b[0;36mpandas._libs.index.IndexEngine.get_loc\u001b[1;34m()\u001b[0m\n",
      "File \u001b[1;32mpandas\\_libs\\hashtable_class_helper.pxi:5198\u001b[0m, in \u001b[0;36mpandas._libs.hashtable.PyObjectHashTable.get_item\u001b[1;34m()\u001b[0m\n",
      "File \u001b[1;32mpandas\\_libs\\hashtable_class_helper.pxi:5206\u001b[0m, in \u001b[0;36mpandas._libs.hashtable.PyObjectHashTable.get_item\u001b[1;34m()\u001b[0m\n",
      "\u001b[1;31mKeyError\u001b[0m: 'P3079'",
      "\nThe above exception was the direct cause of the following exception:\n",
      "\u001b[1;31mKeyError\u001b[0m                                  Traceback (most recent call last)",
      "Cell \u001b[1;32mIn[56], line 1\u001b[0m\n\u001b[1;32m----> 1\u001b[0m \u001b[43memicron_23\u001b[49m\u001b[43m[\u001b[49m\u001b[38;5;124;43m'\u001b[39;49m\u001b[38;5;124;43mP3079\u001b[39;49m\u001b[38;5;124;43m'\u001b[39;49m\u001b[43m]\u001b[49m\n",
      "File \u001b[1;32m~\\AppData\\Roaming\\Python\\Python310\\site-packages\\pandas\\core\\frame.py:3505\u001b[0m, in \u001b[0;36mDataFrame.__getitem__\u001b[1;34m(self, key)\u001b[0m\n\u001b[0;32m   3503\u001b[0m \u001b[38;5;28;01mif\u001b[39;00m \u001b[38;5;28mself\u001b[39m\u001b[38;5;241m.\u001b[39mcolumns\u001b[38;5;241m.\u001b[39mnlevels \u001b[38;5;241m>\u001b[39m \u001b[38;5;241m1\u001b[39m:\n\u001b[0;32m   3504\u001b[0m     \u001b[38;5;28;01mreturn\u001b[39;00m \u001b[38;5;28mself\u001b[39m\u001b[38;5;241m.\u001b[39m_getitem_multilevel(key)\n\u001b[1;32m-> 3505\u001b[0m indexer \u001b[38;5;241m=\u001b[39m \u001b[38;5;28;43mself\u001b[39;49m\u001b[38;5;241;43m.\u001b[39;49m\u001b[43mcolumns\u001b[49m\u001b[38;5;241;43m.\u001b[39;49m\u001b[43mget_loc\u001b[49m\u001b[43m(\u001b[49m\u001b[43mkey\u001b[49m\u001b[43m)\u001b[49m\n\u001b[0;32m   3506\u001b[0m \u001b[38;5;28;01mif\u001b[39;00m is_integer(indexer):\n\u001b[0;32m   3507\u001b[0m     indexer \u001b[38;5;241m=\u001b[39m [indexer]\n",
      "File \u001b[1;32m~\\AppData\\Roaming\\Python\\Python310\\site-packages\\pandas\\core\\indexes\\base.py:3623\u001b[0m, in \u001b[0;36mIndex.get_loc\u001b[1;34m(self, key, method, tolerance)\u001b[0m\n\u001b[0;32m   3621\u001b[0m     \u001b[38;5;28;01mreturn\u001b[39;00m \u001b[38;5;28mself\u001b[39m\u001b[38;5;241m.\u001b[39m_engine\u001b[38;5;241m.\u001b[39mget_loc(casted_key)\n\u001b[0;32m   3622\u001b[0m \u001b[38;5;28;01mexcept\u001b[39;00m \u001b[38;5;167;01mKeyError\u001b[39;00m \u001b[38;5;28;01mas\u001b[39;00m err:\n\u001b[1;32m-> 3623\u001b[0m     \u001b[38;5;28;01mraise\u001b[39;00m \u001b[38;5;167;01mKeyError\u001b[39;00m(key) \u001b[38;5;28;01mfrom\u001b[39;00m \u001b[38;5;21;01merr\u001b[39;00m\n\u001b[0;32m   3624\u001b[0m \u001b[38;5;28;01mexcept\u001b[39;00m \u001b[38;5;167;01mTypeError\u001b[39;00m:\n\u001b[0;32m   3625\u001b[0m     \u001b[38;5;66;03m# If we have a listlike key, _check_indexing_error will raise\u001b[39;00m\n\u001b[0;32m   3626\u001b[0m     \u001b[38;5;66;03m#  InvalidIndexError. Otherwise we fall through and re-raise\u001b[39;00m\n\u001b[0;32m   3627\u001b[0m     \u001b[38;5;66;03m#  the TypeError.\u001b[39;00m\n\u001b[0;32m   3628\u001b[0m     \u001b[38;5;28mself\u001b[39m\u001b[38;5;241m.\u001b[39m_check_indexing_error(key)\n",
      "\u001b[1;31mKeyError\u001b[0m: 'P3079'"
     ]
    }
   ],
   "source": [
    "emicron_23['P3079']"
   ]
  },
  {
   "cell_type": "markdown",
   "metadata": {},
   "source": [
    "#### 3.5 Variable de Ciudad Capital y A.M\n",
    "Recodificar la variable de Área en función de si es una ciudad principal o un área metropolitana dentro del departamento"
   ]
  },
  {
   "cell_type": "code",
   "execution_count": 57,
   "metadata": {},
   "outputs": [],
   "source": [
    "def rule_city(i):\n",
    "    if pd.isna(i) == True:\n",
    "        return 0\n",
    "    else:\n",
    "        return 1\n",
    "    return i\n",
    "\n",
    "emicron_23['CPAM'] = list(map(rule_city,emicron_23['area']))"
   ]
  },
  {
   "cell_type": "code",
   "execution_count": 58,
   "metadata": {},
   "outputs": [
    {
     "data": {
      "text/html": [
       "<div>\n",
       "<style scoped>\n",
       "    .dataframe tbody tr th:only-of-type {\n",
       "        vertical-align: middle;\n",
       "    }\n",
       "\n",
       "    .dataframe tbody tr th {\n",
       "        vertical-align: top;\n",
       "    }\n",
       "\n",
       "    .dataframe thead th {\n",
       "        text-align: right;\n",
       "    }\n",
       "</style>\n",
       "<table border=\"1\" class=\"dataframe\">\n",
       "  <thead>\n",
       "    <tr style=\"text-align: right;\">\n",
       "      <th>CPAM</th>\n",
       "      <th>0</th>\n",
       "      <th>1</th>\n",
       "    </tr>\n",
       "    <tr>\n",
       "      <th>COD_DEPTO</th>\n",
       "      <th></th>\n",
       "      <th></th>\n",
       "    </tr>\n",
       "  </thead>\n",
       "  <tbody>\n",
       "    <tr>\n",
       "      <th>5</th>\n",
       "      <td>592</td>\n",
       "      <td>1482</td>\n",
       "    </tr>\n",
       "    <tr>\n",
       "      <th>8</th>\n",
       "      <td>329</td>\n",
       "      <td>1404</td>\n",
       "    </tr>\n",
       "    <tr>\n",
       "      <th>11</th>\n",
       "      <td>19</td>\n",
       "      <td>707</td>\n",
       "    </tr>\n",
       "    <tr>\n",
       "      <th>13</th>\n",
       "      <td>292</td>\n",
       "      <td>1418</td>\n",
       "    </tr>\n",
       "    <tr>\n",
       "      <th>15</th>\n",
       "      <td>216</td>\n",
       "      <td>708</td>\n",
       "    </tr>\n",
       "    <tr>\n",
       "      <th>17</th>\n",
       "      <td>229</td>\n",
       "      <td>904</td>\n",
       "    </tr>\n",
       "    <tr>\n",
       "      <th>18</th>\n",
       "      <td>293</td>\n",
       "      <td>1069</td>\n",
       "    </tr>\n",
       "    <tr>\n",
       "      <th>19</th>\n",
       "      <td>288</td>\n",
       "      <td>943</td>\n",
       "    </tr>\n",
       "    <tr>\n",
       "      <th>20</th>\n",
       "      <td>242</td>\n",
       "      <td>788</td>\n",
       "    </tr>\n",
       "    <tr>\n",
       "      <th>23</th>\n",
       "      <td>360</td>\n",
       "      <td>789</td>\n",
       "    </tr>\n",
       "    <tr>\n",
       "      <th>25</th>\n",
       "      <td>390</td>\n",
       "      <td>0</td>\n",
       "    </tr>\n",
       "    <tr>\n",
       "      <th>27</th>\n",
       "      <td>122</td>\n",
       "      <td>607</td>\n",
       "    </tr>\n",
       "    <tr>\n",
       "      <th>41</th>\n",
       "      <td>166</td>\n",
       "      <td>684</td>\n",
       "    </tr>\n",
       "    <tr>\n",
       "      <th>44</th>\n",
       "      <td>180</td>\n",
       "      <td>1352</td>\n",
       "    </tr>\n",
       "    <tr>\n",
       "      <th>47</th>\n",
       "      <td>464</td>\n",
       "      <td>1066</td>\n",
       "    </tr>\n",
       "    <tr>\n",
       "      <th>50</th>\n",
       "      <td>312</td>\n",
       "      <td>1024</td>\n",
       "    </tr>\n",
       "    <tr>\n",
       "      <th>52</th>\n",
       "      <td>586</td>\n",
       "      <td>1205</td>\n",
       "    </tr>\n",
       "    <tr>\n",
       "      <th>54</th>\n",
       "      <td>211</td>\n",
       "      <td>1111</td>\n",
       "    </tr>\n",
       "    <tr>\n",
       "      <th>63</th>\n",
       "      <td>108</td>\n",
       "      <td>980</td>\n",
       "    </tr>\n",
       "    <tr>\n",
       "      <th>66</th>\n",
       "      <td>232</td>\n",
       "      <td>974</td>\n",
       "    </tr>\n",
       "    <tr>\n",
       "      <th>68</th>\n",
       "      <td>582</td>\n",
       "      <td>1343</td>\n",
       "    </tr>\n",
       "    <tr>\n",
       "      <th>70</th>\n",
       "      <td>380</td>\n",
       "      <td>1005</td>\n",
       "    </tr>\n",
       "    <tr>\n",
       "      <th>73</th>\n",
       "      <td>256</td>\n",
       "      <td>634</td>\n",
       "    </tr>\n",
       "    <tr>\n",
       "      <th>76</th>\n",
       "      <td>630</td>\n",
       "      <td>1311</td>\n",
       "    </tr>\n",
       "    <tr>\n",
       "      <th>88</th>\n",
       "      <td>0</td>\n",
       "      <td>303</td>\n",
       "    </tr>\n",
       "  </tbody>\n",
       "</table>\n",
       "</div>"
      ],
      "text/plain": [
       "CPAM         0     1\n",
       "COD_DEPTO           \n",
       "5          592  1482\n",
       "8          329  1404\n",
       "11          19   707\n",
       "13         292  1418\n",
       "15         216   708\n",
       "17         229   904\n",
       "18         293  1069\n",
       "19         288   943\n",
       "20         242   788\n",
       "23         360   789\n",
       "25         390     0\n",
       "27         122   607\n",
       "41         166   684\n",
       "44         180  1352\n",
       "47         464  1066\n",
       "50         312  1024\n",
       "52         586  1205\n",
       "54         211  1111\n",
       "63         108   980\n",
       "66         232   974\n",
       "68         582  1343\n",
       "70         380  1005\n",
       "73         256   634\n",
       "76         630  1311\n",
       "88           0   303"
      ]
     },
     "execution_count": 58,
     "metadata": {},
     "output_type": "execute_result"
    }
   ],
   "source": [
    "pd.crosstab(emicron_23['COD_DEPTO'],emicron_23['CPAM'])"
   ]
  },
  {
   "cell_type": "code",
   "execution_count": 59,
   "metadata": {},
   "outputs": [
    {
     "data": {
      "text/html": [
       "<div>\n",
       "<style scoped>\n",
       "    .dataframe tbody tr th:only-of-type {\n",
       "        vertical-align: middle;\n",
       "    }\n",
       "\n",
       "    .dataframe tbody tr th {\n",
       "        vertical-align: top;\n",
       "    }\n",
       "\n",
       "    .dataframe thead th {\n",
       "        text-align: right;\n",
       "    }\n",
       "</style>\n",
       "<table border=\"1\" class=\"dataframe\">\n",
       "  <thead>\n",
       "    <tr style=\"text-align: right;\">\n",
       "      <th>area</th>\n",
       "      <th>False</th>\n",
       "      <th>True</th>\n",
       "    </tr>\n",
       "    <tr>\n",
       "      <th>COD_DEPTO</th>\n",
       "      <th></th>\n",
       "      <th></th>\n",
       "    </tr>\n",
       "  </thead>\n",
       "  <tbody>\n",
       "    <tr>\n",
       "      <th>5</th>\n",
       "      <td>1482</td>\n",
       "      <td>592</td>\n",
       "    </tr>\n",
       "    <tr>\n",
       "      <th>8</th>\n",
       "      <td>1404</td>\n",
       "      <td>329</td>\n",
       "    </tr>\n",
       "    <tr>\n",
       "      <th>11</th>\n",
       "      <td>707</td>\n",
       "      <td>19</td>\n",
       "    </tr>\n",
       "    <tr>\n",
       "      <th>13</th>\n",
       "      <td>1418</td>\n",
       "      <td>292</td>\n",
       "    </tr>\n",
       "    <tr>\n",
       "      <th>15</th>\n",
       "      <td>708</td>\n",
       "      <td>216</td>\n",
       "    </tr>\n",
       "    <tr>\n",
       "      <th>17</th>\n",
       "      <td>904</td>\n",
       "      <td>229</td>\n",
       "    </tr>\n",
       "    <tr>\n",
       "      <th>18</th>\n",
       "      <td>1069</td>\n",
       "      <td>293</td>\n",
       "    </tr>\n",
       "    <tr>\n",
       "      <th>19</th>\n",
       "      <td>943</td>\n",
       "      <td>288</td>\n",
       "    </tr>\n",
       "    <tr>\n",
       "      <th>20</th>\n",
       "      <td>788</td>\n",
       "      <td>242</td>\n",
       "    </tr>\n",
       "    <tr>\n",
       "      <th>23</th>\n",
       "      <td>789</td>\n",
       "      <td>360</td>\n",
       "    </tr>\n",
       "    <tr>\n",
       "      <th>25</th>\n",
       "      <td>0</td>\n",
       "      <td>390</td>\n",
       "    </tr>\n",
       "    <tr>\n",
       "      <th>27</th>\n",
       "      <td>607</td>\n",
       "      <td>122</td>\n",
       "    </tr>\n",
       "    <tr>\n",
       "      <th>41</th>\n",
       "      <td>684</td>\n",
       "      <td>166</td>\n",
       "    </tr>\n",
       "    <tr>\n",
       "      <th>44</th>\n",
       "      <td>1352</td>\n",
       "      <td>180</td>\n",
       "    </tr>\n",
       "    <tr>\n",
       "      <th>47</th>\n",
       "      <td>1066</td>\n",
       "      <td>464</td>\n",
       "    </tr>\n",
       "    <tr>\n",
       "      <th>50</th>\n",
       "      <td>1024</td>\n",
       "      <td>312</td>\n",
       "    </tr>\n",
       "    <tr>\n",
       "      <th>52</th>\n",
       "      <td>1205</td>\n",
       "      <td>586</td>\n",
       "    </tr>\n",
       "    <tr>\n",
       "      <th>54</th>\n",
       "      <td>1111</td>\n",
       "      <td>211</td>\n",
       "    </tr>\n",
       "    <tr>\n",
       "      <th>63</th>\n",
       "      <td>980</td>\n",
       "      <td>108</td>\n",
       "    </tr>\n",
       "    <tr>\n",
       "      <th>66</th>\n",
       "      <td>974</td>\n",
       "      <td>232</td>\n",
       "    </tr>\n",
       "    <tr>\n",
       "      <th>68</th>\n",
       "      <td>1343</td>\n",
       "      <td>582</td>\n",
       "    </tr>\n",
       "    <tr>\n",
       "      <th>70</th>\n",
       "      <td>1005</td>\n",
       "      <td>380</td>\n",
       "    </tr>\n",
       "    <tr>\n",
       "      <th>73</th>\n",
       "      <td>634</td>\n",
       "      <td>256</td>\n",
       "    </tr>\n",
       "    <tr>\n",
       "      <th>76</th>\n",
       "      <td>1311</td>\n",
       "      <td>630</td>\n",
       "    </tr>\n",
       "    <tr>\n",
       "      <th>88</th>\n",
       "      <td>303</td>\n",
       "      <td>0</td>\n",
       "    </tr>\n",
       "  </tbody>\n",
       "</table>\n",
       "</div>"
      ],
      "text/plain": [
       "area       False  True\n",
       "COD_DEPTO             \n",
       "5           1482   592\n",
       "8           1404   329\n",
       "11           707    19\n",
       "13          1418   292\n",
       "15           708   216\n",
       "17           904   229\n",
       "18          1069   293\n",
       "19           943   288\n",
       "20           788   242\n",
       "23           789   360\n",
       "25             0   390\n",
       "27           607   122\n",
       "41           684   166\n",
       "44          1352   180\n",
       "47          1066   464\n",
       "50          1024   312\n",
       "52          1205   586\n",
       "54          1111   211\n",
       "63           980   108\n",
       "66           974   232\n",
       "68          1343   582\n",
       "70          1005   380\n",
       "73           634   256\n",
       "76          1311   630\n",
       "88           303     0"
      ]
     },
     "execution_count": 59,
     "metadata": {},
     "output_type": "execute_result"
    }
   ],
   "source": [
    "pd.crosstab(emicron_23['COD_DEPTO'],emicron_23['area'].isna())"
   ]
  },
  {
   "cell_type": "markdown",
   "metadata": {},
   "source": [
    "#### 3.6 Variables de formalidad"
   ]
  },
  {
   "cell_type": "code",
   "execution_count": 60,
   "metadata": {},
   "outputs": [],
   "source": [
    "## Formalidad del micronegocio\n",
    "# Tiene RUT\n",
    "emicron_23['P1633'] = [0 if num == 2 else num for num in emicron_23['P1633']]\n",
    "# Está inscrito en CC\n",
    "emicron_23['P1055'] = [0 if num == 2 else num for num in emicron_23['P1055']]"
   ]
  },
  {
   "cell_type": "markdown",
   "metadata": {},
   "source": [
    "#### 3.7 Manera de llevar la contabilidad"
   ]
  },
  {
   "cell_type": "code",
   "execution_count": 61,
   "metadata": {},
   "outputs": [
    {
     "data": {
      "text/plain": [
       "5.0    17106\n",
       "3.0    11002\n",
       "2.0     2151\n",
       "1.0      861\n",
       "4.0      170\n",
       "Name: P640, dtype: int64"
      ]
     },
     "execution_count": 61,
     "metadata": {},
     "output_type": "execute_result"
    }
   ],
   "source": [
    "emicron_23['P640'].value_counts()"
   ]
  },
  {
   "cell_type": "code",
   "execution_count": 62,
   "metadata": {},
   "outputs": [
    {
     "name": "stdout",
     "output_type": "stream",
     "text": [
      "Frecuencia forma de llevar contabilidad emicron:\n",
      " 5.0    17106\n",
      "3.0    11002\n",
      "2.0     2151\n",
      "1.0      861\n",
      "4.0      170\n",
      "Name: P640, dtype: int64 __________\n",
      "\n",
      "Frecuencia luego de la homologación:\n",
      " 5.0    17106\n",
      "3.0    11002\n",
      "2.0     2151\n",
      "1.0     1031\n",
      "Name: P640, dtype: int64 ________\n",
      "\n",
      "Frecuencia luego del cambio de códificación:\n",
      " 4.0    17106\n",
      "3.0    11002\n",
      "2.0     2151\n",
      "1.0     1031\n",
      "Name: P640, dtype: int64 ________\n",
      "\n"
     ]
    }
   ],
   "source": [
    "## Manera de llevar contabilidad\n",
    "# Se unifica 4: informes financieros en 1: Balance General P&G\n",
    "print(\"Frecuencia forma de llevar contabilidad emicron:\\n\",emicron_23['P640'].value_counts(),\"__________\\n\")\n",
    "\n",
    "emicron_23['P640'] = [1 if num == 4 else num for num in emicron_23['P640']]\n",
    "print(\"Frecuencia luego de la homologación:\\n\",emicron_23['P640'].value_counts(),\"________\\n\")\n",
    "\n",
    "# Se cambia el 5 por 4, para homogenizar con los códigos de CENU\n",
    "emicron_23['P640'] = [4 if num == 5 else num for num in emicron_23['P640']]\n",
    "print(\"Frecuencia luego del cambio de códificación:\\n\",emicron_23['P640'].value_counts(),\"________\\n\")"
   ]
  },
  {
   "cell_type": "markdown",
   "metadata": {},
   "source": [
    "#### 3.8 Antigüedad"
   ]
  },
  {
   "cell_type": "code",
   "execution_count": 63,
   "metadata": {},
   "outputs": [
    {
     "data": {
      "text/plain": [
       "count    31290.000000\n",
       "mean        10.558134\n",
       "std         10.498007\n",
       "min          0.000000\n",
       "25%          3.000000\n",
       "50%          7.000000\n",
       "75%         15.000000\n",
       "max         83.000000\n",
       "Name: ANIOS_OPERACION, dtype: float64"
      ]
     },
     "execution_count": 63,
     "metadata": {},
     "output_type": "execute_result"
    }
   ],
   "source": [
    "emicron_23['ANIOS_OPERACION'] = emicron_23['P3034'] / 12\n",
    "#emicron_23['ANIOS_OPERACION'].describe()\n",
    "emicron_23['ANIOS_OPERACION'] = round(emicron_23['ANIOS_OPERACION'])\n",
    "emicron_23['ANIOS_OPERACION'].describe()"
   ]
  },
  {
   "cell_type": "markdown",
   "metadata": {},
   "source": [
    "#### 3.9 Sexo"
   ]
  },
  {
   "cell_type": "code",
   "execution_count": 64,
   "metadata": {},
   "outputs": [],
   "source": [
    "emicron_23['P35'].value_counts()\n",
    "emicron_23['P35'] = [0 if num == 2 else num for num in emicron_23['P35']]"
   ]
  },
  {
   "cell_type": "markdown",
   "metadata": {},
   "source": [
    "## 4. Renombrar variables"
   ]
  },
  {
   "cell_type": "code",
   "execution_count": 65,
   "metadata": {},
   "outputs": [],
   "source": [
    "nombre_estandar = {'P3053': 'UBICA',\n",
    "                   'P1633': 'IDRUT',\n",
    "                   'P640': 'REG_CONT',\n",
    "                   'P1055':'CAMCOMER',\n",
    "                   'P639' : 'ANOS_ESPACIO',\n",
    "                   'P35' : 'HOMBRE'\n",
    "               }\n",
    "\n",
    "emicron_23.rename(columns=nombre_estandar, inplace=True)"
   ]
  },
  {
   "cell_type": "code",
   "execution_count": 70,
   "metadata": {},
   "outputs": [],
   "source": [
    "emicron_23['OLA'] = 2023\n",
    "emicron_23.to_csv(r\"D:\\DANE - Contrato\\2024\\Operativo Barrido\\Data\\emicron_23_vf.csv\", index= False)"
   ]
  },
  {
   "cell_type": "markdown",
   "metadata": {},
   "source": [
    "# Concatenado"
   ]
  },
  {
   "cell_type": "code",
   "execution_count": 75,
   "metadata": {},
   "outputs": [],
   "source": [
    "emicron = pd.concat([emicron_22, emicron_23])"
   ]
  },
  {
   "cell_type": "code",
   "execution_count": 77,
   "metadata": {},
   "outputs": [
    {
     "data": {
      "text/plain": [
       "64481"
      ]
     },
     "execution_count": 77,
     "metadata": {},
     "output_type": "execute_result"
    }
   ],
   "source": [
    "emicron['UBICA'].value_counts().sum()"
   ]
  },
  {
   "cell_type": "code",
   "execution_count": 82,
   "metadata": {},
   "outputs": [
    {
     "data": {
      "text/plain": [
       "1    48441\n",
       "0    16040\n",
       "Name: CPAM, dtype: int64"
      ]
     },
     "execution_count": 82,
     "metadata": {},
     "output_type": "execute_result"
    }
   ],
   "source": [
    "emicron['CPAM'].value_counts()"
   ]
  },
  {
   "cell_type": "code",
   "execution_count": 83,
   "metadata": {},
   "outputs": [],
   "source": [
    "emicron.to_csv(r\"D:\\DANE - Contrato\\2024\\Operativo Barrido\\Data\\EMICRON_VF.csv\", index= False)"
   ]
  }
 ],
 "metadata": {
  "kernelspec": {
   "display_name": "Python 3",
   "language": "python",
   "name": "python3"
  },
  "language_info": {
   "codemirror_mode": {
    "name": "ipython",
    "version": 3
   },
   "file_extension": ".py",
   "mimetype": "text/x-python",
   "name": "python",
   "nbconvert_exporter": "python",
   "pygments_lexer": "ipython3",
   "version": "3.10.5"
  }
 },
 "nbformat": 4,
 "nbformat_minor": 2
}
