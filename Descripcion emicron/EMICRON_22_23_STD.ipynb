{
 "cells": [
  {
   "cell_type": "code",
   "execution_count": 1,
   "metadata": {},
   "outputs": [],
   "source": [
    "import pandas as pd\n",
    "import os\n",
    "import re\n",
    "import numpy as np"
   ]
  },
  {
   "cell_type": "markdown",
   "metadata": {},
   "source": [
    "# EMICRON 22"
   ]
  },
  {
   "cell_type": "markdown",
   "metadata": {},
   "source": [
    "### 1. Lectura información"
   ]
  },
  {
   "cell_type": "code",
   "execution_count": 3,
   "metadata": {},
   "outputs": [],
   "source": [
    "data_path = r\"D:\\DANE - Contrato\\2024\\Operativo Barrido\\Data\\Crudos\"\n",
    "data_res = r\"D:\\DANE - Contrato\\2024\\Operativo Barrido\\Data\""
   ]
  },
  {
   "cell_type": "code",
   "execution_count": 3,
   "metadata": {},
   "outputs": [],
   "source": [
    "emicron_22 = pd.read_sas(data_path + \"\\emicron_2022.sas7bdat\", format = \"sas7bdat\")\n",
    "# pd.DataFrame(emicron_22.columns).to_excel(\"Variables.xlsx\")\n",
    "# emicron_22[:5].transpose().to_excel(\"Muestra.xlsx\")"
   ]
  },
  {
   "cell_type": "code",
   "execution_count": 4,
   "metadata": {},
   "outputs": [
    {
     "data": {
      "text/plain": [
       "(84753, 495)"
      ]
     },
     "execution_count": 4,
     "metadata": {},
     "output_type": "execute_result"
    }
   ],
   "source": [
    "emicron_22.shape"
   ]
  },
  {
   "cell_type": "markdown",
   "metadata": {},
   "source": [
    "#### 1.1 Arreglo variables"
   ]
  },
  {
   "cell_type": "code",
   "execution_count": 5,
   "metadata": {},
   "outputs": [
    {
     "name": "stderr",
     "output_type": "stream",
     "text": [
      "C:\\Users\\carlo\\AppData\\Local\\Temp\\ipykernel_2848\\104079840.py:2: PerformanceWarning: DataFrame is highly fragmented.  This is usually the result of calling `frame.insert` many times, which has poor performance.  Consider joining all columns at once using pd.concat(axis=1) instead. To get a de-fragmented frame, use `newframe = frame.copy()`\n",
      "  emicron_22['id'] = emicron_22['DIRECTORIO'].astype(int).astype(str) + emicron_22['SECUENCIA_P'].astype(int).astype(str) + emicron_22['ORDEN'].astype(int).astype(str)\n"
     ]
    }
   ],
   "source": [
    "# Construcción id\n",
    "emicron_22['id'] = emicron_22['DIRECTORIO'].astype(int).astype(str) + emicron_22['SECUENCIA_P'].astype(int).astype(str) + emicron_22['ORDEN'].astype(int).astype(str)"
   ]
  },
  {
   "cell_type": "code",
   "execution_count": 6,
   "metadata": {},
   "outputs": [
    {
     "name": "stdout",
     "output_type": "stream",
     "text": [
      "<class 'pandas.core.frame.DataFrame'>\n",
      "RangeIndex: 84753 entries, 0 to 84752\n",
      "Data columns (total 32 columns):\n",
      " #   Column               Non-Null Count  Dtype  \n",
      "---  ------               --------------  -----  \n",
      " 0   REMUNERACION_TOTAL   84753 non-null  float64\n",
      " 1   GASTOS_MES           84753 non-null  float64\n",
      " 2   P3017_A              84753 non-null  float64\n",
      " 3   P3017_B              84753 non-null  float64\n",
      " 4   P3017_C              84753 non-null  float64\n",
      " 5   P3017_D              84753 non-null  float64\n",
      " 6   P3017_E              84753 non-null  float64\n",
      " 7   P3017_F              84753 non-null  float64\n",
      " 8   P3017_G              84753 non-null  float64\n",
      " 9   P3017_H              84753 non-null  float64\n",
      " 10  P3017_K              84753 non-null  float64\n",
      " 11  COSTOS_MES_ANTERIOR  84753 non-null  float64\n",
      " 12  P3056_A              21803 non-null  float64\n",
      " 13  P3056_B              44510 non-null  float64\n",
      " 14  P3056_C              7653 non-null   float64\n",
      " 15  P3056_D              10767 non-null  float64\n",
      " 16  P3032_1              15017 non-null  float64\n",
      " 17  P3032_2              15017 non-null  float64\n",
      " 18  P3032_3              15017 non-null  float64\n",
      " 19  COD_DEPTO            84753 non-null  object \n",
      " 20  area                 56224 non-null  float64\n",
      " 21  GRUPOS4              84753 non-null  object \n",
      " 22  P3053                84753 non-null  float64\n",
      " 23  P1633                84753 non-null  float64\n",
      " 24  P1055                84753 non-null  float64\n",
      " 25  P640                 84753 non-null  float64\n",
      " 26  P639                 84753 non-null  float64\n",
      " 27  P3034                84753 non-null  float64\n",
      " 28  MPIO                 84753 non-null  object \n",
      " 29  GRUPOS12             84753 non-null  object \n",
      " 30  CIIU_3               84753 non-null  float64\n",
      " 31  P2760                57942 non-null  object \n",
      "dtypes: float64(27), object(5)\n",
      "memory usage: 20.7+ MB\n"
     ]
    },
    {
     "data": {
      "text/html": [
       "<div>\n",
       "<style scoped>\n",
       "    .dataframe tbody tr th:only-of-type {\n",
       "        vertical-align: middle;\n",
       "    }\n",
       "\n",
       "    .dataframe tbody tr th {\n",
       "        vertical-align: top;\n",
       "    }\n",
       "\n",
       "    .dataframe thead th {\n",
       "        text-align: right;\n",
       "    }\n",
       "</style>\n",
       "<table border=\"1\" class=\"dataframe\">\n",
       "  <thead>\n",
       "    <tr style=\"text-align: right;\">\n",
       "      <th></th>\n",
       "    </tr>\n",
       "  </thead>\n",
       "  <tbody>\n",
       "  </tbody>\n",
       "</table>\n",
       "</div>"
      ],
      "text/plain": [
       "Empty DataFrame\n",
       "Columns: []\n",
       "Index: []"
      ]
     },
     "execution_count": 6,
     "metadata": {},
     "output_type": "execute_result"
    }
   ],
   "source": [
    "# pd.DataFrame(emicron_22[['VENTAS_MES_ANTERIOR','P3057','P3058','P3059','P3060','P3061','P3062','P4002','P3063','P3064','P3065','P3066','P3067','P3092','P3093',\n",
    "#             'REMUNERACION_TOTAL',\n",
    "#             'GASTOS_MES','P3017_A','P3017_B','P3017_C','P3017_D','P3017_E','P3017_F','P3017_G','P3017_H','P3017_K',\n",
    "#             'COSTOS_MES_ANTERIOR','P3056_A','P3056_B','P3056_C','P3056_D',\n",
    "#             'P3032_1','P3032_2','P3032_3',\n",
    "#             'COD_DEPTO','area','GRUPOS4','P3053','P1633','P1055','P640','P639','P3034']].isna().sum())\n",
    "\n",
    "pd.DataFrame(emicron_22[[#'VENTAS_MES_ANTERIOR','P3057','P3058','P3059','P3060','P3061','P3062','P4002','P3063','P3064','P3065','P3066','P3067','P3092','P3093',\n",
    "           'REMUNERACION_TOTAL',\n",
    "           'GASTOS_MES','P3017_A','P3017_B','P3017_C','P3017_D','P3017_E','P3017_F','P3017_G','P3017_H','P3017_K',\n",
    "           'COSTOS_MES_ANTERIOR','P3056_A','P3056_B','P3056_C','P3056_D',\n",
    "           'P3032_1','P3032_2','P3032_3',\n",
    "           'COD_DEPTO','area','GRUPOS4','P3053','P1633','P1055','P640','P639','P3034','MPIO','GRUPOS12','CIIU_3','P2760']].info())"
   ]
  },
  {
   "cell_type": "code",
   "execution_count": 7,
   "metadata": {},
   "outputs": [],
   "source": [
    "emicron_22['GRUPOS12'] = emicron_22['GRUPOS12'].astype('int')\n",
    "emicron_22['GRUPOS4'] = emicron_22['GRUPOS4'].astype('int')\n",
    "emicron_22['MPIO'] = emicron_22['MPIO'].astype('int')\n",
    "emicron_22['COD_DEPTO'] = emicron_22['COD_DEPTO'].astype('int')"
   ]
  },
  {
   "cell_type": "markdown",
   "metadata": {},
   "source": [
    "### 2. Filtrado de la información\n",
    "Se procederá a filtrar la base de datos con base en unos elementos particulares:  \n",
    "1. Actividades económicas que cubre EMICRON y que no serán tenidas en cuenta en CENU.  \n",
    "2. Ubicación del micronegocio. Ya que se entrenará un modelo para puestos fijos y micronegocios en vivienda (sólo los visibles al público), y otro para puestos móviles.   \n",
    "3. Otras variables como el número de establecimientos, que permitan mantener una información homogénea."
   ]
  },
  {
   "cell_type": "markdown",
   "metadata": {},
   "source": [
    "#### 2.1 Actividades económicas que cubrirá el CENU \n",
    "Emicron incluye preguntas a los sectores de agricultura, ganadería, caza, silvicultura y pesca; además, de minería. Debido a que estos sectores no harán parte del Universo del Censo Económico, se descartarán de la base de datos:"
   ]
  },
  {
   "cell_type": "code",
   "execution_count": 8,
   "metadata": {},
   "outputs": [
    {
     "data": {
      "text/plain": [
       "(73966, 496)"
      ]
     },
     "execution_count": 8,
     "metadata": {},
     "output_type": "execute_result"
    }
   ],
   "source": [
    "emicron_22 = emicron_22[~(emicron_22['GRUPOS12'].isin([1,2,13]))]\n",
    "emicron_22.shape"
   ]
  },
  {
   "cell_type": "code",
   "execution_count": 9,
   "metadata": {},
   "outputs": [
    {
     "data": {
      "text/plain": [
       "5     24123\n",
       "6     11513\n",
       "3      9045\n",
       "12     8779\n",
       "7      7494\n",
       "4      6156\n",
       "9      4627\n",
       "11      936\n",
       "10      770\n",
       "8       523\n",
       "Name: GRUPOS12, dtype: int64"
      ]
     },
     "execution_count": 9,
     "metadata": {},
     "output_type": "execute_result"
    }
   ],
   "source": [
    "emicron_22['GRUPOS12'].value_counts()"
   ]
  },
  {
   "cell_type": "markdown",
   "metadata": {},
   "source": [
    "#### 2.2 Ubicación del micronegocio\n",
    "Para el entrenamiento de los modelos se utilizará la ubicación de micronegocios en 1: Vivienda, 2: Local (puestos fijos), 4: Ambulante, por lo tanto sólo estas categorías se mantendrán. De igual manera, el CENU, sólo recolectará información de actividades económicas visibles, por lo tanto se filtrará por este tipo de micronegocios."
   ]
  },
  {
   "cell_type": "code",
   "execution_count": 10,
   "metadata": {},
   "outputs": [
    {
     "name": "stdout",
     "output_type": "stream",
     "text": [
      "1.0    24206\n",
      "3.0    15006\n",
      "5.0    11263\n",
      "2.0    10739\n",
      "4.0     9184\n",
      "6.0     2812\n",
      "8.0      390\n",
      "7.0      366\n",
      "Name: P3053, dtype: int64\n",
      "1.0    24206\n",
      "2.0    10739\n",
      "4.0     9184\n",
      "Name: P3053, dtype: int64\n"
     ]
    }
   ],
   "source": [
    "print(emicron_22['P3053'].value_counts())\n",
    "\n",
    "# Seleccionar sólo viviendas, establecimientos y ambulantes\n",
    "emicron_22 = emicron_22[emicron_22['P3053'].isin([1,2,4])]\n",
    "\n",
    "print(emicron_22['P3053'].value_counts())"
   ]
  },
  {
   "cell_type": "code",
   "execution_count": 11,
   "metadata": {},
   "outputs": [
    {
     "name": "stdout",
     "output_type": "stream",
     "text": [
      "1.0    13395\n",
      "2.0    10739\n",
      "4.0     9184\n",
      "Name: P3053, dtype: int64\n"
     ]
    }
   ],
   "source": [
    "# Visibilidad del micronegocio (sólo para viviendas)\n",
    "emicron_22.drop(emicron_22[(emicron_22['P3053'] == 1) & (emicron_22['P469'] == 2)].index, inplace = True)\n",
    "\n",
    "# [(emicron_22['P469'] == 1)]\n",
    "print(emicron_22['P3053'].value_counts())"
   ]
  },
  {
   "cell_type": "code",
   "execution_count": 12,
   "metadata": {},
   "outputs": [
    {
     "data": {
      "text/plain": [
       "(33318, 496)"
      ]
     },
     "execution_count": 12,
     "metadata": {},
     "output_type": "execute_result"
    }
   ],
   "source": [
    "emicron_22.shape"
   ]
  },
  {
   "cell_type": "code",
   "execution_count": 13,
   "metadata": {},
   "outputs": [
    {
     "name": "stdout",
     "output_type": "stream",
     "text": [
      "3.0    13395\n",
      "1.0    10739\n",
      "4.0     9184\n",
      "Name: P3053, dtype: int64\n"
     ]
    }
   ],
   "source": [
    "# Reemplazar los códigos en función de la codificación que se recibirá en el CENU\n",
    "# 1: Establecimiento fijo\n",
    "# 3: Vivienda con actividad económica visible\n",
    "def rule(i):\n",
    "    if i == 1:\n",
    "        return 3\n",
    "    elif i == 2:\n",
    "        return 1\n",
    "    return i\n",
    "\n",
    "emicron_22['P3053'] = list(map(rule,emicron_22['P3053']))\n",
    "print(emicron_22['P3053'].value_counts())"
   ]
  },
  {
   "cell_type": "markdown",
   "metadata": {},
   "source": [
    "#### 2.3 Ventas del mes anterior\n",
    "Eliminar las filas cuyas ventas del año pasado son missing y cero"
   ]
  },
  {
   "cell_type": "code",
   "execution_count": 14,
   "metadata": {},
   "outputs": [
    {
     "name": "stdout",
     "output_type": "stream",
     "text": [
      "Valores nulos ventas:  0\n",
      "Ventas en cero:  817\n"
     ]
    },
    {
     "data": {
      "text/plain": [
       "(33318, 496)"
      ]
     },
     "execution_count": 14,
     "metadata": {},
     "output_type": "execute_result"
    }
   ],
   "source": [
    "# Valores nulos ventas\n",
    "print(\"Valores nulos ventas: \", emicron_22[\"VENTAS_MES_ANTERIOR\"].isna().sum())\n",
    "\n",
    "# Valores cero ventas\n",
    "print(\"Ventas en cero: \", (emicron_22[\"VENTAS_MES_ANTERIOR\"]==0).sum())\n",
    "\n",
    "# Eliminar los registros con venta cero\n",
    "#emicron_22 = emicron_22[~(emicron_22[\"VENTAS_MES_ANTERIOR\"] == 0)]\n",
    "\n",
    "emicron_22.shape"
   ]
  },
  {
   "cell_type": "markdown",
   "metadata": {},
   "source": [
    "#### 2.4 Número de establecimientos\n",
    "Eliminar las filas cuyo número de estabecimientos es diferente a 1, ya que la información que recolecta el CENU es por establecimiento y la recolectada por EMICRON es a nivel de negocio, pero a veces se presenta información también solo por establecimiento cuando el negocio tiene más de un establecimiento. Para evitar eso, sólo utilizar los micronegocios que reportan un sólo establecimiento comercial, que representan el 99.36 % de la muestra (casi todos)."
   ]
  },
  {
   "cell_type": "code",
   "execution_count": 15,
   "metadata": {},
   "outputs": [
    {
     "name": "stdout",
     "output_type": "stream",
     "text": [
      "1.0     27363\n",
      "2.0        99\n",
      "3.0        13\n",
      "99.0       12\n",
      "4.0         2\n",
      "9.0         1\n",
      "Name: P3054, dtype: int64 \n",
      "_____________\n",
      "\n"
     ]
    },
    {
     "data": {
      "text/plain": [
       "(33191, 496)"
      ]
     },
     "execution_count": 15,
     "metadata": {},
     "output_type": "execute_result"
    }
   ],
   "source": [
    "emicron_22['P3054'] = pd.to_numeric(emicron_22['P3054'], errors='coerce')\n",
    "print(emicron_22['P3054'].value_counts(),\"\\n_____________\\n\")\n",
    "emicron_22 = emicron_22[(emicron_22['P3054'] == 1) | ((emicron_22['P3054'].isna()) & (emicron_22['P3053']==4))]\n",
    "emicron_22.shape"
   ]
  },
  {
   "cell_type": "code",
   "execution_count": 16,
   "metadata": {},
   "outputs": [
    {
     "data": {
      "text/html": [
       "<div>\n",
       "<style scoped>\n",
       "    .dataframe tbody tr th:only-of-type {\n",
       "        vertical-align: middle;\n",
       "    }\n",
       "\n",
       "    .dataframe tbody tr th {\n",
       "        vertical-align: top;\n",
       "    }\n",
       "\n",
       "    .dataframe thead th {\n",
       "        text-align: right;\n",
       "    }\n",
       "</style>\n",
       "<table border=\"1\" class=\"dataframe\">\n",
       "  <thead>\n",
       "    <tr style=\"text-align: right;\">\n",
       "      <th>P3053</th>\n",
       "      <th>1.0</th>\n",
       "      <th>3.0</th>\n",
       "      <th>4.0</th>\n",
       "    </tr>\n",
       "    <tr>\n",
       "      <th>P3054</th>\n",
       "      <th></th>\n",
       "      <th></th>\n",
       "      <th></th>\n",
       "    </tr>\n",
       "  </thead>\n",
       "  <tbody>\n",
       "    <tr>\n",
       "      <th>False</th>\n",
       "      <td>10655</td>\n",
       "      <td>13371</td>\n",
       "      <td>3337</td>\n",
       "    </tr>\n",
       "    <tr>\n",
       "      <th>True</th>\n",
       "      <td>0</td>\n",
       "      <td>0</td>\n",
       "      <td>5828</td>\n",
       "    </tr>\n",
       "  </tbody>\n",
       "</table>\n",
       "</div>"
      ],
      "text/plain": [
       "P3053    1.0    3.0   4.0\n",
       "P3054                    \n",
       "False  10655  13371  3337\n",
       "True       0      0  5828"
      ]
     },
     "execution_count": 16,
     "metadata": {},
     "output_type": "execute_result"
    }
   ],
   "source": [
    "pd.crosstab(emicron_22['P3054'].isna(), emicron_22['P3053'])"
   ]
  },
  {
   "cell_type": "code",
   "execution_count": 17,
   "metadata": {},
   "outputs": [
    {
     "data": {
      "text/html": [
       "<div>\n",
       "<style scoped>\n",
       "    .dataframe tbody tr th:only-of-type {\n",
       "        vertical-align: middle;\n",
       "    }\n",
       "\n",
       "    .dataframe tbody tr th {\n",
       "        vertical-align: top;\n",
       "    }\n",
       "\n",
       "    .dataframe thead th {\n",
       "        text-align: right;\n",
       "    }\n",
       "</style>\n",
       "<table border=\"1\" class=\"dataframe\">\n",
       "  <thead>\n",
       "    <tr style=\"text-align: right;\">\n",
       "      <th>P3053</th>\n",
       "      <th>1.0</th>\n",
       "      <th>3.0</th>\n",
       "      <th>4.0</th>\n",
       "    </tr>\n",
       "    <tr>\n",
       "      <th>P469</th>\n",
       "      <th></th>\n",
       "      <th></th>\n",
       "      <th></th>\n",
       "    </tr>\n",
       "  </thead>\n",
       "  <tbody>\n",
       "    <tr>\n",
       "      <th>1.0</th>\n",
       "      <td>9972</td>\n",
       "      <td>13371</td>\n",
       "      <td>3129</td>\n",
       "    </tr>\n",
       "    <tr>\n",
       "      <th>2.0</th>\n",
       "      <td>683</td>\n",
       "      <td>0</td>\n",
       "      <td>208</td>\n",
       "    </tr>\n",
       "  </tbody>\n",
       "</table>\n",
       "</div>"
      ],
      "text/plain": [
       "P3053   1.0    3.0   4.0\n",
       "P469                    \n",
       "1.0    9972  13371  3129\n",
       "2.0     683      0   208"
      ]
     },
     "execution_count": 17,
     "metadata": {},
     "output_type": "execute_result"
    }
   ],
   "source": [
    "pd.crosstab(emicron_22['P469'], emicron_22['P3053'])"
   ]
  },
  {
   "cell_type": "markdown",
   "metadata": {},
   "source": [
    "### 3. Creación variables principales\n",
    "1. Se creará una agrupación para la variable del número total de empleados  \n",
    "2. Se agregarán los costos y los gastos en una sola variable (CYG)  \n",
    "3. AREA se recodificará para que muestre si la observación pertenece a una ciudad capital del departamento  \n",
    "4. Contabilidad"
   ]
  },
  {
   "cell_type": "markdown",
   "metadata": {},
   "source": [
    "#### 3.1 Personal Ocupado"
   ]
  },
  {
   "cell_type": "code",
   "execution_count": 18,
   "metadata": {},
   "outputs": [],
   "source": [
    "emicron_22['POTTOT'] = emicron_22[['P3032_1','P3032_2','P3032_3']].sum(axis=1) + 1\n",
    "#emicron_22['POT_rem'] = emicron_22[['P3032_1']].sum(axis=1) + 1\n",
    "#emicron_22['POT_norem'] = emicron_22[['P3032_2','P3032_3']].sum(axis=1)\n",
    "\n",
    "# emicron_22[['POTTOT','POT_rem','POT_norem']].describe()\n",
    "# emicron_22[['POTTOT','POT_rem','POT_norem','REMUNERACION_TOTAL']].corr()\n",
    "\n",
    "#print(\"Coincidentes entre POTTOT y desagregación propuesta:\\n\",(emicron_22['POTTOT'] == emicron_22[['POT_rem','POT_norem']].sum(axis=1)).value_counts())"
   ]
  },
  {
   "cell_type": "code",
   "execution_count": 19,
   "metadata": {},
   "outputs": [
    {
     "data": {
      "text/plain": [
       "count    33191.000000\n",
       "mean         1.386611\n",
       "std          0.867077\n",
       "min          1.000000\n",
       "25%          1.000000\n",
       "50%          1.000000\n",
       "75%          1.000000\n",
       "max          9.000000\n",
       "Name: POTTOT, dtype: float64"
      ]
     },
     "execution_count": 19,
     "metadata": {},
     "output_type": "execute_result"
    }
   ],
   "source": [
    "emicron_22['POTTOT'].describe()"
   ]
  },
  {
   "cell_type": "markdown",
   "metadata": {},
   "source": [
    "#### 3.2 Ventas al mes"
   ]
  },
  {
   "cell_type": "code",
   "execution_count": 20,
   "metadata": {},
   "outputs": [
    {
     "name": "stdout",
     "output_type": "stream",
     "text": [
      "Número de filas coincidentes entre la variable agregada y la suma de las individuales:\n",
      " True    33191\n",
      "dtype: int64\n"
     ]
    }
   ],
   "source": [
    "# Comparación suma individual y la agregada\n",
    "print(\"Número de filas coincidentes entre la variable agregada y la suma de las individuales:\\n\",(emicron_22['VENTAS_MES_ANTERIOR'] == emicron_22[['P3057','P3058','P3059','P3060','P3061','P3062','P4002','P3063','P3064','P3065','P3066','P3067','P3092','P3093']].sum(axis=1)).value_counts())\n",
    "#emicron_22[['VENTAS_MES_ANTERIOR','P3057','P3058','P3059','P3060','P3061','P3062','P4002','P3063','P3064','P3065','P3066','P3067','P3092','P3093']][~(emicron_22['VENTAS_MES_ANTERIOR'] == emicron_22[['P3057','P3058','P3059','P3060','P3061','P3062','P4002','P3063','P3064','P3065','P3066','P3067','P3092','P3093']].sum(axis=1))]"
   ]
  },
  {
   "cell_type": "markdown",
   "metadata": {},
   "source": [
    "#### 3.3 Costos y gastos al mes"
   ]
  },
  {
   "cell_type": "code",
   "execution_count": 21,
   "metadata": {},
   "outputs": [
    {
     "name": "stdout",
     "output_type": "stream",
     "text": [
      "Número de filas coincidentes entre la variable agregada y la suma de las individuales:\n",
      " True    33191\n",
      "dtype: int64\n"
     ]
    }
   ],
   "source": [
    "# Comparación suma individual y la agregada\n",
    "print(\"Número de filas coincidentes entre la variable agregada y la suma de las individuales:\\n\",(emicron_22['COSTOS_MES_ANTERIOR'] == emicron_22[['P3056_A','P3056_B','P3056_C','P3056_D']].sum(axis=1)).value_counts())"
   ]
  },
  {
   "cell_type": "code",
   "execution_count": 22,
   "metadata": {},
   "outputs": [
    {
     "name": "stdout",
     "output_type": "stream",
     "text": [
      "Número de filas coincidentes entre la variable agregada y la suma de las individuales:\n",
      " True    33191\n",
      "dtype: int64\n"
     ]
    }
   ],
   "source": [
    "# Comparación suma individual y la agregada\n",
    "print(\"Número de filas coincidentes entre la variable agregada y la suma de las individuales:\\n\",(emicron_22['GASTOS_MES'] == emicron_22[['P3017_A','P3017_B','P3017_C','P3017_D','P3017_E','P3017_F','P3017_G','P3017_H','P3017_K']].sum(axis=1)).value_counts())"
   ]
  },
  {
   "cell_type": "code",
   "execution_count": 23,
   "metadata": {},
   "outputs": [],
   "source": [
    "# Agregación de la variable\n",
    "emicron_22['CYG'] = emicron_22[['COSTOS_MES_ANTERIOR','GASTOS_MES']].sum(axis=1)"
   ]
  },
  {
   "cell_type": "markdown",
   "metadata": {},
   "source": [
    "#### 3.4 Variable de Ciudad Capital y A.M\n",
    "Recodificar la variable de Área en función de si es una ciudad principal o un área metropolitana dentro del departamento"
   ]
  },
  {
   "cell_type": "code",
   "execution_count": 24,
   "metadata": {},
   "outputs": [],
   "source": [
    "def rule_city(i):\n",
    "    if pd.isna(i) == True:\n",
    "        return 0\n",
    "    else:\n",
    "        return 1\n",
    "    return i\n",
    "\n",
    "emicron_22['CPAM'] = list(map(rule_city,emicron_22['area']))"
   ]
  },
  {
   "cell_type": "code",
   "execution_count": 25,
   "metadata": {},
   "outputs": [
    {
     "data": {
      "text/html": [
       "<div>\n",
       "<style scoped>\n",
       "    .dataframe tbody tr th:only-of-type {\n",
       "        vertical-align: middle;\n",
       "    }\n",
       "\n",
       "    .dataframe tbody tr th {\n",
       "        vertical-align: top;\n",
       "    }\n",
       "\n",
       "    .dataframe thead th {\n",
       "        text-align: right;\n",
       "    }\n",
       "</style>\n",
       "<table border=\"1\" class=\"dataframe\">\n",
       "  <thead>\n",
       "    <tr style=\"text-align: right;\">\n",
       "      <th>area</th>\n",
       "      <th>False</th>\n",
       "      <th>True</th>\n",
       "    </tr>\n",
       "    <tr>\n",
       "      <th>COD_DEPTO</th>\n",
       "      <th></th>\n",
       "      <th></th>\n",
       "    </tr>\n",
       "  </thead>\n",
       "  <tbody>\n",
       "    <tr>\n",
       "      <th>5</th>\n",
       "      <td>1487</td>\n",
       "      <td>419</td>\n",
       "    </tr>\n",
       "    <tr>\n",
       "      <th>8</th>\n",
       "      <td>1343</td>\n",
       "      <td>434</td>\n",
       "    </tr>\n",
       "    <tr>\n",
       "      <th>11</th>\n",
       "      <td>663</td>\n",
       "      <td>11</td>\n",
       "    </tr>\n",
       "    <tr>\n",
       "      <th>13</th>\n",
       "      <td>1392</td>\n",
       "      <td>350</td>\n",
       "    </tr>\n",
       "    <tr>\n",
       "      <th>15</th>\n",
       "      <td>659</td>\n",
       "      <td>260</td>\n",
       "    </tr>\n",
       "    <tr>\n",
       "      <th>17</th>\n",
       "      <td>1018</td>\n",
       "      <td>269</td>\n",
       "    </tr>\n",
       "    <tr>\n",
       "      <th>18</th>\n",
       "      <td>1249</td>\n",
       "      <td>261</td>\n",
       "    </tr>\n",
       "    <tr>\n",
       "      <th>19</th>\n",
       "      <td>723</td>\n",
       "      <td>263</td>\n",
       "    </tr>\n",
       "    <tr>\n",
       "      <th>20</th>\n",
       "      <td>843</td>\n",
       "      <td>246</td>\n",
       "    </tr>\n",
       "    <tr>\n",
       "      <th>23</th>\n",
       "      <td>791</td>\n",
       "      <td>315</td>\n",
       "    </tr>\n",
       "    <tr>\n",
       "      <th>25</th>\n",
       "      <td>0</td>\n",
       "      <td>433</td>\n",
       "    </tr>\n",
       "    <tr>\n",
       "      <th>27</th>\n",
       "      <td>704</td>\n",
       "      <td>159</td>\n",
       "    </tr>\n",
       "    <tr>\n",
       "      <th>41</th>\n",
       "      <td>710</td>\n",
       "      <td>311</td>\n",
       "    </tr>\n",
       "    <tr>\n",
       "      <th>44</th>\n",
       "      <td>1186</td>\n",
       "      <td>535</td>\n",
       "    </tr>\n",
       "    <tr>\n",
       "      <th>47</th>\n",
       "      <td>1465</td>\n",
       "      <td>724</td>\n",
       "    </tr>\n",
       "    <tr>\n",
       "      <th>50</th>\n",
       "      <td>1171</td>\n",
       "      <td>383</td>\n",
       "    </tr>\n",
       "    <tr>\n",
       "      <th>52</th>\n",
       "      <td>1220</td>\n",
       "      <td>706</td>\n",
       "    </tr>\n",
       "    <tr>\n",
       "      <th>54</th>\n",
       "      <td>1147</td>\n",
       "      <td>232</td>\n",
       "    </tr>\n",
       "    <tr>\n",
       "      <th>63</th>\n",
       "      <td>783</td>\n",
       "      <td>242</td>\n",
       "    </tr>\n",
       "    <tr>\n",
       "      <th>66</th>\n",
       "      <td>1036</td>\n",
       "      <td>178</td>\n",
       "    </tr>\n",
       "    <tr>\n",
       "      <th>68</th>\n",
       "      <td>1510</td>\n",
       "      <td>597</td>\n",
       "    </tr>\n",
       "    <tr>\n",
       "      <th>70</th>\n",
       "      <td>1319</td>\n",
       "      <td>368</td>\n",
       "    </tr>\n",
       "    <tr>\n",
       "      <th>73</th>\n",
       "      <td>748</td>\n",
       "      <td>315</td>\n",
       "    </tr>\n",
       "    <tr>\n",
       "      <th>76</th>\n",
       "      <td>1144</td>\n",
       "      <td>550</td>\n",
       "    </tr>\n",
       "    <tr>\n",
       "      <th>88</th>\n",
       "      <td>319</td>\n",
       "      <td>0</td>\n",
       "    </tr>\n",
       "  </tbody>\n",
       "</table>\n",
       "</div>"
      ],
      "text/plain": [
       "area       False  True\n",
       "COD_DEPTO             \n",
       "5           1487   419\n",
       "8           1343   434\n",
       "11           663    11\n",
       "13          1392   350\n",
       "15           659   260\n",
       "17          1018   269\n",
       "18          1249   261\n",
       "19           723   263\n",
       "20           843   246\n",
       "23           791   315\n",
       "25             0   433\n",
       "27           704   159\n",
       "41           710   311\n",
       "44          1186   535\n",
       "47          1465   724\n",
       "50          1171   383\n",
       "52          1220   706\n",
       "54          1147   232\n",
       "63           783   242\n",
       "66          1036   178\n",
       "68          1510   597\n",
       "70          1319   368\n",
       "73           748   315\n",
       "76          1144   550\n",
       "88           319     0"
      ]
     },
     "execution_count": 25,
     "metadata": {},
     "output_type": "execute_result"
    }
   ],
   "source": [
    "pd.crosstab(emicron_22['COD_DEPTO'],emicron_22['area'].isna())"
   ]
  },
  {
   "cell_type": "markdown",
   "metadata": {},
   "source": [
    "#### 3.5 Variables de formalidad"
   ]
  },
  {
   "cell_type": "code",
   "execution_count": 26,
   "metadata": {},
   "outputs": [],
   "source": [
    "## Formalidad del micronegocio\n",
    "# Tiene RUT\n",
    "emicron_22['P1633'] = [0 if num == 2 else num for num in emicron_22['P1633']]\n",
    "# Está inscrito en CC\n",
    "emicron_22['P1055'] = [0 if num == 2 else num for num in emicron_22['P1055']]"
   ]
  },
  {
   "cell_type": "markdown",
   "metadata": {},
   "source": [
    "#### 3.6 Manera de llevar la contabilidad"
   ]
  },
  {
   "cell_type": "code",
   "execution_count": 27,
   "metadata": {},
   "outputs": [
    {
     "name": "stdout",
     "output_type": "stream",
     "text": [
      "Frecuencia forma de llevar contabilidad emicron:\n",
      " 5.0    18080\n",
      "3.0    11317\n",
      "2.0     2626\n",
      "1.0     1034\n",
      "4.0      134\n",
      "Name: P640, dtype: int64 __________\n",
      "\n",
      "Frecuencia luego de la homologación:\n",
      " 5.0    18080\n",
      "3.0    11317\n",
      "2.0     2626\n",
      "1.0     1168\n",
      "Name: P640, dtype: int64 ________\n",
      "\n",
      "Frecuencia luego del cambio de códificación:\n",
      " 4.0    18080\n",
      "3.0    11317\n",
      "2.0     2626\n",
      "1.0     1168\n",
      "Name: P640, dtype: int64 ________\n",
      "\n"
     ]
    }
   ],
   "source": [
    "## Manera de llevar contabilidad\n",
    "# Se unifica 4: informes financieros en 1: Balance General P&G\n",
    "print(\"Frecuencia forma de llevar contabilidad emicron:\\n\",emicron_22['P640'].value_counts(),\"__________\\n\")\n",
    "\n",
    "emicron_22['P640'] = [1 if num == 4 else num for num in emicron_22['P640']]\n",
    "print(\"Frecuencia luego de la homologación:\\n\",emicron_22['P640'].value_counts(),\"________\\n\")\n",
    "\n",
    "# Se cambia el 5 por 4, para homogenizar con los códigos de CENU\n",
    "emicron_22['P640'] = [4 if num == 5 else num for num in emicron_22['P640']]\n",
    "print(\"Frecuencia luego del cambio de códificación:\\n\",emicron_22['P640'].value_counts(),\"________\\n\")"
   ]
  },
  {
   "cell_type": "markdown",
   "metadata": {},
   "source": [
    "#### 3.7 Antigüedad"
   ]
  },
  {
   "cell_type": "code",
   "execution_count": 28,
   "metadata": {},
   "outputs": [
    {
     "data": {
      "text/plain": [
       "count    33191.000000\n",
       "mean        10.077973\n",
       "std         10.228451\n",
       "min          0.000000\n",
       "25%          2.000000\n",
       "50%          6.000000\n",
       "75%         15.000000\n",
       "max         83.000000\n",
       "Name: ANIOS_OPERACION, dtype: float64"
      ]
     },
     "execution_count": 28,
     "metadata": {},
     "output_type": "execute_result"
    }
   ],
   "source": [
    "emicron_22['ANIOS_OPERACION'] = emicron_22['P3034'] / 12\n",
    "#emicron_22['ANIOS_OPERACION'].describe()\n",
    "emicron_22['ANIOS_OPERACION'] = round(emicron_22['ANIOS_OPERACION'])\n",
    "emicron_22['ANIOS_OPERACION'].describe()"
   ]
  },
  {
   "cell_type": "markdown",
   "metadata": {},
   "source": [
    "#### 3.8 Sexo"
   ]
  },
  {
   "cell_type": "code",
   "execution_count": 29,
   "metadata": {},
   "outputs": [],
   "source": [
    "emicron_22['P35'].value_counts()\n",
    "emicron_22['P35'] = [0 if num == 2 else num for num in emicron_22['P35']]"
   ]
  },
  {
   "cell_type": "markdown",
   "metadata": {},
   "source": [
    "## 4. Renombrar variables"
   ]
  },
  {
   "cell_type": "code",
   "execution_count": 30,
   "metadata": {},
   "outputs": [],
   "source": [
    "nombre_estandar = {'P3053': 'UBICA',\n",
    "                   'P1633': 'IDRUT',\n",
    "                   'P640': 'REG_CONT',\n",
    "                   'P1055':'CAMCOMER',\n",
    "                   'P639' : 'ANOS_ESPACIO',\n",
    "                   'P35' : 'HOMBRE'\n",
    "               }\n",
    "\n",
    "emicron_22.rename(columns=nombre_estandar, inplace=True)"
   ]
  },
  {
   "cell_type": "code",
   "execution_count": 31,
   "metadata": {},
   "outputs": [],
   "source": [
    "emicron_22['OLA'] = 2022\n",
    "emicron_22.to_csv(r\"D:\\DANE - Contrato\\2024\\Operativo Barrido\\Data\\EMICRON_22_vf.csv\", index= False)"
   ]
  },
  {
   "cell_type": "code",
   "execution_count": 33,
   "metadata": {},
   "outputs": [],
   "source": [
    "# emicron_22 = pd.read_csv(r\"D:\\DANE - Contrato\\2024\\Operativo Barrido\\Data\\EMICRON_22_vf.csv\", header=0)    \n",
    "# (emicron_22['REMUNERACION_TOTAL'] == emicron_22[['SUELDOS','PRESTACIONES']].sum(axis = 1)).value_counts()\n",
    "# emicron_22[['id','fex','fex_micro_c','FEX_C','FEX_P','F_EXP']]"
   ]
  },
  {
   "cell_type": "code",
   "execution_count": 34,
   "metadata": {},
   "outputs": [],
   "source": [
    "# data_path = r\"D:\\DANE - Contrato\\2024\\Operativo Barrido\\Data\"\n",
    "# emicron_22_pub = pd.read_csv(os.path.join(data_path,\"EMICRON_22.csv\"),header = 0)\n",
    "# emicron_22 = pd.merge(emicron_22, emicron_22_pub[['id','F_EXP']], on='id')"
   ]
  },
  {
   "cell_type": "code",
   "execution_count": 32,
   "metadata": {},
   "outputs": [],
   "source": [
    "var_estab = ['id','VENTAS_MES_ANTERIOR','CYG','POTTOT','REMUNERACION_TOTAL','COD_DEPTO','CPAM','GRUPOS4','UBICA','IDRUT','CAMCOMER','REG_CONT','ANIOS_OPERACION'] \n",
    "\n",
    "var_mov = ['id','VENTAS_MES_ANTERIOR','POTTOT','REMUNERACION_TOTAL','CYG','COD_DEPTO','CPAM','GRUPOS4','ANOS_ESPACIO','HOMBRE']"
   ]
  },
  {
   "cell_type": "code",
   "execution_count": 41,
   "metadata": {},
   "outputs": [
    {
     "data": {
      "text/plain": [
       "False    33191\n",
       "dtype: int64"
      ]
     },
     "execution_count": 41,
     "metadata": {},
     "output_type": "execute_result"
    }
   ],
   "source": [
    "# ¿Existe alguna fila con valores nulos == 99?\n",
    "((emicron_22[var_estab]==99).any(axis=1)).value_counts()"
   ]
  },
  {
   "cell_type": "markdown",
   "metadata": {},
   "source": [
    "# EMICRON 23"
   ]
  },
  {
   "cell_type": "markdown",
   "metadata": {},
   "source": [
    "### 1. Lectura información"
   ]
  },
  {
   "cell_type": "code",
   "execution_count": 6,
   "metadata": {},
   "outputs": [],
   "source": [
    "# data_path = r\"D:\\DANE - Contrato\\2024\\Operativo Barrido\\Data\\Crudos\""
   ]
  },
  {
   "cell_type": "code",
   "execution_count": 3,
   "metadata": {},
   "outputs": [],
   "source": [
    "emicron_23 = pd.read_sas(os.path.join(data_path,\"emicron_2023 (2).sas7bdat\"), format = \"sas7bdat\")\n",
    "# pd.DataFrame(emicron_23.columns).to_excel(\"Variables.xlsx\")\n",
    "# emicron_23[:5].transpose().to_excel(\"Muestra.xlsx\")"
   ]
  },
  {
   "cell_type": "code",
   "execution_count": 4,
   "metadata": {},
   "outputs": [
    {
     "data": {
      "text/plain": [
       "(864144, 518)"
      ]
     },
     "execution_count": 4,
     "metadata": {},
     "output_type": "execute_result"
    }
   ],
   "source": [
    "emicron_23.shape"
   ]
  },
  {
   "cell_type": "code",
   "execution_count": 9,
   "metadata": {},
   "outputs": [],
   "source": [
    "#emicron_23_ = emicron_23.copy()\n",
    "emicron_23 = emicron_23[emicron_23['micro']==1]"
   ]
  },
  {
   "cell_type": "markdown",
   "metadata": {},
   "source": [
    "#### 1.1 Arreglo variables"
   ]
  },
  {
   "cell_type": "code",
   "execution_count": 11,
   "metadata": {},
   "outputs": [
    {
     "name": "stderr",
     "output_type": "stream",
     "text": [
      "C:\\Users\\carlo\\AppData\\Local\\Temp\\ipykernel_38116\\1834767636.py:2: SettingWithCopyWarning: \n",
      "A value is trying to be set on a copy of a slice from a DataFrame.\n",
      "Try using .loc[row_indexer,col_indexer] = value instead\n",
      "\n",
      "See the caveats in the documentation: https://pandas.pydata.org/pandas-docs/stable/user_guide/indexing.html#returning-a-view-versus-a-copy\n",
      "  emicron_23['id'] = emicron_23['DIRECTORIO'].astype(int).astype(str) + emicron_23['SECUENCIA_P'].astype(int).astype(str) + emicron_23['orden'].astype(int).astype(str)\n"
     ]
    }
   ],
   "source": [
    "# Construcción id\n",
    "emicron_23['id'] = emicron_23['DIRECTORIO'].astype(int).astype(str) + emicron_23['SECUENCIA_P'].astype(int).astype(str) + emicron_23['orden'].astype(int).astype(str)"
   ]
  },
  {
   "cell_type": "code",
   "execution_count": 14,
   "metadata": {},
   "outputs": [
    {
     "name": "stdout",
     "output_type": "stream",
     "text": [
      "<class 'pandas.core.frame.DataFrame'>\n",
      "RangeIndex: 81018 entries, 0 to 81017\n",
      "Data columns (total 21 columns):\n",
      " #   Column               Non-Null Count  Dtype  \n",
      "---  ------               --------------  -----  \n",
      " 0   VENTAS_MES_ANTERIOR  0 non-null      float64\n",
      " 1   REMUNERACION_TOTAL   0 non-null      float64\n",
      " 2   GASTOS_MES           0 non-null      float64\n",
      " 3   COSTOS_MES_ANTERIOR  0 non-null      float64\n",
      " 4   P3032_1              13498 non-null  float64\n",
      " 5   P3032_2              13496 non-null  float64\n",
      " 6   P3032_3              13496 non-null  float64\n",
      " 7   COD_DEPTO            81018 non-null  object \n",
      " 8   area                 55388 non-null  float64\n",
      " 9   GRUPOS4              81018 non-null  object \n",
      " 10  P3053                81018 non-null  float64\n",
      " 11  P3054                55786 non-null  float64\n",
      " 12  P1633                81018 non-null  float64\n",
      " 13  P1055                81018 non-null  float64\n",
      " 14  P640                 81018 non-null  float64\n",
      " 15  P639                 81017 non-null  float64\n",
      " 16  P3034                81018 non-null  float64\n",
      " 17  MPIO                 81018 non-null  object \n",
      " 18  GRUPOS12             81018 non-null  object \n",
      " 19  CIIU_3               81018 non-null  float64\n",
      " 20  P2760                52814 non-null  object \n",
      "dtypes: float64(16), object(5)\n",
      "memory usage: 13.0+ MB\n"
     ]
    },
    {
     "data": {
      "text/html": [
       "<div>\n",
       "<style scoped>\n",
       "    .dataframe tbody tr th:only-of-type {\n",
       "        vertical-align: middle;\n",
       "    }\n",
       "\n",
       "    .dataframe tbody tr th {\n",
       "        vertical-align: top;\n",
       "    }\n",
       "\n",
       "    .dataframe thead th {\n",
       "        text-align: right;\n",
       "    }\n",
       "</style>\n",
       "<table border=\"1\" class=\"dataframe\">\n",
       "  <thead>\n",
       "    <tr style=\"text-align: right;\">\n",
       "      <th></th>\n",
       "    </tr>\n",
       "  </thead>\n",
       "  <tbody>\n",
       "  </tbody>\n",
       "</table>\n",
       "</div>"
      ],
      "text/plain": [
       "Empty DataFrame\n",
       "Columns: []\n",
       "Index: []"
      ]
     },
     "execution_count": 14,
     "metadata": {},
     "output_type": "execute_result"
    }
   ],
   "source": [
    "# pd.DataFrame(emicron_23[['VENTAS_MES_ANTERIOR','P3057','P3058','P3059','P3060','P3061','P3062','P4002','P3063','P3064','P3065','P3066','P3067','P3092','P3093',\n",
    "#             'REMUNERACION_TOTAL',\n",
    "#             'GASTOS_MES','P3017_A','P3017_B','P3017_C','P3017_D','P3017_E','P3017_F','P3017_G','P3017_H','P3017_K',\n",
    "#             'COSTOS_MES_ANTERIOR','P3056_A','P3056_B','P3056_C','P3056_D',\n",
    "#             'P3032_1','P3032_2','P3032_3',\n",
    "#             'COD_DEPTO','area','GRUPOS4','P3053','P1633','P1055','P640','P639','P3034']].isna().sum())\n",
    "\n",
    "pd.DataFrame(emicron_23[['VENTAS_MES_ANTERIOR',#'P3057','P3058','P3059','P3060','P3061','P3062','P4002','P3063','P3064','P3065','P3066','P3067','P3092','P3093',\n",
    "           'REMUNERACION_TOTAL',\n",
    "           'GASTOS_MES',#'P3017_A','P3017_B','P3017_C','P3017_D','P3017_E','P3017_F','P3017_G','P3017_H','P3017_K',\n",
    "           'COSTOS_MES_ANTERIOR',#'P3056_A','P3056_B','P3056_C','P3056_D',\n",
    "           'P3032_1','P3032_2','P3032_3',\n",
    "           'COD_DEPTO','area','GRUPOS4','P3053','P3054','P1633','P1055','P640','P639','P3034','MPIO','GRUPOS12','CIIU_3','P2760']].info())"
   ]
  },
  {
   "cell_type": "code",
   "execution_count": 12,
   "metadata": {},
   "outputs": [
    {
     "name": "stderr",
     "output_type": "stream",
     "text": [
      "C:\\Users\\carlo\\AppData\\Local\\Temp\\ipykernel_38116\\1245985555.py:1: SettingWithCopyWarning: \n",
      "A value is trying to be set on a copy of a slice from a DataFrame.\n",
      "Try using .loc[row_indexer,col_indexer] = value instead\n",
      "\n",
      "See the caveats in the documentation: https://pandas.pydata.org/pandas-docs/stable/user_guide/indexing.html#returning-a-view-versus-a-copy\n",
      "  emicron_23['GRUPOS12'] = emicron_23['GRUPOS12'].astype('int')\n",
      "C:\\Users\\carlo\\AppData\\Local\\Temp\\ipykernel_38116\\1245985555.py:2: SettingWithCopyWarning: \n",
      "A value is trying to be set on a copy of a slice from a DataFrame.\n",
      "Try using .loc[row_indexer,col_indexer] = value instead\n",
      "\n",
      "See the caveats in the documentation: https://pandas.pydata.org/pandas-docs/stable/user_guide/indexing.html#returning-a-view-versus-a-copy\n",
      "  emicron_23['GRUPOS4'] = emicron_23['GRUPOS4'].astype('int')\n",
      "C:\\Users\\carlo\\AppData\\Local\\Temp\\ipykernel_38116\\1245985555.py:3: SettingWithCopyWarning: \n",
      "A value is trying to be set on a copy of a slice from a DataFrame.\n",
      "Try using .loc[row_indexer,col_indexer] = value instead\n",
      "\n",
      "See the caveats in the documentation: https://pandas.pydata.org/pandas-docs/stable/user_guide/indexing.html#returning-a-view-versus-a-copy\n",
      "  emicron_23['MPIO'] = emicron_23['MPIO'].astype('int')\n",
      "C:\\Users\\carlo\\AppData\\Local\\Temp\\ipykernel_38116\\1245985555.py:4: SettingWithCopyWarning: \n",
      "A value is trying to be set on a copy of a slice from a DataFrame.\n",
      "Try using .loc[row_indexer,col_indexer] = value instead\n",
      "\n",
      "See the caveats in the documentation: https://pandas.pydata.org/pandas-docs/stable/user_guide/indexing.html#returning-a-view-versus-a-copy\n",
      "  emicron_23['COD_DEPTO'] = emicron_23['COD_DEPTO'].astype('int')\n"
     ]
    }
   ],
   "source": [
    "emicron_23['GRUPOS12'] = emicron_23['GRUPOS12'].astype('int')\n",
    "emicron_23['GRUPOS4'] = emicron_23['GRUPOS4'].astype('int')\n",
    "emicron_23['MPIO'] = emicron_23['MPIO'].astype('int')\n",
    "emicron_23['COD_DEPTO'] = emicron_23['COD_DEPTO'].astype('int')"
   ]
  },
  {
   "cell_type": "markdown",
   "metadata": {},
   "source": [
    "### 2. Filtrado de la información\n",
    "Se procederá a filtrar la base de datos con base en unos elementos particulares:  \n",
    "1. Actividades económicas que cubre EMICRON y que no serán tenidas en cuenta en CENU.  \n",
    "2. Ubicación del micronegocio. Ya que se entrenará un modelo para puestos fijos y micronegocios en vivienda (sólo los visibles al público), y otro para puestos móviles.   \n",
    "3. Otras variables como el número de establecimientos, que permitan mantener una información homogénea."
   ]
  },
  {
   "cell_type": "markdown",
   "metadata": {},
   "source": [
    "#### 2.1 Actividades económicas que cubrirá el CENU \n",
    "Emicron incluye preguntas a los sectores de agricultura, ganadería, caza, silvicultura y pesca; además, de minería. Debido a que estos sectores no harán parte del Universo del Censo Económico, se descartarán de la base de datos:"
   ]
  },
  {
   "cell_type": "code",
   "execution_count": 13,
   "metadata": {},
   "outputs": [
    {
     "data": {
      "text/plain": [
       "(70597, 519)"
      ]
     },
     "execution_count": 13,
     "metadata": {},
     "output_type": "execute_result"
    }
   ],
   "source": [
    "emicron_23 = emicron_23[~(emicron_23['GRUPOS12'].isin([1,2,13]))]\n",
    "emicron_23.shape"
   ]
  },
  {
   "cell_type": "code",
   "execution_count": 14,
   "metadata": {},
   "outputs": [
    {
     "data": {
      "text/plain": [
       "5     21828\n",
       "6     11715\n",
       "12     8898\n",
       "3      8372\n",
       "7      7430\n",
       "4      5555\n",
       "9      4598\n",
       "11      903\n",
       "10      826\n",
       "8       472\n",
       "Name: GRUPOS12, dtype: int64"
      ]
     },
     "execution_count": 14,
     "metadata": {},
     "output_type": "execute_result"
    }
   ],
   "source": [
    "emicron_23['GRUPOS12'].value_counts()"
   ]
  },
  {
   "cell_type": "markdown",
   "metadata": {},
   "source": [
    "#### 2.2 Ubicación del micronegocio\n",
    "Para el entrenamiento de los modelos se utilizará la ubicación de micronegocios en 1: Vivienda, 2: Local (puestos fijos), 4: Ambulante, por lo tanto sólo estas categorías se mantendrán. De igual manera, el CENU, sólo recolectará información de actividades económicas visibles, por lo tanto se filtrará por este tipo de micronegocios."
   ]
  },
  {
   "cell_type": "code",
   "execution_count": 15,
   "metadata": {},
   "outputs": [
    {
     "name": "stdout",
     "output_type": "stream",
     "text": [
      "1.0    23469\n",
      "3.0    13563\n",
      "5.0    11383\n",
      "2.0    10043\n",
      "4.0     8662\n",
      "6.0     2691\n",
      "8.0      456\n",
      "7.0      330\n",
      "Name: P3053, dtype: int64\n",
      "1.0    23469\n",
      "2.0    10043\n",
      "4.0     8662\n",
      "Name: P3053, dtype: int64\n"
     ]
    }
   ],
   "source": [
    "print(emicron_23['P3053'].value_counts())\n",
    "\n",
    "# Seleccionar sólo viviendas, establecimientos y ambulantes\n",
    "emicron_23 = emicron_23[emicron_23['P3053'].isin([1,2,4])]\n",
    "\n",
    "print(emicron_23['P3053'].value_counts())"
   ]
  },
  {
   "cell_type": "code",
   "execution_count": 16,
   "metadata": {},
   "outputs": [
    {
     "data": {
      "text/plain": [
       "5     17483\n",
       "3      7448\n",
       "7      7005\n",
       "12     5498\n",
       "9      2831\n",
       "11      631\n",
       "10      491\n",
       "8       375\n",
       "6       225\n",
       "4       187\n",
       "Name: GRUPOS12, dtype: int64"
      ]
     },
     "execution_count": 16,
     "metadata": {},
     "output_type": "execute_result"
    }
   ],
   "source": [
    "emicron_23['GRUPOS12'].value_counts()"
   ]
  },
  {
   "cell_type": "code",
   "execution_count": 17,
   "metadata": {},
   "outputs": [
    {
     "name": "stdout",
     "output_type": "stream",
     "text": [
      "1.0    12685\n",
      "2.0    10043\n",
      "4.0     8662\n",
      "Name: P3053, dtype: int64\n"
     ]
    }
   ],
   "source": [
    "# Visibilidad del micronegocio (sólo eliminar viviendas no visibles al público)\n",
    "emicron_23.drop(emicron_23[(emicron_23['P3053'] == 1) & (emicron_23['P469'] == 2)].index, inplace = True)\n",
    "\n",
    "# [(emicron_23['P469'] == 1)]\n",
    "print(emicron_23['P3053'].value_counts())"
   ]
  },
  {
   "cell_type": "code",
   "execution_count": 18,
   "metadata": {},
   "outputs": [
    {
     "data": {
      "text/plain": [
       "(31390, 519)"
      ]
     },
     "execution_count": 18,
     "metadata": {},
     "output_type": "execute_result"
    }
   ],
   "source": [
    "emicron_23.shape"
   ]
  },
  {
   "cell_type": "code",
   "execution_count": 19,
   "metadata": {},
   "outputs": [
    {
     "name": "stdout",
     "output_type": "stream",
     "text": [
      "3.0    12685\n",
      "1.0    10043\n",
      "4.0     8662\n",
      "Name: P3053, dtype: int64\n"
     ]
    }
   ],
   "source": [
    "# Reemplazar los códigos en función de la codificación que se recibirá en el CENU\n",
    "# 1: Establecimiento fijo\n",
    "# 3: Vivienda con actividad económica visible\n",
    "def rule(i):\n",
    "    if i == 1:\n",
    "        return 3\n",
    "    elif i == 2:\n",
    "        return 1\n",
    "    return i\n",
    "\n",
    "emicron_23['P3053'] = list(map(rule,emicron_23['P3053']))\n",
    "print(emicron_23['P3053'].value_counts())"
   ]
  },
  {
   "cell_type": "markdown",
   "metadata": {},
   "source": [
    "#### 2.3 Ventas del mes anterior\n",
    "Eliminar las filas cuyas ventas del año pasado son missing y cero"
   ]
  },
  {
   "cell_type": "code",
   "execution_count": 20,
   "metadata": {},
   "outputs": [
    {
     "name": "stdout",
     "output_type": "stream",
     "text": [
      "Valores nulos ventas:  0\n",
      "Ventas en cero:  618\n"
     ]
    },
    {
     "data": {
      "text/plain": [
       "(31390, 519)"
      ]
     },
     "execution_count": 20,
     "metadata": {},
     "output_type": "execute_result"
    }
   ],
   "source": [
    "# Valores nulos ventas\n",
    "print(\"Valores nulos ventas: \", emicron_23[\"VENTAS_MES_ANTERIOR\"].isna().sum())\n",
    "\n",
    "# Valores cero ventas\n",
    "print(\"Ventas en cero: \", (emicron_23[\"VENTAS_MES_ANTERIOR\"]==0).sum())\n",
    "\n",
    "# Eliminar los registros con venta cero\n",
    "#emicron_23 = emicron_23[~(emicron_23[\"VENTAS_MES_ANTERIOR\"] == 0)]\n",
    "\n",
    "emicron_23.shape"
   ]
  },
  {
   "cell_type": "markdown",
   "metadata": {},
   "source": [
    "#### 2.4 Número de establecimientos\n",
    "Eliminar las filas cuyo número de estabecimientos es diferente a 1, ya que la información que recolecta el CENU es por establecimiento y la recolectada por EMICRON es a nivel de negocio, pero a veces se presenta información también solo por establecimiento cuando el negocio tiene más de un establecimiento. Para evitar eso, sólo utilizar los micronegocios que reportan un sólo establecimiento comercial, que representan el 99.36 % de la muestra (casi todos)."
   ]
  },
  {
   "cell_type": "code",
   "execution_count": 21,
   "metadata": {},
   "outputs": [
    {
     "data": {
      "text/html": [
       "<div>\n",
       "<style scoped>\n",
       "    .dataframe tbody tr th:only-of-type {\n",
       "        vertical-align: middle;\n",
       "    }\n",
       "\n",
       "    .dataframe tbody tr th {\n",
       "        vertical-align: top;\n",
       "    }\n",
       "\n",
       "    .dataframe thead th {\n",
       "        text-align: right;\n",
       "    }\n",
       "</style>\n",
       "<table border=\"1\" class=\"dataframe\">\n",
       "  <thead>\n",
       "    <tr style=\"text-align: right;\">\n",
       "      <th>P3053</th>\n",
       "      <th>1.0</th>\n",
       "      <th>3.0</th>\n",
       "      <th>4.0</th>\n",
       "    </tr>\n",
       "    <tr>\n",
       "      <th>P3054</th>\n",
       "      <th></th>\n",
       "      <th></th>\n",
       "      <th></th>\n",
       "    </tr>\n",
       "  </thead>\n",
       "  <tbody>\n",
       "    <tr>\n",
       "      <th>False</th>\n",
       "      <td>10043</td>\n",
       "      <td>12685</td>\n",
       "      <td>3450</td>\n",
       "    </tr>\n",
       "    <tr>\n",
       "      <th>True</th>\n",
       "      <td>0</td>\n",
       "      <td>0</td>\n",
       "      <td>5212</td>\n",
       "    </tr>\n",
       "  </tbody>\n",
       "</table>\n",
       "</div>"
      ],
      "text/plain": [
       "P3053    1.0    3.0   4.0\n",
       "P3054                    \n",
       "False  10043  12685  3450\n",
       "True       0      0  5212"
      ]
     },
     "execution_count": 21,
     "metadata": {},
     "output_type": "execute_result"
    }
   ],
   "source": [
    "pd.crosstab(emicron_23['P3054'].isna(), emicron_23['P3053'])"
   ]
  },
  {
   "cell_type": "code",
   "execution_count": 22,
   "metadata": {},
   "outputs": [
    {
     "name": "stdout",
     "output_type": "stream",
     "text": [
      "1.0     26078\n",
      "2.0        77\n",
      "3.0        19\n",
      "11.0        2\n",
      "6.0         1\n",
      "5.0         1\n",
      "Name: P3054, dtype: int64 \n",
      "_____________\n",
      "\n"
     ]
    },
    {
     "data": {
      "text/plain": [
       "(31290, 519)"
      ]
     },
     "execution_count": 22,
     "metadata": {},
     "output_type": "execute_result"
    }
   ],
   "source": [
    "emicron_23['P3054'] = pd.to_numeric(emicron_23['P3054'], errors='coerce')\n",
    "print(emicron_23['P3054'].value_counts(),\"\\n_____________\\n\")\n",
    "emicron_23 = emicron_23[(emicron_23['P3054'] == 1) | ((emicron_23['P3054'].isna()) & (emicron_23['P3053']==4))]\n",
    "emicron_23.shape"
   ]
  },
  {
   "cell_type": "code",
   "execution_count": 23,
   "metadata": {},
   "outputs": [
    {
     "data": {
      "text/html": [
       "<div>\n",
       "<style scoped>\n",
       "    .dataframe tbody tr th:only-of-type {\n",
       "        vertical-align: middle;\n",
       "    }\n",
       "\n",
       "    .dataframe tbody tr th {\n",
       "        vertical-align: top;\n",
       "    }\n",
       "\n",
       "    .dataframe thead th {\n",
       "        text-align: right;\n",
       "    }\n",
       "</style>\n",
       "<table border=\"1\" class=\"dataframe\">\n",
       "  <thead>\n",
       "    <tr style=\"text-align: right;\">\n",
       "      <th>P3053</th>\n",
       "      <th>1.0</th>\n",
       "      <th>3.0</th>\n",
       "      <th>4.0</th>\n",
       "    </tr>\n",
       "    <tr>\n",
       "      <th>P3054</th>\n",
       "      <th></th>\n",
       "      <th></th>\n",
       "      <th></th>\n",
       "    </tr>\n",
       "  </thead>\n",
       "  <tbody>\n",
       "    <tr>\n",
       "      <th>False</th>\n",
       "      <td>9974</td>\n",
       "      <td>12669</td>\n",
       "      <td>3435</td>\n",
       "    </tr>\n",
       "    <tr>\n",
       "      <th>True</th>\n",
       "      <td>0</td>\n",
       "      <td>0</td>\n",
       "      <td>5212</td>\n",
       "    </tr>\n",
       "  </tbody>\n",
       "</table>\n",
       "</div>"
      ],
      "text/plain": [
       "P3053   1.0    3.0   4.0\n",
       "P3054                   \n",
       "False  9974  12669  3435\n",
       "True      0      0  5212"
      ]
     },
     "execution_count": 23,
     "metadata": {},
     "output_type": "execute_result"
    }
   ],
   "source": [
    "pd.crosstab(emicron_23['P3054'].isna(), emicron_23['P3053'])"
   ]
  },
  {
   "cell_type": "code",
   "execution_count": 24,
   "metadata": {},
   "outputs": [
    {
     "data": {
      "text/html": [
       "<div>\n",
       "<style scoped>\n",
       "    .dataframe tbody tr th:only-of-type {\n",
       "        vertical-align: middle;\n",
       "    }\n",
       "\n",
       "    .dataframe tbody tr th {\n",
       "        vertical-align: top;\n",
       "    }\n",
       "\n",
       "    .dataframe thead th {\n",
       "        text-align: right;\n",
       "    }\n",
       "</style>\n",
       "<table border=\"1\" class=\"dataframe\">\n",
       "  <thead>\n",
       "    <tr style=\"text-align: right;\">\n",
       "      <th>P3053</th>\n",
       "      <th>1.0</th>\n",
       "      <th>3.0</th>\n",
       "      <th>4.0</th>\n",
       "    </tr>\n",
       "    <tr>\n",
       "      <th>P469</th>\n",
       "      <th></th>\n",
       "      <th></th>\n",
       "      <th></th>\n",
       "    </tr>\n",
       "  </thead>\n",
       "  <tbody>\n",
       "    <tr>\n",
       "      <th>1.0</th>\n",
       "      <td>9374</td>\n",
       "      <td>12669</td>\n",
       "      <td>3195</td>\n",
       "    </tr>\n",
       "    <tr>\n",
       "      <th>2.0</th>\n",
       "      <td>600</td>\n",
       "      <td>0</td>\n",
       "      <td>240</td>\n",
       "    </tr>\n",
       "  </tbody>\n",
       "</table>\n",
       "</div>"
      ],
      "text/plain": [
       "P3053   1.0    3.0   4.0\n",
       "P469                    \n",
       "1.0    9374  12669  3195\n",
       "2.0     600      0   240"
      ]
     },
     "execution_count": 24,
     "metadata": {},
     "output_type": "execute_result"
    }
   ],
   "source": [
    "pd.crosstab(emicron_23['P469'], emicron_23['P3053'])"
   ]
  },
  {
   "cell_type": "markdown",
   "metadata": {},
   "source": [
    "### 3. Creación variables principales\n",
    "1. Se creará una agrupación para la variable del número total de empleados  \n",
    "2. Se agregarán los costos y los gastos en una sola variable (CYG)  \n",
    "3. AREA se recodificará para que muestre si la observación pertenece a una ciudad capital del departamento  \n",
    "4. Contabilidad"
   ]
  },
  {
   "cell_type": "markdown",
   "metadata": {},
   "source": [
    "#### 3.1 Personal Ocupado"
   ]
  },
  {
   "cell_type": "code",
   "execution_count": 25,
   "metadata": {},
   "outputs": [],
   "source": [
    "emicron_23['POTTOT'] = emicron_23[['P3032_1','P3032_2','P3032_3']].sum(axis=1) + 1\n",
    "#emicron_23['POT_rem'] = emicron_23[['P3032_1']].sum(axis=1) + 1\n",
    "#emicron_23['POT_norem'] = emicron_23[['P3032_2','P3032_3']].sum(axis=1)\n",
    "\n",
    "# emicron_23[['POTTOT','POT_rem','POT_norem']].describe()\n",
    "# emicron_23[['POTTOT','POT_rem','POT_norem','REMUNERACION_TOTAL']].corr()\n",
    "\n",
    "#print(\"Coincidentes entre POTTOT y desagregación propuesta:\\n\",(emicron_23['POTTOT'] == emicron_23[['POT_rem','POT_norem']].sum(axis=1)).value_counts())"
   ]
  },
  {
   "cell_type": "code",
   "execution_count": 26,
   "metadata": {},
   "outputs": [
    {
     "data": {
      "text/plain": [
       "count    22643.000000\n",
       "mean         1.496666\n",
       "std          1.011429\n",
       "min          1.000000\n",
       "25%          1.000000\n",
       "50%          1.000000\n",
       "75%          2.000000\n",
       "max          9.000000\n",
       "Name: POTTOT, dtype: float64"
      ]
     },
     "execution_count": 26,
     "metadata": {},
     "output_type": "execute_result"
    }
   ],
   "source": [
    "emicron_23[emicron_23['P3053']!=4]['POTTOT'].describe()"
   ]
  },
  {
   "cell_type": "markdown",
   "metadata": {},
   "source": [
    "#### 3.2 Ventas al mes"
   ]
  },
  {
   "cell_type": "code",
   "execution_count": 27,
   "metadata": {},
   "outputs": [
    {
     "name": "stdout",
     "output_type": "stream",
     "text": [
      "Número de filas coincidentes entre la variable agregada y la suma de las individuales:\n",
      " True    31290\n",
      "dtype: int64\n"
     ]
    }
   ],
   "source": [
    "# Comparación suma individual y la agregada\n",
    "print(\"Número de filas coincidentes entre la variable agregada y la suma de las individuales:\\n\",(emicron_23['VENTAS_MES_ANTERIOR'] == emicron_23[['P3057','P3058','P3059','P3060','P3061','P3062','P4002','P3063','P3064','P3065','P3066','P3067','P3092','P3093']].sum(axis=1)).value_counts())\n",
    "#emicron_23[['VENTAS_MES_ANTERIOR','P3057','P3058','P3059','P3060','P3061','P3062','P4002','P3063','P3064','P3065','P3066','P3067','P3092','P3093']][~(emicron_23['VENTAS_MES_ANTERIOR'] == emicron_23[['P3057','P3058','P3059','P3060','P3061','P3062','P4002','P3063','P3064','P3065','P3066','P3067','P3092','P3093']].sum(axis=1))]"
   ]
  },
  {
   "cell_type": "code",
   "execution_count": 28,
   "metadata": {},
   "outputs": [
    {
     "name": "stdout",
     "output_type": "stream",
     "text": [
      "Información datos\n",
      ": (31290, 520) \n",
      "\n"
     ]
    },
    {
     "data": {
      "text/plain": [
       "False    31290\n",
       "dtype: int64"
      ]
     },
     "execution_count": 28,
     "metadata": {},
     "output_type": "execute_result"
    }
   ],
   "source": [
    "# ¿Existen filas que no cuenten con información?\n",
    "print(\"Información datos\\n:\",emicron_23.shape,\"\\n\")\n",
    "(emicron_23[['P3057','P3058','P3059','P3060','P3061','P3062','P4002','P3063','P3064','P3065','P3066','P3067','P3092','P3093']].isna().all(axis = 1)).value_counts()\n",
    "# Parece que no existe filas con NA's"
   ]
  },
  {
   "cell_type": "code",
   "execution_count": 34,
   "metadata": {},
   "outputs": [
    {
     "data": {
      "text/plain": [
       "False    31290\n",
       "dtype: int64"
      ]
     },
     "execution_count": 34,
     "metadata": {},
     "output_type": "execute_result"
    }
   ],
   "source": [
    "((emicron_23[['P3057','P3058','P3059','P3060','P3061','P3062','P4002','P3063','P3064','P3065','P3066','P3067','P3092','P3093']]==99).any(axis = 1)).value_counts()"
   ]
  },
  {
   "cell_type": "code",
   "execution_count": 55,
   "metadata": {},
   "outputs": [],
   "source": [
    "#emicron_23['VENTAS_MES_ANTERIOR'] = emicron_23[['P3057','P3058','P3059','P3060','P3061','P3062','P4002','P3063','P3064','P3065','P3066','P3067','P3092','P3093']].sum(axis=1)"
   ]
  },
  {
   "cell_type": "markdown",
   "metadata": {},
   "source": [
    "#### 3.3 Costos y gastos al mes"
   ]
  },
  {
   "cell_type": "code",
   "execution_count": 35,
   "metadata": {},
   "outputs": [
    {
     "name": "stdout",
     "output_type": "stream",
     "text": [
      "Número de filas coincidentes entre la variable agregada y la suma de las individuales:\n",
      " True    31290\n",
      "dtype: int64\n"
     ]
    }
   ],
   "source": [
    "# Comparación suma individual y la agregada\n",
    "print(\"Número de filas coincidentes entre la variable agregada y la suma de las individuales:\\n\",(emicron_23['COSTOS_MES_ANTERIOR'] == emicron_23[['P3056_A','P3056_B','P3056_C','P3056_D']].sum(axis=1)).value_counts())"
   ]
  },
  {
   "cell_type": "code",
   "execution_count": 36,
   "metadata": {},
   "outputs": [
    {
     "name": "stdout",
     "output_type": "stream",
     "text": [
      "Información datos\n",
      ": (31290, 520) \n",
      "\n"
     ]
    },
    {
     "data": {
      "text/plain": [
       "False    31290\n",
       "dtype: int64"
      ]
     },
     "execution_count": 36,
     "metadata": {},
     "output_type": "execute_result"
    }
   ],
   "source": [
    "# ¿Existen filas que no cuenten con información?\n",
    "print(\"Información datos\\n:\",emicron_23.shape,\"\\n\")\n",
    "(emicron_23[['P3056_A','P3056_B','P3056_C','P3056_D']].isna().all(axis = 1)).value_counts()\n",
    "\n",
    "# Parece que no existe filas con NA's"
   ]
  },
  {
   "cell_type": "code",
   "execution_count": 37,
   "metadata": {},
   "outputs": [
    {
     "data": {
      "text/plain": [
       "False    31290\n",
       "dtype: int64"
      ]
     },
     "execution_count": 37,
     "metadata": {},
     "output_type": "execute_result"
    }
   ],
   "source": [
    "((emicron_23[['P3056_A','P3056_B','P3056_C','P3056_D']]==99).all(axis = 1)).value_counts()"
   ]
  },
  {
   "cell_type": "code",
   "execution_count": 58,
   "metadata": {},
   "outputs": [],
   "source": [
    "#emicron_23['COSTOS_MES_ANTERIOR'] = emicron_23[['P3056_A','P3056_B','P3056_C','P3056_D']].sum(axis=1)"
   ]
  },
  {
   "cell_type": "code",
   "execution_count": 38,
   "metadata": {},
   "outputs": [
    {
     "name": "stdout",
     "output_type": "stream",
     "text": [
      "Número de filas coincidentes entre la variable agregada y la suma de las individuales:\n",
      " True    31290\n",
      "dtype: int64\n"
     ]
    }
   ],
   "source": [
    "# Comparación suma individual y la agregada\n",
    "print(\"Número de filas coincidentes entre la variable agregada y la suma de las individuales:\\n\",(emicron_23['GASTOS_MES'] == emicron_23[['P3017_A','P3017_B','P3017_C','P3017_D','P3017_E','P3017_F','P3017_G','P3017_H','P3017_K']].sum(axis=1)).value_counts())"
   ]
  },
  {
   "cell_type": "code",
   "execution_count": 39,
   "metadata": {},
   "outputs": [
    {
     "name": "stdout",
     "output_type": "stream",
     "text": [
      "Información datos\n",
      ": (31290, 520) \n",
      "\n"
     ]
    },
    {
     "data": {
      "text/plain": [
       "False    31290\n",
       "dtype: int64"
      ]
     },
     "execution_count": 39,
     "metadata": {},
     "output_type": "execute_result"
    }
   ],
   "source": [
    "# ¿Existen filas que no cuenten con información?\n",
    "print(\"Información datos\\n:\",emicron_23.shape,\"\\n\")\n",
    "(emicron_23[['P3017_A','P3017_B','P3017_C','P3017_D','P3017_E','P3017_F','P3017_G','P3017_H','P3017_K']].isna().all(axis = 1)).value_counts()\n",
    "\n",
    "# Parece que no existe filas con NA's"
   ]
  },
  {
   "cell_type": "code",
   "execution_count": 40,
   "metadata": {},
   "outputs": [
    {
     "data": {
      "text/plain": [
       "False    31290\n",
       "dtype: int64"
      ]
     },
     "execution_count": 40,
     "metadata": {},
     "output_type": "execute_result"
    }
   ],
   "source": [
    "((emicron_23[['P3017_A','P3017_B','P3017_C','P3017_D','P3017_E','P3017_F','P3017_G','P3017_H','P3017_K']]==99).all(axis = 1)).value_counts()"
   ]
  },
  {
   "cell_type": "code",
   "execution_count": 61,
   "metadata": {},
   "outputs": [],
   "source": [
    "#emicron_23['GASTOS_MES'] = emicron_23[['P3017_A','P3017_B','P3017_C','P3017_D','P3017_E','P3017_F','P3017_G','P3017_H','P3017_K']].sum(axis=1)"
   ]
  },
  {
   "cell_type": "code",
   "execution_count": 41,
   "metadata": {},
   "outputs": [],
   "source": [
    "# Agregación de la variable\n",
    "emicron_23['CYG'] = emicron_23[['COSTOS_MES_ANTERIOR','GASTOS_MES']].sum(axis=1)"
   ]
  },
  {
   "cell_type": "markdown",
   "metadata": {},
   "source": [
    "#### 3.4 Remuneración Total"
   ]
  },
  {
   "cell_type": "code",
   "execution_count": 44,
   "metadata": {},
   "outputs": [
    {
     "name": "stdout",
     "output_type": "stream",
     "text": [
      "Valores nulos: remuneración 0 \n",
      "_________________\n",
      "Valores nulos: prestaciones 0 \n",
      "_________________\n",
      "Valores nulos: sueldos 23670 \n",
      "_________________\n"
     ]
    }
   ],
   "source": [
    "print(\"Valores nulos: remuneración\",emicron_23['REMUNERACION_TOTAL'].isna().sum(),\"\\n_________________\")\n",
    "print(\"Valores nulos: prestaciones\",emicron_23['PRESTACIONES'].isna().sum(),\"\\n_________________\")\n",
    "print(\"Valores nulos: sueldos\",emicron_23['SUELDOS'].isna().sum(),\"\\n_________________\")"
   ]
  },
  {
   "cell_type": "code",
   "execution_count": 46,
   "metadata": {},
   "outputs": [
    {
     "data": {
      "text/plain": [
       "0"
      ]
     },
     "execution_count": 46,
     "metadata": {},
     "output_type": "execute_result"
    }
   ],
   "source": [
    "(emicron_23['REMUNERACION_TOTAL']==99).sum()"
   ]
  },
  {
   "cell_type": "markdown",
   "metadata": {},
   "source": [
    "#### 3.5 Variable de Ciudad Capital y A.M\n",
    "Recodificar la variable de Área en función de si es una ciudad principal o un área metropolitana dentro del departamento"
   ]
  },
  {
   "cell_type": "code",
   "execution_count": 47,
   "metadata": {},
   "outputs": [],
   "source": [
    "def rule_city(i):\n",
    "    if pd.isna(i) == True:\n",
    "        return 0\n",
    "    else:\n",
    "        return 1\n",
    "    return i\n",
    "\n",
    "emicron_23['CPAM'] = list(map(rule_city,emicron_23['area']))"
   ]
  },
  {
   "cell_type": "code",
   "execution_count": 48,
   "metadata": {},
   "outputs": [
    {
     "data": {
      "text/html": [
       "<div>\n",
       "<style scoped>\n",
       "    .dataframe tbody tr th:only-of-type {\n",
       "        vertical-align: middle;\n",
       "    }\n",
       "\n",
       "    .dataframe tbody tr th {\n",
       "        vertical-align: top;\n",
       "    }\n",
       "\n",
       "    .dataframe thead th {\n",
       "        text-align: right;\n",
       "    }\n",
       "</style>\n",
       "<table border=\"1\" class=\"dataframe\">\n",
       "  <thead>\n",
       "    <tr style=\"text-align: right;\">\n",
       "      <th>CPAM</th>\n",
       "      <th>0</th>\n",
       "      <th>1</th>\n",
       "    </tr>\n",
       "    <tr>\n",
       "      <th>COD_DEPTO</th>\n",
       "      <th></th>\n",
       "      <th></th>\n",
       "    </tr>\n",
       "  </thead>\n",
       "  <tbody>\n",
       "    <tr>\n",
       "      <th>5</th>\n",
       "      <td>592</td>\n",
       "      <td>1482</td>\n",
       "    </tr>\n",
       "    <tr>\n",
       "      <th>8</th>\n",
       "      <td>329</td>\n",
       "      <td>1404</td>\n",
       "    </tr>\n",
       "    <tr>\n",
       "      <th>11</th>\n",
       "      <td>19</td>\n",
       "      <td>707</td>\n",
       "    </tr>\n",
       "    <tr>\n",
       "      <th>13</th>\n",
       "      <td>292</td>\n",
       "      <td>1418</td>\n",
       "    </tr>\n",
       "    <tr>\n",
       "      <th>15</th>\n",
       "      <td>216</td>\n",
       "      <td>708</td>\n",
       "    </tr>\n",
       "    <tr>\n",
       "      <th>17</th>\n",
       "      <td>229</td>\n",
       "      <td>904</td>\n",
       "    </tr>\n",
       "    <tr>\n",
       "      <th>18</th>\n",
       "      <td>293</td>\n",
       "      <td>1069</td>\n",
       "    </tr>\n",
       "    <tr>\n",
       "      <th>19</th>\n",
       "      <td>288</td>\n",
       "      <td>943</td>\n",
       "    </tr>\n",
       "    <tr>\n",
       "      <th>20</th>\n",
       "      <td>242</td>\n",
       "      <td>788</td>\n",
       "    </tr>\n",
       "    <tr>\n",
       "      <th>23</th>\n",
       "      <td>360</td>\n",
       "      <td>789</td>\n",
       "    </tr>\n",
       "    <tr>\n",
       "      <th>25</th>\n",
       "      <td>390</td>\n",
       "      <td>0</td>\n",
       "    </tr>\n",
       "    <tr>\n",
       "      <th>27</th>\n",
       "      <td>122</td>\n",
       "      <td>607</td>\n",
       "    </tr>\n",
       "    <tr>\n",
       "      <th>41</th>\n",
       "      <td>166</td>\n",
       "      <td>684</td>\n",
       "    </tr>\n",
       "    <tr>\n",
       "      <th>44</th>\n",
       "      <td>180</td>\n",
       "      <td>1352</td>\n",
       "    </tr>\n",
       "    <tr>\n",
       "      <th>47</th>\n",
       "      <td>464</td>\n",
       "      <td>1066</td>\n",
       "    </tr>\n",
       "    <tr>\n",
       "      <th>50</th>\n",
       "      <td>312</td>\n",
       "      <td>1024</td>\n",
       "    </tr>\n",
       "    <tr>\n",
       "      <th>52</th>\n",
       "      <td>586</td>\n",
       "      <td>1205</td>\n",
       "    </tr>\n",
       "    <tr>\n",
       "      <th>54</th>\n",
       "      <td>211</td>\n",
       "      <td>1111</td>\n",
       "    </tr>\n",
       "    <tr>\n",
       "      <th>63</th>\n",
       "      <td>108</td>\n",
       "      <td>980</td>\n",
       "    </tr>\n",
       "    <tr>\n",
       "      <th>66</th>\n",
       "      <td>232</td>\n",
       "      <td>974</td>\n",
       "    </tr>\n",
       "    <tr>\n",
       "      <th>68</th>\n",
       "      <td>582</td>\n",
       "      <td>1343</td>\n",
       "    </tr>\n",
       "    <tr>\n",
       "      <th>70</th>\n",
       "      <td>380</td>\n",
       "      <td>1005</td>\n",
       "    </tr>\n",
       "    <tr>\n",
       "      <th>73</th>\n",
       "      <td>256</td>\n",
       "      <td>634</td>\n",
       "    </tr>\n",
       "    <tr>\n",
       "      <th>76</th>\n",
       "      <td>630</td>\n",
       "      <td>1311</td>\n",
       "    </tr>\n",
       "    <tr>\n",
       "      <th>88</th>\n",
       "      <td>0</td>\n",
       "      <td>303</td>\n",
       "    </tr>\n",
       "  </tbody>\n",
       "</table>\n",
       "</div>"
      ],
      "text/plain": [
       "CPAM         0     1\n",
       "COD_DEPTO           \n",
       "5          592  1482\n",
       "8          329  1404\n",
       "11          19   707\n",
       "13         292  1418\n",
       "15         216   708\n",
       "17         229   904\n",
       "18         293  1069\n",
       "19         288   943\n",
       "20         242   788\n",
       "23         360   789\n",
       "25         390     0\n",
       "27         122   607\n",
       "41         166   684\n",
       "44         180  1352\n",
       "47         464  1066\n",
       "50         312  1024\n",
       "52         586  1205\n",
       "54         211  1111\n",
       "63         108   980\n",
       "66         232   974\n",
       "68         582  1343\n",
       "70         380  1005\n",
       "73         256   634\n",
       "76         630  1311\n",
       "88           0   303"
      ]
     },
     "execution_count": 48,
     "metadata": {},
     "output_type": "execute_result"
    }
   ],
   "source": [
    "pd.crosstab(emicron_23['COD_DEPTO'],emicron_23['CPAM'])"
   ]
  },
  {
   "cell_type": "code",
   "execution_count": 49,
   "metadata": {},
   "outputs": [
    {
     "data": {
      "text/html": [
       "<div>\n",
       "<style scoped>\n",
       "    .dataframe tbody tr th:only-of-type {\n",
       "        vertical-align: middle;\n",
       "    }\n",
       "\n",
       "    .dataframe tbody tr th {\n",
       "        vertical-align: top;\n",
       "    }\n",
       "\n",
       "    .dataframe thead th {\n",
       "        text-align: right;\n",
       "    }\n",
       "</style>\n",
       "<table border=\"1\" class=\"dataframe\">\n",
       "  <thead>\n",
       "    <tr style=\"text-align: right;\">\n",
       "      <th>area</th>\n",
       "      <th>False</th>\n",
       "      <th>True</th>\n",
       "    </tr>\n",
       "    <tr>\n",
       "      <th>COD_DEPTO</th>\n",
       "      <th></th>\n",
       "      <th></th>\n",
       "    </tr>\n",
       "  </thead>\n",
       "  <tbody>\n",
       "    <tr>\n",
       "      <th>5</th>\n",
       "      <td>1482</td>\n",
       "      <td>592</td>\n",
       "    </tr>\n",
       "    <tr>\n",
       "      <th>8</th>\n",
       "      <td>1404</td>\n",
       "      <td>329</td>\n",
       "    </tr>\n",
       "    <tr>\n",
       "      <th>11</th>\n",
       "      <td>707</td>\n",
       "      <td>19</td>\n",
       "    </tr>\n",
       "    <tr>\n",
       "      <th>13</th>\n",
       "      <td>1418</td>\n",
       "      <td>292</td>\n",
       "    </tr>\n",
       "    <tr>\n",
       "      <th>15</th>\n",
       "      <td>708</td>\n",
       "      <td>216</td>\n",
       "    </tr>\n",
       "    <tr>\n",
       "      <th>17</th>\n",
       "      <td>904</td>\n",
       "      <td>229</td>\n",
       "    </tr>\n",
       "    <tr>\n",
       "      <th>18</th>\n",
       "      <td>1069</td>\n",
       "      <td>293</td>\n",
       "    </tr>\n",
       "    <tr>\n",
       "      <th>19</th>\n",
       "      <td>943</td>\n",
       "      <td>288</td>\n",
       "    </tr>\n",
       "    <tr>\n",
       "      <th>20</th>\n",
       "      <td>788</td>\n",
       "      <td>242</td>\n",
       "    </tr>\n",
       "    <tr>\n",
       "      <th>23</th>\n",
       "      <td>789</td>\n",
       "      <td>360</td>\n",
       "    </tr>\n",
       "    <tr>\n",
       "      <th>25</th>\n",
       "      <td>0</td>\n",
       "      <td>390</td>\n",
       "    </tr>\n",
       "    <tr>\n",
       "      <th>27</th>\n",
       "      <td>607</td>\n",
       "      <td>122</td>\n",
       "    </tr>\n",
       "    <tr>\n",
       "      <th>41</th>\n",
       "      <td>684</td>\n",
       "      <td>166</td>\n",
       "    </tr>\n",
       "    <tr>\n",
       "      <th>44</th>\n",
       "      <td>1352</td>\n",
       "      <td>180</td>\n",
       "    </tr>\n",
       "    <tr>\n",
       "      <th>47</th>\n",
       "      <td>1066</td>\n",
       "      <td>464</td>\n",
       "    </tr>\n",
       "    <tr>\n",
       "      <th>50</th>\n",
       "      <td>1024</td>\n",
       "      <td>312</td>\n",
       "    </tr>\n",
       "    <tr>\n",
       "      <th>52</th>\n",
       "      <td>1205</td>\n",
       "      <td>586</td>\n",
       "    </tr>\n",
       "    <tr>\n",
       "      <th>54</th>\n",
       "      <td>1111</td>\n",
       "      <td>211</td>\n",
       "    </tr>\n",
       "    <tr>\n",
       "      <th>63</th>\n",
       "      <td>980</td>\n",
       "      <td>108</td>\n",
       "    </tr>\n",
       "    <tr>\n",
       "      <th>66</th>\n",
       "      <td>974</td>\n",
       "      <td>232</td>\n",
       "    </tr>\n",
       "    <tr>\n",
       "      <th>68</th>\n",
       "      <td>1343</td>\n",
       "      <td>582</td>\n",
       "    </tr>\n",
       "    <tr>\n",
       "      <th>70</th>\n",
       "      <td>1005</td>\n",
       "      <td>380</td>\n",
       "    </tr>\n",
       "    <tr>\n",
       "      <th>73</th>\n",
       "      <td>634</td>\n",
       "      <td>256</td>\n",
       "    </tr>\n",
       "    <tr>\n",
       "      <th>76</th>\n",
       "      <td>1311</td>\n",
       "      <td>630</td>\n",
       "    </tr>\n",
       "    <tr>\n",
       "      <th>88</th>\n",
       "      <td>303</td>\n",
       "      <td>0</td>\n",
       "    </tr>\n",
       "  </tbody>\n",
       "</table>\n",
       "</div>"
      ],
      "text/plain": [
       "area       False  True\n",
       "COD_DEPTO             \n",
       "5           1482   592\n",
       "8           1404   329\n",
       "11           707    19\n",
       "13          1418   292\n",
       "15           708   216\n",
       "17           904   229\n",
       "18          1069   293\n",
       "19           943   288\n",
       "20           788   242\n",
       "23           789   360\n",
       "25             0   390\n",
       "27           607   122\n",
       "41           684   166\n",
       "44          1352   180\n",
       "47          1066   464\n",
       "50          1024   312\n",
       "52          1205   586\n",
       "54          1111   211\n",
       "63           980   108\n",
       "66           974   232\n",
       "68          1343   582\n",
       "70          1005   380\n",
       "73           634   256\n",
       "76          1311   630\n",
       "88           303     0"
      ]
     },
     "execution_count": 49,
     "metadata": {},
     "output_type": "execute_result"
    }
   ],
   "source": [
    "pd.crosstab(emicron_23['COD_DEPTO'],emicron_23['area'].isna())"
   ]
  },
  {
   "cell_type": "markdown",
   "metadata": {},
   "source": [
    "#### 3.6 Variables de formalidad"
   ]
  },
  {
   "cell_type": "code",
   "execution_count": 50,
   "metadata": {},
   "outputs": [],
   "source": [
    "## Formalidad del micronegocio\n",
    "# Tiene RUT\n",
    "emicron_23['P1633'] = [0 if num == 2 else num for num in emicron_23['P1633']]\n",
    "# Está inscrito en CC\n",
    "emicron_23['P1055'] = [0 if num == 2 else num for num in emicron_23['P1055']]"
   ]
  },
  {
   "cell_type": "markdown",
   "metadata": {},
   "source": [
    "#### 3.7 Manera de llevar la contabilidad"
   ]
  },
  {
   "cell_type": "code",
   "execution_count": 51,
   "metadata": {},
   "outputs": [
    {
     "data": {
      "text/plain": [
       "5.0    17106\n",
       "3.0    11002\n",
       "2.0     2151\n",
       "1.0      861\n",
       "4.0      170\n",
       "Name: P640, dtype: int64"
      ]
     },
     "execution_count": 51,
     "metadata": {},
     "output_type": "execute_result"
    }
   ],
   "source": [
    "emicron_23['P640'].value_counts()"
   ]
  },
  {
   "cell_type": "code",
   "execution_count": 52,
   "metadata": {},
   "outputs": [
    {
     "name": "stdout",
     "output_type": "stream",
     "text": [
      "Frecuencia forma de llevar contabilidad emicron:\n",
      " 5.0    17106\n",
      "3.0    11002\n",
      "2.0     2151\n",
      "1.0      861\n",
      "4.0      170\n",
      "Name: P640, dtype: int64 __________\n",
      "\n",
      "Frecuencia luego de la homologación:\n",
      " 5.0    17106\n",
      "3.0    11002\n",
      "2.0     2151\n",
      "1.0     1031\n",
      "Name: P640, dtype: int64 ________\n",
      "\n",
      "Frecuencia luego del cambio de códificación:\n",
      " 4.0    17106\n",
      "3.0    11002\n",
      "2.0     2151\n",
      "1.0     1031\n",
      "Name: P640, dtype: int64 ________\n",
      "\n"
     ]
    }
   ],
   "source": [
    "## Manera de llevar contabilidad\n",
    "# Se unifica 4: informes financieros en 1: Balance General P&G\n",
    "print(\"Frecuencia forma de llevar contabilidad emicron:\\n\",emicron_23['P640'].value_counts(),\"__________\\n\")\n",
    "\n",
    "emicron_23['P640'] = [1 if num == 4 else num for num in emicron_23['P640']]\n",
    "print(\"Frecuencia luego de la homologación:\\n\",emicron_23['P640'].value_counts(),\"________\\n\")\n",
    "\n",
    "# Se cambia el 5 por 4, para homogenizar con los códigos de CENU\n",
    "emicron_23['P640'] = [4 if num == 5 else num for num in emicron_23['P640']]\n",
    "print(\"Frecuencia luego del cambio de códificación:\\n\",emicron_23['P640'].value_counts(),\"________\\n\")"
   ]
  },
  {
   "cell_type": "markdown",
   "metadata": {},
   "source": [
    "#### 3.8 Antigüedad"
   ]
  },
  {
   "cell_type": "code",
   "execution_count": 53,
   "metadata": {},
   "outputs": [
    {
     "data": {
      "text/plain": [
       "count    31290.000000\n",
       "mean        10.558134\n",
       "std         10.498007\n",
       "min          0.000000\n",
       "25%          3.000000\n",
       "50%          7.000000\n",
       "75%         15.000000\n",
       "max         83.000000\n",
       "Name: ANIOS_OPERACION, dtype: float64"
      ]
     },
     "execution_count": 53,
     "metadata": {},
     "output_type": "execute_result"
    }
   ],
   "source": [
    "emicron_23['ANIOS_OPERACION'] = emicron_23['P3034'] / 12\n",
    "#emicron_23['ANIOS_OPERACION'].describe()\n",
    "emicron_23['ANIOS_OPERACION'] = round(emicron_23['ANIOS_OPERACION'])\n",
    "emicron_23['ANIOS_OPERACION'].describe()"
   ]
  },
  {
   "cell_type": "markdown",
   "metadata": {},
   "source": [
    "#### 3.9 Sexo"
   ]
  },
  {
   "cell_type": "code",
   "execution_count": 54,
   "metadata": {},
   "outputs": [],
   "source": [
    "emicron_23['P35'].value_counts()\n",
    "emicron_23['P35'] = [0 if num == 2 else num for num in emicron_23['P35']]"
   ]
  },
  {
   "cell_type": "markdown",
   "metadata": {},
   "source": [
    "## 4. Renombrar variables"
   ]
  },
  {
   "cell_type": "code",
   "execution_count": 55,
   "metadata": {},
   "outputs": [],
   "source": [
    "nombre_estandar = {'P3053': 'UBICA',\n",
    "                   'P1633': 'IDRUT',\n",
    "                   'P640': 'REG_CONT',\n",
    "                   'P1055':'CAMCOMER',\n",
    "                   'P639' : 'ANOS_ESPACIO',\n",
    "                   'P35' : 'HOMBRE'\n",
    "               }\n",
    "\n",
    "emicron_23.rename(columns=nombre_estandar, inplace=True)"
   ]
  },
  {
   "cell_type": "code",
   "execution_count": 56,
   "metadata": {},
   "outputs": [],
   "source": [
    "emicron_23['OLA'] = 2023\n",
    "emicron_23.to_csv(r\"D:\\DANE - Contrato\\2024\\Operativo Barrido\\Data\\emicron_23_vf.csv\", index= False)"
   ]
  },
  {
   "cell_type": "code",
   "execution_count": 57,
   "metadata": {},
   "outputs": [
    {
     "name": "stderr",
     "output_type": "stream",
     "text": [
      "C:\\Users\\carlo\\AppData\\Local\\Temp\\ipykernel_38116\\432892577.py:1: DtypeWarning: Columns (59,60,102,104,106,132,133,134,135,136,137,141,143) have mixed types. Specify dtype option on import or set low_memory=False.\n",
      "  emicron_22 = pd.read_csv(r\"D:\\DANE - Contrato\\2024\\Operativo Barrido\\Data\\emicron_22_vf.csv\")\n"
     ]
    }
   ],
   "source": [
    "#emicron_22 = pd.read_csv(r\"D:\\DANE - Contrato\\2024\\Operativo Barrido\\Data\\emicron_22_vf.csv\")"
   ]
  },
  {
   "cell_type": "markdown",
   "metadata": {},
   "source": [
    "# Concatenado"
   ]
  },
  {
   "cell_type": "code",
   "execution_count": 60,
   "metadata": {},
   "outputs": [],
   "source": [
    "emicron = pd.concat([emicron_22, emicron_23])"
   ]
  },
  {
   "cell_type": "markdown",
   "metadata": {},
   "source": [
    "## Creación de variables\n",
    "1. Valor agregado y coeficiente técnico de costos sobre ventas  \n",
    "2. Variable dicótoma para la presencia de palabras clave en los comentarios del encuestador sobre la encuesta"
   ]
  },
  {
   "cell_type": "markdown",
   "metadata": {},
   "source": [
    "### Valor agregado y coeficiente técnico"
   ]
  },
  {
   "cell_type": "code",
   "execution_count": 61,
   "metadata": {},
   "outputs": [
    {
     "name": "stderr",
     "output_type": "stream",
     "text": [
      "C:\\Users\\carlo\\AppData\\Local\\Temp\\ipykernel_38116\\134861341.py:1: PerformanceWarning: DataFrame is highly fragmented.  This is usually the result of calling `frame.insert` many times, which has poor performance.  Consider joining all columns at once using pd.concat(axis=1) instead. To get a de-fragmented frame, use `newframe = frame.copy()`\n",
      "  emicron['VA'] = emicron['VENTAS_MES_ANTERIOR'] - emicron['CYG']\n",
      "C:\\Users\\carlo\\AppData\\Local\\Temp\\ipykernel_38116\\134861341.py:2: PerformanceWarning: DataFrame is highly fragmented.  This is usually the result of calling `frame.insert` many times, which has poor performance.  Consider joining all columns at once using pd.concat(axis=1) instead. To get a de-fragmented frame, use `newframe = frame.copy()`\n",
      "  emicron['C_V'] = emicron['CYG'] / (emicron['VENTAS_MES_ANTERIOR'] + 1)\n"
     ]
    }
   ],
   "source": [
    "emicron['VA'] = emicron['VENTAS_MES_ANTERIOR'] - emicron['CYG']\n",
    "emicron['C_V'] = emicron['CYG'] / (emicron['VENTAS_MES_ANTERIOR'] + 1)"
   ]
  },
  {
   "cell_type": "markdown",
   "metadata": {},
   "source": [
    "### Análisis variable de comentarios"
   ]
  },
  {
   "cell_type": "code",
   "execution_count": 62,
   "metadata": {},
   "outputs": [],
   "source": [
    "import os\n",
    "import numpy as np\n",
    "import pandas as pd\n",
    "from wordcloud import WordCloud\n",
    "import nltk\n",
    "from nltk.corpus import stopwords\n",
    "from nltk.tokenize import word_tokenize\n",
    "import matplotlib.pyplot as plt\n",
    "from collections import Counter\n",
    "#nltk.download('punkt')\n",
    "import spacy\n",
    "import re"
   ]
  },
  {
   "cell_type": "code",
   "execution_count": 125,
   "metadata": {},
   "outputs": [],
   "source": [
    "# Eliminar el byte estricto en la columna de comentarios y crear una nueva donde se realizará la limpieza\n",
    "df_obs = emicron.copy()\n",
    "\n",
    "df_obs['observaciones'] = df_obs['P2760'].apply(lambda x: str(x).strip('b').strip('\"'))\n",
    "\n",
    "# Reemplazar caracter especial de ñ\n",
    "df_obs['observaciones'] = df_obs['observaciones'].apply(lambda x: x.replace(\"\\\\xd1\",\"ñ\"))\n",
    "\n",
    "# Reemplazar 'nan' for NA\n",
    "df_obs['observaciones'] = df_obs['observaciones'].replace('nan',np.NaN)\n",
    "\n",
    "# Eliminar del data frame las filas sin comentarios\n",
    "df_obs['observaciones'] = df_obs['observaciones'][~df_obs['observaciones'].isna()]\n",
    "\n",
    "#Remover Puntuación\n",
    "def remover_puntuacion(texto):\n",
    "    return re.sub(r'[^\\w\\s]', '', texto)\n",
    "\n",
    "# Remover números\n",
    "def remover_numeros(texto):\n",
    "    return re.sub(r'\\d+', '', texto)\n",
    "\n",
    "\n",
    "df_obs['observaciones'] = df_obs['observaciones'].apply(remover_puntuacion)\n",
    "df_obs['observaciones'] = df_obs['observaciones'].apply(remover_numeros)"
   ]
  },
  {
   "cell_type": "code",
   "execution_count": 126,
   "metadata": {},
   "outputs": [
    {
     "name": "stderr",
     "output_type": "stream",
     "text": [
      "C:\\Users\\carlo\\AppData\\Roaming\\Python\\Python310\\site-packages\\spacy\\util.py:910: UserWarning: [W095] Model 'es_core_news_sm' (3.5.0) was trained with spaCy v3.5 and may not be 100% compatible with the current version (3.6.0). If you see errors or degraded performance, download a newer compatible model or retrain your custom model with the current spaCy version. For more details and available updates, run: python -m spacy validate\n",
      "  warnings.warn(warn_msg)\n"
     ]
    }
   ],
   "source": [
    "nlp = spacy.load(\"es_core_news_sm\")"
   ]
  },
  {
   "cell_type": "code",
   "execution_count": 127,
   "metadata": {},
   "outputs": [],
   "source": [
    "palabras = ['venta','ingreso','costo','gasto','insumos','ganancia','personal','error','corregir']\n",
    "\n",
    "def detected_words(text):\n",
    "    # Cargar el conjunto de stopwords\n",
    "    stop_words = set(stopwords.words('spanish'))\n",
    "    # Tokenizar las oraciones\n",
    "    tokens = word_tokenize(text)\n",
    "    # Eliminar stopwords\n",
    "    filtered_tokens = [token.lower() for token in tokens if token.lower() not in stop_words]\n",
    "    # Lematización\n",
    "    lemmatized_tokens = [token.lemma_ for token in nlp(\" \".join(filtered_tokens))]\n",
    "\n",
    "    a = [i for i in palabras if i in lemmatized_tokens]\n",
    "\n",
    "    b = any(i in lemmatized_tokens for i in palabras)\n",
    "    \n",
    "    return a,b"
   ]
  },
  {
   "cell_type": "code",
   "execution_count": 128,
   "metadata": {},
   "outputs": [],
   "source": [
    "df_obs[['k_words','mencion']] = df_obs['observaciones'].apply(detected_words).apply(pd.Series)"
   ]
  },
  {
   "cell_type": "code",
   "execution_count": 150,
   "metadata": {},
   "outputs": [
    {
     "data": {
      "text/plain": [
       "(64481, 530)"
      ]
     },
     "execution_count": 150,
     "metadata": {},
     "output_type": "execute_result"
    }
   ],
   "source": [
    "emicron.shape"
   ]
  },
  {
   "cell_type": "code",
   "execution_count": 149,
   "metadata": {},
   "outputs": [],
   "source": [
    "emicron = pd.merge(emicron, df_obs[['id','k_words','mencion']], on = 'id', how = 'left')"
   ]
  },
  {
   "cell_type": "code",
   "execution_count": 63,
   "metadata": {},
   "outputs": [
    {
     "name": "stderr",
     "output_type": "stream",
     "text": [
      "C:\\Users\\carlo\\AppData\\Local\\Temp\\ipykernel_38116\\2427750931.py:1: DtypeWarning: Columns (59,60,102,104,106,119,132,133,134,135,136,137,140,141,143,157,363,377,388,393,401,420,485,502,503,506,524,525) have mixed types. Specify dtype option on import or set low_memory=False.\n",
      "  emicron_antes = pd.read_csv(r\"D:\\DANE - Contrato\\2024\\Operativo Barrido\\Data\\EMICRON_VF.csv\")\n"
     ]
    }
   ],
   "source": [
    "emicron_antes = pd.read_csv(r\"D:\\DANE - Contrato\\2024\\Operativo Barrido\\Data\\EMICRON_VF.csv\")"
   ]
  },
  {
   "cell_type": "code",
   "execution_count": 64,
   "metadata": {},
   "outputs": [
    {
     "data": {
      "text/plain": [
       "(64481, 528)"
      ]
     },
     "execution_count": 64,
     "metadata": {},
     "output_type": "execute_result"
    }
   ],
   "source": [
    "emicron.shape"
   ]
  },
  {
   "cell_type": "code",
   "execution_count": 65,
   "metadata": {},
   "outputs": [],
   "source": [
    "emicron = pd.merge(emicron, emicron_antes[['id','k_words','mencion']], on='id', how='left')"
   ]
  },
  {
   "cell_type": "code",
   "execution_count": 67,
   "metadata": {},
   "outputs": [],
   "source": [
    "emicron.to_csv(r\"D:\\DANE - Contrato\\2024\\Operativo Barrido\\Data\\EMICRON_VF.csv\", index= False)"
   ]
  },
  {
   "cell_type": "markdown",
   "metadata": {},
   "source": [
    "### Revisión atípicos"
   ]
  },
  {
   "cell_type": "code",
   "execution_count": 9,
   "metadata": {},
   "outputs": [
    {
     "name": "stderr",
     "output_type": "stream",
     "text": [
      "C:\\Users\\carlo\\AppData\\Local\\Temp\\ipykernel_20988\\2829988077.py:1: DtypeWarning: Columns (59,60,102,104,106,119,132,133,134,135,136,137,140,141,143,157,363,377,388,393,401,420,485,502,503,506,524,525) have mixed types. Specify dtype option on import or set low_memory=False.\n",
      "  emicron = pd.read_csv(r\"D:\\DANE - Contrato\\2024\\Operativo Barrido\\Data\\EMICRON_VF.csv\")\n"
     ]
    }
   ],
   "source": [
    "emicron = pd.read_csv(r\"D:\\DANE - Contrato\\2024\\Operativo Barrido\\Data\\EMICRON_VF.csv\")\n",
    "atpcs_estab = pd.read_excel(r\"D:\\DANE - Contrato\\2024\\Operativo Barrido\\Data\\Resultados etapa 2\\cluster_atipico_establecimientos_con observaciones.xlsx\")\n",
    "atpcs_calle = pd.read_excel(r\"D:\\DANE - Contrato\\2024\\Operativo Barrido\\Data\\Resultados etapa 2\\cluster_atipico_moviles_con observaciones.xlsx\")"
   ]
  },
  {
   "cell_type": "code",
   "execution_count": 23,
   "metadata": {},
   "outputs": [
    {
     "data": {
      "text/plain": [
       "(4809, 14)"
      ]
     },
     "execution_count": 23,
     "metadata": {},
     "output_type": "execute_result"
    }
   ],
   "source": [
    "atpcs_calle.shape"
   ]
  },
  {
   "cell_type": "code",
   "execution_count": 28,
   "metadata": {},
   "outputs": [],
   "source": [
    "emicron['ATPC'] = emicron['id'].isin(atpcs_estab['id'])\n",
    "emicron.loc[emicron['id'].isin(atpcs_calle['id']),\"ATPC\"] = emicron.loc[emicron['id'].isin(atpcs_calle['id']),\"ATPC\"].replace(False,True)"
   ]
  },
  {
   "cell_type": "code",
   "execution_count": 158,
   "metadata": {},
   "outputs": [
    {
     "ename": "KeyboardInterrupt",
     "evalue": "",
     "output_type": "error",
     "traceback": [
      "\u001b[1;31m---------------------------------------------------------------------------\u001b[0m",
      "\u001b[1;31mKeyboardInterrupt\u001b[0m                         Traceback (most recent call last)",
      "Cell \u001b[1;32mIn[158], line 1\u001b[0m\n\u001b[1;32m----> 1\u001b[0m \u001b[43memicron\u001b[49m\u001b[38;5;241;43m.\u001b[39;49m\u001b[43mto_csv\u001b[49m\u001b[43m(\u001b[49m\u001b[43mos\u001b[49m\u001b[38;5;241;43m.\u001b[39;49m\u001b[43mpath\u001b[49m\u001b[38;5;241;43m.\u001b[39;49m\u001b[43mjoin\u001b[49m\u001b[43m(\u001b[49m\u001b[43mdata_path\u001b[49m\u001b[43m,\u001b[49m\u001b[38;5;124;43m\"\u001b[39;49m\u001b[38;5;124;43mEMICRON_ATPCS.csv\u001b[39;49m\u001b[38;5;124;43m\"\u001b[39;49m\u001b[43m)\u001b[49m\u001b[43m,\u001b[49m\u001b[43m \u001b[49m\u001b[43mindex\u001b[49m\u001b[38;5;241;43m=\u001b[39;49m\u001b[43m \u001b[49m\u001b[38;5;28;43;01mFalse\u001b[39;49;00m\u001b[43m)\u001b[49m\n",
      "File \u001b[1;32m~\\AppData\\Roaming\\Python\\Python310\\site-packages\\pandas\\core\\generic.py:3551\u001b[0m, in \u001b[0;36mNDFrame.to_csv\u001b[1;34m(self, path_or_buf, sep, na_rep, float_format, columns, header, index, index_label, mode, encoding, compression, quoting, quotechar, line_terminator, chunksize, date_format, doublequote, escapechar, decimal, errors, storage_options)\u001b[0m\n\u001b[0;32m   3540\u001b[0m df \u001b[38;5;241m=\u001b[39m \u001b[38;5;28mself\u001b[39m \u001b[38;5;28;01mif\u001b[39;00m \u001b[38;5;28misinstance\u001b[39m(\u001b[38;5;28mself\u001b[39m, ABCDataFrame) \u001b[38;5;28;01melse\u001b[39;00m \u001b[38;5;28mself\u001b[39m\u001b[38;5;241m.\u001b[39mto_frame()\n\u001b[0;32m   3542\u001b[0m formatter \u001b[38;5;241m=\u001b[39m DataFrameFormatter(\n\u001b[0;32m   3543\u001b[0m     frame\u001b[38;5;241m=\u001b[39mdf,\n\u001b[0;32m   3544\u001b[0m     header\u001b[38;5;241m=\u001b[39mheader,\n\u001b[1;32m   (...)\u001b[0m\n\u001b[0;32m   3548\u001b[0m     decimal\u001b[38;5;241m=\u001b[39mdecimal,\n\u001b[0;32m   3549\u001b[0m )\n\u001b[1;32m-> 3551\u001b[0m \u001b[38;5;28;01mreturn\u001b[39;00m \u001b[43mDataFrameRenderer\u001b[49m\u001b[43m(\u001b[49m\u001b[43mformatter\u001b[49m\u001b[43m)\u001b[49m\u001b[38;5;241;43m.\u001b[39;49m\u001b[43mto_csv\u001b[49m\u001b[43m(\u001b[49m\n\u001b[0;32m   3552\u001b[0m \u001b[43m    \u001b[49m\u001b[43mpath_or_buf\u001b[49m\u001b[43m,\u001b[49m\n\u001b[0;32m   3553\u001b[0m \u001b[43m    \u001b[49m\u001b[43mline_terminator\u001b[49m\u001b[38;5;241;43m=\u001b[39;49m\u001b[43mline_terminator\u001b[49m\u001b[43m,\u001b[49m\n\u001b[0;32m   3554\u001b[0m \u001b[43m    \u001b[49m\u001b[43msep\u001b[49m\u001b[38;5;241;43m=\u001b[39;49m\u001b[43msep\u001b[49m\u001b[43m,\u001b[49m\n\u001b[0;32m   3555\u001b[0m \u001b[43m    \u001b[49m\u001b[43mencoding\u001b[49m\u001b[38;5;241;43m=\u001b[39;49m\u001b[43mencoding\u001b[49m\u001b[43m,\u001b[49m\n\u001b[0;32m   3556\u001b[0m \u001b[43m    \u001b[49m\u001b[43merrors\u001b[49m\u001b[38;5;241;43m=\u001b[39;49m\u001b[43merrors\u001b[49m\u001b[43m,\u001b[49m\n\u001b[0;32m   3557\u001b[0m \u001b[43m    \u001b[49m\u001b[43mcompression\u001b[49m\u001b[38;5;241;43m=\u001b[39;49m\u001b[43mcompression\u001b[49m\u001b[43m,\u001b[49m\n\u001b[0;32m   3558\u001b[0m \u001b[43m    \u001b[49m\u001b[43mquoting\u001b[49m\u001b[38;5;241;43m=\u001b[39;49m\u001b[43mquoting\u001b[49m\u001b[43m,\u001b[49m\n\u001b[0;32m   3559\u001b[0m \u001b[43m    \u001b[49m\u001b[43mcolumns\u001b[49m\u001b[38;5;241;43m=\u001b[39;49m\u001b[43mcolumns\u001b[49m\u001b[43m,\u001b[49m\n\u001b[0;32m   3560\u001b[0m \u001b[43m    \u001b[49m\u001b[43mindex_label\u001b[49m\u001b[38;5;241;43m=\u001b[39;49m\u001b[43mindex_label\u001b[49m\u001b[43m,\u001b[49m\n\u001b[0;32m   3561\u001b[0m \u001b[43m    \u001b[49m\u001b[43mmode\u001b[49m\u001b[38;5;241;43m=\u001b[39;49m\u001b[43mmode\u001b[49m\u001b[43m,\u001b[49m\n\u001b[0;32m   3562\u001b[0m \u001b[43m    \u001b[49m\u001b[43mchunksize\u001b[49m\u001b[38;5;241;43m=\u001b[39;49m\u001b[43mchunksize\u001b[49m\u001b[43m,\u001b[49m\n\u001b[0;32m   3563\u001b[0m \u001b[43m    \u001b[49m\u001b[43mquotechar\u001b[49m\u001b[38;5;241;43m=\u001b[39;49m\u001b[43mquotechar\u001b[49m\u001b[43m,\u001b[49m\n\u001b[0;32m   3564\u001b[0m \u001b[43m    \u001b[49m\u001b[43mdate_format\u001b[49m\u001b[38;5;241;43m=\u001b[39;49m\u001b[43mdate_format\u001b[49m\u001b[43m,\u001b[49m\n\u001b[0;32m   3565\u001b[0m \u001b[43m    \u001b[49m\u001b[43mdoublequote\u001b[49m\u001b[38;5;241;43m=\u001b[39;49m\u001b[43mdoublequote\u001b[49m\u001b[43m,\u001b[49m\n\u001b[0;32m   3566\u001b[0m \u001b[43m    \u001b[49m\u001b[43mescapechar\u001b[49m\u001b[38;5;241;43m=\u001b[39;49m\u001b[43mescapechar\u001b[49m\u001b[43m,\u001b[49m\n\u001b[0;32m   3567\u001b[0m \u001b[43m    \u001b[49m\u001b[43mstorage_options\u001b[49m\u001b[38;5;241;43m=\u001b[39;49m\u001b[43mstorage_options\u001b[49m\u001b[43m,\u001b[49m\n\u001b[0;32m   3568\u001b[0m \u001b[43m\u001b[49m\u001b[43m)\u001b[49m\n",
      "File \u001b[1;32m~\\AppData\\Roaming\\Python\\Python310\\site-packages\\pandas\\io\\formats\\format.py:1180\u001b[0m, in \u001b[0;36mDataFrameRenderer.to_csv\u001b[1;34m(self, path_or_buf, encoding, sep, columns, index_label, mode, compression, quoting, quotechar, line_terminator, chunksize, date_format, doublequote, escapechar, errors, storage_options)\u001b[0m\n\u001b[0;32m   1159\u001b[0m     created_buffer \u001b[38;5;241m=\u001b[39m \u001b[38;5;28;01mFalse\u001b[39;00m\n\u001b[0;32m   1161\u001b[0m csv_formatter \u001b[38;5;241m=\u001b[39m CSVFormatter(\n\u001b[0;32m   1162\u001b[0m     path_or_buf\u001b[38;5;241m=\u001b[39mpath_or_buf,\n\u001b[0;32m   1163\u001b[0m     line_terminator\u001b[38;5;241m=\u001b[39mline_terminator,\n\u001b[1;32m   (...)\u001b[0m\n\u001b[0;32m   1178\u001b[0m     formatter\u001b[38;5;241m=\u001b[39m\u001b[38;5;28mself\u001b[39m\u001b[38;5;241m.\u001b[39mfmt,\n\u001b[0;32m   1179\u001b[0m )\n\u001b[1;32m-> 1180\u001b[0m \u001b[43mcsv_formatter\u001b[49m\u001b[38;5;241;43m.\u001b[39;49m\u001b[43msave\u001b[49m\u001b[43m(\u001b[49m\u001b[43m)\u001b[49m\n\u001b[0;32m   1182\u001b[0m \u001b[38;5;28;01mif\u001b[39;00m created_buffer:\n\u001b[0;32m   1183\u001b[0m     \u001b[38;5;28;01massert\u001b[39;00m \u001b[38;5;28misinstance\u001b[39m(path_or_buf, StringIO)\n",
      "File \u001b[1;32m~\\AppData\\Roaming\\Python\\Python310\\site-packages\\pandas\\io\\formats\\csvs.py:261\u001b[0m, in \u001b[0;36mCSVFormatter.save\u001b[1;34m(self)\u001b[0m\n\u001b[0;32m    241\u001b[0m \u001b[38;5;28;01mwith\u001b[39;00m get_handle(\n\u001b[0;32m    242\u001b[0m     \u001b[38;5;28mself\u001b[39m\u001b[38;5;241m.\u001b[39mfilepath_or_buffer,\n\u001b[0;32m    243\u001b[0m     \u001b[38;5;28mself\u001b[39m\u001b[38;5;241m.\u001b[39mmode,\n\u001b[1;32m   (...)\u001b[0m\n\u001b[0;32m    249\u001b[0m \n\u001b[0;32m    250\u001b[0m     \u001b[38;5;66;03m# Note: self.encoding is irrelevant here\u001b[39;00m\n\u001b[0;32m    251\u001b[0m     \u001b[38;5;28mself\u001b[39m\u001b[38;5;241m.\u001b[39mwriter \u001b[38;5;241m=\u001b[39m csvlib\u001b[38;5;241m.\u001b[39mwriter(\n\u001b[0;32m    252\u001b[0m         handles\u001b[38;5;241m.\u001b[39mhandle,\n\u001b[0;32m    253\u001b[0m         lineterminator\u001b[38;5;241m=\u001b[39m\u001b[38;5;28mself\u001b[39m\u001b[38;5;241m.\u001b[39mline_terminator,\n\u001b[1;32m   (...)\u001b[0m\n\u001b[0;32m    258\u001b[0m         quotechar\u001b[38;5;241m=\u001b[39m\u001b[38;5;28mself\u001b[39m\u001b[38;5;241m.\u001b[39mquotechar,\n\u001b[0;32m    259\u001b[0m     )\n\u001b[1;32m--> 261\u001b[0m     \u001b[38;5;28;43mself\u001b[39;49m\u001b[38;5;241;43m.\u001b[39;49m\u001b[43m_save\u001b[49m\u001b[43m(\u001b[49m\u001b[43m)\u001b[49m\n",
      "File \u001b[1;32m~\\AppData\\Roaming\\Python\\Python310\\site-packages\\pandas\\io\\formats\\csvs.py:266\u001b[0m, in \u001b[0;36mCSVFormatter._save\u001b[1;34m(self)\u001b[0m\n\u001b[0;32m    264\u001b[0m \u001b[38;5;28;01mif\u001b[39;00m \u001b[38;5;28mself\u001b[39m\u001b[38;5;241m.\u001b[39m_need_to_save_header:\n\u001b[0;32m    265\u001b[0m     \u001b[38;5;28mself\u001b[39m\u001b[38;5;241m.\u001b[39m_save_header()\n\u001b[1;32m--> 266\u001b[0m \u001b[38;5;28;43mself\u001b[39;49m\u001b[38;5;241;43m.\u001b[39;49m\u001b[43m_save_body\u001b[49m\u001b[43m(\u001b[49m\u001b[43m)\u001b[49m\n",
      "File \u001b[1;32m~\\AppData\\Roaming\\Python\\Python310\\site-packages\\pandas\\io\\formats\\csvs.py:304\u001b[0m, in \u001b[0;36mCSVFormatter._save_body\u001b[1;34m(self)\u001b[0m\n\u001b[0;32m    302\u001b[0m \u001b[38;5;28;01mif\u001b[39;00m start_i \u001b[38;5;241m>\u001b[39m\u001b[38;5;241m=\u001b[39m end_i:\n\u001b[0;32m    303\u001b[0m     \u001b[38;5;28;01mbreak\u001b[39;00m\n\u001b[1;32m--> 304\u001b[0m \u001b[38;5;28;43mself\u001b[39;49m\u001b[38;5;241;43m.\u001b[39;49m\u001b[43m_save_chunk\u001b[49m\u001b[43m(\u001b[49m\u001b[43mstart_i\u001b[49m\u001b[43m,\u001b[49m\u001b[43m \u001b[49m\u001b[43mend_i\u001b[49m\u001b[43m)\u001b[49m\n",
      "File \u001b[1;32m~\\AppData\\Roaming\\Python\\Python310\\site-packages\\pandas\\io\\formats\\csvs.py:311\u001b[0m, in \u001b[0;36mCSVFormatter._save_chunk\u001b[1;34m(self, start_i, end_i)\u001b[0m\n\u001b[0;32m    308\u001b[0m slicer \u001b[38;5;241m=\u001b[39m \u001b[38;5;28mslice\u001b[39m(start_i, end_i)\n\u001b[0;32m    309\u001b[0m df \u001b[38;5;241m=\u001b[39m \u001b[38;5;28mself\u001b[39m\u001b[38;5;241m.\u001b[39mobj\u001b[38;5;241m.\u001b[39miloc[slicer]\n\u001b[1;32m--> 311\u001b[0m res \u001b[38;5;241m=\u001b[39m df\u001b[38;5;241m.\u001b[39m_mgr\u001b[38;5;241m.\u001b[39mto_native_types(\u001b[38;5;241m*\u001b[39m\u001b[38;5;241m*\u001b[39m\u001b[38;5;28mself\u001b[39m\u001b[38;5;241m.\u001b[39m_number_format)\n\u001b[0;32m    312\u001b[0m data \u001b[38;5;241m=\u001b[39m [res\u001b[38;5;241m.\u001b[39miget_values(i) \u001b[38;5;28;01mfor\u001b[39;00m i \u001b[38;5;129;01min\u001b[39;00m \u001b[38;5;28mrange\u001b[39m(\u001b[38;5;28mlen\u001b[39m(res\u001b[38;5;241m.\u001b[39mitems))]\n\u001b[0;32m    314\u001b[0m ix \u001b[38;5;241m=\u001b[39m \u001b[38;5;28mself\u001b[39m\u001b[38;5;241m.\u001b[39mdata_index[slicer]\u001b[38;5;241m.\u001b[39m_format_native_types(\u001b[38;5;241m*\u001b[39m\u001b[38;5;241m*\u001b[39m\u001b[38;5;28mself\u001b[39m\u001b[38;5;241m.\u001b[39m_number_format)\n",
      "File \u001b[1;32m~\\AppData\\Roaming\\Python\\Python310\\site-packages\\pandas\\core\\internals\\managers.py:473\u001b[0m, in \u001b[0;36mBaseBlockManager.to_native_types\u001b[1;34m(self, **kwargs)\u001b[0m\n\u001b[0;32m    468\u001b[0m \u001b[38;5;28;01mdef\u001b[39;00m \u001b[38;5;21mto_native_types\u001b[39m(\u001b[38;5;28mself\u001b[39m: T, \u001b[38;5;241m*\u001b[39m\u001b[38;5;241m*\u001b[39mkwargs) \u001b[38;5;241m-\u001b[39m\u001b[38;5;241m>\u001b[39m T:\n\u001b[0;32m    469\u001b[0m     \u001b[38;5;124;03m\"\"\"\u001b[39;00m\n\u001b[0;32m    470\u001b[0m \u001b[38;5;124;03m    Convert values to native types (strings / python objects) that are used\u001b[39;00m\n\u001b[0;32m    471\u001b[0m \u001b[38;5;124;03m    in formatting (repr / csv).\u001b[39;00m\n\u001b[0;32m    472\u001b[0m \u001b[38;5;124;03m    \"\"\"\u001b[39;00m\n\u001b[1;32m--> 473\u001b[0m     \u001b[38;5;28;01mreturn\u001b[39;00m \u001b[38;5;28mself\u001b[39m\u001b[38;5;241m.\u001b[39mapply(\u001b[38;5;124m\"\u001b[39m\u001b[38;5;124mto_native_types\u001b[39m\u001b[38;5;124m\"\u001b[39m, \u001b[38;5;241m*\u001b[39m\u001b[38;5;241m*\u001b[39mkwargs)\n",
      "File \u001b[1;32m~\\AppData\\Roaming\\Python\\Python310\\site-packages\\pandas\\core\\internals\\managers.py:304\u001b[0m, in \u001b[0;36mBaseBlockManager.apply\u001b[1;34m(self, f, align_keys, ignore_failures, **kwargs)\u001b[0m\n\u001b[0;32m    302\u001b[0m         applied \u001b[38;5;241m=\u001b[39m b\u001b[38;5;241m.\u001b[39mapply(f, \u001b[38;5;241m*\u001b[39m\u001b[38;5;241m*\u001b[39mkwargs)\n\u001b[0;32m    303\u001b[0m     \u001b[38;5;28;01melse\u001b[39;00m:\n\u001b[1;32m--> 304\u001b[0m         applied \u001b[38;5;241m=\u001b[39m \u001b[38;5;28mgetattr\u001b[39m(b, f)(\u001b[38;5;241m*\u001b[39m\u001b[38;5;241m*\u001b[39mkwargs)\n\u001b[0;32m    305\u001b[0m \u001b[38;5;28;01mexcept\u001b[39;00m (\u001b[38;5;167;01mTypeError\u001b[39;00m, \u001b[38;5;167;01mNotImplementedError\u001b[39;00m):\n\u001b[0;32m    306\u001b[0m     \u001b[38;5;28;01mif\u001b[39;00m \u001b[38;5;129;01mnot\u001b[39;00m ignore_failures:\n",
      "File \u001b[1;32m~\\AppData\\Roaming\\Python\\Python310\\site-packages\\pandas\\core\\internals\\blocks.py:634\u001b[0m, in \u001b[0;36mBlock.to_native_types\u001b[1;34m(self, na_rep, quoting, **kwargs)\u001b[0m\n\u001b[0;32m    631\u001b[0m \u001b[38;5;129m@final\u001b[39m\n\u001b[0;32m    632\u001b[0m \u001b[38;5;28;01mdef\u001b[39;00m \u001b[38;5;21mto_native_types\u001b[39m(\u001b[38;5;28mself\u001b[39m, na_rep\u001b[38;5;241m=\u001b[39m\u001b[38;5;124m\"\u001b[39m\u001b[38;5;124mnan\u001b[39m\u001b[38;5;124m\"\u001b[39m, quoting\u001b[38;5;241m=\u001b[39m\u001b[38;5;28;01mNone\u001b[39;00m, \u001b[38;5;241m*\u001b[39m\u001b[38;5;241m*\u001b[39mkwargs):\n\u001b[0;32m    633\u001b[0m     \u001b[38;5;124;03m\"\"\"convert to our native types format\"\"\"\u001b[39;00m\n\u001b[1;32m--> 634\u001b[0m     result \u001b[38;5;241m=\u001b[39m to_native_types(\u001b[38;5;28mself\u001b[39m\u001b[38;5;241m.\u001b[39mvalues, na_rep\u001b[38;5;241m=\u001b[39mna_rep, quoting\u001b[38;5;241m=\u001b[39mquoting, \u001b[38;5;241m*\u001b[39m\u001b[38;5;241m*\u001b[39mkwargs)\n\u001b[0;32m    635\u001b[0m     \u001b[38;5;28;01mreturn\u001b[39;00m \u001b[38;5;28mself\u001b[39m\u001b[38;5;241m.\u001b[39mmake_block(result)\n",
      "File \u001b[1;32m~\\AppData\\Roaming\\Python\\Python310\\site-packages\\pandas\\core\\internals\\blocks.py:2201\u001b[0m, in \u001b[0;36mto_native_types\u001b[1;34m(values, na_rep, quoting, float_format, decimal, **kwargs)\u001b[0m\n\u001b[0;32m   2198\u001b[0m mask \u001b[38;5;241m=\u001b[39m isna(values)\n\u001b[0;32m   2200\u001b[0m \u001b[38;5;28;01mif\u001b[39;00m \u001b[38;5;129;01mnot\u001b[39;00m quoting:\n\u001b[1;32m-> 2201\u001b[0m     values \u001b[38;5;241m=\u001b[39m \u001b[43mvalues\u001b[49m\u001b[38;5;241;43m.\u001b[39;49m\u001b[43mastype\u001b[49m\u001b[43m(\u001b[49m\u001b[38;5;28;43mstr\u001b[39;49m\u001b[43m)\u001b[49m\n\u001b[0;32m   2202\u001b[0m \u001b[38;5;28;01melse\u001b[39;00m:\n\u001b[0;32m   2203\u001b[0m     values \u001b[38;5;241m=\u001b[39m np\u001b[38;5;241m.\u001b[39marray(values, dtype\u001b[38;5;241m=\u001b[39m\u001b[38;5;124m\"\u001b[39m\u001b[38;5;124mobject\u001b[39m\u001b[38;5;124m\"\u001b[39m)\n",
      "\u001b[1;31mKeyboardInterrupt\u001b[0m: "
     ]
    }
   ],
   "source": [
    "emicron.to_csv(data_res + \"\\EMICRON_ATPCS.csv\"), index= False)"
   ]
  },
  {
   "cell_type": "markdown",
   "metadata": {},
   "source": [
    "### Revisión muestra atípicos"
   ]
  },
  {
   "cell_type": "code",
   "execution_count": 33,
   "metadata": {},
   "outputs": [],
   "source": [
    "muestra_estab = pd.read_excel(r\"D:\\DANE - Contrato\\2024\\Operativo Barrido\\Data\\Resultados etapa 2\\muestra_seleccionada_establecimientos.xlsx\")\n",
    "muestra_calle = pd.read_excel(r\"D:\\DANE - Contrato\\2024\\Operativo Barrido\\Data\\Resultados etapa 2\\muestra_seleccionada_moviles.xlsx\")"
   ]
  },
  {
   "cell_type": "code",
   "execution_count": 38,
   "metadata": {},
   "outputs": [],
   "source": [
    "muestra_estab['VALOR AGREGADO'] = muestra_estab['VENTAS_MES_ANTERIOR'] - muestra_estab['CYG']\n",
    "muestra_estab['COSTOS_VENTAS'] = muestra_estab['CYG'] / (muestra_estab['VENTAS_MES_ANTERIOR']+1)\n",
    "\n",
    "muestra_calle['VALOR AGREGADO'] = muestra_calle['VENTAS_MES_ANTERIOR'] - muestra_calle['CYG']\n",
    "muestra_calle['COSTOS_VENTAS'] = muestra_calle['CYG'] / (muestra_calle['VENTAS_MES_ANTERIOR']+1)"
   ]
  },
  {
   "cell_type": "code",
   "execution_count": 39,
   "metadata": {},
   "outputs": [
    {
     "name": "stdout",
     "output_type": "stream",
     "text": [
      "(112, 30)\n",
      "(112, 26)\n"
     ]
    }
   ],
   "source": [
    "print(muestra_estab.shape)\n",
    "\n",
    "print(muestra_calle.shape)"
   ]
  },
  {
   "cell_type": "code",
   "execution_count": 40,
   "metadata": {},
   "outputs": [],
   "source": [
    "muestra_estab = pd.merge(muestra_estab,emicron[['id','CIIU_3']], on = 'id')\n",
    "muestra_calle = pd.merge(muestra_calle,emicron[['id','CIIU_3']], on = 'id')"
   ]
  },
  {
   "cell_type": "code",
   "execution_count": 41,
   "metadata": {},
   "outputs": [
    {
     "name": "stdout",
     "output_type": "stream",
     "text": [
      "(112, 31)\n",
      "(112, 27)\n"
     ]
    }
   ],
   "source": [
    "print(muestra_estab.shape)\n",
    "\n",
    "print(muestra_calle.shape)"
   ]
  },
  {
   "cell_type": "code",
   "execution_count": 43,
   "metadata": {},
   "outputs": [],
   "source": [
    "muestra_estab.to_excel(r\"D:\\DANE - Contrato\\2024\\Operativo Barrido\\Data\\Resultados etapa 2\\muestra_seleccionada_establecimientos v2.xlsx\", index = False)\n",
    "muestra_calle.to_excel(r\"D:\\DANE - Contrato\\2024\\Operativo Barrido\\Data\\Resultados etapa 2\\muestra_seleccionada_moviles v2.xlsx\", index = False)"
   ]
  },
  {
   "cell_type": "code",
   "execution_count": 4,
   "metadata": {},
   "outputs": [],
   "source": [
    "emicron_nueva = pd.read_sas(os.path.join(data_path,\"emicron_2023.sas7bdat\"), format = \"sas7bdat\")"
   ]
  },
  {
   "cell_type": "code",
   "execution_count": 5,
   "metadata": {},
   "outputs": [
    {
     "data": {
      "text/plain": [
       "(81018, 518)"
      ]
     },
     "execution_count": 5,
     "metadata": {},
     "output_type": "execute_result"
    }
   ],
   "source": [
    "emicron_nueva.shape"
   ]
  }
 ],
 "metadata": {
  "kernelspec": {
   "display_name": "Python 3",
   "language": "python",
   "name": "python3"
  },
  "language_info": {
   "codemirror_mode": {
    "name": "ipython",
    "version": 3
   },
   "file_extension": ".py",
   "mimetype": "text/x-python",
   "name": "python",
   "nbconvert_exporter": "python",
   "pygments_lexer": "ipython3",
   "version": "3.10.5"
  }
 },
 "nbformat": 4,
 "nbformat_minor": 2
}
