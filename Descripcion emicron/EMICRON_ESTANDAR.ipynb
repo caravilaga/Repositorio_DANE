{
 "cells": [
  {
   "cell_type": "code",
   "execution_count": 1,
   "metadata": {},
   "outputs": [],
   "source": [
    "import pandas as pd\n",
    "import os\n",
    "import re\n",
    "import numpy as np"
   ]
  },
  {
   "cell_type": "markdown",
   "metadata": {},
   "source": [
    "## 1. Importar la información"
   ]
  },
  {
   "cell_type": "code",
   "execution_count": 2,
   "metadata": {},
   "outputs": [
    {
     "name": "stderr",
     "output_type": "stream",
     "text": [
      "C:\\Users\\carlo\\AppData\\Local\\Temp\\ipykernel_14188\\33973033.py:2: DtypeWarning: Columns (48) have mixed types. Specify dtype option on import or set low_memory=False.\n",
      "  emicron_19 = pd.read_csv(os.path.join(data_path,\"EMICRON_19.csv\"),header = 0)\n"
     ]
    }
   ],
   "source": [
    "data_path = r\"D:\\DANE - Contrato\\2024\\Operativo Barrido\\Data\"\n",
    "emicron_19 = pd.read_csv(os.path.join(data_path,\"EMICRON_19.csv\"),header = 0)\n",
    "emicron_21 = pd.read_csv(os.path.join(data_path,\"EMICRON_21.csv\"),header = 0)\n",
    "emicron_22 = pd.read_csv(os.path.join(data_path,\"EMICRON_22.csv\"),header = 0)"
   ]
  },
  {
   "cell_type": "code",
   "execution_count": 3,
   "metadata": {},
   "outputs": [
    {
     "data": {
      "text/plain": [
       "(84753, 194)"
      ]
     },
     "execution_count": 3,
     "metadata": {},
     "output_type": "execute_result"
    }
   ],
   "source": [
    "emicron_22.shape"
   ]
  },
  {
   "cell_type": "code",
   "execution_count": 4,
   "metadata": {},
   "outputs": [],
   "source": [
    "emicron_19['F_EXP'] = emicron_19['F_EXP'].apply(lambda x: float(x.replace(',', '.')))"
   ]
  },
  {
   "cell_type": "code",
   "execution_count": 5,
   "metadata": {},
   "outputs": [],
   "source": [
    "emicron = pd.concat([emicron_19, emicron_21, emicron_22])"
   ]
  },
  {
   "cell_type": "code",
   "execution_count": 6,
   "metadata": {},
   "outputs": [
    {
     "data": {
      "text/plain": [
       "0         25.099238\n",
       "1         22.117173\n",
       "2         34.341336\n",
       "3         21.413039\n",
       "4        122.952097\n",
       "            ...    \n",
       "84748     15.316276\n",
       "84749     21.269300\n",
       "84750     10.848121\n",
       "84751     11.055347\n",
       "84752     11.244637\n",
       "Name: F_EXP, Length: 84753, dtype: float64"
      ]
     },
     "execution_count": 6,
     "metadata": {},
     "output_type": "execute_result"
    }
   ],
   "source": [
    "emicron['F_EXP'][emicron['OLA']==2022]"
   ]
  },
  {
   "cell_type": "code",
   "execution_count": 7,
   "metadata": {},
   "outputs": [
    {
     "data": {
      "text/plain": [
       "COD_DEPTO\n",
       "5     646744.393331\n",
       "8     377949.158630\n",
       "11    464378.819969\n",
       "13    359504.824205\n",
       "15    135560.437027\n",
       "17     82180.034429\n",
       "18     44887.368381\n",
       "19    171226.748059\n",
       "20    128659.256764\n",
       "23    285171.726263\n",
       "25    176923.485228\n",
       "27     36996.486081\n",
       "41     98251.652498\n",
       "44    161586.726988\n",
       "47    218404.081457\n",
       "50     89946.102066\n",
       "52    413575.499887\n",
       "54    133176.310974\n",
       "63     38660.298357\n",
       "66     71011.692675\n",
       "68    249919.524827\n",
       "70    190165.641806\n",
       "73    118165.305451\n",
       "76    455362.737567\n",
       "88      2547.983667\n",
       "Name: F_EXP, dtype: float64"
      ]
     },
     "execution_count": 7,
     "metadata": {},
     "output_type": "execute_result"
    }
   ],
   "source": [
    "emicron_22.groupby('COD_DEPTO')['F_EXP'].sum()"
   ]
  },
  {
   "cell_type": "code",
   "execution_count": 8,
   "metadata": {},
   "outputs": [
    {
     "data": {
      "text/plain": [
       "70    6018\n",
       "13    5628\n",
       "47    5591\n",
       "8     5494\n",
       "52    5246\n",
       "5     4802\n",
       "68    4560\n",
       "76    4516\n",
       "44    4331\n",
       "23    3421\n",
       "18    3268\n",
       "20    3126\n",
       "17    3053\n",
       "50    2970\n",
       "54    2854\n",
       "66    2843\n",
       "19    2443\n",
       "41    2434\n",
       "73    2294\n",
       "15    2288\n",
       "63    2161\n",
       "27    2099\n",
       "11    1536\n",
       "25     968\n",
       "88     809\n",
       "Name: COD_DEPTO, dtype: int64"
      ]
     },
     "execution_count": 8,
     "metadata": {},
     "output_type": "execute_result"
    }
   ],
   "source": [
    "emicron_22['COD_DEPTO'].value_counts()"
   ]
  },
  {
   "cell_type": "markdown",
   "metadata": {},
   "source": [
    "## 2. Filtrado de la base de datos\n",
    "Se procederá a filtrar la base de datos con base en unos elementos particulares:  \n",
    "1. Actividades económicas que cubre EMICRON y que no serán tenidas en cuenta en CENU.  \n",
    "2. Ubicación del micronegocio. Ya que se entrenará un modelo para puestos fijos y micronegocios en vivienda, y otro para puestos móviles. Con micronegocios o puestos móviles que sean visibles.   \n",
    "3. Sólo serán informativos aquellos micronegocios que hayan operado durante el mes anterior a la aplicación de la encuesta a partir de valores en ventas del mes pasado que sean diferentes de cero (como no existen valores menores que cero, entonces los que son mayores a cero).\n",
    "4. Otras variables como el número de establecimientos, que permitan mantener una información homogénea."
   ]
  },
  {
   "cell_type": "markdown",
   "metadata": {},
   "source": [
    "### 2.1 Actividades económicas que cubrirá el CENU \n",
    "Emicron incluye preguntas a los sectores de agricultura, ganadería, caza, silvicultura y pesca; además, de minería. Debido a que estos sectores no harán parte del Universo del Censo Económico, se descartarán de la base de datos:"
   ]
  },
  {
   "cell_type": "code",
   "execution_count": 9,
   "metadata": {},
   "outputs": [
    {
     "data": {
      "text/plain": [
       "(214010, 210)"
      ]
     },
     "execution_count": 9,
     "metadata": {},
     "output_type": "execute_result"
    }
   ],
   "source": [
    "emicron = emicron[~(emicron['GRUPOS12'].isin([1,2,13]))]\n",
    "emicron.shape"
   ]
  },
  {
   "cell_type": "code",
   "execution_count": 10,
   "metadata": {},
   "outputs": [
    {
     "data": {
      "text/html": [
       "<div>\n",
       "<style scoped>\n",
       "    .dataframe tbody tr th:only-of-type {\n",
       "        vertical-align: middle;\n",
       "    }\n",
       "\n",
       "    .dataframe tbody tr th {\n",
       "        vertical-align: top;\n",
       "    }\n",
       "\n",
       "    .dataframe thead th {\n",
       "        text-align: right;\n",
       "    }\n",
       "</style>\n",
       "<table border=\"1\" class=\"dataframe\">\n",
       "  <thead>\n",
       "    <tr style=\"text-align: right;\">\n",
       "      <th>GRUPOS4</th>\n",
       "      <th>2</th>\n",
       "      <th>3</th>\n",
       "      <th>4</th>\n",
       "    </tr>\n",
       "    <tr>\n",
       "      <th>GRUPOS12</th>\n",
       "      <th></th>\n",
       "      <th></th>\n",
       "      <th></th>\n",
       "    </tr>\n",
       "  </thead>\n",
       "  <tbody>\n",
       "    <tr>\n",
       "      <th>3</th>\n",
       "      <td>27522</td>\n",
       "      <td>0</td>\n",
       "      <td>0</td>\n",
       "    </tr>\n",
       "    <tr>\n",
       "      <th>4</th>\n",
       "      <td>0</td>\n",
       "      <td>0</td>\n",
       "      <td>16889</td>\n",
       "    </tr>\n",
       "    <tr>\n",
       "      <th>5</th>\n",
       "      <td>0</td>\n",
       "      <td>72734</td>\n",
       "      <td>0</td>\n",
       "    </tr>\n",
       "    <tr>\n",
       "      <th>6</th>\n",
       "      <td>0</td>\n",
       "      <td>0</td>\n",
       "      <td>27319</td>\n",
       "    </tr>\n",
       "    <tr>\n",
       "      <th>7</th>\n",
       "      <td>0</td>\n",
       "      <td>0</td>\n",
       "      <td>23917</td>\n",
       "    </tr>\n",
       "    <tr>\n",
       "      <th>8</th>\n",
       "      <td>0</td>\n",
       "      <td>0</td>\n",
       "      <td>2310</td>\n",
       "    </tr>\n",
       "    <tr>\n",
       "      <th>9</th>\n",
       "      <td>0</td>\n",
       "      <td>0</td>\n",
       "      <td>12428</td>\n",
       "    </tr>\n",
       "    <tr>\n",
       "      <th>10</th>\n",
       "      <td>0</td>\n",
       "      <td>0</td>\n",
       "      <td>2424</td>\n",
       "    </tr>\n",
       "    <tr>\n",
       "      <th>11</th>\n",
       "      <td>0</td>\n",
       "      <td>0</td>\n",
       "      <td>2181</td>\n",
       "    </tr>\n",
       "    <tr>\n",
       "      <th>12</th>\n",
       "      <td>0</td>\n",
       "      <td>0</td>\n",
       "      <td>26286</td>\n",
       "    </tr>\n",
       "  </tbody>\n",
       "</table>\n",
       "</div>"
      ],
      "text/plain": [
       "GRUPOS4       2      3      4\n",
       "GRUPOS12                     \n",
       "3         27522      0      0\n",
       "4             0      0  16889\n",
       "5             0  72734      0\n",
       "6             0      0  27319\n",
       "7             0      0  23917\n",
       "8             0      0   2310\n",
       "9             0      0  12428\n",
       "10            0      0   2424\n",
       "11            0      0   2181\n",
       "12            0      0  26286"
      ]
     },
     "execution_count": 10,
     "metadata": {},
     "output_type": "execute_result"
    }
   ],
   "source": [
    "pd.crosstab(emicron['GRUPOS12'],emicron['GRUPOS4'])"
   ]
  },
  {
   "cell_type": "code",
   "execution_count": 11,
   "metadata": {},
   "outputs": [
    {
     "data": {
      "text/plain": [
       "(73966, 210)"
      ]
     },
     "execution_count": 11,
     "metadata": {},
     "output_type": "execute_result"
    }
   ],
   "source": [
    "emicron[emicron['OLA']==2022].shape"
   ]
  },
  {
   "cell_type": "markdown",
   "metadata": {},
   "source": [
    "### 2.2 Ubicación del micronegocio\n",
    "Para el entrenamiento de los modelos se utilizará la ubicación de micronegocios en 1: Vivienda, 2: Local (puestos fijos), 4: Ambulante, por lo tanto sólo estas categorías se mantendrán. De igual manera, el CENU, sólo recolectará información de actividades económicas visibles, por lo tanto se filtrará por este tipo de micronegocios."
   ]
  },
  {
   "cell_type": "code",
   "execution_count": 12,
   "metadata": {},
   "outputs": [
    {
     "name": "stdout",
     "output_type": "stream",
     "text": [
      "1    73214\n",
      "3    43516\n",
      "2    33583\n",
      "5    26785\n",
      "4    26738\n",
      "6     7928\n",
      "8     1146\n",
      "7     1100\n",
      "Name: P3053, dtype: int64\n"
     ]
    }
   ],
   "source": [
    "print(emicron['P3053'].value_counts())"
   ]
  },
  {
   "cell_type": "code",
   "execution_count": 13,
   "metadata": {},
   "outputs": [
    {
     "data": {
      "text/html": [
       "<div>\n",
       "<style scoped>\n",
       "    .dataframe tbody tr th:only-of-type {\n",
       "        vertical-align: middle;\n",
       "    }\n",
       "\n",
       "    .dataframe tbody tr th {\n",
       "        vertical-align: top;\n",
       "    }\n",
       "\n",
       "    .dataframe thead th {\n",
       "        text-align: right;\n",
       "    }\n",
       "</style>\n",
       "<table border=\"1\" class=\"dataframe\">\n",
       "  <thead>\n",
       "    <tr style=\"text-align: right;\">\n",
       "      <th>P469</th>\n",
       "      <th>1.0</th>\n",
       "      <th>2.0</th>\n",
       "    </tr>\n",
       "    <tr>\n",
       "      <th>P3053</th>\n",
       "      <th></th>\n",
       "      <th></th>\n",
       "    </tr>\n",
       "  </thead>\n",
       "  <tbody>\n",
       "    <tr>\n",
       "      <th>1</th>\n",
       "      <td>38263</td>\n",
       "      <td>34951</td>\n",
       "    </tr>\n",
       "    <tr>\n",
       "      <th>2</th>\n",
       "      <td>31273</td>\n",
       "      <td>2310</td>\n",
       "    </tr>\n",
       "    <tr>\n",
       "      <th>4</th>\n",
       "      <td>9524</td>\n",
       "      <td>820</td>\n",
       "    </tr>\n",
       "    <tr>\n",
       "      <th>5</th>\n",
       "      <td>21958</td>\n",
       "      <td>4827</td>\n",
       "    </tr>\n",
       "    <tr>\n",
       "      <th>7</th>\n",
       "      <td>374</td>\n",
       "      <td>726</td>\n",
       "    </tr>\n",
       "  </tbody>\n",
       "</table>\n",
       "</div>"
      ],
      "text/plain": [
       "P469     1.0    2.0\n",
       "P3053              \n",
       "1      38263  34951\n",
       "2      31273   2310\n",
       "4       9524    820\n",
       "5      21958   4827\n",
       "7        374    726"
      ]
     },
     "execution_count": 13,
     "metadata": {},
     "output_type": "execute_result"
    }
   ],
   "source": [
    "pd.crosstab(emicron['P3053'],emicron['P469'])"
   ]
  },
  {
   "cell_type": "code",
   "execution_count": 14,
   "metadata": {},
   "outputs": [
    {
     "data": {
      "text/plain": [
       "1    34951\n",
       "5     4827\n",
       "2     2310\n",
       "4      820\n",
       "7      726\n",
       "Name: P3053, dtype: int64"
      ]
     },
     "execution_count": 14,
     "metadata": {},
     "output_type": "execute_result"
    }
   ],
   "source": [
    "emicron['P3053'][emicron['P469']==2].value_counts()"
   ]
  },
  {
   "cell_type": "code",
   "execution_count": 15,
   "metadata": {},
   "outputs": [
    {
     "data": {
      "text/plain": [
       "(214010, 210)"
      ]
     },
     "execution_count": 15,
     "metadata": {},
     "output_type": "execute_result"
    }
   ],
   "source": [
    "emicron.shape"
   ]
  },
  {
   "cell_type": "code",
   "execution_count": 16,
   "metadata": {},
   "outputs": [
    {
     "name": "stdout",
     "output_type": "stream",
     "text": [
      "1    73214\n",
      "3    43516\n",
      "2    33583\n",
      "5    26785\n",
      "4    26738\n",
      "6     7928\n",
      "8     1146\n",
      "7     1100\n",
      "Name: P3053, dtype: int64\n",
      "3    73214\n",
      "1    33583\n",
      "4    26738\n",
      "Name: P3053, dtype: int64\n"
     ]
    }
   ],
   "source": [
    "print(emicron['P3053'].value_counts())\n",
    "\n",
    "# Seleccionar sólo viviendas, establecimientos y ambulantes\n",
    "emicron = emicron[emicron['P3053'].isin([1,2,4])]\n",
    "\n",
    "# Reemplazar los códigos en función de la codificación que se recibirá en el CENU\n",
    "# 1: Establecimiento fijo\n",
    "# 3: Vivienda con actividad económica visible\n",
    "def rule(i):\n",
    "    if i == 1:\n",
    "        return 3\n",
    "    elif i == 2:\n",
    "        return 1\n",
    "    return i\n",
    "\n",
    "emicron['P3053'] = list(map(rule,emicron['P3053']))\n",
    "print(emicron['P3053'].value_counts())\n"
   ]
  },
  {
   "cell_type": "code",
   "execution_count": 17,
   "metadata": {},
   "outputs": [
    {
     "data": {
      "text/plain": [
       "(44129, 210)"
      ]
     },
     "execution_count": 17,
     "metadata": {},
     "output_type": "execute_result"
    }
   ],
   "source": [
    "emicron[emicron['OLA']==2022].shape"
   ]
  },
  {
   "cell_type": "code",
   "execution_count": 18,
   "metadata": {},
   "outputs": [
    {
     "data": {
      "text/plain": [
       "(79060, 210)"
      ]
     },
     "execution_count": 18,
     "metadata": {},
     "output_type": "execute_result"
    }
   ],
   "source": [
    "# Visibilidad del micronegocio\n",
    "emicron = emicron[(emicron['P469'] == 1)]\n",
    "emicron.shape"
   ]
  },
  {
   "cell_type": "code",
   "execution_count": 19,
   "metadata": {},
   "outputs": [
    {
     "data": {
      "text/plain": [
       "(26590, 210)"
      ]
     },
     "execution_count": 19,
     "metadata": {},
     "output_type": "execute_result"
    }
   ],
   "source": [
    "emicron[emicron['OLA']==2022].shape"
   ]
  },
  {
   "cell_type": "markdown",
   "metadata": {},
   "source": [
    "### 2.3 Ventas del mes anterior\n",
    "Eliminar las filas cuyas ventas del año pasado son missing y cero"
   ]
  },
  {
   "cell_type": "code",
   "execution_count": 20,
   "metadata": {},
   "outputs": [
    {
     "name": "stdout",
     "output_type": "stream",
     "text": [
      "Valores nulos ventas:  0\n",
      "Ventas en cero:  2309\n"
     ]
    }
   ],
   "source": [
    "# Valores nulos ventas\n",
    "print(\"Valores nulos ventas: \", emicron[\"VENTAS_MES_ANTERIOR\"].isna().sum())\n",
    "\n",
    "# Valores cero ventas\n",
    "print(\"Ventas en cero: \", (emicron[\"VENTAS_MES_ANTERIOR\"]==0).sum())\n",
    "\n",
    "# Eliminar los registros con venta cero\n",
    "emicron = emicron[~(emicron[\"VENTAS_MES_ANTERIOR\"] == 0)]"
   ]
  },
  {
   "cell_type": "code",
   "execution_count": 21,
   "metadata": {},
   "outputs": [
    {
     "data": {
      "text/plain": [
       "(76751, 210)"
      ]
     },
     "execution_count": 21,
     "metadata": {},
     "output_type": "execute_result"
    }
   ],
   "source": [
    "emicron.shape"
   ]
  },
  {
   "cell_type": "code",
   "execution_count": 22,
   "metadata": {},
   "outputs": [
    {
     "data": {
      "text/plain": [
       "(25955, 210)"
      ]
     },
     "execution_count": 22,
     "metadata": {},
     "output_type": "execute_result"
    }
   ],
   "source": [
    "emicron[emicron['OLA']==2022].shape"
   ]
  },
  {
   "cell_type": "markdown",
   "metadata": {},
   "source": [
    "### 2.4 Número de establecimientos\n",
    "Eliminar las filas cuyo número de estabecimientos es diferente a 1, ya que la información que recolecta el CENU es por establecimiento y la recolectada por EMICRON es a nivel de negocio, pero a veces se presenta información también solo por establecimiento cuando el negocio tiene más de un establecimiento. Para evitar eso, sólo utilizar los micronegocios que reportan un sólo establecimiento comercial, que representan el 99.36 % de la muestra (casi todos)."
   ]
  },
  {
   "cell_type": "code",
   "execution_count": 23,
   "metadata": {},
   "outputs": [
    {
     "data": {
      "text/plain": [
       "1.0      76242\n",
       "2.0        322\n",
       "99.0       126\n",
       "3.0         37\n",
       "4.0          9\n",
       "5.0          7\n",
       "6.0          4\n",
       "999.0        1\n",
       "10.0         1\n",
       "7.0          1\n",
       "8.0          1\n",
       "Name: P3054, dtype: int64"
      ]
     },
     "execution_count": 23,
     "metadata": {},
     "output_type": "execute_result"
    }
   ],
   "source": [
    "emicron['P3054'] = pd.to_numeric(emicron['P3054'], errors='coerce')\n",
    "emicron['P3054'].value_counts()"
   ]
  },
  {
   "cell_type": "code",
   "execution_count": 24,
   "metadata": {},
   "outputs": [
    {
     "data": {
      "text/plain": [
       "1.0     0.995492\n",
       "2.0     0.003622\n",
       "99.0    0.000424\n",
       "3.0     0.000385\n",
       "4.0     0.000077\n",
       "Name: P3054, dtype: float64"
      ]
     },
     "execution_count": 24,
     "metadata": {},
     "output_type": "execute_result"
    }
   ],
   "source": [
    "emicron['P3054'][emicron['OLA']==2022].value_counts() / (emicron['P3054'][emicron['OLA']==2022].value_counts().sum())"
   ]
  },
  {
   "cell_type": "code",
   "execution_count": 25,
   "metadata": {},
   "outputs": [
    {
     "data": {
      "text/plain": [
       "(76242, 210)"
      ]
     },
     "execution_count": 25,
     "metadata": {},
     "output_type": "execute_result"
    }
   ],
   "source": [
    "emicron = emicron[(emicron['P3054'] == 1)]\n",
    "emicron.shape"
   ]
  },
  {
   "cell_type": "code",
   "execution_count": 26,
   "metadata": {},
   "outputs": [
    {
     "data": {
      "text/plain": [
       "(25838, 210)"
      ]
     },
     "execution_count": 26,
     "metadata": {},
     "output_type": "execute_result"
    }
   ],
   "source": [
    "emicron[emicron['OLA']==2022].shape"
   ]
  },
  {
   "cell_type": "code",
   "execution_count": 27,
   "metadata": {},
   "outputs": [
    {
     "data": {
      "text/plain": [
       "3    36746\n",
       "1    30325\n",
       "4     9171\n",
       "Name: P3053, dtype: int64"
      ]
     },
     "execution_count": 27,
     "metadata": {},
     "output_type": "execute_result"
    }
   ],
   "source": [
    "emicron['P3053'].value_counts()"
   ]
  },
  {
   "cell_type": "code",
   "execution_count": 28,
   "metadata": {},
   "outputs": [
    {
     "data": {
      "text/plain": [
       "3    12978\n",
       "1     9804\n",
       "4     3056\n",
       "Name: P3053, dtype: int64"
      ]
     },
     "execution_count": 28,
     "metadata": {},
     "output_type": "execute_result"
    }
   ],
   "source": [
    "emicron['P3053'][emicron['OLA']==2022].value_counts()"
   ]
  },
  {
   "cell_type": "code",
   "execution_count": 29,
   "metadata": {},
   "outputs": [
    {
     "data": {
      "text/plain": [
       "68    1750\n",
       "52    1624\n",
       "5     1609\n",
       "47    1524\n",
       "76    1388\n",
       "50    1311\n",
       "44    1291\n",
       "8     1263\n",
       "18    1239\n",
       "70    1189\n",
       "13    1137\n",
       "54    1064\n",
       "66     962\n",
       "17     932\n",
       "73     905\n",
       "63     894\n",
       "23     848\n",
       "19     800\n",
       "41     760\n",
       "27     754\n",
       "20     740\n",
       "15     737\n",
       "11     509\n",
       "25     348\n",
       "88     260\n",
       "Name: COD_DEPTO, dtype: int64"
      ]
     },
     "execution_count": 29,
     "metadata": {},
     "output_type": "execute_result"
    }
   ],
   "source": [
    "emicron['COD_DEPTO'][emicron['OLA']==2022].value_counts()"
   ]
  },
  {
   "cell_type": "code",
   "execution_count": 33,
   "metadata": {},
   "outputs": [
    {
     "data": {
      "text/html": [
       "<div>\n",
       "<style scoped>\n",
       "    .dataframe tbody tr th:only-of-type {\n",
       "        vertical-align: middle;\n",
       "    }\n",
       "\n",
       "    .dataframe tbody tr th {\n",
       "        vertical-align: top;\n",
       "    }\n",
       "\n",
       "    .dataframe thead th {\n",
       "        text-align: right;\n",
       "    }\n",
       "</style>\n",
       "<table border=\"1\" class=\"dataframe\">\n",
       "  <thead>\n",
       "    <tr style=\"text-align: right;\">\n",
       "      <th>AREA</th>\n",
       "      <th>False</th>\n",
       "      <th>True</th>\n",
       "    </tr>\n",
       "    <tr>\n",
       "      <th>CLASE_TE</th>\n",
       "      <th></th>\n",
       "      <th></th>\n",
       "    </tr>\n",
       "  </thead>\n",
       "  <tbody>\n",
       "    <tr>\n",
       "      <th>1</th>\n",
       "      <td>18656</td>\n",
       "      <td>5034</td>\n",
       "    </tr>\n",
       "    <tr>\n",
       "      <th>2</th>\n",
       "      <td>0</td>\n",
       "      <td>2148</td>\n",
       "    </tr>\n",
       "  </tbody>\n",
       "</table>\n",
       "</div>"
      ],
      "text/plain": [
       "AREA      False  True\n",
       "CLASE_TE             \n",
       "1         18656  5034\n",
       "2             0  2148"
      ]
     },
     "execution_count": 33,
     "metadata": {},
     "output_type": "execute_result"
    }
   ],
   "source": [
    "pd.crosstab(emicron['CLASE_TE'][emicron['OLA']==2022],emicron['AREA'][emicron['OLA']==2022].isna())"
   ]
  },
  {
   "cell_type": "code",
   "execution_count": 77,
   "metadata": {},
   "outputs": [
    {
     "data": {
      "text/plain": [
       "COD_DEPTO\n",
       "5     28800.711613\n",
       "8     14973.757611\n",
       "11    19081.228530\n",
       "13     8143.948518\n",
       "15      708.255356\n",
       "17     2937.495702\n",
       "18     1032.928941\n",
       "19     2850.684102\n",
       "20     5103.048431\n",
       "23     5608.784879\n",
       "25     4550.032035\n",
       "27      719.792659\n",
       "41     1466.009420\n",
       "44     3808.207058\n",
       "47     6939.018728\n",
       "50     3751.757048\n",
       "52     5641.840139\n",
       "54     5256.067029\n",
       "63     1897.138716\n",
       "66     2644.128447\n",
       "68     7761.371170\n",
       "70     2952.366541\n",
       "73     3033.390346\n",
       "76    18408.502600\n",
       "88       66.800707\n",
       "Name: F_EXP, dtype: float64"
      ]
     },
     "execution_count": 77,
     "metadata": {},
     "output_type": "execute_result"
    }
   ],
   "source": [
    "emicron[(emicron['OLA']==2022) & (emicron['P3053']==4)].groupby('COD_DEPTO')['F_EXP'].sum()"
   ]
  },
  {
   "cell_type": "markdown",
   "metadata": {},
   "source": [
    "## 3. Construcción y transformación de variables\n",
    "1. Se creará una agrupación para la variable del número total de empleados  \n",
    "2. Se agregarán los costos y los gastos en una sola variable (CYG)  \n",
    "3. AREA se recodificará para que muestre si la observación pertenece a una ciudad capital del departamento  \n",
    "4. Contabilidad"
   ]
  },
  {
   "cell_type": "markdown",
   "metadata": {},
   "source": [
    "### 3.1 Personal Ocupado"
   ]
  },
  {
   "cell_type": "code",
   "execution_count": 141,
   "metadata": {},
   "outputs": [],
   "source": [
    "emicron['P3032_1'] = pd.to_numeric(emicron['P3032_1'], errors='coerce')\n",
    "emicron['P3032_2'] = pd.to_numeric(emicron['P3032_2'], errors='coerce')\n",
    "emicron['P3032_3'] = pd.to_numeric(emicron['P3032_3'], errors='coerce')\n",
    "\n",
    "emicron['POTTOT'] = emicron[['P3032_1','P3032_2','P3032_3']].sum(axis=1)"
   ]
  },
  {
   "cell_type": "markdown",
   "metadata": {},
   "source": [
    "### 3.2 Costos y Gastos agregados"
   ]
  },
  {
   "cell_type": "code",
   "execution_count": 142,
   "metadata": {},
   "outputs": [],
   "source": [
    "emicron['CYG'] = emicron[['COSTOS_MES_ANTERIOR','GASTOS_MES']].sum(axis=1)"
   ]
  },
  {
   "cell_type": "markdown",
   "metadata": {},
   "source": [
    "### 3.3 Variable de Área\n",
    "Recodificar la variable de Área en función de si es una ciudad principal o un área metropolitana dentro del departamento"
   ]
  },
  {
   "cell_type": "code",
   "execution_count": 143,
   "metadata": {},
   "outputs": [],
   "source": [
    "emicron['AREA'] = pd.to_numeric(emicron['AREA'], errors='coerce')\n",
    "\n",
    "def rule_city(i):\n",
    "    if pd.isna(i) == True:\n",
    "        return 0\n",
    "    else:\n",
    "        return 1\n",
    "    return i\n",
    "\n",
    "emicron['CPAM'] = list(map(rule_city,emicron['AREA']))"
   ]
  },
  {
   "cell_type": "markdown",
   "metadata": {},
   "source": [
    "### 3.4 Variables de formalidad"
   ]
  },
  {
   "cell_type": "code",
   "execution_count": 144,
   "metadata": {},
   "outputs": [],
   "source": [
    "## Formalidad del micronegocio\n",
    "# Tiene RUT\n",
    "emicron['P1633'] = [0 if num == 2 else num for num in emicron['P1633']]\n",
    "# Está inscrito en CC\n",
    "emicron['P1055'] = [0 if num == 2 else num for num in emicron['P1055']]"
   ]
  },
  {
   "cell_type": "markdown",
   "metadata": {},
   "source": [
    "### 3.5 Forma de llevar la contabilidad"
   ]
  },
  {
   "cell_type": "code",
   "execution_count": 145,
   "metadata": {},
   "outputs": [
    {
     "name": "stdout",
     "output_type": "stream",
     "text": [
      "5    37254\n",
      "3    29135\n",
      "2     6652\n",
      "1     2815\n",
      "4      386\n",
      "Name: P640, dtype: int64\n",
      "5    37254\n",
      "3    29135\n",
      "2     6652\n",
      "1     3201\n",
      "Name: P640, dtype: int64\n",
      "4    37254\n",
      "3    29135\n",
      "2     6652\n",
      "1     3201\n",
      "Name: P640, dtype: int64\n"
     ]
    }
   ],
   "source": [
    "## Manera de llevar contabilidad\n",
    "# Se unifica 4: informes financieros en 1: Balance General P&G\n",
    "print(emicron['P640'].value_counts())\n",
    "emicron['P640'] = [1 if num == 4 else num for num in emicron['P640']]\n",
    "print(emicron['P640'].value_counts())\n",
    "\n",
    "# Se cambia el 5 por 4, para homogenizar con los códigos de CENU\n",
    "emicron['P640'] = [4 if num == 5 else num for num in emicron['P640']]\n",
    "print(emicron['P640'].value_counts())"
   ]
  },
  {
   "cell_type": "markdown",
   "metadata": {},
   "source": [
    "## 4. Renombrar variables"
   ]
  },
  {
   "cell_type": "code",
   "execution_count": 147,
   "metadata": {},
   "outputs": [],
   "source": [
    "nombre_estandar = {'P3053': 'UBICA',\n",
    "                   'P1633': 'IDRUT',\n",
    "                   'P640': 'REG_CONT',\n",
    "                   'P1055':'CAMCOMER',\n",
    "                   'P639' : 'ANOS_ESPACIO'\n",
    "               }\n",
    "emicron.rename(columns=nombre_estandar, inplace=True)"
   ]
  },
  {
   "cell_type": "markdown",
   "metadata": {},
   "source": [
    "## 5. Selección de variables"
   ]
  },
  {
   "cell_type": "code",
   "execution_count": 148,
   "metadata": {},
   "outputs": [],
   "source": [
    "var_estab = ['id','VENTAS_MES_ANTERIOR','POTTOT','REMUNERACION_TOTAL','CYG','COD_DEPTO','CPAM','GRUPOS4','UBICA','IDRUT','REG_CONT','CAMCOMER','OLA','F_EXP'] \n",
    "var_mov = ['id','VENTAS_MES_ANTERIOR','POTTOT','REMUNERACION_TOTAL','CYG','COD_DEPTO','CPAM','GRUPOS4','ANOS_ESPACIO','OLA','F_EXP']"
   ]
  },
  {
   "cell_type": "code",
   "execution_count": 149,
   "metadata": {},
   "outputs": [
    {
     "data": {
      "text/plain": [
       "3    36746\n",
       "1    30325\n",
       "4     9171\n",
       "Name: UBICA, dtype: int64"
      ]
     },
     "execution_count": 149,
     "metadata": {},
     "output_type": "execute_result"
    }
   ],
   "source": [
    "emicron['UBICA'].value_counts()"
   ]
  },
  {
   "cell_type": "code",
   "execution_count": 150,
   "metadata": {},
   "outputs": [],
   "source": [
    "emicron_estab = emicron[emicron['UBICA'].isin([1,3])]\n",
    "emicron_estab = emicron_estab[var_estab]\n",
    "emicron_estab.to_csv(os.path.join(data_path,\"emicron_establecimientos.csv\"), index = False)\n",
    "\n",
    "emicron_mov = emicron[emicron['UBICA']==4]\n",
    "emicron_mov = emicron_mov[var_mov]\n",
    "emicron_mov.to_csv(os.path.join(data_path,\"emicron_moviles.csv\"), index = False)"
   ]
  },
  {
   "cell_type": "code",
   "execution_count": 157,
   "metadata": {},
   "outputs": [
    {
     "data": {
      "text/plain": [
       "count    25838.000000\n",
       "mean        54.076358\n",
       "std         74.720172\n",
       "min          1.173286\n",
       "25%         12.890374\n",
       "50%         25.169194\n",
       "75%         67.063328\n",
       "max       1020.714919\n",
       "Name: F_EXP, dtype: float64"
      ]
     },
     "execution_count": 157,
     "metadata": {},
     "output_type": "execute_result"
    }
   ],
   "source": [
    "emicron['F_EXP'][emicron['OLA']==2022].describe()"
   ]
  },
  {
   "cell_type": "code",
   "execution_count": 158,
   "metadata": {},
   "outputs": [
    {
     "data": {
      "text/html": [
       "<div>\n",
       "<style scoped>\n",
       "    .dataframe tbody tr th:only-of-type {\n",
       "        vertical-align: middle;\n",
       "    }\n",
       "\n",
       "    .dataframe tbody tr th {\n",
       "        vertical-align: top;\n",
       "    }\n",
       "\n",
       "    .dataframe thead th {\n",
       "        text-align: right;\n",
       "    }\n",
       "</style>\n",
       "<table border=\"1\" class=\"dataframe\">\n",
       "  <thead>\n",
       "    <tr style=\"text-align: right;\">\n",
       "      <th></th>\n",
       "      <th>id</th>\n",
       "      <th>VENTAS_MES_ANTERIOR</th>\n",
       "      <th>POTTOT</th>\n",
       "      <th>REMUNERACION_TOTAL</th>\n",
       "      <th>CYG</th>\n",
       "      <th>COD_DEPTO</th>\n",
       "      <th>CPAM</th>\n",
       "      <th>GRUPOS4</th>\n",
       "      <th>UBICA</th>\n",
       "      <th>IDRUT</th>\n",
       "      <th>REG_CONT</th>\n",
       "      <th>CAMCOMER</th>\n",
       "      <th>OLA</th>\n",
       "      <th>F_EXP</th>\n",
       "    </tr>\n",
       "  </thead>\n",
       "  <tbody>\n",
       "    <tr>\n",
       "      <th>9979</th>\n",
       "      <td>481690813</td>\n",
       "      <td>1155914</td>\n",
       "      <td>0.0</td>\n",
       "      <td>0.0</td>\n",
       "      <td>868364</td>\n",
       "      <td>5</td>\n",
       "      <td>0</td>\n",
       "      <td>3</td>\n",
       "      <td>1</td>\n",
       "      <td>0</td>\n",
       "      <td>4</td>\n",
       "      <td>0</td>\n",
       "      <td>2019</td>\n",
       "      <td>1186.211492</td>\n",
       "    </tr>\n",
       "    <tr>\n",
       "      <th>3680</th>\n",
       "      <td>535690611</td>\n",
       "      <td>2528695</td>\n",
       "      <td>0.0</td>\n",
       "      <td>0.0</td>\n",
       "      <td>1373652</td>\n",
       "      <td>5</td>\n",
       "      <td>0</td>\n",
       "      <td>3</td>\n",
       "      <td>1</td>\n",
       "      <td>0</td>\n",
       "      <td>4</td>\n",
       "      <td>0</td>\n",
       "      <td>2021</td>\n",
       "      <td>1036.917748</td>\n",
       "    </tr>\n",
       "    <tr>\n",
       "      <th>11555</th>\n",
       "      <td>538749012</td>\n",
       "      <td>1700000</td>\n",
       "      <td>1.0</td>\n",
       "      <td>85000.0</td>\n",
       "      <td>1315000</td>\n",
       "      <td>25</td>\n",
       "      <td>0</td>\n",
       "      <td>4</td>\n",
       "      <td>3</td>\n",
       "      <td>0</td>\n",
       "      <td>3</td>\n",
       "      <td>0</td>\n",
       "      <td>2021</td>\n",
       "      <td>1170.001229</td>\n",
       "    </tr>\n",
       "    <tr>\n",
       "      <th>11560</th>\n",
       "      <td>538750111</td>\n",
       "      <td>800000</td>\n",
       "      <td>1.0</td>\n",
       "      <td>0.0</td>\n",
       "      <td>690000</td>\n",
       "      <td>25</td>\n",
       "      <td>0</td>\n",
       "      <td>3</td>\n",
       "      <td>1</td>\n",
       "      <td>1</td>\n",
       "      <td>3</td>\n",
       "      <td>1</td>\n",
       "      <td>2021</td>\n",
       "      <td>1039.279416</td>\n",
       "    </tr>\n",
       "    <tr>\n",
       "      <th>11602</th>\n",
       "      <td>538760511</td>\n",
       "      <td>4500000</td>\n",
       "      <td>2.0</td>\n",
       "      <td>2500000.0</td>\n",
       "      <td>3665000</td>\n",
       "      <td>25</td>\n",
       "      <td>0</td>\n",
       "      <td>3</td>\n",
       "      <td>1</td>\n",
       "      <td>1</td>\n",
       "      <td>3</td>\n",
       "      <td>1</td>\n",
       "      <td>2021</td>\n",
       "      <td>1182.400781</td>\n",
       "    </tr>\n",
       "    <tr>\n",
       "      <th>23089</th>\n",
       "      <td>543310812</td>\n",
       "      <td>550000</td>\n",
       "      <td>0.0</td>\n",
       "      <td>0.0</td>\n",
       "      <td>462000</td>\n",
       "      <td>76</td>\n",
       "      <td>0</td>\n",
       "      <td>3</td>\n",
       "      <td>3</td>\n",
       "      <td>0</td>\n",
       "      <td>3</td>\n",
       "      <td>0</td>\n",
       "      <td>2021</td>\n",
       "      <td>1111.160063</td>\n",
       "    </tr>\n",
       "    <tr>\n",
       "      <th>36926</th>\n",
       "      <td>548803912</td>\n",
       "      <td>10000</td>\n",
       "      <td>0.0</td>\n",
       "      <td>0.0</td>\n",
       "      <td>5000</td>\n",
       "      <td>23</td>\n",
       "      <td>0</td>\n",
       "      <td>2</td>\n",
       "      <td>3</td>\n",
       "      <td>0</td>\n",
       "      <td>4</td>\n",
       "      <td>0</td>\n",
       "      <td>2021</td>\n",
       "      <td>1095.166446</td>\n",
       "    </tr>\n",
       "    <tr>\n",
       "      <th>42946</th>\n",
       "      <td>551233511</td>\n",
       "      <td>2250000</td>\n",
       "      <td>0.0</td>\n",
       "      <td>0.0</td>\n",
       "      <td>1925000</td>\n",
       "      <td>5</td>\n",
       "      <td>0</td>\n",
       "      <td>3</td>\n",
       "      <td>1</td>\n",
       "      <td>0</td>\n",
       "      <td>4</td>\n",
       "      <td>0</td>\n",
       "      <td>2021</td>\n",
       "      <td>1024.258806</td>\n",
       "    </tr>\n",
       "    <tr>\n",
       "      <th>44091</th>\n",
       "      <td>551571211</td>\n",
       "      <td>750000</td>\n",
       "      <td>1.0</td>\n",
       "      <td>42000.0</td>\n",
       "      <td>463000</td>\n",
       "      <td>25</td>\n",
       "      <td>0</td>\n",
       "      <td>4</td>\n",
       "      <td>1</td>\n",
       "      <td>1</td>\n",
       "      <td>3</td>\n",
       "      <td>1</td>\n",
       "      <td>2021</td>\n",
       "      <td>1042.318563</td>\n",
       "    </tr>\n",
       "    <tr>\n",
       "      <th>44092</th>\n",
       "      <td>551571512</td>\n",
       "      <td>11000000</td>\n",
       "      <td>5.0</td>\n",
       "      <td>1130000.0</td>\n",
       "      <td>4190000</td>\n",
       "      <td>25</td>\n",
       "      <td>0</td>\n",
       "      <td>3</td>\n",
       "      <td>3</td>\n",
       "      <td>1</td>\n",
       "      <td>3</td>\n",
       "      <td>0</td>\n",
       "      <td>2021</td>\n",
       "      <td>1143.044133</td>\n",
       "    </tr>\n",
       "    <tr>\n",
       "      <th>44096</th>\n",
       "      <td>551572911</td>\n",
       "      <td>1000000</td>\n",
       "      <td>0.0</td>\n",
       "      <td>0.0</td>\n",
       "      <td>930000</td>\n",
       "      <td>25</td>\n",
       "      <td>0</td>\n",
       "      <td>4</td>\n",
       "      <td>1</td>\n",
       "      <td>1</td>\n",
       "      <td>3</td>\n",
       "      <td>0</td>\n",
       "      <td>2021</td>\n",
       "      <td>1357.044213</td>\n",
       "    </tr>\n",
       "    <tr>\n",
       "      <th>44104</th>\n",
       "      <td>551576312</td>\n",
       "      <td>3900000</td>\n",
       "      <td>1.0</td>\n",
       "      <td>0.0</td>\n",
       "      <td>3340000</td>\n",
       "      <td>25</td>\n",
       "      <td>0</td>\n",
       "      <td>3</td>\n",
       "      <td>1</td>\n",
       "      <td>1</td>\n",
       "      <td>3</td>\n",
       "      <td>0</td>\n",
       "      <td>2021</td>\n",
       "      <td>1217.897218</td>\n",
       "    </tr>\n",
       "    <tr>\n",
       "      <th>47966</th>\n",
       "      <td>553158611</td>\n",
       "      <td>6000000</td>\n",
       "      <td>1.0</td>\n",
       "      <td>0.0</td>\n",
       "      <td>4600000</td>\n",
       "      <td>23</td>\n",
       "      <td>0</td>\n",
       "      <td>3</td>\n",
       "      <td>1</td>\n",
       "      <td>1</td>\n",
       "      <td>1</td>\n",
       "      <td>1</td>\n",
       "      <td>2021</td>\n",
       "      <td>1412.779103</td>\n",
       "    </tr>\n",
       "    <tr>\n",
       "      <th>55152</th>\n",
       "      <td>555964112</td>\n",
       "      <td>3200000</td>\n",
       "      <td>0.0</td>\n",
       "      <td>0.0</td>\n",
       "      <td>2130000</td>\n",
       "      <td>73</td>\n",
       "      <td>0</td>\n",
       "      <td>2</td>\n",
       "      <td>3</td>\n",
       "      <td>0</td>\n",
       "      <td>4</td>\n",
       "      <td>0</td>\n",
       "      <td>2021</td>\n",
       "      <td>1091.861818</td>\n",
       "    </tr>\n",
       "    <tr>\n",
       "      <th>58981</th>\n",
       "      <td>557551917</td>\n",
       "      <td>1200000</td>\n",
       "      <td>2.0</td>\n",
       "      <td>0.0</td>\n",
       "      <td>700000</td>\n",
       "      <td>41</td>\n",
       "      <td>0</td>\n",
       "      <td>3</td>\n",
       "      <td>1</td>\n",
       "      <td>1</td>\n",
       "      <td>3</td>\n",
       "      <td>1</td>\n",
       "      <td>2021</td>\n",
       "      <td>1146.519900</td>\n",
       "    </tr>\n",
       "    <tr>\n",
       "      <th>60363</th>\n",
       "      <td>557956711</td>\n",
       "      <td>2000000</td>\n",
       "      <td>1.0</td>\n",
       "      <td>600000.0</td>\n",
       "      <td>380000</td>\n",
       "      <td>5</td>\n",
       "      <td>0</td>\n",
       "      <td>3</td>\n",
       "      <td>3</td>\n",
       "      <td>1</td>\n",
       "      <td>4</td>\n",
       "      <td>0</td>\n",
       "      <td>2021</td>\n",
       "      <td>1803.800294</td>\n",
       "    </tr>\n",
       "    <tr>\n",
       "      <th>60427</th>\n",
       "      <td>557970812</td>\n",
       "      <td>2500000</td>\n",
       "      <td>2.0</td>\n",
       "      <td>910000.0</td>\n",
       "      <td>1293000</td>\n",
       "      <td>5</td>\n",
       "      <td>0</td>\n",
       "      <td>4</td>\n",
       "      <td>1</td>\n",
       "      <td>1</td>\n",
       "      <td>4</td>\n",
       "      <td>1</td>\n",
       "      <td>2021</td>\n",
       "      <td>2607.671662</td>\n",
       "    </tr>\n",
       "    <tr>\n",
       "      <th>60440</th>\n",
       "      <td>557976411</td>\n",
       "      <td>40000</td>\n",
       "      <td>0.0</td>\n",
       "      <td>0.0</td>\n",
       "      <td>70000</td>\n",
       "      <td>5</td>\n",
       "      <td>0</td>\n",
       "      <td>4</td>\n",
       "      <td>3</td>\n",
       "      <td>0</td>\n",
       "      <td>4</td>\n",
       "      <td>0</td>\n",
       "      <td>2021</td>\n",
       "      <td>1169.940139</td>\n",
       "    </tr>\n",
       "    <tr>\n",
       "      <th>60442</th>\n",
       "      <td>557976613</td>\n",
       "      <td>80000</td>\n",
       "      <td>0.0</td>\n",
       "      <td>0.0</td>\n",
       "      <td>80000</td>\n",
       "      <td>5</td>\n",
       "      <td>0</td>\n",
       "      <td>3</td>\n",
       "      <td>3</td>\n",
       "      <td>0</td>\n",
       "      <td>4</td>\n",
       "      <td>0</td>\n",
       "      <td>2021</td>\n",
       "      <td>1088.329712</td>\n",
       "    </tr>\n",
       "    <tr>\n",
       "      <th>35106</th>\n",
       "      <td>706120012</td>\n",
       "      <td>14500000</td>\n",
       "      <td>0.0</td>\n",
       "      <td>0.0</td>\n",
       "      <td>14261157</td>\n",
       "      <td>25</td>\n",
       "      <td>0</td>\n",
       "      <td>3</td>\n",
       "      <td>1</td>\n",
       "      <td>1</td>\n",
       "      <td>3</td>\n",
       "      <td>1</td>\n",
       "      <td>2022</td>\n",
       "      <td>1020.714919</td>\n",
       "    </tr>\n",
       "  </tbody>\n",
       "</table>\n",
       "</div>"
      ],
      "text/plain": [
       "              id  VENTAS_MES_ANTERIOR  POTTOT  REMUNERACION_TOTAL       CYG  \\\n",
       "9979   481690813              1155914     0.0                 0.0    868364   \n",
       "3680   535690611              2528695     0.0                 0.0   1373652   \n",
       "11555  538749012              1700000     1.0             85000.0   1315000   \n",
       "11560  538750111               800000     1.0                 0.0    690000   \n",
       "11602  538760511              4500000     2.0           2500000.0   3665000   \n",
       "23089  543310812               550000     0.0                 0.0    462000   \n",
       "36926  548803912                10000     0.0                 0.0      5000   \n",
       "42946  551233511              2250000     0.0                 0.0   1925000   \n",
       "44091  551571211               750000     1.0             42000.0    463000   \n",
       "44092  551571512             11000000     5.0           1130000.0   4190000   \n",
       "44096  551572911              1000000     0.0                 0.0    930000   \n",
       "44104  551576312              3900000     1.0                 0.0   3340000   \n",
       "47966  553158611              6000000     1.0                 0.0   4600000   \n",
       "55152  555964112              3200000     0.0                 0.0   2130000   \n",
       "58981  557551917              1200000     2.0                 0.0    700000   \n",
       "60363  557956711              2000000     1.0            600000.0    380000   \n",
       "60427  557970812              2500000     2.0            910000.0   1293000   \n",
       "60440  557976411                40000     0.0                 0.0     70000   \n",
       "60442  557976613                80000     0.0                 0.0     80000   \n",
       "35106  706120012             14500000     0.0                 0.0  14261157   \n",
       "\n",
       "       COD_DEPTO  CPAM  GRUPOS4  UBICA  IDRUT  REG_CONT  CAMCOMER   OLA  \\\n",
       "9979           5     0        3      1      0         4         0  2019   \n",
       "3680           5     0        3      1      0         4         0  2021   \n",
       "11555         25     0        4      3      0         3         0  2021   \n",
       "11560         25     0        3      1      1         3         1  2021   \n",
       "11602         25     0        3      1      1         3         1  2021   \n",
       "23089         76     0        3      3      0         3         0  2021   \n",
       "36926         23     0        2      3      0         4         0  2021   \n",
       "42946          5     0        3      1      0         4         0  2021   \n",
       "44091         25     0        4      1      1         3         1  2021   \n",
       "44092         25     0        3      3      1         3         0  2021   \n",
       "44096         25     0        4      1      1         3         0  2021   \n",
       "44104         25     0        3      1      1         3         0  2021   \n",
       "47966         23     0        3      1      1         1         1  2021   \n",
       "55152         73     0        2      3      0         4         0  2021   \n",
       "58981         41     0        3      1      1         3         1  2021   \n",
       "60363          5     0        3      3      1         4         0  2021   \n",
       "60427          5     0        4      1      1         4         1  2021   \n",
       "60440          5     0        4      3      0         4         0  2021   \n",
       "60442          5     0        3      3      0         4         0  2021   \n",
       "35106         25     0        3      1      1         3         1  2022   \n",
       "\n",
       "             F_EXP  \n",
       "9979   1186.211492  \n",
       "3680   1036.917748  \n",
       "11555  1170.001229  \n",
       "11560  1039.279416  \n",
       "11602  1182.400781  \n",
       "23089  1111.160063  \n",
       "36926  1095.166446  \n",
       "42946  1024.258806  \n",
       "44091  1042.318563  \n",
       "44092  1143.044133  \n",
       "44096  1357.044213  \n",
       "44104  1217.897218  \n",
       "47966  1412.779103  \n",
       "55152  1091.861818  \n",
       "58981  1146.519900  \n",
       "60363  1803.800294  \n",
       "60427  2607.671662  \n",
       "60440  1169.940139  \n",
       "60442  1088.329712  \n",
       "35106  1020.714919  "
      ]
     },
     "execution_count": 158,
     "metadata": {},
     "output_type": "execute_result"
    }
   ],
   "source": [
    "emicron_estab[emicron_estab['F_EXP']>1020]"
   ]
  },
  {
   "cell_type": "code",
   "execution_count": 154,
   "metadata": {},
   "outputs": [
    {
     "data": {
      "text/plain": [
       "2        423.131668\n",
       "10        81.697983\n",
       "14        95.833409\n",
       "16       123.030932\n",
       "17       105.952890\n",
       "            ...    \n",
       "86951     43.479839\n",
       "86954    257.214252\n",
       "86955     70.608422\n",
       "86956     13.695497\n",
       "86960     18.448384\n",
       "Name: F_EXP, Length: 28067, dtype: float64"
      ]
     },
     "execution_count": 154,
     "metadata": {},
     "output_type": "execute_result"
    }
   ],
   "source": [
    "emicron['F_EXP'][emicron['OLA']==2019]"
   ]
  },
  {
   "cell_type": "code",
   "execution_count": 187,
   "metadata": {},
   "outputs": [],
   "source": [
    "#emicron = emicron[pd.unique(var_estab + var_mov)]"
   ]
  },
  {
   "cell_type": "markdown",
   "metadata": {},
   "source": [
    "## 6. One-Hot Encoding"
   ]
  },
  {
   "cell_type": "code",
   "execution_count": 114,
   "metadata": {},
   "outputs": [],
   "source": [
    "from sklearn.preprocessing import OneHotEncoder"
   ]
  },
  {
   "cell_type": "markdown",
   "metadata": {},
   "source": [
    "### 6.1 Creación variables dummies"
   ]
  },
  {
   "cell_type": "code",
   "execution_count": 188,
   "metadata": {},
   "outputs": [],
   "source": [
    "ohe_dpto = OneHotEncoder().fit(emicron[['COD_DEPTO']])\n",
    "drop_enc = ohe_dpto.transform(emicron[['COD_DEPTO']]).toarray()\n",
    "drop_enc_df = pd.DataFrame(drop_enc,columns = ohe_dpto.get_feature_names_out())\n",
    "drop_enc_df\n",
    "drop_enc_df.drop('COD_DEPTO_5', axis=1, inplace = True) # Utilizar como categoría de referencia 5: Antioquia\n",
    "\n",
    "emicron = emicron.join(drop_enc_df)\n",
    "\n",
    "ohe_ubi = OneHotEncoder().fit(emicron[['UBICA']])\n",
    "drop_enc = ohe_ubi.transform(emicron[['UBICA']]).toarray()\n",
    "drop_enc_df = pd.DataFrame(drop_enc,columns = ohe_ubi.get_feature_names_out())\n",
    "drop_enc_df.drop('UBICA_3', axis=1, inplace = True)  # Utilizar como categoría de referencia 3: Vivienda (aplica sólo para Establecimientos)\n",
    "\n",
    "emicron = emicron.join(drop_enc_df)\n",
    "\n",
    "ohe_sector = OneHotEncoder().fit(emicron[['GRUPOS4']])\n",
    "drop_enc = ohe_sector.transform(emicron[['GRUPOS4']]).toarray()\n",
    "drop_enc_df = pd.DataFrame(drop_enc,columns = ohe_sector.get_feature_names_out())\n",
    "drop_enc_df.drop('GRUPOS4_2', axis=1, inplace = True) # Utilizar como categoría de referencia 2: Industria Manufacturera\n",
    "\n",
    "emicron = emicron.join(drop_enc_df)\n",
    "\n",
    "ohe_conta = OneHotEncoder().fit(emicron[['REG_CONT']])\n",
    "drop_enc = ohe_conta.transform(emicron[['REG_CONT']]).toarray()\n",
    "drop_enc_df = pd.DataFrame(drop_enc,columns = ohe_conta.get_feature_names_out())\n",
    "drop_enc_df.drop('REG_CONT_4', axis=1, inplace = True) # Utilizar como categoría de referencia 4: No lleva registros (aplica sólo para Establecimientos)\n",
    "\n",
    "emicron = emicron.join(drop_enc_df)\n",
    "\n",
    "# ohe_sector12 = OneHotEncoder().fit(emicron[['GRUPOS12']])\n",
    "# drop_enc = ohe_sector12.transform(emicron[['GRUPOS12']]).toarray()\n",
    "# drop_enc_df = pd.DataFrame(drop_enc,columns = ohe_sector12.get_feature_names_out())\n",
    "# drop_enc_df.drop('GRUPOS12_4', axis=1, inplace = True)\n",
    "\n",
    "# emicron = emicron.join(drop_enc_df)\n",
    "\n",
    "ohe_anoe = OneHotEncoder().fit(emicron[['ANOS_ESPACIO']])\n",
    "drop_enc = ohe_anoe.transform(emicron[['ANOS_ESPACIO']]).toarray()\n",
    "drop_enc_df = pd.DataFrame(drop_enc,columns = ohe_anoe.get_feature_names_out())\n",
    "drop_enc_df.drop('ANOS_ESPACIO_1', axis=1, inplace = True) # Utilizar como categoría de referencia 1: Menos de un año\n",
    "\n",
    "emicron = emicron.join(drop_enc_df)"
   ]
  },
  {
   "cell_type": "markdown",
   "metadata": {},
   "source": [
    "### 6.2 Eliminar variables base"
   ]
  },
  {
   "cell_type": "code",
   "execution_count": null,
   "metadata": {},
   "outputs": [],
   "source": [
    "## Eliminar las variables de las que se partió para la dicotomización\n",
    "# Código aplicable para la base de establecimientos\n",
    "emicron.drop(['COD_DEPTO','UBICA','GRUPOS4','REG_CONT'],axis=1, inplace= True)  \n",
    "# Código aplicable para la base de puestos móviles\n",
    "emicron.drop(['COD_DEPTO','GRUPOS4','ANOS_ESPACIO'],axis=1, inplace= True)"
   ]
  }
 ],
 "metadata": {
  "kernelspec": {
   "display_name": "Python 3",
   "language": "python",
   "name": "python3"
  },
  "language_info": {
   "codemirror_mode": {
    "name": "ipython",
    "version": 3
   },
   "file_extension": ".py",
   "mimetype": "text/x-python",
   "name": "python",
   "nbconvert_exporter": "python",
   "pygments_lexer": "ipython3",
   "version": "3.10.5"
  }
 },
 "nbformat": 4,
 "nbformat_minor": 2
}
