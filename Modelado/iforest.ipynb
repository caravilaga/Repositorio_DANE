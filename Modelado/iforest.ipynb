{
 "cells": [
  {
   "cell_type": "code",
   "execution_count": 1,
   "metadata": {},
   "outputs": [],
   "source": [
    "import pandas as pd\n",
    "import re\n",
    "import numpy as np\n",
    "import seaborn as sns\n",
    "import matplotlib.pyplot as plt\n",
    "from sklearn.ensemble import IsolationForest\n",
    "from sklearn.preprocessing import OneHotEncoder\n",
    "from sklearn.model_selection import GridSearchCV"
   ]
  },
  {
   "cell_type": "markdown",
   "metadata": {},
   "source": [
    "## 1. Lectura información"
   ]
  },
  {
   "cell_type": "code",
   "execution_count": 2,
   "metadata": {},
   "outputs": [
    {
     "name": "stderr",
     "output_type": "stream",
     "text": [
      "C:\\Users\\carlo\\AppData\\Local\\Temp\\ipykernel_17888\\2395971023.py:2: DtypeWarning: Columns (59,60,102,104,106,119,132,133,134,135,136,137,140,141,143,157,363,377,388,393,401,420,485,502,503,506,524,525,528,529) have mixed types. Specify dtype option on import or set low_memory=False.\n",
      "  emicron = pd.read_csv(data_path + \"\\EMICRON_VF.csv\",header = 0)\n"
     ]
    }
   ],
   "source": [
    "data_path = r\"D:\\DANE - Contrato\\2024\\Operativo Barrido\\Data\"\n",
    "emicron = pd.read_csv(data_path + \"\\EMICRON_VF.csv\",header = 0)"
   ]
  },
  {
   "cell_type": "code",
   "execution_count": 3,
   "metadata": {},
   "outputs": [],
   "source": [
    "var_estab = ['id','VENTAS_MES_ANTERIOR','CYG','POTTOT','REMUNERACION_TOTAL','COD_DEPTO','CPAM','GRUPOS4','UBICA','IDRUT','CAMCOMER','REG_CONT','ANIOS_OPERACION'] \n",
    "\n",
    "var_mov = ['id','VENTAS_MES_ANTERIOR','POTTOT','CYG','COD_DEPTO','CPAM','GRUPOS4','ANOS_ESPACIO','HOMBRE']\n",
    "\n",
    "var_gral = ['id','CIIU_3','fex','P2760','VA','C_V','k_words','mencion']"
   ]
  },
  {
   "cell_type": "code",
   "execution_count": 5,
   "metadata": {},
   "outputs": [],
   "source": [
    "def descriptive_stat_threshold(df, pred_score, threshold, opcion = 1):\n",
    "    # Observemos cuántos 0 o 1 hay\n",
    "    if opcion == 1:    \n",
    "        df = pd.DataFrame(df)\n",
    "        df['Anomaly_Score'] = pred_score\n",
    "        df['Group'] = np.where(df['Anomaly_Score'] < threshold, 'Normal', 'Outlier')\n",
    "        # Ahora mostraremos las estadísticas resumen\n",
    "        cnt = df.groupby('Group')['Anomaly_Score'].count().reset_index().rename(columns = {'Anomaly_Score': 'Count'})\n",
    "        # Conto del conteo\n",
    "        cnt['Count %'] = (cnt['Count'] / cnt['Count'].sum()) * 100\n",
    "        # Promedio\n",
    "        stat = df.groupby('Group').mean().round(2).reset_index()\n",
    "        # Poniendo el conteo y el promedio juntos\n",
    "        stat = cnt.merge(stat, left_on = 'Group', right_on = 'Group')\n",
    "        return(stat)\n",
    "    else:\n",
    "        df = pd.DataFrame(df)\n",
    "        df['Anomaly_Score'] = pred_score\n",
    "        df['Group'] = np.where(df['Anomaly_Score'] < threshold, 'Outlier', 'Normal')\n",
    "        return(df)"
   ]
  },
  {
   "cell_type": "markdown",
   "metadata": {},
   "source": [
    "## 2. Operativo de barrido: establecimientos\n",
    "Se seleccionarán las unidades económicas de la base de datos que corresponden con viviendas con actividad económica y establecimientos fijos (locales, tienda,  talleres, etc.)  \n",
    "Por el momento se trabajará únicamente con el año 2022, debido a que la base de 2023 todavía no está completa (hace falta remuneración) "
   ]
  },
  {
   "cell_type": "code",
   "execution_count": 4,
   "metadata": {},
   "outputs": [
    {
     "data": {
      "text/plain": [
       "(46669, 13)"
      ]
     },
     "execution_count": 4,
     "metadata": {},
     "output_type": "execute_result"
    }
   ],
   "source": [
    "emicron_estab = emicron[emicron['UBICA']!= 4]\n",
    "#emicron_estab = emicron_estab[emicron_estab['OLA']== 2022]\n",
    "emicron_estab = emicron_estab[var_estab]\n",
    "emicron_estab['UBICA'] = emicron_estab['UBICA'].astype(int)\n",
    "emicron_estab['REG_CONT'] = emicron_estab['REG_CONT'].astype(int)\n",
    "emicron_estab['IDRUT'] = emicron_estab['IDRUT'].astype(int)\n",
    "emicron_estab['CAMCOMER'] = emicron_estab['CAMCOMER'].astype(int)\n",
    "emicron_estab = emicron_estab.reset_index(drop=True)\n",
    "emicron_estab.shape"
   ]
  },
  {
   "cell_type": "markdown",
   "metadata": {},
   "source": [
    "#### One-hot encoding"
   ]
  },
  {
   "cell_type": "code",
   "execution_count": 7,
   "metadata": {},
   "outputs": [],
   "source": [
    "emicron_ohe = emicron_estab.copy()\n",
    "\n",
    "ohe_dpto = OneHotEncoder().fit(emicron_ohe[['COD_DEPTO']])\n",
    "drop_enc = ohe_dpto.transform(emicron_ohe[['COD_DEPTO']]).toarray()\n",
    "drop_enc_df = pd.DataFrame(drop_enc,columns = ohe_dpto.get_feature_names_out())\n",
    "\n",
    "\n",
    "emicron_ohe = emicron_ohe.join(drop_enc_df)\n",
    "\n",
    "ohe_ubi = OneHotEncoder().fit(emicron_ohe[['UBICA']])\n",
    "drop_enc = ohe_ubi.transform(emicron_ohe[['UBICA']]).toarray()\n",
    "drop_enc_df = pd.DataFrame(drop_enc,columns = ohe_ubi.get_feature_names_out())\n",
    "drop_enc_df.drop('UBICA_3', axis=1, inplace = True)  \n",
    "\n",
    "emicron_ohe = emicron_ohe.join(drop_enc_df)\n",
    "\n",
    "ohe_sector = OneHotEncoder().fit(emicron_ohe[['GRUPOS4']])\n",
    "drop_enc = ohe_sector.transform(emicron_ohe[['GRUPOS4']]).toarray()\n",
    "drop_enc_df = pd.DataFrame(drop_enc,columns = ohe_sector.get_feature_names_out())\n",
    "\n",
    "emicron_ohe = emicron_ohe.join(drop_enc_df)\n",
    "\n",
    "ohe_conta = OneHotEncoder().fit(emicron_ohe[['REG_CONT']])\n",
    "drop_enc = ohe_conta.transform(emicron_ohe[['REG_CONT']]).toarray()\n",
    "drop_enc_df = pd.DataFrame(drop_enc,columns = ohe_conta.get_feature_names_out())\n",
    "\n",
    "emicron_ohe = emicron_ohe.join(drop_enc_df)"
   ]
  },
  {
   "cell_type": "code",
   "execution_count": 8,
   "metadata": {},
   "outputs": [],
   "source": [
    "emicron_ohe.drop(['COD_DEPTO','UBICA','GRUPOS4','REG_CONT'],axis=1, inplace= True) \n",
    "emicron_ohe.set_index('id',inplace = True, drop = True)"
   ]
  },
  {
   "cell_type": "code",
   "execution_count": 9,
   "metadata": {},
   "outputs": [
    {
     "data": {
      "text/plain": [
       "(46669, 41)"
      ]
     },
     "execution_count": 9,
     "metadata": {},
     "output_type": "execute_result"
    }
   ],
   "source": [
    "emicron_ohe.shape"
   ]
  },
  {
   "cell_type": "code",
   "execution_count": 17,
   "metadata": {},
   "outputs": [
    {
     "name": "stderr",
     "output_type": "stream",
     "text": [
      "[Parallel(n_jobs=8)]: Using backend ThreadingBackend with 8 concurrent workers.\n",
      "[Parallel(n_jobs=8)]: Done   2 out of   8 | elapsed:    0.2s remaining:    0.8s\n",
      "[Parallel(n_jobs=8)]: Done   8 out of   8 | elapsed:    0.2s finished\n",
      "[Parallel(n_jobs=8)]: Using backend ThreadingBackend with 8 concurrent workers.\n",
      "[Parallel(n_jobs=8)]: Done   2 out of   8 | elapsed:    0.5s remaining:    1.8s\n",
      "[Parallel(n_jobs=8)]: Done   8 out of   8 | elapsed:    0.6s finished\n",
      "[Parallel(n_jobs=8)]: Using backend ThreadingBackend with 8 concurrent workers.\n",
      "[Parallel(n_jobs=8)]: Done   2 out of   8 | elapsed:    1.3s remaining:    4.1s\n",
      "[Parallel(n_jobs=8)]: Done   8 out of   8 | elapsed:    1.3s finished\n",
      "[Parallel(n_jobs=8)]: Using backend ThreadingBackend with 8 concurrent workers.\n",
      "[Parallel(n_jobs=8)]: Done   2 out of   8 | elapsed:    2.4s remaining:    7.4s\n",
      "[Parallel(n_jobs=8)]: Done   8 out of   8 | elapsed:    2.5s finished\n",
      "[Parallel(n_jobs=8)]: Using backend ThreadingBackend with 8 concurrent workers.\n",
      "[Parallel(n_jobs=8)]: Done   2 out of   8 | elapsed:    0.2s remaining:    0.8s\n",
      "[Parallel(n_jobs=8)]: Done   8 out of   8 | elapsed:    0.2s finished\n",
      "[Parallel(n_jobs=8)]: Using backend ThreadingBackend with 8 concurrent workers.\n",
      "[Parallel(n_jobs=8)]: Done   2 out of   8 | elapsed:    0.5s remaining:    1.7s\n",
      "[Parallel(n_jobs=8)]: Done   8 out of   8 | elapsed:    0.6s finished\n",
      "[Parallel(n_jobs=8)]: Using backend ThreadingBackend with 8 concurrent workers.\n",
      "[Parallel(n_jobs=8)]: Done   2 out of   8 | elapsed:    1.4s remaining:    4.4s\n",
      "[Parallel(n_jobs=8)]: Done   8 out of   8 | elapsed:    1.4s finished\n",
      "[Parallel(n_jobs=8)]: Using backend ThreadingBackend with 8 concurrent workers.\n",
      "[Parallel(n_jobs=8)]: Done   2 out of   8 | elapsed:    3.1s remaining:    9.5s\n",
      "[Parallel(n_jobs=8)]: Done   8 out of   8 | elapsed:    3.4s finished\n",
      "[Parallel(n_jobs=8)]: Using backend ThreadingBackend with 8 concurrent workers.\n",
      "[Parallel(n_jobs=8)]: Done   2 out of   8 | elapsed:    0.2s remaining:    0.8s\n",
      "[Parallel(n_jobs=8)]: Done   8 out of   8 | elapsed:    0.3s finished\n",
      "[Parallel(n_jobs=8)]: Using backend ThreadingBackend with 8 concurrent workers.\n",
      "[Parallel(n_jobs=8)]: Done   2 out of   8 | elapsed:    0.6s remaining:    2.0s\n",
      "[Parallel(n_jobs=8)]: Done   8 out of   8 | elapsed:    0.6s finished\n",
      "[Parallel(n_jobs=8)]: Using backend ThreadingBackend with 8 concurrent workers.\n",
      "[Parallel(n_jobs=8)]: Done   2 out of   8 | elapsed:    1.6s remaining:    4.9s\n",
      "[Parallel(n_jobs=8)]: Done   8 out of   8 | elapsed:    1.7s finished\n",
      "[Parallel(n_jobs=8)]: Using backend ThreadingBackend with 8 concurrent workers.\n",
      "[Parallel(n_jobs=8)]: Done   2 out of   8 | elapsed:    3.7s remaining:   11.3s\n",
      "[Parallel(n_jobs=8)]: Done   8 out of   8 | elapsed:    3.8s finished\n",
      "[Parallel(n_jobs=8)]: Using backend ThreadingBackend with 8 concurrent workers.\n",
      "[Parallel(n_jobs=8)]: Done   2 out of   8 | elapsed:    0.2s remaining:    0.8s\n",
      "[Parallel(n_jobs=8)]: Done   8 out of   8 | elapsed:    0.2s finished\n",
      "[Parallel(n_jobs=8)]: Using backend ThreadingBackend with 8 concurrent workers.\n",
      "[Parallel(n_jobs=8)]: Done   2 out of   8 | elapsed:    0.6s remaining:    2.1s\n",
      "[Parallel(n_jobs=8)]: Done   8 out of   8 | elapsed:    0.7s finished\n",
      "[Parallel(n_jobs=8)]: Using backend ThreadingBackend with 8 concurrent workers.\n",
      "[Parallel(n_jobs=8)]: Done   2 out of   8 | elapsed:    1.8s remaining:    5.7s\n",
      "[Parallel(n_jobs=8)]: Done   8 out of   8 | elapsed:    1.9s finished\n",
      "[Parallel(n_jobs=8)]: Using backend ThreadingBackend with 8 concurrent workers.\n",
      "[Parallel(n_jobs=8)]: Done   2 out of   8 | elapsed:    3.9s remaining:   11.8s\n",
      "[Parallel(n_jobs=8)]: Done   8 out of   8 | elapsed:    4.0s finished\n"
     ]
    }
   ],
   "source": [
    "# Parameters\n",
    "k_sam = [256, 500, 700, 1000]\n",
    "k_tree = [100,200,500,1000]\n",
    "\n",
    "#Almacenar los resultados\n",
    "iscores_mult = np.zeros([emicron_ohe.shape[0], (len(k_sam)*len(k_tree))])\n",
    "\n",
    "i = 0\n",
    "\n",
    "for sam in k_sam:\n",
    "    for n_tree in k_tree:\n",
    "        ifo = IsolationForest(random_state = 123,\n",
    "                              contamination=0.1,\n",
    "                              max_features= 25,\n",
    "                              verbose=1,\n",
    "                              n_jobs=-1,\n",
    "                              max_samples= sam,\n",
    "                              n_estimators= n_tree)\n",
    "        ifo.fit(emicron_ohe)\n",
    "        # Cálculo del puntaje de atipicidad promedio: valores más bajos representas mayor atipicidad\n",
    "        iscores_mult[:, i] = ifo.decision_function(emicron_ohe)\n",
    "        i +=1"
   ]
  },
  {
   "cell_type": "code",
   "execution_count": 18,
   "metadata": {},
   "outputs": [
    {
     "data": {
      "image/png": "[encoded data removed]",
      "text/plain": [
       "<Figure size 640x480 with 1 Axes>"
      ]
     },
     "metadata": {},
     "output_type": "display_data"
    }
   ],
   "source": [
    "# El promedio de las predicciones de los 10 puntajes están en y_by_average abajo. Se crea esto en un histograma\n",
    "# El resultado \"y_by_average\" es una columna:\n",
    "Y_by_average = np.mean(iscores_mult,axis=1)\n",
    "plt.hist(Y_by_average, bins = 'auto')\n",
    "#plt.xlim(4.2, 8)\n",
    "plt.title(\"Combinación por promedio\")\n",
    "plt.show()"
   ]
  },
  {
   "cell_type": "code",
   "execution_count": 19,
   "metadata": {},
   "outputs": [
    {
     "data": {
      "text/plain": [
       "0.0006828689164299052"
      ]
     },
     "execution_count": 19,
     "metadata": {},
     "output_type": "execute_result"
    }
   ],
   "source": [
    "threshold = np.percentile(Y_by_average, 10)\n",
    "threshold"
   ]
  },
  {
   "cell_type": "code",
   "execution_count": 20,
   "metadata": {},
   "outputs": [],
   "source": [
    "iforest_res = descriptive_stat_threshold(emicron_estab, Y_by_average, threshold, 2)"
   ]
  },
  {
   "cell_type": "code",
   "execution_count": 21,
   "metadata": {},
   "outputs": [
    {
     "data": {
      "text/plain": [
       "(46669, 22)"
      ]
     },
     "execution_count": 21,
     "metadata": {},
     "output_type": "execute_result"
    }
   ],
   "source": [
    "iforest_res = pd.merge(iforest_res,emicron[var_gral], on = 'id', how = 'left')\n",
    "iforest_res.shape"
   ]
  },
  {
   "cell_type": "code",
   "execution_count": 22,
   "metadata": {},
   "outputs": [
    {
     "data": {
      "text/plain": [
       "Normal     42002\n",
       "Outlier     4667\n",
       "Name: Group, dtype: int64"
      ]
     },
     "execution_count": 22,
     "metadata": {},
     "output_type": "execute_result"
    }
   ],
   "source": [
    "iforest_res['Group'].value_counts()"
   ]
  },
  {
   "cell_type": "code",
   "execution_count": 23,
   "metadata": {},
   "outputs": [],
   "source": [
    "iforest_res.to_csv(data_path + r\"\\atipicos_emicron_fijo_iforest.csv\", index = False)"
   ]
  },
  {
   "cell_type": "markdown",
   "metadata": {},
   "source": [
    "## 3. Operativo de barrido: vendedores de calles\n",
    "Se seleccionarán las unidades económicas de la base de datos que corresponden con puestos móviles."
   ]
  },
  {
   "cell_type": "code",
   "execution_count": 24,
   "metadata": {},
   "outputs": [
    {
     "data": {
      "text/plain": [
       "(17812, 9)"
      ]
     },
     "execution_count": 24,
     "metadata": {},
     "output_type": "execute_result"
    }
   ],
   "source": [
    "emicron_mov = emicron[emicron['UBICA']== 4]\n",
    "emicron_mov = emicron_mov[var_mov]\n",
    "emicron_mov['CPAM'] = emicron_mov['CPAM'].astype(int)\n",
    "emicron_mov['COD_DEPTO'] = emicron_mov['COD_DEPTO'].astype(int)\n",
    "emicron_mov['GRUPOS4'] = emicron_mov['GRUPOS4'].astype(int)\n",
    "\n",
    "emicron_mov = emicron_mov.reset_index(drop=True)\n",
    "emicron_mov.shape"
   ]
  },
  {
   "cell_type": "code",
   "execution_count": 25,
   "metadata": {},
   "outputs": [
    {
     "data": {
      "text/plain": [
       "0"
      ]
     },
     "execution_count": 25,
     "metadata": {},
     "output_type": "execute_result"
    }
   ],
   "source": [
    "len(emicron_mov.loc[(emicron_mov == 99).any(axis=1),'id'])"
   ]
  },
  {
   "cell_type": "code",
   "execution_count": 26,
   "metadata": {},
   "outputs": [
    {
     "data": {
      "text/plain": [
       "Series([], Name: OLA, dtype: int64)"
      ]
     },
     "execution_count": 26,
     "metadata": {},
     "output_type": "execute_result"
    }
   ],
   "source": [
    "emicron[emicron['id'].isin(emicron_mov.loc[(emicron_mov == 99).any(axis=1),'id'])]['OLA'].value_counts()"
   ]
  },
  {
   "cell_type": "code",
   "execution_count": 27,
   "metadata": {},
   "outputs": [
    {
     "data": {
      "text/plain": [
       "2022    9165\n",
       "2023    8647\n",
       "Name: OLA, dtype: int64"
      ]
     },
     "execution_count": 27,
     "metadata": {},
     "output_type": "execute_result"
    }
   ],
   "source": [
    "emicron['OLA'][emicron['UBICA']==4].value_counts()"
   ]
  },
  {
   "cell_type": "markdown",
   "metadata": {},
   "source": [
    "#### One-hot encoding"
   ]
  },
  {
   "cell_type": "code",
   "execution_count": 28,
   "metadata": {},
   "outputs": [],
   "source": [
    "emicron_ohe = emicron_mov.copy()\n",
    "\n",
    "ohe_dpto = OneHotEncoder().fit(emicron_ohe[['COD_DEPTO']])\n",
    "drop_enc = ohe_dpto.transform(emicron_ohe[['COD_DEPTO']]).toarray()\n",
    "drop_enc_df = pd.DataFrame(drop_enc,columns = ohe_dpto.get_feature_names_out())\n",
    "\n",
    "emicron_ohe = emicron_ohe.join(drop_enc_df)\n",
    "\n",
    "ohe_sector = OneHotEncoder().fit(emicron_ohe[['GRUPOS4']])\n",
    "drop_enc = ohe_sector.transform(emicron_ohe[['GRUPOS4']]).toarray()\n",
    "drop_enc_df = pd.DataFrame(drop_enc,columns = ohe_sector.get_feature_names_out())\n",
    "\n",
    "emicron_ohe = emicron_ohe.join(drop_enc_df)\n",
    "\n",
    "ohe_anio = OneHotEncoder().fit(emicron_ohe[['ANOS_ESPACIO']])\n",
    "drop_enc = ohe_anio.transform(emicron_ohe[['ANOS_ESPACIO']]).toarray()\n",
    "drop_enc_df = pd.DataFrame(drop_enc,columns = ohe_anio.get_feature_names_out())\n",
    "\n",
    "emicron_ohe = emicron_ohe.join(drop_enc_df)"
   ]
  },
  {
   "cell_type": "code",
   "execution_count": 29,
   "metadata": {},
   "outputs": [],
   "source": [
    "emicron_ohe.drop(['COD_DEPTO','GRUPOS4','ANOS_ESPACIO'],axis=1, inplace= True) \n",
    "emicron_ohe.set_index('id',inplace = True, drop = True)"
   ]
  },
  {
   "cell_type": "code",
   "execution_count": 30,
   "metadata": {},
   "outputs": [
    {
     "name": "stderr",
     "output_type": "stream",
     "text": [
      "[Parallel(n_jobs=8)]: Using backend ThreadingBackend with 8 concurrent workers.\n",
      "[Parallel(n_jobs=8)]: Done   2 out of   8 | elapsed:    0.1s remaining:    0.5s\n",
      "[Parallel(n_jobs=8)]: Done   8 out of   8 | elapsed:    0.1s finished\n",
      "[Parallel(n_jobs=8)]: Using backend ThreadingBackend with 8 concurrent workers.\n",
      "[Parallel(n_jobs=8)]: Done   2 out of   8 | elapsed:    0.4s remaining:    1.5s\n",
      "[Parallel(n_jobs=8)]: Done   8 out of   8 | elapsed:    0.5s finished\n",
      "[Parallel(n_jobs=8)]: Using backend ThreadingBackend with 8 concurrent workers.\n",
      "[Parallel(n_jobs=8)]: Done   2 out of   8 | elapsed:    1.0s remaining:    3.2s\n",
      "[Parallel(n_jobs=8)]: Done   8 out of   8 | elapsed:    1.0s finished\n",
      "[Parallel(n_jobs=8)]: Using backend ThreadingBackend with 8 concurrent workers.\n",
      "[Parallel(n_jobs=8)]: Done   2 out of   8 | elapsed:    1.9s remaining:    5.9s\n",
      "[Parallel(n_jobs=8)]: Done   8 out of   8 | elapsed:    2.0s finished\n",
      "[Parallel(n_jobs=8)]: Using backend ThreadingBackend with 8 concurrent workers.\n",
      "[Parallel(n_jobs=8)]: Done   2 out of   8 | elapsed:    0.2s remaining:    0.9s\n",
      "[Parallel(n_jobs=8)]: Done   8 out of   8 | elapsed:    0.3s finished\n",
      "[Parallel(n_jobs=8)]: Using backend ThreadingBackend with 8 concurrent workers.\n",
      "[Parallel(n_jobs=8)]: Done   2 out of   8 | elapsed:    0.7s remaining:    2.2s\n",
      "[Parallel(n_jobs=8)]: Done   8 out of   8 | elapsed:    0.7s finished\n",
      "[Parallel(n_jobs=8)]: Using backend ThreadingBackend with 8 concurrent workers.\n",
      "[Parallel(n_jobs=8)]: Done   2 out of   8 | elapsed:    1.6s remaining:    5.0s\n",
      "[Parallel(n_jobs=8)]: Done   8 out of   8 | elapsed:    1.7s finished\n",
      "[Parallel(n_jobs=8)]: Using backend ThreadingBackend with 8 concurrent workers.\n",
      "[Parallel(n_jobs=8)]: Done   2 out of   8 | elapsed:    3.2s remaining:    9.7s\n",
      "[Parallel(n_jobs=8)]: Done   8 out of   8 | elapsed:    3.3s finished\n",
      "[Parallel(n_jobs=8)]: Using backend ThreadingBackend with 8 concurrent workers.\n",
      "[Parallel(n_jobs=8)]: Done   2 out of   8 | elapsed:    0.3s remaining:    1.1s\n",
      "[Parallel(n_jobs=8)]: Done   8 out of   8 | elapsed:    0.3s finished\n",
      "[Parallel(n_jobs=8)]: Using backend ThreadingBackend with 8 concurrent workers.\n",
      "[Parallel(n_jobs=8)]: Done   2 out of   8 | elapsed:    0.8s remaining:    2.7s\n",
      "[Parallel(n_jobs=8)]: Done   8 out of   8 | elapsed:    0.9s finished\n",
      "[Parallel(n_jobs=8)]: Using backend ThreadingBackend with 8 concurrent workers.\n",
      "[Parallel(n_jobs=8)]: Done   2 out of   8 | elapsed:    1.7s remaining:    5.2s\n",
      "[Parallel(n_jobs=8)]: Done   8 out of   8 | elapsed:    1.8s finished\n",
      "[Parallel(n_jobs=8)]: Using backend ThreadingBackend with 8 concurrent workers.\n",
      "[Parallel(n_jobs=8)]: Done   2 out of   8 | elapsed:    3.3s remaining:   10.2s\n",
      "[Parallel(n_jobs=8)]: Done   8 out of   8 | elapsed:    3.4s finished\n",
      "[Parallel(n_jobs=8)]: Using backend ThreadingBackend with 8 concurrent workers.\n",
      "[Parallel(n_jobs=8)]: Done   2 out of   8 | elapsed:    0.2s remaining:    0.9s\n",
      "[Parallel(n_jobs=8)]: Done   8 out of   8 | elapsed:    0.3s finished\n",
      "[Parallel(n_jobs=8)]: Using backend ThreadingBackend with 8 concurrent workers.\n",
      "[Parallel(n_jobs=8)]: Done   2 out of   8 | elapsed:    0.8s remaining:    2.5s\n",
      "[Parallel(n_jobs=8)]: Done   8 out of   8 | elapsed:    0.8s finished\n",
      "[Parallel(n_jobs=8)]: Using backend ThreadingBackend with 8 concurrent workers.\n",
      "[Parallel(n_jobs=8)]: Done   2 out of   8 | elapsed:    1.7s remaining:    5.2s\n",
      "[Parallel(n_jobs=8)]: Done   8 out of   8 | elapsed:    1.8s finished\n",
      "[Parallel(n_jobs=8)]: Using backend ThreadingBackend with 8 concurrent workers.\n",
      "[Parallel(n_jobs=8)]: Done   2 out of   8 | elapsed:    4.1s remaining:   12.5s\n",
      "[Parallel(n_jobs=8)]: Done   8 out of   8 | elapsed:    4.2s finished\n"
     ]
    }
   ],
   "source": [
    "# Parameters\n",
    "k_sam = [256, 500, 800, 1000]\n",
    "k_tree = [100,250, 500,1000]\n",
    "\n",
    "#Almacenar los resultados\n",
    "iscores_mult = np.zeros([emicron_ohe.shape[0], (len(k_sam)*len(k_tree))])\n",
    "\n",
    "i = 0\n",
    "\n",
    "for sam in k_sam:\n",
    "    for n_tree in k_tree:\n",
    "        ifo = IsolationForest(random_state = 123,\n",
    "                              contamination=0.1,\n",
    "                              max_features= 34,\n",
    "                              verbose=1,\n",
    "                              n_jobs=-1,\n",
    "                              max_samples= sam,\n",
    "                              n_estimators= n_tree)\n",
    "        ifo.fit(emicron_ohe)\n",
    "        iscores_mult[:, i] = ifo.decision_function(emicron_ohe)\n",
    "        i +=1"
   ]
  },
  {
   "cell_type": "code",
   "execution_count": 31,
   "metadata": {},
   "outputs": [
    {
     "data": {
      "image/png": "[encoded data removed]",
      "text/plain": [
       "<Figure size 640x480 with 1 Axes>"
      ]
     },
     "metadata": {},
     "output_type": "display_data"
    }
   ],
   "source": [
    "# El promedio de las predicciones de los 10 puntajes están en y_by_average abajo. Se crea esto en un histograma\n",
    "# El resultado \"y_by_average\" es una columna:\n",
    "Y_by_average = np.mean(iscores_mult,axis=1)\n",
    "plt.hist(Y_by_average, bins = 'auto')\n",
    "#plt.xlim(4.2, 8)\n",
    "plt.title(\"Combinación por promedio\")\n",
    "plt.show()"
   ]
  },
  {
   "cell_type": "code",
   "execution_count": 32,
   "metadata": {},
   "outputs": [
    {
     "data": {
      "text/plain": [
       "0.0009044262870441046"
      ]
     },
     "execution_count": 32,
     "metadata": {},
     "output_type": "execute_result"
    }
   ],
   "source": [
    "threshold = np.percentile(Y_by_average, 10)\n",
    "threshold"
   ]
  },
  {
   "cell_type": "code",
   "execution_count": 33,
   "metadata": {},
   "outputs": [],
   "source": [
    "iforest_res = descriptive_stat_threshold(emicron_mov, Y_by_average, threshold, 2)"
   ]
  },
  {
   "cell_type": "code",
   "execution_count": 34,
   "metadata": {},
   "outputs": [
    {
     "data": {
      "text/plain": [
       "(17812, 18)"
      ]
     },
     "execution_count": 34,
     "metadata": {},
     "output_type": "execute_result"
    }
   ],
   "source": [
    "iforest_res = pd.merge(iforest_res,emicron[var_gral], on = 'id', how = 'left')\n",
    "iforest_res.shape"
   ]
  },
  {
   "cell_type": "code",
   "execution_count": 35,
   "metadata": {},
   "outputs": [],
   "source": [
    "iforest_res.to_csv(data_path + r\"\\atipicos_emicron_vcalle_iforest.csv\", index = False)"
   ]
  },
  {
   "cell_type": "code",
   "execution_count": null,
   "metadata": {},
   "outputs": [
    {
     "data": {
      "text/html": [
       "<div>\n",
       "<style scoped>\n",
       "    .dataframe tbody tr th:only-of-type {\n",
       "        vertical-align: middle;\n",
       "    }\n",
       "\n",
       "    .dataframe tbody tr th {\n",
       "        vertical-align: top;\n",
       "    }\n",
       "\n",
       "    .dataframe thead th {\n",
       "        text-align: right;\n",
       "    }\n",
       "</style>\n",
       "<table border=\"1\" class=\"dataframe\">\n",
       "  <thead>\n",
       "    <tr style=\"text-align: right;\">\n",
       "      <th></th>\n",
       "      <th>id</th>\n",
       "      <th>VENTAS_MES_ANTERIOR</th>\n",
       "      <th>POTTOT</th>\n",
       "      <th>CYG</th>\n",
       "      <th>COD_DEPTO</th>\n",
       "      <th>CPAM</th>\n",
       "      <th>GRUPOS4</th>\n",
       "      <th>ANOS_ESPACIO</th>\n",
       "      <th>HOMBRE</th>\n",
       "      <th>Anomaly_Score</th>\n",
       "      <th>Group</th>\n",
       "      <th>CIIU_3</th>\n",
       "      <th>fex</th>\n",
       "      <th>P2760</th>\n",
       "      <th>VA</th>\n",
       "      <th>C_V</th>\n",
       "      <th>k_words</th>\n",
       "      <th>mencion</th>\n",
       "    </tr>\n",
       "  </thead>\n",
       "  <tbody>\n",
       "    <tr>\n",
       "      <th>0</th>\n",
       "      <td>212002612</td>\n",
       "      <td>1200000.0</td>\n",
       "      <td>1.0</td>\n",
       "      <td>420000.0</td>\n",
       "      <td>8</td>\n",
       "      <td>0</td>\n",
       "      <td>3</td>\n",
       "      <td>1.0</td>\n",
       "      <td>1.0</td>\n",
       "      <td>0.014638</td>\n",
       "      <td>Normal</td>\n",
       "      <td>4722.0</td>\n",
       "      <td>182.474123</td>\n",
       "      <td>b'CEDULA VENEZOLANA'</td>\n",
       "      <td>780000.0</td>\n",
       "      <td>0.350000</td>\n",
       "      <td>[]</td>\n",
       "      <td>False</td>\n",
       "    </tr>\n",
       "    <tr>\n",
       "      <th>1</th>\n",
       "      <td>212005312</td>\n",
       "      <td>3600000.0</td>\n",
       "      <td>1.0</td>\n",
       "      <td>2690000.0</td>\n",
       "      <td>8</td>\n",
       "      <td>0</td>\n",
       "      <td>3</td>\n",
       "      <td>5.0</td>\n",
       "      <td>1.0</td>\n",
       "      <td>0.038989</td>\n",
       "      <td>Normal</td>\n",
       "      <td>4723.0</td>\n",
       "      <td>83.988234</td>\n",
       "      <td>NaN</td>\n",
       "      <td>910000.0</td>\n",
       "      <td>0.747222</td>\n",
       "      <td>NaN</td>\n",
       "      <td>NaN</td>\n",
       "    </tr>\n",
       "    <tr>\n",
       "      <th>2</th>\n",
       "      <td>212017711</td>\n",
       "      <td>7000000.0</td>\n",
       "      <td>2.0</td>\n",
       "      <td>4919000.0</td>\n",
       "      <td>8</td>\n",
       "      <td>0</td>\n",
       "      <td>2</td>\n",
       "      <td>5.0</td>\n",
       "      <td>1.0</td>\n",
       "      <td>-0.031211</td>\n",
       "      <td>Outlier</td>\n",
       "      <td>3830.0</td>\n",
       "      <td>27.296509</td>\n",
       "      <td>NaN</td>\n",
       "      <td>2081000.0</td>\n",
       "      <td>0.702714</td>\n",
       "      <td>NaN</td>\n",
       "      <td>NaN</td>\n",
       "    </tr>\n",
       "    <tr>\n",
       "      <th>3</th>\n",
       "      <td>212020112</td>\n",
       "      <td>0.0</td>\n",
       "      <td>1.0</td>\n",
       "      <td>0.0</td>\n",
       "      <td>8</td>\n",
       "      <td>0</td>\n",
       "      <td>3</td>\n",
       "      <td>2.0</td>\n",
       "      <td>0.0</td>\n",
       "      <td>0.013575</td>\n",
       "      <td>Normal</td>\n",
       "      <td>4723.0</td>\n",
       "      <td>45.297531</td>\n",
       "      <td>b'NO DESARROLLO LA ACTIVIDAD EN EL MES DE REFE...</td>\n",
       "      <td>0.0</td>\n",
       "      <td>0.000000</td>\n",
       "      <td>[]</td>\n",
       "      <td>False</td>\n",
       "    </tr>\n",
       "    <tr>\n",
       "      <th>4</th>\n",
       "      <td>212020612</td>\n",
       "      <td>9000000.0</td>\n",
       "      <td>1.0</td>\n",
       "      <td>7915000.0</td>\n",
       "      <td>8</td>\n",
       "      <td>0</td>\n",
       "      <td>3</td>\n",
       "      <td>5.0</td>\n",
       "      <td>0.0</td>\n",
       "      <td>-0.002637</td>\n",
       "      <td>Outlier</td>\n",
       "      <td>4723.0</td>\n",
       "      <td>30.029363</td>\n",
       "      <td>NaN</td>\n",
       "      <td>1085000.0</td>\n",
       "      <td>0.879444</td>\n",
       "      <td>NaN</td>\n",
       "      <td>NaN</td>\n",
       "    </tr>\n",
       "  </tbody>\n",
       "</table>\n",
       "</div>"
      ],
      "text/plain": [
       "          id  VENTAS_MES_ANTERIOR  POTTOT        CYG  COD_DEPTO  CPAM  \\\n",
       "0  212002612            1200000.0     1.0   420000.0          8     0   \n",
       "1  212005312            3600000.0     1.0  2690000.0          8     0   \n",
       "2  212017711            7000000.0     2.0  4919000.0          8     0   \n",
       "3  212020112                  0.0     1.0        0.0          8     0   \n",
       "4  212020612            9000000.0     1.0  7915000.0          8     0   \n",
       "\n",
       "   GRUPOS4  ANOS_ESPACIO  HOMBRE  Anomaly_Score    Group  CIIU_3         fex  \\\n",
       "0        3           1.0     1.0       0.014638   Normal  4722.0  182.474123   \n",
       "1        3           5.0     1.0       0.038989   Normal  4723.0   83.988234   \n",
       "2        2           5.0     1.0      -0.031211  Outlier  3830.0   27.296509   \n",
       "3        3           2.0     0.0       0.013575   Normal  4723.0   45.297531   \n",
       "4        3           5.0     0.0      -0.002637  Outlier  4723.0   30.029363   \n",
       "\n",
       "                                               P2760         VA       C_V  \\\n",
       "0                               b'CEDULA VENEZOLANA'   780000.0  0.350000   \n",
       "1                                                NaN   910000.0  0.747222   \n",
       "2                                                NaN  2081000.0  0.702714   \n",
       "3  b'NO DESARROLLO LA ACTIVIDAD EN EL MES DE REFE...        0.0  0.000000   \n",
       "4                                                NaN  1085000.0  0.879444   \n",
       "\n",
       "  k_words mencion  \n",
       "0      []   False  \n",
       "1     NaN     NaN  \n",
       "2     NaN     NaN  \n",
       "3      []   False  \n",
       "4     NaN     NaN  "
      ]
     },
     "execution_count": 38,
     "metadata": {},
     "output_type": "execute_result"
    }
   ],
   "source": [
    "iforest_res.head()"
   ]
  },
  {
   "cell_type": "code",
   "execution_count": 36,
   "metadata": {},
   "outputs": [
    {
     "data": {
      "text/plain": [
       "Normal     16030\n",
       "Outlier     1782\n",
       "Name: Group, dtype: int64"
      ]
     },
     "execution_count": 36,
     "metadata": {},
     "output_type": "execute_result"
    }
   ],
   "source": [
    "iforest_res['Group'].value_counts()"
   ]
  },
  {
   "cell_type": "code",
   "execution_count": 37,
   "metadata": {},
   "outputs": [],
   "source": [
    "atpcs_calle = pd.read_csv(r\"C:\\Users\\carlo\\Downloads\\atipicos_emicron_vcalle_iforest.csv\")"
   ]
  },
  {
   "cell_type": "code",
   "execution_count": 42,
   "metadata": {},
   "outputs": [
    {
     "data": {
      "text/plain": [
       "True     1707\n",
       "False      75\n",
       "Name: id, dtype: int64"
      ]
     },
     "execution_count": 42,
     "metadata": {},
     "output_type": "execute_result"
    }
   ],
   "source": [
    "(iforest_res['id'][iforest_res['Group']==\"Outlier\"].isin(atpcs_calle['id'][atpcs_calle['Group']=='Outlier'])).value_counts()"
   ]
  },
  {
   "cell_type": "code",
   "execution_count": 49,
   "metadata": {},
   "outputs": [
    {
     "data": {
      "text/plain": [
       "0.9579124579124579"
      ]
     },
     "execution_count": 49,
     "metadata": {},
     "output_type": "execute_result"
    }
   ],
   "source": [
    "1707 / 1782"
   ]
  }
 ],
 "metadata": {
  "kernelspec": {
   "display_name": "Python 3",
   "language": "python",
   "name": "python3"
  },
  "language_info": {
   "codemirror_mode": {
    "name": "ipython",
    "version": 3
   },
   "file_extension": ".py",
   "mimetype": "text/x-python",
   "name": "python",
   "nbconvert_exporter": "python",
   "pygments_lexer": "ipython3",
   "version": "3.10.5"
  }
 },
 "nbformat": 4,
 "nbformat_minor": 2
}
