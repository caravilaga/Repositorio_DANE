{
 "cells": [
  {
   "cell_type": "code",
   "execution_count": 253,
   "metadata": {},
   "outputs": [],
   "source": [
    "import pandas as pd\n",
    "import os\n",
    "import re\n",
    "import numpy as np\n",
    "import seaborn as sns\n",
    "import matplotlib.pyplot as plt\n",
    "from sklearn.ensemble import IsolationForest\n",
    "from sklearn.preprocessing import OneHotEncoder\n",
    "from sklearn.model_selection import GridSearchCV"
   ]
  },
  {
   "cell_type": "markdown",
   "metadata": {},
   "source": [
    "## 1. Lectura base de datos"
   ]
  },
  {
   "cell_type": "code",
   "execution_count": 254,
   "metadata": {},
   "outputs": [],
   "source": [
    "data_path = r\"D:\\DANE - Contrato\\2024\\Operativo Barrido\\Data\"\n",
    "emicron = pd.read_csv(os.path.join(data_path,\"EMICRON_VF.csv\"),header = 0)"
   ]
  },
  {
   "cell_type": "code",
   "execution_count": 255,
   "metadata": {},
   "outputs": [],
   "source": [
    "var_estab = ['id','VENTAS_MES_ANTERIOR','CYG','POTTOT','REMUNERACION_TOTAL','COD_DEPTO','CPAM','GRUPOS4','UBICA','IDRUT','CAMCOMER','REG_CONT','ANIOS_OPERACION'] \n",
    "\n",
    "var_mov = ['id','VENTAS_MES_ANTERIOR','POTTOT','CYG','COD_DEPTO','CPAM','GRUPOS4','ANOS_ESPACIO','HOMBRE']"
   ]
  },
  {
   "cell_type": "code",
   "execution_count": 256,
   "metadata": {},
   "outputs": [],
   "source": [
    "def descriptive_stat_threshold(df, pred_score, threshold, opcion = 1):\n",
    "    # Observemos cuántos 0 o 1 hay\n",
    "    if opcion == 1:    \n",
    "        df = pd.DataFrame(df)\n",
    "        df['Anomaly_Score'] = pred_score\n",
    "        df['Group'] = np.where(df['Anomaly_Score'] < threshold, 'Normal', 'Outlier')\n",
    "        # Ahora mostraremos las estadísticas resumen\n",
    "        cnt = df.groupby('Group')['Anomaly_Score'].count().reset_index().rename(columns = {'Anomaly_Score': 'Count'})\n",
    "        # Conto del conteo\n",
    "        cnt['Count %'] = (cnt['Count'] / cnt['Count'].sum()) * 100\n",
    "        # Promedio\n",
    "        stat = df.groupby('Group').mean().round(2).reset_index()\n",
    "        # Poniendo el conteo y el promedio juntos\n",
    "        stat = cnt.merge(stat, left_on = 'Group', right_on = 'Group')\n",
    "        return(stat)\n",
    "    else:\n",
    "        df = pd.DataFrame(df)\n",
    "        df['Anomaly_Score'] = pred_score\n",
    "        df['Group'] = np.where(df['Anomaly_Score'] < threshold, 'Outlier', 'Normal')\n",
    "        return(df)"
   ]
  },
  {
   "cell_type": "markdown",
   "metadata": {},
   "source": [
    "## 2. Operativo de barrido: establecimientos\n",
    "Se seleccionarán las unidades económicas de la base de datos que corresponden con viviendas con actividad económica y establecimientos fijos (locales, tienda,  talleres, etc.)  \n",
    "Por el momento se trabajará únicamente con el año 2022, debido a que la base de 2023 todavía no está completa (hace falta remuneración) "
   ]
  },
  {
   "cell_type": "code",
   "execution_count": 257,
   "metadata": {},
   "outputs": [
    {
     "data": {
      "text/plain": [
       "(24026, 13)"
      ]
     },
     "execution_count": 257,
     "metadata": {},
     "output_type": "execute_result"
    }
   ],
   "source": [
    "emicron_estab = emicron[emicron['UBICA']!= 4]\n",
    "emicron_estab = emicron_estab[emicron_estab['OLA']== 2022]\n",
    "emicron_estab = emicron_estab[var_estab]\n",
    "emicron_estab['UBICA'] = emicron_estab['UBICA'].astype(int)\n",
    "emicron_estab['REG_CONT'] = emicron_estab['REG_CONT'].astype(int)\n",
    "emicron_estab['IDRUT'] = emicron_estab['IDRUT'].astype(int)\n",
    "emicron_estab['CAMCOMER'] = emicron_estab['CAMCOMER'].astype(int)\n",
    "emicron_estab = emicron_estab.reset_index(drop=True)\n",
    "emicron_estab.shape"
   ]
  },
  {
   "cell_type": "markdown",
   "metadata": {},
   "source": [
    "#### One-hot encoding"
   ]
  },
  {
   "cell_type": "code",
   "execution_count": 258,
   "metadata": {},
   "outputs": [],
   "source": [
    "emicron_ohe = emicron_estab.copy()\n",
    "\n",
    "ohe_dpto = OneHotEncoder().fit(emicron_ohe[['COD_DEPTO']])\n",
    "drop_enc = ohe_dpto.transform(emicron_ohe[['COD_DEPTO']]).toarray()\n",
    "drop_enc_df = pd.DataFrame(drop_enc,columns = ohe_dpto.get_feature_names_out())\n",
    "\n",
    "\n",
    "emicron_ohe = emicron_ohe.join(drop_enc_df)\n",
    "\n",
    "ohe_ubi = OneHotEncoder().fit(emicron_ohe[['UBICA']])\n",
    "drop_enc = ohe_ubi.transform(emicron_ohe[['UBICA']]).toarray()\n",
    "drop_enc_df = pd.DataFrame(drop_enc,columns = ohe_ubi.get_feature_names_out())\n",
    "drop_enc_df.drop('UBICA_3', axis=1, inplace = True)  \n",
    "\n",
    "emicron_ohe = emicron_ohe.join(drop_enc_df)\n",
    "\n",
    "ohe_sector = OneHotEncoder().fit(emicron_ohe[['GRUPOS4']])\n",
    "drop_enc = ohe_sector.transform(emicron_ohe[['GRUPOS4']]).toarray()\n",
    "drop_enc_df = pd.DataFrame(drop_enc,columns = ohe_sector.get_feature_names_out())\n",
    "\n",
    "emicron_ohe = emicron_ohe.join(drop_enc_df)\n",
    "\n",
    "ohe_conta = OneHotEncoder().fit(emicron_ohe[['REG_CONT']])\n",
    "drop_enc = ohe_conta.transform(emicron_ohe[['REG_CONT']]).toarray()\n",
    "drop_enc_df = pd.DataFrame(drop_enc,columns = ohe_conta.get_feature_names_out())\n",
    "\n",
    "emicron_ohe = emicron_ohe.join(drop_enc_df)"
   ]
  },
  {
   "cell_type": "code",
   "execution_count": 259,
   "metadata": {},
   "outputs": [],
   "source": [
    "emicron_ohe.drop(['COD_DEPTO','UBICA','GRUPOS4','REG_CONT'],axis=1, inplace= True) \n",
    "emicron_ohe.set_index('id',inplace = True, drop = True)"
   ]
  },
  {
   "cell_type": "code",
   "execution_count": 260,
   "metadata": {},
   "outputs": [
    {
     "data": {
      "text/plain": [
       "(24026, 41)"
      ]
     },
     "execution_count": 260,
     "metadata": {},
     "output_type": "execute_result"
    }
   ],
   "source": [
    "emicron_ohe.shape"
   ]
  },
  {
   "cell_type": "code",
   "execution_count": 261,
   "metadata": {},
   "outputs": [
    {
     "name": "stderr",
     "output_type": "stream",
     "text": [
      "[Parallel(n_jobs=8)]: Using backend ThreadingBackend with 8 concurrent workers.\n",
      "[Parallel(n_jobs=8)]: Done   2 out of   8 | elapsed:    0.3s remaining:    1.0s\n",
      "[Parallel(n_jobs=8)]: Done   8 out of   8 | elapsed:    0.3s finished\n",
      "[Parallel(n_jobs=8)]: Using backend ThreadingBackend with 8 concurrent workers.\n",
      "[Parallel(n_jobs=8)]: Done   2 out of   8 | elapsed:    1.7s remaining:    5.4s\n",
      "[Parallel(n_jobs=8)]: Done   8 out of   8 | elapsed:    1.9s finished\n",
      "[Parallel(n_jobs=8)]: Using backend ThreadingBackend with 8 concurrent workers.\n",
      "[Parallel(n_jobs=8)]: Done   2 out of   8 | elapsed:    4.1s remaining:   12.4s\n",
      "[Parallel(n_jobs=8)]: Done   8 out of   8 | elapsed:    4.2s finished\n",
      "[Parallel(n_jobs=8)]: Using backend ThreadingBackend with 8 concurrent workers.\n",
      "[Parallel(n_jobs=8)]: Done   2 out of   8 | elapsed:    0.3s remaining:    1.1s\n",
      "[Parallel(n_jobs=8)]: Done   8 out of   8 | elapsed:    0.3s finished\n",
      "[Parallel(n_jobs=8)]: Using backend ThreadingBackend with 8 concurrent workers.\n",
      "[Parallel(n_jobs=8)]: Done   2 out of   8 | elapsed:    1.9s remaining:    6.0s\n",
      "[Parallel(n_jobs=8)]: Done   8 out of   8 | elapsed:    2.0s finished\n",
      "[Parallel(n_jobs=8)]: Using backend ThreadingBackend with 8 concurrent workers.\n",
      "[Parallel(n_jobs=8)]: Done   2 out of   8 | elapsed:    4.3s remaining:   13.0s\n",
      "[Parallel(n_jobs=8)]: Done   8 out of   8 | elapsed:    4.4s finished\n",
      "[Parallel(n_jobs=8)]: Using backend ThreadingBackend with 8 concurrent workers.\n",
      "[Parallel(n_jobs=8)]: Done   2 out of   8 | elapsed:    0.2s remaining:    0.8s\n",
      "[Parallel(n_jobs=8)]: Done   8 out of   8 | elapsed:    0.3s finished\n",
      "[Parallel(n_jobs=8)]: Using backend ThreadingBackend with 8 concurrent workers.\n",
      "[Parallel(n_jobs=8)]: Done   2 out of   8 | elapsed:    2.1s remaining:    6.4s\n",
      "[Parallel(n_jobs=8)]: Done   8 out of   8 | elapsed:    2.1s finished\n",
      "[Parallel(n_jobs=8)]: Using backend ThreadingBackend with 8 concurrent workers.\n",
      "[Parallel(n_jobs=8)]: Done   2 out of   8 | elapsed:    4.0s remaining:   12.3s\n",
      "[Parallel(n_jobs=8)]: Done   8 out of   8 | elapsed:    4.2s finished\n",
      "[Parallel(n_jobs=8)]: Using backend ThreadingBackend with 8 concurrent workers.\n",
      "[Parallel(n_jobs=8)]: Done   2 out of   8 | elapsed:    0.3s remaining:    1.0s\n",
      "[Parallel(n_jobs=8)]: Done   8 out of   8 | elapsed:    0.3s finished\n",
      "[Parallel(n_jobs=8)]: Using backend ThreadingBackend with 8 concurrent workers.\n",
      "[Parallel(n_jobs=8)]: Done   2 out of   8 | elapsed:    1.8s remaining:    5.7s\n",
      "[Parallel(n_jobs=8)]: Done   8 out of   8 | elapsed:    1.9s finished\n",
      "[Parallel(n_jobs=8)]: Using backend ThreadingBackend with 8 concurrent workers.\n",
      "[Parallel(n_jobs=8)]: Done   2 out of   8 | elapsed:    4.0s remaining:   12.1s\n",
      "[Parallel(n_jobs=8)]: Done   8 out of   8 | elapsed:    4.1s finished\n"
     ]
    }
   ],
   "source": [
    "# Parameters\n",
    "k_sam = [256, 500, 700, 1000]\n",
    "k_tree = [100,500,1000]\n",
    "\n",
    "#Almacenar los resultados\n",
    "iscores_mult = np.zeros([emicron_ohe.shape[0], (len(k_sam)*len(k_tree))])\n",
    "\n",
    "i = 0\n",
    "\n",
    "for sam in k_sam:\n",
    "    for n_tree in k_tree:\n",
    "        ifo = IsolationForest(random_state = 123,\n",
    "                              contamination=0.1,\n",
    "                              max_features= 25,\n",
    "                              verbose=1,\n",
    "                              n_jobs=-1,\n",
    "                              max_samples= sam,\n",
    "                              n_estimators= n_tree)\n",
    "        ifo.fit(emicron_ohe)\n",
    "        # Cálculo del puntaje de atipicidad promedio: valores más bajos representas mayor atipicidad\n",
    "        iscores_mult[:, i] = ifo.decision_function(emicron_ohe)\n",
    "        i +=1"
   ]
  },
  {
   "cell_type": "code",
   "execution_count": 262,
   "metadata": {},
   "outputs": [
    {
     "data": {
      "image/png": "[encoded data removed]",
      "text/plain": [
       "<Figure size 800x550 with 1 Axes>"
      ]
     },
     "metadata": {},
     "output_type": "display_data"
    }
   ],
   "source": [
    "# El promedio de las predicciones de los 10 puntajes están en y_by_average abajo. Se crea esto en un histograma\n",
    "# El resultado \"y_by_average\" es una columna:\n",
    "Y_by_average = np.mean(iscores_mult,axis=1)\n",
    "plt.hist(Y_by_average, bins = 'auto')\n",
    "#plt.xlim(4.2, 8)\n",
    "plt.title(\"Combinación por promedio\")\n",
    "plt.show()"
   ]
  },
  {
   "cell_type": "code",
   "execution_count": 263,
   "metadata": {},
   "outputs": [
    {
     "data": {
      "text/plain": [
       "0.000599718825754568"
      ]
     },
     "execution_count": 263,
     "metadata": {},
     "output_type": "execute_result"
    }
   ],
   "source": [
    "threshold = np.percentile(Y_by_average, 10)\n",
    "threshold"
   ]
  },
  {
   "cell_type": "code",
   "execution_count": 264,
   "metadata": {},
   "outputs": [],
   "source": [
    "iforest_res = descriptive_stat_threshold(emicron_estab, Y_by_average, threshold, 2)"
   ]
  },
  {
   "cell_type": "code",
   "execution_count": 265,
   "metadata": {},
   "outputs": [
    {
     "data": {
      "text/plain": [
       "Normal     21623\n",
       "Outlier     2403\n",
       "Name: Group, dtype: int64"
      ]
     },
     "execution_count": 265,
     "metadata": {},
     "output_type": "execute_result"
    }
   ],
   "source": [
    "iforest_res['Group'].value_counts()"
   ]
  },
  {
   "cell_type": "code",
   "execution_count": 266,
   "metadata": {},
   "outputs": [],
   "source": [
    "iforest_res.to_csv(os.path.join(data_path,\"atpcs_iforest_fijo.csv\"), index = False)"
   ]
  },
  {
   "cell_type": "markdown",
   "metadata": {},
   "source": [
    "## 3. Operativo de barrido: vendedores de calles\n",
    "Se seleccionarán las unidades económicas de la base de datos que corresponden con puestos móviles."
   ]
  },
  {
   "cell_type": "code",
   "execution_count": 267,
   "metadata": {},
   "outputs": [
    {
     "data": {
      "text/plain": [
       "(17812, 9)"
      ]
     },
     "execution_count": 267,
     "metadata": {},
     "output_type": "execute_result"
    }
   ],
   "source": [
    "emicron_mov = emicron[emicron['UBICA']== 4]\n",
    "emicron_mov = emicron_mov[var_mov]\n",
    "emicron_mov['CPAM'] = emicron_mov['CPAM'].astype(int)\n",
    "emicron_mov['COD_DEPTO'] = emicron_mov['COD_DEPTO'].astype(int)\n",
    "emicron_mov['GRUPOS4'] = emicron_mov['GRUPOS4'].astype(int)\n",
    "\n",
    "emicron_mov = emicron_mov.reset_index(drop=True)\n",
    "emicron_mov.shape"
   ]
  },
  {
   "cell_type": "code",
   "execution_count": 268,
   "metadata": {},
   "outputs": [
    {
     "name": "stdout",
     "output_type": "stream",
     "text": [
      "<class 'pandas.core.frame.DataFrame'>\n",
      "RangeIndex: 17812 entries, 0 to 17811\n",
      "Data columns (total 9 columns):\n",
      " #   Column               Non-Null Count  Dtype  \n",
      "---  ------               --------------  -----  \n",
      " 0   id                   17812 non-null  int64  \n",
      " 1   VENTAS_MES_ANTERIOR  17812 non-null  float64\n",
      " 2   POTTOT               17812 non-null  float64\n",
      " 3   CYG                  17812 non-null  float64\n",
      " 4   COD_DEPTO            17812 non-null  int32  \n",
      " 5   CPAM                 17812 non-null  int32  \n",
      " 6   GRUPOS4              17812 non-null  int32  \n",
      " 7   ANOS_ESPACIO         17812 non-null  float64\n",
      " 8   HOMBRE               17812 non-null  float64\n",
      "dtypes: float64(5), int32(3), int64(1)\n",
      "memory usage: 1.0 MB\n"
     ]
    }
   ],
   "source": [
    "emicron_mov.info()"
   ]
  },
  {
   "cell_type": "markdown",
   "metadata": {},
   "source": [
    "#### One-hot encoding"
   ]
  },
  {
   "cell_type": "code",
   "execution_count": 269,
   "metadata": {},
   "outputs": [],
   "source": [
    "emicron_ohe = emicron_mov.copy()\n",
    "\n",
    "ohe_dpto = OneHotEncoder().fit(emicron_ohe[['COD_DEPTO']])\n",
    "drop_enc = ohe_dpto.transform(emicron_ohe[['COD_DEPTO']]).toarray()\n",
    "drop_enc_df = pd.DataFrame(drop_enc,columns = ohe_dpto.get_feature_names_out())\n",
    "\n",
    "emicron_ohe = emicron_ohe.join(drop_enc_df)\n",
    "\n",
    "ohe_sector = OneHotEncoder().fit(emicron_ohe[['GRUPOS4']])\n",
    "drop_enc = ohe_sector.transform(emicron_ohe[['GRUPOS4']]).toarray()\n",
    "drop_enc_df = pd.DataFrame(drop_enc,columns = ohe_sector.get_feature_names_out())\n",
    "\n",
    "emicron_ohe = emicron_ohe.join(drop_enc_df)\n",
    "\n",
    "ohe_anio = OneHotEncoder().fit(emicron_ohe[['ANOS_ESPACIO']])\n",
    "drop_enc = ohe_anio.transform(emicron_ohe[['ANOS_ESPACIO']]).toarray()\n",
    "drop_enc_df = pd.DataFrame(drop_enc,columns = ohe_anio.get_feature_names_out())\n",
    "\n",
    "emicron_ohe = emicron_ohe.join(drop_enc_df)"
   ]
  },
  {
   "cell_type": "code",
   "execution_count": 270,
   "metadata": {},
   "outputs": [],
   "source": [
    "emicron_ohe.drop(['COD_DEPTO','GRUPOS4','ANOS_ESPACIO'],axis=1, inplace= True) \n",
    "emicron_ohe.set_index('id',inplace = True, drop = True)"
   ]
  },
  {
   "cell_type": "code",
   "execution_count": 271,
   "metadata": {},
   "outputs": [
    {
     "name": "stderr",
     "output_type": "stream",
     "text": [
      "[Parallel(n_jobs=8)]: Using backend ThreadingBackend with 8 concurrent workers.\n",
      "[Parallel(n_jobs=8)]: Done   2 out of   8 | elapsed:    0.4s remaining:    1.3s\n",
      "[Parallel(n_jobs=8)]: Done   8 out of   8 | elapsed:    0.4s finished\n",
      "[Parallel(n_jobs=8)]: Using backend ThreadingBackend with 8 concurrent workers.\n",
      "[Parallel(n_jobs=8)]: Done   2 out of   8 | elapsed:    0.8s remaining:    2.5s\n",
      "[Parallel(n_jobs=8)]: Done   8 out of   8 | elapsed:    0.8s finished\n",
      "[Parallel(n_jobs=8)]: Using backend ThreadingBackend with 8 concurrent workers.\n",
      "[Parallel(n_jobs=8)]: Done   2 out of   8 | elapsed:    1.8s remaining:    5.6s\n",
      "[Parallel(n_jobs=8)]: Done   8 out of   8 | elapsed:    1.9s finished\n",
      "[Parallel(n_jobs=8)]: Using backend ThreadingBackend with 8 concurrent workers.\n",
      "[Parallel(n_jobs=8)]: Done   2 out of   8 | elapsed:    3.7s remaining:   11.4s\n",
      "[Parallel(n_jobs=8)]: Done   8 out of   8 | elapsed:    3.9s finished\n",
      "[Parallel(n_jobs=8)]: Using backend ThreadingBackend with 8 concurrent workers.\n",
      "[Parallel(n_jobs=8)]: Done   2 out of   8 | elapsed:    0.3s remaining:    1.2s\n",
      "[Parallel(n_jobs=8)]: Done   8 out of   8 | elapsed:    0.4s finished\n",
      "[Parallel(n_jobs=8)]: Using backend ThreadingBackend with 8 concurrent workers.\n",
      "[Parallel(n_jobs=8)]: Done   2 out of   8 | elapsed:    0.8s remaining:    2.7s\n",
      "[Parallel(n_jobs=8)]: Done   8 out of   8 | elapsed:    0.9s finished\n",
      "[Parallel(n_jobs=8)]: Using backend ThreadingBackend with 8 concurrent workers.\n",
      "[Parallel(n_jobs=8)]: Done   2 out of   8 | elapsed:    1.7s remaining:    5.3s\n",
      "[Parallel(n_jobs=8)]: Done   8 out of   8 | elapsed:    1.8s finished\n",
      "[Parallel(n_jobs=8)]: Using backend ThreadingBackend with 8 concurrent workers.\n",
      "[Parallel(n_jobs=8)]: Done   2 out of   8 | elapsed:    3.4s remaining:   10.5s\n",
      "[Parallel(n_jobs=8)]: Done   8 out of   8 | elapsed:    3.5s finished\n",
      "[Parallel(n_jobs=8)]: Using backend ThreadingBackend with 8 concurrent workers.\n",
      "[Parallel(n_jobs=8)]: Done   2 out of   8 | elapsed:    0.3s remaining:    1.1s\n",
      "[Parallel(n_jobs=8)]: Done   8 out of   8 | elapsed:    0.3s finished\n",
      "[Parallel(n_jobs=8)]: Using backend ThreadingBackend with 8 concurrent workers.\n",
      "[Parallel(n_jobs=8)]: Done   2 out of   8 | elapsed:    0.8s remaining:    2.7s\n",
      "[Parallel(n_jobs=8)]: Done   8 out of   8 | elapsed:    0.9s finished\n",
      "[Parallel(n_jobs=8)]: Using backend ThreadingBackend with 8 concurrent workers.\n",
      "[Parallel(n_jobs=8)]: Done   2 out of   8 | elapsed:    1.7s remaining:    5.3s\n",
      "[Parallel(n_jobs=8)]: Done   8 out of   8 | elapsed:    1.8s finished\n",
      "[Parallel(n_jobs=8)]: Using backend ThreadingBackend with 8 concurrent workers.\n",
      "[Parallel(n_jobs=8)]: Done   2 out of   8 | elapsed:    3.8s remaining:   11.6s\n",
      "[Parallel(n_jobs=8)]: Done   8 out of   8 | elapsed:    3.9s finished\n",
      "[Parallel(n_jobs=8)]: Using backend ThreadingBackend with 8 concurrent workers.\n",
      "[Parallel(n_jobs=8)]: Done   2 out of   8 | elapsed:    0.3s remaining:    1.2s\n",
      "[Parallel(n_jobs=8)]: Done   8 out of   8 | elapsed:    0.4s finished\n",
      "[Parallel(n_jobs=8)]: Using backend ThreadingBackend with 8 concurrent workers.\n",
      "[Parallel(n_jobs=8)]: Done   2 out of   8 | elapsed:    0.9s remaining:    2.8s\n",
      "[Parallel(n_jobs=8)]: Done   8 out of   8 | elapsed:    0.9s finished\n",
      "[Parallel(n_jobs=8)]: Using backend ThreadingBackend with 8 concurrent workers.\n",
      "[Parallel(n_jobs=8)]: Done   2 out of   8 | elapsed:    1.9s remaining:    5.9s\n",
      "[Parallel(n_jobs=8)]: Done   8 out of   8 | elapsed:    2.0s finished\n",
      "[Parallel(n_jobs=8)]: Using backend ThreadingBackend with 8 concurrent workers.\n",
      "[Parallel(n_jobs=8)]: Done   2 out of   8 | elapsed:    3.9s remaining:   11.9s\n",
      "[Parallel(n_jobs=8)]: Done   8 out of   8 | elapsed:    4.0s finished\n"
     ]
    }
   ],
   "source": [
    "# Parameters\n",
    "k_sam = [256, 500, 800, 1000]\n",
    "k_tree = [100,250, 500,1000]\n",
    "\n",
    "#Almacenar los resultados\n",
    "iscores_mult = np.zeros([emicron_ohe.shape[0], (len(k_sam)*len(k_tree))])\n",
    "\n",
    "i = 0\n",
    "\n",
    "for sam in k_sam:\n",
    "    for n_tree in k_tree:\n",
    "        ifo = IsolationForest(random_state = 123,\n",
    "                              contamination=0.1,\n",
    "                              max_features= 34,\n",
    "                              verbose=1,\n",
    "                              n_jobs=-1,\n",
    "                              max_samples= sam,\n",
    "                              n_estimators= n_tree)\n",
    "        ifo.fit(emicron_ohe)\n",
    "        iscores_mult[:, i] = ifo.decision_function(emicron_ohe)\n",
    "        i +=1"
   ]
  },
  {
   "cell_type": "code",
   "execution_count": 272,
   "metadata": {},
   "outputs": [
    {
     "data": {
      "image/png": "[encoded data removed]",
      "text/plain": [
       "<Figure size 800x550 with 1 Axes>"
      ]
     },
     "metadata": {},
     "output_type": "display_data"
    }
   ],
   "source": [
    "# El promedio de las predicciones de los 10 puntajes están en y_by_average abajo. Se crea esto en un histograma\n",
    "# El resultado \"y_by_average\" es una columna:\n",
    "Y_by_average = np.mean(iscores_mult,axis=1)\n",
    "plt.hist(Y_by_average, bins = 'auto')\n",
    "#plt.xlim(4.2, 8)\n",
    "plt.title(\"Combinación por promedio\")\n",
    "plt.show()"
   ]
  },
  {
   "cell_type": "code",
   "execution_count": 273,
   "metadata": {},
   "outputs": [
    {
     "data": {
      "text/plain": [
       "-0.008095662975985934"
      ]
     },
     "execution_count": 273,
     "metadata": {},
     "output_type": "execute_result"
    }
   ],
   "source": [
    "threshold = np.percentile(Y_by_average, 5)\n",
    "threshold"
   ]
  },
  {
   "cell_type": "code",
   "execution_count": 274,
   "metadata": {},
   "outputs": [],
   "source": [
    "iforest_res = descriptive_stat_threshold(emicron_mov, Y_by_average, threshold, 2)"
   ]
  },
  {
   "cell_type": "code",
   "execution_count": 275,
   "metadata": {},
   "outputs": [
    {
     "data": {
      "text/plain": [
       "Normal     16921\n",
       "Outlier      891\n",
       "Name: Group, dtype: int64"
      ]
     },
     "execution_count": 275,
     "metadata": {},
     "output_type": "execute_result"
    }
   ],
   "source": [
    "iforest_res['Group'].value_counts()"
   ]
  },
  {
   "cell_type": "code",
   "execution_count": 276,
   "metadata": {},
   "outputs": [],
   "source": [
    "iforest_res.to_csv(os.path.join(data_path,\"atpcs_iforest_vencalle.csv\"), index = False)"
   ]
  }
 ],
 "metadata": {
  "kernelspec": {
   "display_name": "Python 3",
   "language": "python",
   "name": "python3"
  },
  "language_info": {
   "codemirror_mode": {
    "name": "ipython",
    "version": 3
   },
   "file_extension": ".py",
   "mimetype": "text/x-python",
   "name": "python",
   "nbconvert_exporter": "python",
   "pygments_lexer": "ipython3",
   "version": "3.10.5"
  }
 },
 "nbformat": 4,
 "nbformat_minor": 2
}
