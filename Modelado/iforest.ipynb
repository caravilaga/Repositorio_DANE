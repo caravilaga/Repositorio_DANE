{
 "cells": [
  {
   "cell_type": "code",
   "execution_count": 2,
   "metadata": {},
   "outputs": [],
   "source": [
    "import pandas as pd\n",
    "import re\n",
    "import numpy as np\n",
    "import seaborn as sns\n",
    "import matplotlib.pyplot as plt\n",
    "from sklearn.ensemble import IsolationForest\n",
    "from sklearn.preprocessing import OneHotEncoder\n",
    "from sklearn.model_selection import GridSearchCV"
   ]
  },
  {
   "cell_type": "markdown",
   "metadata": {},
   "source": [
    "## 1. Lectura información"
   ]
  },
  {
   "cell_type": "code",
   "execution_count": 3,
   "metadata": {},
   "outputs": [
    {
     "name": "stderr",
     "output_type": "stream",
     "text": [
      "C:\\Users\\carlo\\AppData\\Local\\Temp\\ipykernel_53424\\2395971023.py:2: DtypeWarning: Columns (59,60,102,104,106,119,132,133,134,135,136,137,140,141,143,157,363,377,388,393,401,420,485,502,503,506,524,525) have mixed types. Specify dtype option on import or set low_memory=False.\n",
      "  emicron = pd.read_csv(data_path + \"\\EMICRON_VF.csv\",header = 0)\n"
     ]
    }
   ],
   "source": [
    "data_path = r\"D:\\DANE - Contrato\\2024\\Operativo Barrido\\Data\"\n",
    "emicron = pd.read_csv(data_path + \"\\EMICRON_VF.csv\",header = 0)"
   ]
  },
  {
   "cell_type": "code",
   "execution_count": 4,
   "metadata": {},
   "outputs": [],
   "source": [
    "var_estab = ['id','VENTAS_MES_ANTERIOR','CYG','POTTOT','REMUNERACION_TOTAL','COD_DEPTO','CPAM','GRUPOS4','UBICA','IDRUT','CAMCOMER','REG_CONT','ANIOS_OPERACION'] \n",
    "\n",
    "var_mov = ['id','VENTAS_MES_ANTERIOR','POTTOT','CYG','COD_DEPTO','CPAM','GRUPOS4','ANOS_ESPACIO','HOMBRE']\n",
    "\n",
    "var_gral = ['id','CIIU_3','fex','P2760','VA','C_V','k_words','mencion']"
   ]
  },
  {
   "cell_type": "code",
   "execution_count": 6,
   "metadata": {},
   "outputs": [],
   "source": [
    "def descriptive_stat_threshold(df, pred_score, threshold, opcion = 1):\n",
    "    # Observemos cuántos 0 o 1 hay\n",
    "    if opcion == 1:    \n",
    "        df = pd.DataFrame(df)\n",
    "        df['Anomaly_Score'] = pred_score\n",
    "        df['Group'] = np.where(df['Anomaly_Score'] < threshold, 'Normal', 'Outlier')\n",
    "        # Ahora mostraremos las estadísticas resumen\n",
    "        cnt = df.groupby('Group')['Anomaly_Score'].count().reset_index().rename(columns = {'Anomaly_Score': 'Count'})\n",
    "        # Conto del conteo\n",
    "        cnt['Count %'] = (cnt['Count'] / cnt['Count'].sum()) * 100\n",
    "        # Promedio\n",
    "        stat = df.groupby('Group').mean().round(2).reset_index()\n",
    "        # Poniendo el conteo y el promedio juntos\n",
    "        stat = cnt.merge(stat, left_on = 'Group', right_on = 'Group')\n",
    "        return(stat)\n",
    "    else:\n",
    "        df = pd.DataFrame(df)\n",
    "        df['Anomaly_Score'] = pred_score\n",
    "        df['Group'] = np.where(df['Anomaly_Score'] < threshold, 'Outlier', 'Normal')\n",
    "        return(df)"
   ]
  },
  {
   "cell_type": "markdown",
   "metadata": {},
   "source": [
    "## 2. Operativo de barrido: establecimientos\n",
    "Se seleccionarán las unidades económicas de la base de datos que corresponden con viviendas con actividad económica y establecimientos fijos (locales, tienda,  talleres, etc.)  \n",
    "Por el momento se trabajará únicamente con el año 2022, debido a que la base de 2023 todavía no está completa (hace falta remuneración) "
   ]
  },
  {
   "cell_type": "code",
   "execution_count": 7,
   "metadata": {},
   "outputs": [
    {
     "data": {
      "text/plain": [
       "(24026, 13)"
      ]
     },
     "execution_count": 7,
     "metadata": {},
     "output_type": "execute_result"
    }
   ],
   "source": [
    "emicron_estab = emicron[emicron['UBICA']!= 4]\n",
    "emicron_estab = emicron_estab[emicron_estab['OLA']== 2022]\n",
    "emicron_estab = emicron_estab[var_estab]\n",
    "emicron_estab['UBICA'] = emicron_estab['UBICA'].astype(int)\n",
    "emicron_estab['REG_CONT'] = emicron_estab['REG_CONT'].astype(int)\n",
    "emicron_estab['IDRUT'] = emicron_estab['IDRUT'].astype(int)\n",
    "emicron_estab['CAMCOMER'] = emicron_estab['CAMCOMER'].astype(int)\n",
    "emicron_estab = emicron_estab.reset_index(drop=True)\n",
    "emicron_estab.shape"
   ]
  },
  {
   "cell_type": "markdown",
   "metadata": {},
   "source": [
    "#### One-hot encoding"
   ]
  },
  {
   "cell_type": "code",
   "execution_count": 8,
   "metadata": {},
   "outputs": [],
   "source": [
    "emicron_ohe = emicron_estab.copy()\n",
    "\n",
    "ohe_dpto = OneHotEncoder().fit(emicron_ohe[['COD_DEPTO']])\n",
    "drop_enc = ohe_dpto.transform(emicron_ohe[['COD_DEPTO']]).toarray()\n",
    "drop_enc_df = pd.DataFrame(drop_enc,columns = ohe_dpto.get_feature_names_out())\n",
    "\n",
    "\n",
    "emicron_ohe = emicron_ohe.join(drop_enc_df)\n",
    "\n",
    "ohe_ubi = OneHotEncoder().fit(emicron_ohe[['UBICA']])\n",
    "drop_enc = ohe_ubi.transform(emicron_ohe[['UBICA']]).toarray()\n",
    "drop_enc_df = pd.DataFrame(drop_enc,columns = ohe_ubi.get_feature_names_out())\n",
    "drop_enc_df.drop('UBICA_3', axis=1, inplace = True)  \n",
    "\n",
    "emicron_ohe = emicron_ohe.join(drop_enc_df)\n",
    "\n",
    "ohe_sector = OneHotEncoder().fit(emicron_ohe[['GRUPOS4']])\n",
    "drop_enc = ohe_sector.transform(emicron_ohe[['GRUPOS4']]).toarray()\n",
    "drop_enc_df = pd.DataFrame(drop_enc,columns = ohe_sector.get_feature_names_out())\n",
    "\n",
    "emicron_ohe = emicron_ohe.join(drop_enc_df)\n",
    "\n",
    "ohe_conta = OneHotEncoder().fit(emicron_ohe[['REG_CONT']])\n",
    "drop_enc = ohe_conta.transform(emicron_ohe[['REG_CONT']]).toarray()\n",
    "drop_enc_df = pd.DataFrame(drop_enc,columns = ohe_conta.get_feature_names_out())\n",
    "\n",
    "emicron_ohe = emicron_ohe.join(drop_enc_df)"
   ]
  },
  {
   "cell_type": "code",
   "execution_count": 9,
   "metadata": {},
   "outputs": [],
   "source": [
    "emicron_ohe.drop(['COD_DEPTO','UBICA','GRUPOS4','REG_CONT'],axis=1, inplace= True) \n",
    "emicron_ohe.set_index('id',inplace = True, drop = True)"
   ]
  },
  {
   "cell_type": "code",
   "execution_count": 10,
   "metadata": {},
   "outputs": [
    {
     "data": {
      "text/plain": [
       "(24026, 41)"
      ]
     },
     "execution_count": 10,
     "metadata": {},
     "output_type": "execute_result"
    }
   ],
   "source": [
    "emicron_ohe.shape"
   ]
  },
  {
   "cell_type": "code",
   "execution_count": 11,
   "metadata": {},
   "outputs": [
    {
     "name": "stderr",
     "output_type": "stream",
     "text": [
      "[Parallel(n_jobs=8)]: Using backend ThreadingBackend with 8 concurrent workers.\n",
      "[Parallel(n_jobs=8)]: Done   2 out of   8 | elapsed:    0.3s remaining:    1.0s\n",
      "[Parallel(n_jobs=8)]: Done   8 out of   8 | elapsed:    0.3s finished\n",
      "[Parallel(n_jobs=8)]: Using backend ThreadingBackend with 8 concurrent workers.\n",
      "[Parallel(n_jobs=8)]: Done   2 out of   8 | elapsed:    0.8s remaining:    2.6s\n",
      "[Parallel(n_jobs=8)]: Done   8 out of   8 | elapsed:    0.8s finished\n",
      "[Parallel(n_jobs=8)]: Using backend ThreadingBackend with 8 concurrent workers.\n",
      "[Parallel(n_jobs=8)]: Done   2 out of   8 | elapsed:    2.2s remaining:    6.9s\n",
      "[Parallel(n_jobs=8)]: Done   8 out of   8 | elapsed:    2.4s finished\n",
      "[Parallel(n_jobs=8)]: Using backend ThreadingBackend with 8 concurrent workers.\n",
      "[Parallel(n_jobs=8)]: Done   2 out of   8 | elapsed:    3.3s remaining:   10.0s\n",
      "[Parallel(n_jobs=8)]: Done   8 out of   8 | elapsed:    3.4s finished\n",
      "[Parallel(n_jobs=8)]: Using backend ThreadingBackend with 8 concurrent workers.\n",
      "[Parallel(n_jobs=8)]: Done   2 out of   8 | elapsed:    0.2s remaining:    0.7s\n",
      "[Parallel(n_jobs=8)]: Done   8 out of   8 | elapsed:    0.2s finished\n",
      "[Parallel(n_jobs=8)]: Using backend ThreadingBackend with 8 concurrent workers.\n",
      "[Parallel(n_jobs=8)]: Done   2 out of   8 | elapsed:    0.5s remaining:    1.8s\n",
      "[Parallel(n_jobs=8)]: Done   8 out of   8 | elapsed:    0.6s finished\n",
      "[Parallel(n_jobs=8)]: Using backend ThreadingBackend with 8 concurrent workers.\n",
      "[Parallel(n_jobs=8)]: Done   2 out of   8 | elapsed:    1.4s remaining:    4.5s\n",
      "[Parallel(n_jobs=8)]: Done   8 out of   8 | elapsed:    1.5s finished\n",
      "[Parallel(n_jobs=8)]: Using backend ThreadingBackend with 8 concurrent workers.\n",
      "[Parallel(n_jobs=8)]: Done   2 out of   8 | elapsed:    3.2s remaining:    9.7s\n",
      "[Parallel(n_jobs=8)]: Done   8 out of   8 | elapsed:    3.2s finished\n",
      "[Parallel(n_jobs=8)]: Using backend ThreadingBackend with 8 concurrent workers.\n",
      "[Parallel(n_jobs=8)]: Done   2 out of   8 | elapsed:    0.2s remaining:    0.7s\n",
      "[Parallel(n_jobs=8)]: Done   8 out of   8 | elapsed:    0.2s finished\n",
      "[Parallel(n_jobs=8)]: Using backend ThreadingBackend with 8 concurrent workers.\n",
      "[Parallel(n_jobs=8)]: Done   2 out of   8 | elapsed:    0.7s remaining:    2.3s\n",
      "[Parallel(n_jobs=8)]: Done   8 out of   8 | elapsed:    0.8s finished\n",
      "[Parallel(n_jobs=8)]: Using backend ThreadingBackend with 8 concurrent workers.\n",
      "[Parallel(n_jobs=8)]: Done   2 out of   8 | elapsed:    1.4s remaining:    4.4s\n",
      "[Parallel(n_jobs=8)]: Done   8 out of   8 | elapsed:    1.5s finished\n",
      "[Parallel(n_jobs=8)]: Using backend ThreadingBackend with 8 concurrent workers.\n",
      "[Parallel(n_jobs=8)]: Done   2 out of   8 | elapsed:    3.6s remaining:   10.9s\n",
      "[Parallel(n_jobs=8)]: Done   8 out of   8 | elapsed:    3.6s finished\n",
      "[Parallel(n_jobs=8)]: Using backend ThreadingBackend with 8 concurrent workers.\n",
      "[Parallel(n_jobs=8)]: Done   2 out of   8 | elapsed:    0.3s remaining:    1.1s\n",
      "[Parallel(n_jobs=8)]: Done   8 out of   8 | elapsed:    0.3s finished\n",
      "[Parallel(n_jobs=8)]: Using backend ThreadingBackend with 8 concurrent workers.\n",
      "[Parallel(n_jobs=8)]: Done   2 out of   8 | elapsed:    0.5s remaining:    1.6s\n",
      "[Parallel(n_jobs=8)]: Done   8 out of   8 | elapsed:    0.5s finished\n",
      "[Parallel(n_jobs=8)]: Using backend ThreadingBackend with 8 concurrent workers.\n",
      "[Parallel(n_jobs=8)]: Done   2 out of   8 | elapsed:    1.8s remaining:    5.7s\n",
      "[Parallel(n_jobs=8)]: Done   8 out of   8 | elapsed:    1.9s finished\n",
      "[Parallel(n_jobs=8)]: Using backend ThreadingBackend with 8 concurrent workers.\n",
      "[Parallel(n_jobs=8)]: Done   2 out of   8 | elapsed:    3.3s remaining:   10.0s\n",
      "[Parallel(n_jobs=8)]: Done   8 out of   8 | elapsed:    3.3s finished\n"
     ]
    }
   ],
   "source": [
    "# Parameters\n",
    "k_sam = [256, 500, 700, 1000]\n",
    "k_tree = [100,200,500,1000]\n",
    "\n",
    "#Almacenar los resultados\n",
    "iscores_mult = np.zeros([emicron_ohe.shape[0], (len(k_sam)*len(k_tree))])\n",
    "\n",
    "i = 0\n",
    "\n",
    "for sam in k_sam:\n",
    "    for n_tree in k_tree:\n",
    "        ifo = IsolationForest(random_state = 123,\n",
    "                              contamination=0.1,\n",
    "                              max_features= 25,\n",
    "                              verbose=1,\n",
    "                              n_jobs=-1,\n",
    "                              max_samples= sam,\n",
    "                              n_estimators= n_tree)\n",
    "        ifo.fit(emicron_ohe)\n",
    "        # Cálculo del puntaje de atipicidad promedio: valores más bajos representas mayor atipicidad\n",
    "        iscores_mult[:, i] = ifo.decision_function(emicron_ohe)\n",
    "        i +=1"
   ]
  },
  {
   "cell_type": "code",
   "execution_count": 12,
   "metadata": {},
   "outputs": [
    {
     "data": {
      "image/png": "[encoded data removed]",
      "text/plain": [
       "<Figure size 640x480 with 1 Axes>"
      ]
     },
     "metadata": {},
     "output_type": "display_data"
    }
   ],
   "source": [
    "# El promedio de las predicciones de los 10 puntajes están en y_by_average abajo. Se crea esto en un histograma\n",
    "# El resultado \"y_by_average\" es una columna:\n",
    "Y_by_average = np.mean(iscores_mult,axis=1)\n",
    "plt.hist(Y_by_average, bins = 'auto')\n",
    "#plt.xlim(4.2, 8)\n",
    "plt.title(\"Combinación por promedio\")\n",
    "plt.show()"
   ]
  },
  {
   "cell_type": "code",
   "execution_count": 13,
   "metadata": {},
   "outputs": [
    {
     "data": {
      "text/plain": [
       "0.0005809370222526859"
      ]
     },
     "execution_count": 13,
     "metadata": {},
     "output_type": "execute_result"
    }
   ],
   "source": [
    "threshold = np.percentile(Y_by_average, 10)\n",
    "threshold"
   ]
  },
  {
   "cell_type": "code",
   "execution_count": 20,
   "metadata": {},
   "outputs": [],
   "source": [
    "iforest_res = descriptive_stat_threshold(emicron_estab, Y_by_average, threshold, 2)"
   ]
  },
  {
   "cell_type": "code",
   "execution_count": 22,
   "metadata": {},
   "outputs": [
    {
     "data": {
      "text/plain": [
       "(24026, 22)"
      ]
     },
     "execution_count": 22,
     "metadata": {},
     "output_type": "execute_result"
    }
   ],
   "source": [
    "iforest_res = pd.merge(iforest_res,emicron[var_gral], on = 'id', how = 'left')\n",
    "iforest_res.shape"
   ]
  },
  {
   "cell_type": "code",
   "execution_count": 23,
   "metadata": {},
   "outputs": [
    {
     "data": {
      "text/html": [
       "<div>\n",
       "<style scoped>\n",
       "    .dataframe tbody tr th:only-of-type {\n",
       "        vertical-align: middle;\n",
       "    }\n",
       "\n",
       "    .dataframe tbody tr th {\n",
       "        vertical-align: top;\n",
       "    }\n",
       "\n",
       "    .dataframe thead th {\n",
       "        text-align: right;\n",
       "    }\n",
       "</style>\n",
       "<table border=\"1\" class=\"dataframe\">\n",
       "  <thead>\n",
       "    <tr style=\"text-align: right;\">\n",
       "      <th></th>\n",
       "      <th>id</th>\n",
       "      <th>VENTAS_MES_ANTERIOR</th>\n",
       "      <th>CYG</th>\n",
       "      <th>POTTOT</th>\n",
       "      <th>REMUNERACION_TOTAL</th>\n",
       "      <th>COD_DEPTO</th>\n",
       "      <th>CPAM</th>\n",
       "      <th>GRUPOS4</th>\n",
       "      <th>UBICA</th>\n",
       "      <th>IDRUT</th>\n",
       "      <th>...</th>\n",
       "      <th>ANIOS_OPERACION</th>\n",
       "      <th>Anomaly_Score</th>\n",
       "      <th>Group</th>\n",
       "      <th>CIIU_3</th>\n",
       "      <th>fex</th>\n",
       "      <th>P2760</th>\n",
       "      <th>VA</th>\n",
       "      <th>C_V</th>\n",
       "      <th>k_words</th>\n",
       "      <th>mencion</th>\n",
       "    </tr>\n",
       "  </thead>\n",
       "  <tbody>\n",
       "    <tr>\n",
       "      <th>0</th>\n",
       "      <td>212002411</td>\n",
       "      <td>2000000.0</td>\n",
       "      <td>1110000.0</td>\n",
       "      <td>1.0</td>\n",
       "      <td>0.0</td>\n",
       "      <td>8</td>\n",
       "      <td>0</td>\n",
       "      <td>4</td>\n",
       "      <td>1</td>\n",
       "      <td>0</td>\n",
       "      <td>...</td>\n",
       "      <td>0.0</td>\n",
       "      <td>0.032510</td>\n",
       "      <td>Normal</td>\n",
       "      <td>5611.0</td>\n",
       "      <td>122.952097</td>\n",
       "      <td>b'SE TOMA PUNTO DE GEORREFERENCIACION LUGAR DE...</td>\n",
       "      <td>890000.0</td>\n",
       "      <td>0.555000</td>\n",
       "      <td>[]</td>\n",
       "      <td>False</td>\n",
       "    </tr>\n",
       "    <tr>\n",
       "      <th>1</th>\n",
       "      <td>212003711</td>\n",
       "      <td>1950000.0</td>\n",
       "      <td>1152000.0</td>\n",
       "      <td>1.0</td>\n",
       "      <td>0.0</td>\n",
       "      <td>8</td>\n",
       "      <td>0</td>\n",
       "      <td>4</td>\n",
       "      <td>3</td>\n",
       "      <td>0</td>\n",
       "      <td>...</td>\n",
       "      <td>9.0</td>\n",
       "      <td>0.046885</td>\n",
       "      <td>Normal</td>\n",
       "      <td>5613.0</td>\n",
       "      <td>132.915712</td>\n",
       "      <td>NaN</td>\n",
       "      <td>798000.0</td>\n",
       "      <td>0.590769</td>\n",
       "      <td>NaN</td>\n",
       "      <td>NaN</td>\n",
       "    </tr>\n",
       "    <tr>\n",
       "      <th>2</th>\n",
       "      <td>212003812</td>\n",
       "      <td>5600000.0</td>\n",
       "      <td>4200000.0</td>\n",
       "      <td>2.0</td>\n",
       "      <td>400000.0</td>\n",
       "      <td>8</td>\n",
       "      <td>0</td>\n",
       "      <td>4</td>\n",
       "      <td>3</td>\n",
       "      <td>0</td>\n",
       "      <td>...</td>\n",
       "      <td>5.0</td>\n",
       "      <td>0.022973</td>\n",
       "      <td>Normal</td>\n",
       "      <td>5611.0</td>\n",
       "      <td>124.146742</td>\n",
       "      <td>b'NO SUMINISTRO NUMERO DE CEDULA'</td>\n",
       "      <td>1400000.0</td>\n",
       "      <td>0.750000</td>\n",
       "      <td>[]</td>\n",
       "      <td>False</td>\n",
       "    </tr>\n",
       "    <tr>\n",
       "      <th>3</th>\n",
       "      <td>212005411</td>\n",
       "      <td>0.0</td>\n",
       "      <td>0.0</td>\n",
       "      <td>1.0</td>\n",
       "      <td>0.0</td>\n",
       "      <td>8</td>\n",
       "      <td>0</td>\n",
       "      <td>4</td>\n",
       "      <td>3</td>\n",
       "      <td>0</td>\n",
       "      <td>...</td>\n",
       "      <td>6.0</td>\n",
       "      <td>0.038343</td>\n",
       "      <td>Normal</td>\n",
       "      <td>5611.0</td>\n",
       "      <td>148.309512</td>\n",
       "      <td>b'SUSPENDIO LA ACTIVIDAD PORQUE NO TENIA CAPIT...</td>\n",
       "      <td>0.0</td>\n",
       "      <td>0.000000</td>\n",
       "      <td>['insumos']</td>\n",
       "      <td>True</td>\n",
       "    </tr>\n",
       "    <tr>\n",
       "      <th>4</th>\n",
       "      <td>212007611</td>\n",
       "      <td>2940000.0</td>\n",
       "      <td>2090000.0</td>\n",
       "      <td>2.0</td>\n",
       "      <td>0.0</td>\n",
       "      <td>8</td>\n",
       "      <td>0</td>\n",
       "      <td>3</td>\n",
       "      <td>3</td>\n",
       "      <td>0</td>\n",
       "      <td>...</td>\n",
       "      <td>0.0</td>\n",
       "      <td>0.038606</td>\n",
       "      <td>Normal</td>\n",
       "      <td>4711.0</td>\n",
       "      <td>29.368199</td>\n",
       "      <td>b'LOS COSTOS QUE ASUMIO EN EL 2021 FUE MENOS P...</td>\n",
       "      <td>850000.0</td>\n",
       "      <td>0.710884</td>\n",
       "      <td>['costo']</td>\n",
       "      <td>True</td>\n",
       "    </tr>\n",
       "  </tbody>\n",
       "</table>\n",
       "<p>5 rows × 22 columns</p>\n",
       "</div>"
      ],
      "text/plain": [
       "          id  VENTAS_MES_ANTERIOR        CYG  POTTOT  REMUNERACION_TOTAL  \\\n",
       "0  212002411            2000000.0  1110000.0     1.0                 0.0   \n",
       "1  212003711            1950000.0  1152000.0     1.0                 0.0   \n",
       "2  212003812            5600000.0  4200000.0     2.0            400000.0   \n",
       "3  212005411                  0.0        0.0     1.0                 0.0   \n",
       "4  212007611            2940000.0  2090000.0     2.0                 0.0   \n",
       "\n",
       "   COD_DEPTO  CPAM  GRUPOS4  UBICA  IDRUT  ...  ANIOS_OPERACION  \\\n",
       "0          8     0        4      1      0  ...              0.0   \n",
       "1          8     0        4      3      0  ...              9.0   \n",
       "2          8     0        4      3      0  ...              5.0   \n",
       "3          8     0        4      3      0  ...              6.0   \n",
       "4          8     0        3      3      0  ...              0.0   \n",
       "\n",
       "   Anomaly_Score   Group  CIIU_3         fex  \\\n",
       "0       0.032510  Normal  5611.0  122.952097   \n",
       "1       0.046885  Normal  5613.0  132.915712   \n",
       "2       0.022973  Normal  5611.0  124.146742   \n",
       "3       0.038343  Normal  5611.0  148.309512   \n",
       "4       0.038606  Normal  4711.0   29.368199   \n",
       "\n",
       "                                               P2760         VA       C_V  \\\n",
       "0  b'SE TOMA PUNTO DE GEORREFERENCIACION LUGAR DE...   890000.0  0.555000   \n",
       "1                                                NaN   798000.0  0.590769   \n",
       "2                  b'NO SUMINISTRO NUMERO DE CEDULA'  1400000.0  0.750000   \n",
       "3  b'SUSPENDIO LA ACTIVIDAD PORQUE NO TENIA CAPIT...        0.0  0.000000   \n",
       "4  b'LOS COSTOS QUE ASUMIO EN EL 2021 FUE MENOS P...   850000.0  0.710884   \n",
       "\n",
       "       k_words  mencion  \n",
       "0           []    False  \n",
       "1          NaN      NaN  \n",
       "2           []    False  \n",
       "3  ['insumos']     True  \n",
       "4    ['costo']     True  \n",
       "\n",
       "[5 rows x 22 columns]"
      ]
     },
     "execution_count": 23,
     "metadata": {},
     "output_type": "execute_result"
    }
   ],
   "source": [
    "iforest_res.head()"
   ]
  },
  {
   "cell_type": "code",
   "execution_count": 24,
   "metadata": {},
   "outputs": [],
   "source": [
    "iforest_res.to_csv(data_path + r\"\\atipicos_emicron_fijo_iforest.csv\", index = False)"
   ]
  },
  {
   "cell_type": "markdown",
   "metadata": {},
   "source": [
    "## 3. Operativo de barrido: vendedores de calles\n",
    "Se seleccionarán las unidades económicas de la base de datos que corresponden con puestos móviles."
   ]
  },
  {
   "cell_type": "code",
   "execution_count": 5,
   "metadata": {},
   "outputs": [
    {
     "data": {
      "text/plain": [
       "(17812, 9)"
      ]
     },
     "execution_count": 5,
     "metadata": {},
     "output_type": "execute_result"
    }
   ],
   "source": [
    "emicron_mov = emicron[emicron['UBICA']== 4]\n",
    "emicron_mov = emicron_mov[var_mov]\n",
    "emicron_mov['CPAM'] = emicron_mov['CPAM'].astype(int)\n",
    "emicron_mov['COD_DEPTO'] = emicron_mov['COD_DEPTO'].astype(int)\n",
    "emicron_mov['GRUPOS4'] = emicron_mov['GRUPOS4'].astype(int)\n",
    "\n",
    "emicron_mov = emicron_mov.reset_index(drop=True)\n",
    "emicron_mov.shape"
   ]
  },
  {
   "cell_type": "code",
   "execution_count": 47,
   "metadata": {},
   "outputs": [
    {
     "data": {
      "text/plain": [
       "574"
      ]
     },
     "execution_count": 47,
     "metadata": {},
     "output_type": "execute_result"
    }
   ],
   "source": [
    "len(emicron_mov.loc[(emicron_mov == 99).any(axis=1),'id'])"
   ]
  },
  {
   "cell_type": "code",
   "execution_count": 46,
   "metadata": {},
   "outputs": [
    {
     "data": {
      "text/plain": [
       "2023    574\n",
       "Name: OLA, dtype: int64"
      ]
     },
     "execution_count": 46,
     "metadata": {},
     "output_type": "execute_result"
    }
   ],
   "source": [
    "emicron[emicron['id'].isin(emicron_mov.loc[(emicron_mov == 99).any(axis=1),'id'])]['OLA'].value_counts()"
   ]
  },
  {
   "cell_type": "code",
   "execution_count": 52,
   "metadata": {},
   "outputs": [
    {
     "data": {
      "text/plain": [
       "2022    9165\n",
       "2023    8647\n",
       "Name: OLA, dtype: int64"
      ]
     },
     "execution_count": 52,
     "metadata": {},
     "output_type": "execute_result"
    }
   ],
   "source": [
    "emicron['OLA'][emicron['UBICA']==4].value_counts()"
   ]
  },
  {
   "cell_type": "code",
   "execution_count": null,
   "metadata": {},
   "outputs": [
    {
     "name": "stdout",
     "output_type": "stream",
     "text": [
      "<class 'pandas.core.frame.DataFrame'>\n",
      "RangeIndex: 17812 entries, 0 to 17811\n",
      "Data columns (total 9 columns):\n",
      " #   Column               Non-Null Count  Dtype  \n",
      "---  ------               --------------  -----  \n",
      " 0   id                   17812 non-null  int64  \n",
      " 1   VENTAS_MES_ANTERIOR  17812 non-null  float64\n",
      " 2   POTTOT               17812 non-null  float64\n",
      " 3   CYG                  17812 non-null  float64\n",
      " 4   COD_DEPTO            17812 non-null  int32  \n",
      " 5   CPAM                 17812 non-null  int32  \n",
      " 6   GRUPOS4              17812 non-null  int32  \n",
      " 7   ANOS_ESPACIO         17812 non-null  float64\n",
      " 8   HOMBRE               17812 non-null  float64\n",
      "dtypes: float64(5), int32(3), int64(1)\n",
      "memory usage: 1.0 MB\n"
     ]
    }
   ],
   "source": []
  },
  {
   "cell_type": "markdown",
   "metadata": {},
   "source": [
    "#### One-hot encoding"
   ]
  },
  {
   "cell_type": "code",
   "execution_count": null,
   "metadata": {},
   "outputs": [],
   "source": [
    "emicron_ohe = emicron_mov.copy()\n",
    "\n",
    "ohe_dpto = OneHotEncoder().fit(emicron_ohe[['COD_DEPTO']])\n",
    "drop_enc = ohe_dpto.transform(emicron_ohe[['COD_DEPTO']]).toarray()\n",
    "drop_enc_df = pd.DataFrame(drop_enc,columns = ohe_dpto.get_feature_names_out())\n",
    "\n",
    "emicron_ohe = emicron_ohe.join(drop_enc_df)\n",
    "\n",
    "ohe_sector = OneHotEncoder().fit(emicron_ohe[['GRUPOS4']])\n",
    "drop_enc = ohe_sector.transform(emicron_ohe[['GRUPOS4']]).toarray()\n",
    "drop_enc_df = pd.DataFrame(drop_enc,columns = ohe_sector.get_feature_names_out())\n",
    "\n",
    "emicron_ohe = emicron_ohe.join(drop_enc_df)\n",
    "\n",
    "ohe_anio = OneHotEncoder().fit(emicron_ohe[['ANOS_ESPACIO']])\n",
    "drop_enc = ohe_anio.transform(emicron_ohe[['ANOS_ESPACIO']]).toarray()\n",
    "drop_enc_df = pd.DataFrame(drop_enc,columns = ohe_anio.get_feature_names_out())\n",
    "\n",
    "emicron_ohe = emicron_ohe.join(drop_enc_df)"
   ]
  },
  {
   "cell_type": "code",
   "execution_count": null,
   "metadata": {},
   "outputs": [],
   "source": [
    "emicron_ohe.drop(['COD_DEPTO','GRUPOS4','ANOS_ESPACIO'],axis=1, inplace= True) \n",
    "emicron_ohe.set_index('id',inplace = True, drop = True)"
   ]
  },
  {
   "cell_type": "code",
   "execution_count": null,
   "metadata": {},
   "outputs": [
    {
     "name": "stderr",
     "output_type": "stream",
     "text": [
      "[Parallel(n_jobs=8)]: Using backend ThreadingBackend with 8 concurrent workers.\n",
      "[Parallel(n_jobs=8)]: Done   2 out of   8 | elapsed:    0.1s remaining:    0.5s\n",
      "[Parallel(n_jobs=8)]: Done   8 out of   8 | elapsed:    0.1s finished\n",
      "[Parallel(n_jobs=8)]: Using backend ThreadingBackend with 8 concurrent workers.\n",
      "[Parallel(n_jobs=8)]: Done   2 out of   8 | elapsed:    0.4s remaining:    1.5s\n",
      "[Parallel(n_jobs=8)]: Done   8 out of   8 | elapsed:    0.4s finished\n",
      "[Parallel(n_jobs=8)]: Using backend ThreadingBackend with 8 concurrent workers.\n",
      "[Parallel(n_jobs=8)]: Done   2 out of   8 | elapsed:    0.8s remaining:    2.7s\n",
      "[Parallel(n_jobs=8)]: Done   8 out of   8 | elapsed:    0.9s finished\n",
      "[Parallel(n_jobs=8)]: Using backend ThreadingBackend with 8 concurrent workers.\n",
      "[Parallel(n_jobs=8)]: Done   2 out of   8 | elapsed:    1.8s remaining:    5.5s\n",
      "[Parallel(n_jobs=8)]: Done   8 out of   8 | elapsed:    1.8s finished\n",
      "[Parallel(n_jobs=8)]: Using backend ThreadingBackend with 8 concurrent workers.\n",
      "[Parallel(n_jobs=8)]: Done   2 out of   8 | elapsed:    0.1s remaining:    0.5s\n",
      "[Parallel(n_jobs=8)]: Done   8 out of   8 | elapsed:    0.1s finished\n",
      "[Parallel(n_jobs=8)]: Using backend ThreadingBackend with 8 concurrent workers.\n",
      "[Parallel(n_jobs=8)]: Done   2 out of   8 | elapsed:    0.4s remaining:    1.3s\n",
      "[Parallel(n_jobs=8)]: Done   8 out of   8 | elapsed:    0.4s finished\n",
      "[Parallel(n_jobs=8)]: Using backend ThreadingBackend with 8 concurrent workers.\n",
      "[Parallel(n_jobs=8)]: Done   2 out of   8 | elapsed:    0.9s remaining:    2.9s\n",
      "[Parallel(n_jobs=8)]: Done   8 out of   8 | elapsed:    1.0s finished\n",
      "[Parallel(n_jobs=8)]: Using backend ThreadingBackend with 8 concurrent workers.\n",
      "[Parallel(n_jobs=8)]: Done   2 out of   8 | elapsed:    1.9s remaining:    5.8s\n",
      "[Parallel(n_jobs=8)]: Done   8 out of   8 | elapsed:    1.9s finished\n",
      "[Parallel(n_jobs=8)]: Using backend ThreadingBackend with 8 concurrent workers.\n",
      "[Parallel(n_jobs=8)]: Done   2 out of   8 | elapsed:    0.1s remaining:    0.6s\n",
      "[Parallel(n_jobs=8)]: Done   8 out of   8 | elapsed:    0.1s finished\n",
      "[Parallel(n_jobs=8)]: Using backend ThreadingBackend with 8 concurrent workers.\n",
      "[Parallel(n_jobs=8)]: Done   2 out of   8 | elapsed:    0.7s remaining:    2.2s\n",
      "[Parallel(n_jobs=8)]: Done   8 out of   8 | elapsed:    0.7s finished\n",
      "[Parallel(n_jobs=8)]: Using backend ThreadingBackend with 8 concurrent workers.\n",
      "[Parallel(n_jobs=8)]: Done   2 out of   8 | elapsed:    1.3s remaining:    4.0s\n",
      "[Parallel(n_jobs=8)]: Done   8 out of   8 | elapsed:    1.3s finished\n",
      "[Parallel(n_jobs=8)]: Using backend ThreadingBackend with 8 concurrent workers.\n",
      "[Parallel(n_jobs=8)]: Done   2 out of   8 | elapsed:    2.4s remaining:    7.4s\n",
      "[Parallel(n_jobs=8)]: Done   8 out of   8 | elapsed:    2.5s finished\n",
      "[Parallel(n_jobs=8)]: Using backend ThreadingBackend with 8 concurrent workers.\n",
      "[Parallel(n_jobs=8)]: Done   2 out of   8 | elapsed:    0.2s remaining:    0.8s\n",
      "[Parallel(n_jobs=8)]: Done   8 out of   8 | elapsed:    0.2s finished\n",
      "[Parallel(n_jobs=8)]: Using backend ThreadingBackend with 8 concurrent workers.\n",
      "[Parallel(n_jobs=8)]: Done   2 out of   8 | elapsed:    0.5s remaining:    1.6s\n",
      "[Parallel(n_jobs=8)]: Done   8 out of   8 | elapsed:    0.5s finished\n",
      "[Parallel(n_jobs=8)]: Using backend ThreadingBackend with 8 concurrent workers.\n",
      "[Parallel(n_jobs=8)]: Done   2 out of   8 | elapsed:    1.9s remaining:    5.9s\n",
      "[Parallel(n_jobs=8)]: Done   8 out of   8 | elapsed:    1.9s finished\n",
      "[Parallel(n_jobs=8)]: Using backend ThreadingBackend with 8 concurrent workers.\n",
      "[Parallel(n_jobs=8)]: Done   2 out of   8 | elapsed:    3.8s remaining:   11.6s\n",
      "[Parallel(n_jobs=8)]: Done   8 out of   8 | elapsed:    3.9s finished\n"
     ]
    }
   ],
   "source": [
    "# Parameters\n",
    "k_sam = [256, 500, 800, 1000]\n",
    "k_tree = [100,250, 500,1000]\n",
    "\n",
    "#Almacenar los resultados\n",
    "iscores_mult = np.zeros([emicron_ohe.shape[0], (len(k_sam)*len(k_tree))])\n",
    "\n",
    "i = 0\n",
    "\n",
    "for sam in k_sam:\n",
    "    for n_tree in k_tree:\n",
    "        ifo = IsolationForest(random_state = 123,\n",
    "                              contamination=0.1,\n",
    "                              max_features= 34,\n",
    "                              verbose=1,\n",
    "                              n_jobs=-1,\n",
    "                              max_samples= sam,\n",
    "                              n_estimators= n_tree)\n",
    "        ifo.fit(emicron_ohe)\n",
    "        iscores_mult[:, i] = ifo.decision_function(emicron_ohe)\n",
    "        i +=1"
   ]
  },
  {
   "cell_type": "code",
   "execution_count": null,
   "metadata": {},
   "outputs": [
    {
     "data": {
      "image/png": "[encoded data removed]",
      "text/plain": [
       "<Figure size 640x480 with 1 Axes>"
      ]
     },
     "metadata": {},
     "output_type": "display_data"
    }
   ],
   "source": [
    "# El promedio de las predicciones de los 10 puntajes están en y_by_average abajo. Se crea esto en un histograma\n",
    "# El resultado \"y_by_average\" es una columna:\n",
    "Y_by_average = np.mean(iscores_mult,axis=1)\n",
    "plt.hist(Y_by_average, bins = 'auto')\n",
    "#plt.xlim(4.2, 8)\n",
    "plt.title(\"Combinación por promedio\")\n",
    "plt.show()"
   ]
  },
  {
   "cell_type": "code",
   "execution_count": null,
   "metadata": {},
   "outputs": [
    {
     "data": {
      "text/plain": [
       "0.0008928128736556571"
      ]
     },
     "execution_count": 33,
     "metadata": {},
     "output_type": "execute_result"
    }
   ],
   "source": [
    "threshold = np.percentile(Y_by_average, 10)\n",
    "threshold"
   ]
  },
  {
   "cell_type": "code",
   "execution_count": null,
   "metadata": {},
   "outputs": [],
   "source": [
    "iforest_res = descriptive_stat_threshold(emicron_mov, Y_by_average, threshold, 2)"
   ]
  },
  {
   "cell_type": "code",
   "execution_count": null,
   "metadata": {},
   "outputs": [
    {
     "data": {
      "text/plain": [
       "(17812, 18)"
      ]
     },
     "execution_count": 35,
     "metadata": {},
     "output_type": "execute_result"
    }
   ],
   "source": [
    "iforest_res = pd.merge(iforest_res,emicron[var_gral], on = 'id', how = 'left')\n",
    "iforest_res.shape"
   ]
  },
  {
   "cell_type": "code",
   "execution_count": null,
   "metadata": {},
   "outputs": [],
   "source": [
    "iforest_res.to_csv(data_path + r\"\\atipicos_emicron_vcalle_iforest.csv\", index = False)"
   ]
  },
  {
   "cell_type": "code",
   "execution_count": null,
   "metadata": {},
   "outputs": [
    {
     "data": {
      "text/html": [
       "<div>\n",
       "<style scoped>\n",
       "    .dataframe tbody tr th:only-of-type {\n",
       "        vertical-align: middle;\n",
       "    }\n",
       "\n",
       "    .dataframe tbody tr th {\n",
       "        vertical-align: top;\n",
       "    }\n",
       "\n",
       "    .dataframe thead th {\n",
       "        text-align: right;\n",
       "    }\n",
       "</style>\n",
       "<table border=\"1\" class=\"dataframe\">\n",
       "  <thead>\n",
       "    <tr style=\"text-align: right;\">\n",
       "      <th></th>\n",
       "      <th>id</th>\n",
       "      <th>VENTAS_MES_ANTERIOR</th>\n",
       "      <th>POTTOT</th>\n",
       "      <th>CYG</th>\n",
       "      <th>COD_DEPTO</th>\n",
       "      <th>CPAM</th>\n",
       "      <th>GRUPOS4</th>\n",
       "      <th>ANOS_ESPACIO</th>\n",
       "      <th>HOMBRE</th>\n",
       "      <th>Anomaly_Score</th>\n",
       "      <th>Group</th>\n",
       "      <th>CIIU_3</th>\n",
       "      <th>fex</th>\n",
       "      <th>P2760</th>\n",
       "      <th>VA</th>\n",
       "      <th>C_V</th>\n",
       "      <th>k_words</th>\n",
       "      <th>mencion</th>\n",
       "    </tr>\n",
       "  </thead>\n",
       "  <tbody>\n",
       "    <tr>\n",
       "      <th>0</th>\n",
       "      <td>212002612</td>\n",
       "      <td>1200000.0</td>\n",
       "      <td>1.0</td>\n",
       "      <td>420000.0</td>\n",
       "      <td>8</td>\n",
       "      <td>0</td>\n",
       "      <td>3</td>\n",
       "      <td>1.0</td>\n",
       "      <td>1.0</td>\n",
       "      <td>0.014638</td>\n",
       "      <td>Normal</td>\n",
       "      <td>4722.0</td>\n",
       "      <td>182.474123</td>\n",
       "      <td>b'CEDULA VENEZOLANA'</td>\n",
       "      <td>780000.0</td>\n",
       "      <td>0.350000</td>\n",
       "      <td>[]</td>\n",
       "      <td>False</td>\n",
       "    </tr>\n",
       "    <tr>\n",
       "      <th>1</th>\n",
       "      <td>212005312</td>\n",
       "      <td>3600000.0</td>\n",
       "      <td>1.0</td>\n",
       "      <td>2690000.0</td>\n",
       "      <td>8</td>\n",
       "      <td>0</td>\n",
       "      <td>3</td>\n",
       "      <td>5.0</td>\n",
       "      <td>1.0</td>\n",
       "      <td>0.038989</td>\n",
       "      <td>Normal</td>\n",
       "      <td>4723.0</td>\n",
       "      <td>83.988234</td>\n",
       "      <td>NaN</td>\n",
       "      <td>910000.0</td>\n",
       "      <td>0.747222</td>\n",
       "      <td>NaN</td>\n",
       "      <td>NaN</td>\n",
       "    </tr>\n",
       "    <tr>\n",
       "      <th>2</th>\n",
       "      <td>212017711</td>\n",
       "      <td>7000000.0</td>\n",
       "      <td>2.0</td>\n",
       "      <td>4919000.0</td>\n",
       "      <td>8</td>\n",
       "      <td>0</td>\n",
       "      <td>2</td>\n",
       "      <td>5.0</td>\n",
       "      <td>1.0</td>\n",
       "      <td>-0.031211</td>\n",
       "      <td>Outlier</td>\n",
       "      <td>3830.0</td>\n",
       "      <td>27.296509</td>\n",
       "      <td>NaN</td>\n",
       "      <td>2081000.0</td>\n",
       "      <td>0.702714</td>\n",
       "      <td>NaN</td>\n",
       "      <td>NaN</td>\n",
       "    </tr>\n",
       "    <tr>\n",
       "      <th>3</th>\n",
       "      <td>212020112</td>\n",
       "      <td>0.0</td>\n",
       "      <td>1.0</td>\n",
       "      <td>0.0</td>\n",
       "      <td>8</td>\n",
       "      <td>0</td>\n",
       "      <td>3</td>\n",
       "      <td>2.0</td>\n",
       "      <td>0.0</td>\n",
       "      <td>0.013575</td>\n",
       "      <td>Normal</td>\n",
       "      <td>4723.0</td>\n",
       "      <td>45.297531</td>\n",
       "      <td>b'NO DESARROLLO LA ACTIVIDAD EN EL MES DE REFE...</td>\n",
       "      <td>0.0</td>\n",
       "      <td>0.000000</td>\n",
       "      <td>[]</td>\n",
       "      <td>False</td>\n",
       "    </tr>\n",
       "    <tr>\n",
       "      <th>4</th>\n",
       "      <td>212020612</td>\n",
       "      <td>9000000.0</td>\n",
       "      <td>1.0</td>\n",
       "      <td>7915000.0</td>\n",
       "      <td>8</td>\n",
       "      <td>0</td>\n",
       "      <td>3</td>\n",
       "      <td>5.0</td>\n",
       "      <td>0.0</td>\n",
       "      <td>-0.002637</td>\n",
       "      <td>Outlier</td>\n",
       "      <td>4723.0</td>\n",
       "      <td>30.029363</td>\n",
       "      <td>NaN</td>\n",
       "      <td>1085000.0</td>\n",
       "      <td>0.879444</td>\n",
       "      <td>NaN</td>\n",
       "      <td>NaN</td>\n",
       "    </tr>\n",
       "  </tbody>\n",
       "</table>\n",
       "</div>"
      ],
      "text/plain": [
       "          id  VENTAS_MES_ANTERIOR  POTTOT        CYG  COD_DEPTO  CPAM  \\\n",
       "0  212002612            1200000.0     1.0   420000.0          8     0   \n",
       "1  212005312            3600000.0     1.0  2690000.0          8     0   \n",
       "2  212017711            7000000.0     2.0  4919000.0          8     0   \n",
       "3  212020112                  0.0     1.0        0.0          8     0   \n",
       "4  212020612            9000000.0     1.0  7915000.0          8     0   \n",
       "\n",
       "   GRUPOS4  ANOS_ESPACIO  HOMBRE  Anomaly_Score    Group  CIIU_3         fex  \\\n",
       "0        3           1.0     1.0       0.014638   Normal  4722.0  182.474123   \n",
       "1        3           5.0     1.0       0.038989   Normal  4723.0   83.988234   \n",
       "2        2           5.0     1.0      -0.031211  Outlier  3830.0   27.296509   \n",
       "3        3           2.0     0.0       0.013575   Normal  4723.0   45.297531   \n",
       "4        3           5.0     0.0      -0.002637  Outlier  4723.0   30.029363   \n",
       "\n",
       "                                               P2760         VA       C_V  \\\n",
       "0                               b'CEDULA VENEZOLANA'   780000.0  0.350000   \n",
       "1                                                NaN   910000.0  0.747222   \n",
       "2                                                NaN  2081000.0  0.702714   \n",
       "3  b'NO DESARROLLO LA ACTIVIDAD EN EL MES DE REFE...        0.0  0.000000   \n",
       "4                                                NaN  1085000.0  0.879444   \n",
       "\n",
       "  k_words mencion  \n",
       "0      []   False  \n",
       "1     NaN     NaN  \n",
       "2     NaN     NaN  \n",
       "3      []   False  \n",
       "4     NaN     NaN  "
      ]
     },
     "execution_count": 38,
     "metadata": {},
     "output_type": "execute_result"
    }
   ],
   "source": [
    "iforest_res.head()"
   ]
  },
  {
   "cell_type": "code",
   "execution_count": null,
   "metadata": {},
   "outputs": [
    {
     "data": {
      "text/plain": [
       "Normal     16030\n",
       "Outlier     1782\n",
       "Name: Group, dtype: int64"
      ]
     },
     "execution_count": 39,
     "metadata": {},
     "output_type": "execute_result"
    }
   ],
   "source": [
    "iforest_res['Group'].value_counts()"
   ]
  }
 ],
 "metadata": {
  "kernelspec": {
   "display_name": "Python 3",
   "language": "python",
   "name": "python3"
  },
  "language_info": {
   "codemirror_mode": {
    "name": "ipython",
    "version": 3
   },
   "file_extension": ".py",
   "mimetype": "text/x-python",
   "name": "python",
   "nbconvert_exporter": "python",
   "pygments_lexer": "ipython3",
   "version": "3.10.5"
  }
 },
 "nbformat": 4,
 "nbformat_minor": 2
}
