{
 "cells": [
  {
   "cell_type": "code",
   "execution_count": 3,
   "id": "8c2a06e9-d529-4dc3-bef3-42d00a6d7e80",
   "metadata": {},
   "outputs": [],
   "source": [
    "#import sklearn\n",
    "import pickle\n",
    "import pandas as pd"
   ]
  },
  {
   "cell_type": "code",
   "execution_count": 1,
   "id": "ad5c4aa0-ec5c-462e-8f62-97ab650fd91d",
   "metadata": {},
   "outputs": [],
   "source": [
    "data_path = r\"D:\\Despliegue\\Proyecto HOP\\Data\\Vcalle/\"\n",
    "model_path = r\"D:\\Despliegue\\Syntax\\Modelado/\""
   ]
  },
  {
   "cell_type": "code",
   "execution_count": 8,
   "id": "c3609c38-ac76-41d7-a505-2afded642d48",
   "metadata": {},
   "outputs": [],
   "source": [
    "with open(model_path + \"modelo_svc_optimizado_vcalle.pkl\",'rb') as file:\n",
    "    pipeline_vcalle = pickle.load(file)"
   ]
  },
  {
   "cell_type": "code",
   "execution_count": 9,
   "id": "92d92dfe-5860-4af1-9c5d-55dd8856cb89",
   "metadata": {},
   "outputs": [
    {
     "data": {
      "text/plain": [
       "{'preprocessor': ColumnTransformer(transformers=[('num', StandardScaler(),\n",
       "                                  Index(['VENTAS', 'POTTOT', 'CYG', 'VA', 'C_V'], dtype='object')),\n",
       "                                 ('cat', OneHotEncoder(drop='first'),\n",
       "                                  Index(['COD_DPTO', 'CPAM', 'GRUPOS12', 'ANOS_ESPACIO', 'HOMBRE'], dtype='object'))]),\n",
       " 'classifier': SVC(C=10, random_state=42)}"
      ]
     },
     "execution_count": 9,
     "metadata": {},
     "output_type": "execute_result"
    }
   ],
   "source": [
    "pipeline_vcalle.named_steps"
   ]
  },
  {
   "cell_type": "code",
   "execution_count": 6,
   "id": "3f4c3b46-630e-491b-b185-55dfcf3d949a",
   "metadata": {},
   "outputs": [],
   "source": [
    "df = pd.read_csv(data_path + \"02 - Intermedio/CENU_SIMULADO_modelo.csv\")"
   ]
  },
  {
   "cell_type": "code",
   "execution_count": 11,
   "id": "e1d52c18-4019-46e7-96b3-c2a3e1a627dd",
   "metadata": {},
   "outputs": [],
   "source": [
    "df.set_index('UID_ENCUESTA', inplace = True)"
   ]
  },
  {
   "cell_type": "code",
   "execution_count": 13,
   "id": "3b74d718-0f65-49d7-8212-66e1f53c08fc",
   "metadata": {},
   "outputs": [],
   "source": [
    "transformador = pipeline_vcalle.named_steps['preprocessor']"
   ]
  },
  {
   "cell_type": "code",
   "execution_count": 14,
   "id": "05dc1b1b-93ae-43e7-9243-50fd677e9cca",
   "metadata": {},
   "outputs": [],
   "source": [
    "df_tr = transformador.transform(df)"
   ]
  },
  {
   "cell_type": "code",
   "execution_count": 23,
   "id": "a3ea60bd-6e01-4b57-a9cd-ed193f262ac8",
   "metadata": {},
   "outputs": [],
   "source": [
    "new = pd.DataFrame(df_tr.toarray())"
   ]
  },
  {
   "cell_type": "code",
   "execution_count": 26,
   "id": "4109c27c-bcb9-4da1-82ac-8dd52bcd09e1",
   "metadata": {},
   "outputs": [],
   "source": [
    "pred = pipeline_vcalle.predict(df)"
   ]
  },
  {
   "cell_type": "code",
   "execution_count": 28,
   "id": "fddd94d3-9878-4dc8-818e-7d8bff1defe8",
   "metadata": {},
   "outputs": [
    {
     "data": {
      "text/plain": [
       "np.int64(260105)"
      ]
     },
     "execution_count": 28,
     "metadata": {},
     "output_type": "execute_result"
    }
   ],
   "source": [
    "pred.sum()"
   ]
  },
  {
   "cell_type": "code",
   "execution_count": 50,
   "id": "40345fc3-9e8a-4fc0-8170-173ace374a4c",
   "metadata": {},
   "outputs": [],
   "source": [
    "mean = transformador.named_transformers_['num'].mean_"
   ]
  },
  {
   "cell_type": "code",
   "execution_count": 51,
   "id": "0fcd498c-de47-4631-91dd-1424ab77dad3",
   "metadata": {},
   "outputs": [],
   "source": [
    "std = transformador.named_transformers_['num'].scale_"
   ]
  },
  {
   "cell_type": "code",
   "execution_count": 48,
   "id": "ba4e3c0a-ad9d-4dc3-aef0-e71ab8980ee4",
   "metadata": {},
   "outputs": [
    {
     "data": {
      "text/html": [
       "<div>\n",
       "<style scoped>\n",
       "    .dataframe tbody tr th:only-of-type {\n",
       "        vertical-align: middle;\n",
       "    }\n",
       "\n",
       "    .dataframe tbody tr th {\n",
       "        vertical-align: top;\n",
       "    }\n",
       "\n",
       "    .dataframe thead th {\n",
       "        text-align: right;\n",
       "    }\n",
       "</style>\n",
       "<table border=\"1\" class=\"dataframe\">\n",
       "  <thead>\n",
       "    <tr style=\"text-align: right;\">\n",
       "      <th></th>\n",
       "      <th>VENTAS</th>\n",
       "      <th>POTTOT</th>\n",
       "      <th>CYG</th>\n",
       "      <th>VA</th>\n",
       "      <th>C_V</th>\n",
       "      <th>COD_DPTO</th>\n",
       "      <th>CPAM</th>\n",
       "      <th>GRUPOS12</th>\n",
       "      <th>ANOS_ESPACIO</th>\n",
       "      <th>HOMBRE</th>\n",
       "    </tr>\n",
       "    <tr>\n",
       "      <th>UID_ENCUESTA</th>\n",
       "      <th></th>\n",
       "      <th></th>\n",
       "      <th></th>\n",
       "      <th></th>\n",
       "      <th></th>\n",
       "      <th></th>\n",
       "      <th></th>\n",
       "      <th></th>\n",
       "      <th></th>\n",
       "      <th></th>\n",
       "    </tr>\n",
       "  </thead>\n",
       "  <tbody>\n",
       "    <tr>\n",
       "      <th>25458</th>\n",
       "      <td>7.204689e+06</td>\n",
       "      <td>4.0</td>\n",
       "      <td>3.188209e+06</td>\n",
       "      <td>4.016480e+06</td>\n",
       "      <td>0.442519</td>\n",
       "      <td>Caquetá</td>\n",
       "      <td>No</td>\n",
       "      <td>Industria</td>\n",
       "      <td>[0-1)</td>\n",
       "      <td>Sí</td>\n",
       "    </tr>\n",
       "    <tr>\n",
       "      <th>9162</th>\n",
       "      <td>2.584695e+06</td>\n",
       "      <td>5.0</td>\n",
       "      <td>4.910620e+06</td>\n",
       "      <td>-2.325924e+06</td>\n",
       "      <td>1.899883</td>\n",
       "      <td>Caquetá</td>\n",
       "      <td>No</td>\n",
       "      <td>Industria</td>\n",
       "      <td>x&gt;=10</td>\n",
       "      <td>No</td>\n",
       "    </tr>\n",
       "    <tr>\n",
       "      <th>43946</th>\n",
       "      <td>2.416603e+06</td>\n",
       "      <td>7.0</td>\n",
       "      <td>4.141366e+06</td>\n",
       "      <td>-1.724763e+06</td>\n",
       "      <td>1.713713</td>\n",
       "      <td>Boyacá</td>\n",
       "      <td>No</td>\n",
       "      <td>Industria</td>\n",
       "      <td>[1-3)</td>\n",
       "      <td>No</td>\n",
       "    </tr>\n",
       "    <tr>\n",
       "      <th>66130</th>\n",
       "      <td>3.552550e+06</td>\n",
       "      <td>9.0</td>\n",
       "      <td>4.372269e+06</td>\n",
       "      <td>-8.197195e+05</td>\n",
       "      <td>1.230741</td>\n",
       "      <td>Sucre</td>\n",
       "      <td>No</td>\n",
       "      <td>Industria</td>\n",
       "      <td>[5-10)</td>\n",
       "      <td>No</td>\n",
       "    </tr>\n",
       "    <tr>\n",
       "      <th>42224</th>\n",
       "      <td>5.857836e+05</td>\n",
       "      <td>7.0</td>\n",
       "      <td>4.059099e+06</td>\n",
       "      <td>-3.473315e+06</td>\n",
       "      <td>6.929337</td>\n",
       "      <td>Tolima</td>\n",
       "      <td>No</td>\n",
       "      <td>Industria</td>\n",
       "      <td>x&gt;=10</td>\n",
       "      <td>Sí</td>\n",
       "    </tr>\n",
       "  </tbody>\n",
       "</table>\n",
       "</div>"
      ],
      "text/plain": [
       "                    VENTAS  POTTOT           CYG            VA       C_V  \\\n",
       "UID_ENCUESTA                                                               \n",
       "25458         7.204689e+06     4.0  3.188209e+06  4.016480e+06  0.442519   \n",
       "9162          2.584695e+06     5.0  4.910620e+06 -2.325924e+06  1.899883   \n",
       "43946         2.416603e+06     7.0  4.141366e+06 -1.724763e+06  1.713713   \n",
       "66130         3.552550e+06     9.0  4.372269e+06 -8.197195e+05  1.230741   \n",
       "42224         5.857836e+05     7.0  4.059099e+06 -3.473315e+06  6.929337   \n",
       "\n",
       "             COD_DPTO CPAM   GRUPOS12 ANOS_ESPACIO HOMBRE  \n",
       "UID_ENCUESTA                                               \n",
       "25458         Caquetá   No  Industria        [0-1)     Sí  \n",
       "9162          Caquetá   No  Industria        x>=10     No  \n",
       "43946          Boyacá   No  Industria        [1-3)     No  \n",
       "66130           Sucre   No  Industria       [5-10)     No  \n",
       "42224          Tolima   No  Industria        x>=10     Sí  "
      ]
     },
     "execution_count": 48,
     "metadata": {},
     "output_type": "execute_result"
    }
   ],
   "source": [
    "df.head()"
   ]
  },
  {
   "cell_type": "code",
   "execution_count": 49,
   "id": "1ebf18ac-ead2-4996-81dd-0b13cd85cf0b",
   "metadata": {},
   "outputs": [
    {
     "data": {
      "text/html": [
       "<div>\n",
       "<style scoped>\n",
       "    .dataframe tbody tr th:only-of-type {\n",
       "        vertical-align: middle;\n",
       "    }\n",
       "\n",
       "    .dataframe tbody tr th {\n",
       "        vertical-align: top;\n",
       "    }\n",
       "\n",
       "    .dataframe thead th {\n",
       "        text-align: right;\n",
       "    }\n",
       "</style>\n",
       "<table border=\"1\" class=\"dataframe\">\n",
       "  <thead>\n",
       "    <tr style=\"text-align: right;\">\n",
       "      <th></th>\n",
       "      <th>0</th>\n",
       "      <th>1</th>\n",
       "      <th>2</th>\n",
       "      <th>3</th>\n",
       "      <th>4</th>\n",
       "      <th>5</th>\n",
       "      <th>6</th>\n",
       "      <th>7</th>\n",
       "      <th>8</th>\n",
       "      <th>9</th>\n",
       "      <th>...</th>\n",
       "      <th>34</th>\n",
       "      <th>35</th>\n",
       "      <th>36</th>\n",
       "      <th>37</th>\n",
       "      <th>38</th>\n",
       "      <th>39</th>\n",
       "      <th>40</th>\n",
       "      <th>41</th>\n",
       "      <th>42</th>\n",
       "      <th>43</th>\n",
       "    </tr>\n",
       "  </thead>\n",
       "  <tbody>\n",
       "    <tr>\n",
       "      <th>0</th>\n",
       "      <td>44.259806</td>\n",
       "      <td>4.321269</td>\n",
       "      <td>21.123362</td>\n",
       "      <td>37.338515</td>\n",
       "      <td>-0.046439</td>\n",
       "      <td>0.0</td>\n",
       "      <td>0.0</td>\n",
       "      <td>0.0</td>\n",
       "      <td>0.0</td>\n",
       "      <td>0.0</td>\n",
       "      <td>...</td>\n",
       "      <td>0.0</td>\n",
       "      <td>0.0</td>\n",
       "      <td>1.0</td>\n",
       "      <td>0.0</td>\n",
       "      <td>0.0</td>\n",
       "      <td>0.0</td>\n",
       "      <td>0.0</td>\n",
       "      <td>0.0</td>\n",
       "      <td>0.0</td>\n",
       "      <td>1.0</td>\n",
       "    </tr>\n",
       "    <tr>\n",
       "      <th>1</th>\n",
       "      <td>15.536563</td>\n",
       "      <td>5.919568</td>\n",
       "      <td>32.738594</td>\n",
       "      <td>-22.064272</td>\n",
       "      <td>-0.046385</td>\n",
       "      <td>0.0</td>\n",
       "      <td>0.0</td>\n",
       "      <td>0.0</td>\n",
       "      <td>0.0</td>\n",
       "      <td>0.0</td>\n",
       "      <td>...</td>\n",
       "      <td>0.0</td>\n",
       "      <td>0.0</td>\n",
       "      <td>1.0</td>\n",
       "      <td>0.0</td>\n",
       "      <td>0.0</td>\n",
       "      <td>0.0</td>\n",
       "      <td>0.0</td>\n",
       "      <td>0.0</td>\n",
       "      <td>1.0</td>\n",
       "      <td>0.0</td>\n",
       "    </tr>\n",
       "    <tr>\n",
       "      <th>2</th>\n",
       "      <td>14.491507</td>\n",
       "      <td>9.116166</td>\n",
       "      <td>27.551063</td>\n",
       "      <td>-16.433813</td>\n",
       "      <td>-0.046392</td>\n",
       "      <td>0.0</td>\n",
       "      <td>0.0</td>\n",
       "      <td>0.0</td>\n",
       "      <td>1.0</td>\n",
       "      <td>0.0</td>\n",
       "      <td>...</td>\n",
       "      <td>0.0</td>\n",
       "      <td>0.0</td>\n",
       "      <td>1.0</td>\n",
       "      <td>0.0</td>\n",
       "      <td>0.0</td>\n",
       "      <td>1.0</td>\n",
       "      <td>0.0</td>\n",
       "      <td>0.0</td>\n",
       "      <td>0.0</td>\n",
       "      <td>0.0</td>\n",
       "    </tr>\n",
       "    <tr>\n",
       "      <th>3</th>\n",
       "      <td>21.553867</td>\n",
       "      <td>12.312764</td>\n",
       "      <td>29.108177</td>\n",
       "      <td>-7.957200</td>\n",
       "      <td>-0.046410</td>\n",
       "      <td>0.0</td>\n",
       "      <td>0.0</td>\n",
       "      <td>0.0</td>\n",
       "      <td>0.0</td>\n",
       "      <td>0.0</td>\n",
       "      <td>...</td>\n",
       "      <td>0.0</td>\n",
       "      <td>0.0</td>\n",
       "      <td>1.0</td>\n",
       "      <td>0.0</td>\n",
       "      <td>0.0</td>\n",
       "      <td>0.0</td>\n",
       "      <td>0.0</td>\n",
       "      <td>1.0</td>\n",
       "      <td>0.0</td>\n",
       "      <td>0.0</td>\n",
       "    </tr>\n",
       "    <tr>\n",
       "      <th>4</th>\n",
       "      <td>3.109009</td>\n",
       "      <td>9.116166</td>\n",
       "      <td>26.996286</td>\n",
       "      <td>-32.810705</td>\n",
       "      <td>-0.046200</td>\n",
       "      <td>0.0</td>\n",
       "      <td>0.0</td>\n",
       "      <td>0.0</td>\n",
       "      <td>0.0</td>\n",
       "      <td>0.0</td>\n",
       "      <td>...</td>\n",
       "      <td>0.0</td>\n",
       "      <td>0.0</td>\n",
       "      <td>1.0</td>\n",
       "      <td>0.0</td>\n",
       "      <td>0.0</td>\n",
       "      <td>0.0</td>\n",
       "      <td>0.0</td>\n",
       "      <td>0.0</td>\n",
       "      <td>1.0</td>\n",
       "      <td>1.0</td>\n",
       "    </tr>\n",
       "  </tbody>\n",
       "</table>\n",
       "<p>5 rows × 44 columns</p>\n",
       "</div>"
      ],
      "text/plain": [
       "          0          1          2          3         4    5    6    7    8   \\\n",
       "0  44.259806   4.321269  21.123362  37.338515 -0.046439  0.0  0.0  0.0  0.0   \n",
       "1  15.536563   5.919568  32.738594 -22.064272 -0.046385  0.0  0.0  0.0  0.0   \n",
       "2  14.491507   9.116166  27.551063 -16.433813 -0.046392  0.0  0.0  0.0  1.0   \n",
       "3  21.553867  12.312764  29.108177  -7.957200 -0.046410  0.0  0.0  0.0  0.0   \n",
       "4   3.109009   9.116166  26.996286 -32.810705 -0.046200  0.0  0.0  0.0  0.0   \n",
       "\n",
       "    9   ...   34   35   36   37   38   39   40   41   42   43  \n",
       "0  0.0  ...  0.0  0.0  1.0  0.0  0.0  0.0  0.0  0.0  0.0  1.0  \n",
       "1  0.0  ...  0.0  0.0  1.0  0.0  0.0  0.0  0.0  0.0  1.0  0.0  \n",
       "2  0.0  ...  0.0  0.0  1.0  0.0  0.0  1.0  0.0  0.0  0.0  0.0  \n",
       "3  0.0  ...  0.0  0.0  1.0  0.0  0.0  0.0  0.0  1.0  0.0  0.0  \n",
       "4  0.0  ...  0.0  0.0  1.0  0.0  0.0  0.0  0.0  0.0  1.0  1.0  \n",
       "\n",
       "[5 rows x 44 columns]"
      ]
     },
     "execution_count": 49,
     "metadata": {},
     "output_type": "execute_result"
    }
   ],
   "source": [
    "new.head()"
   ]
  },
  {
   "cell_type": "code",
   "execution_count": 53,
   "id": "b4cc1f06-baf1-466b-aea7-44d82d996bfb",
   "metadata": {},
   "outputs": [
    {
     "data": {
      "text/plain": [
       "UID_ENCUESTA\n",
       "25458    44.259806\n",
       "9162     15.536563\n",
       "43946    14.491507\n",
       "66130    21.553867\n",
       "42224     3.109009\n",
       "           ...    \n",
       "54277     6.931415\n",
       "53447    33.724215\n",
       "49473    61.557425\n",
       "14754    28.681060\n",
       "76717     1.736684\n",
       "Name: VENTAS, Length: 260105, dtype: float64"
      ]
     },
     "execution_count": 53,
     "metadata": {},
     "output_type": "execute_result"
    }
   ],
   "source": [
    "(df['VENTAS'] - mean[0]) / std[0]"
   ]
  },
  {
   "cell_type": "code",
   "execution_count": 63,
   "id": "54f9ac5c-ec41-417a-871f-65cfd84188ad",
   "metadata": {},
   "outputs": [
    {
     "data": {
      "text/plain": [
       "39"
      ]
     },
     "execution_count": 63,
     "metadata": {},
     "output_type": "execute_result"
    }
   ],
   "source": [
    "len(transformador.named_transformers_['cat'].get_feature_names_out())"
   ]
  },
  {
   "cell_type": "code",
   "execution_count": 66,
   "id": "e8296a9e-54c2-4e52-b2f5-592cf079d2d4",
   "metadata": {},
   "outputs": [
    {
     "data": {
      "text/plain": [
       "5"
      ]
     },
     "execution_count": 66,
     "metadata": {},
     "output_type": "execute_result"
    }
   ],
   "source": [
    "len(transformador.named_transformers_['num'].get_feature_names_out())"
   ]
  },
  {
   "cell_type": "code",
   "execution_count": 64,
   "id": "01425520-88f7-4b98-9aa1-92ceef473bae",
   "metadata": {},
   "outputs": [],
   "source": [
    "df['Anomalia'] = pred"
   ]
  },
  {
   "cell_type": "code",
   "execution_count": 71,
   "id": "7084071c-c803-4f48-a423-4a234784ae09",
   "metadata": {},
   "outputs": [
    {
     "data": {
      "text/plain": [
       "['VENTAS',\n",
       " 'POTTOT',\n",
       " 'CYG',\n",
       " 'VA',\n",
       " 'C_V',\n",
       " 'COD_DPTO_Atlántico',\n",
       " 'COD_DPTO_Bogotá, D. C.',\n",
       " 'COD_DPTO_Bolívar',\n",
       " 'COD_DPTO_Boyacá',\n",
       " 'COD_DPTO_Caldas',\n",
       " 'COD_DPTO_Caquetá',\n",
       " 'COD_DPTO_Cauca',\n",
       " 'COD_DPTO_Cesar',\n",
       " 'COD_DPTO_Chocó',\n",
       " 'COD_DPTO_Cundinamarca',\n",
       " 'COD_DPTO_Córdoba',\n",
       " 'COD_DPTO_Huila',\n",
       " 'COD_DPTO_La Guajira',\n",
       " 'COD_DPTO_Magdalena',\n",
       " 'COD_DPTO_Meta',\n",
       " 'COD_DPTO_Nariño',\n",
       " 'COD_DPTO_Norte De Santander',\n",
       " 'COD_DPTO_Quindío',\n",
       " 'COD_DPTO_Risaralda',\n",
       " 'COD_DPTO_San Andrés',\n",
       " 'COD_DPTO_Santander',\n",
       " 'COD_DPTO_Sucre',\n",
       " 'COD_DPTO_Tolima',\n",
       " 'COD_DPTO_Valle Del Cauca',\n",
       " 'CPAM_Sí',\n",
       " 'GRUPOS12_Actividades de salud humana',\n",
       " 'GRUPOS12_Actividades inmobiliarias',\n",
       " 'GRUPOS12_Alojamiento/servicios de comida',\n",
       " 'GRUPOS12_Comercio',\n",
       " 'GRUPOS12_Construcción',\n",
       " 'GRUPOS12_Educación',\n",
       " 'GRUPOS12_Industria',\n",
       " 'GRUPOS12_Información y comunicaciones',\n",
       " 'GRUPOS12_Transporte y almacenamiento',\n",
       " 'ANOS_ESPACIO_[1-3)',\n",
       " 'ANOS_ESPACIO_[3-5)',\n",
       " 'ANOS_ESPACIO_[5-10)',\n",
       " 'ANOS_ESPACIO_x>=10',\n",
       " 'HOMBRE_Sí']"
      ]
     },
     "execution_count": 71,
     "metadata": {},
     "output_type": "execute_result"
    }
   ],
   "source": [
    "list(transformador.named_transformers_['num'].get_feature_names_out()) + list(transformador.named_transformers_['cat'].get_feature_names_out())"
   ]
  },
  {
   "cell_type": "code",
   "execution_count": 76,
   "id": "807464ef-5ac9-475f-98d1-16eb49b3dc6d",
   "metadata": {},
   "outputs": [],
   "source": [
    "new.columns = list(transformador.named_transformers_['num'].get_feature_names_out()) + list(transformador.named_transformers_['cat'].get_feature_names_out())"
   ]
  },
  {
   "cell_type": "code",
   "execution_count": 1,
   "id": "b73cce3e-91ac-4b31-8ace-1a8cc5ee3ab8",
   "metadata": {},
   "outputs": [
    {
     "ename": "NameError",
     "evalue": "name 'new' is not defined",
     "output_type": "error",
     "traceback": [
      "\u001b[1;31m---------------------------------------------------------------------------\u001b[0m",
      "\u001b[1;31mNameError\u001b[0m                                 Traceback (most recent call last)",
      "Cell \u001b[1;32mIn[1], line 1\u001b[0m\n\u001b[1;32m----> 1\u001b[0m new\u001b[38;5;241m.\u001b[39mhead(\u001b[38;5;241m40\u001b[39m)\n",
      "\u001b[1;31mNameError\u001b[0m: name 'new' is not defined"
     ]
    }
   ],
   "source": [
    "\n",
    "          \n",
    "           \n",
    "          \n",
    "           \n",
    "           \n",
    "           \n",
    "         \n",
    "        \n",
    "           12:\"Actividades artísticas\","
   ]
  }
 ],
 "metadata": {
  "kernelspec": {
   "display_name": "Python 3 (ipykernel)",
   "language": "python",
   "name": "python3"
  },
  "language_info": {
   "codemirror_mode": {
    "name": "ipython",
    "version": 3
   },
   "file_extension": ".py",
   "mimetype": "text/x-python",
   "name": "python",
   "nbconvert_exporter": "python",
   "pygments_lexer": "ipython3",
   "version": "3.12.4"
  }
 },
 "nbformat": 4,
 "nbformat_minor": 5
}
