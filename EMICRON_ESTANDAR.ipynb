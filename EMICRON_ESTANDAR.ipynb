{
 "cells": [
  {
   "cell_type": "code",
   "execution_count": 169,
   "metadata": {},
   "outputs": [],
   "source": [
    "import pandas as pd\n",
    "import os\n",
    "import re\n",
    "import numpy as np"
   ]
  },
  {
   "cell_type": "markdown",
   "metadata": {},
   "source": [
    "## 1. Importar la información"
   ]
  },
  {
   "cell_type": "code",
   "execution_count": 170,
   "metadata": {},
   "outputs": [
    {
     "name": "stderr",
     "output_type": "stream",
     "text": [
      "C:\\Users\\carlo\\AppData\\Local\\Temp\\ipykernel_24216\\33973033.py:2: DtypeWarning: Columns (48) have mixed types. Specify dtype option on import or set low_memory=False.\n",
      "  emicron_19 = pd.read_csv(os.path.join(data_path,\"EMICRON_19.csv\"),header = 0)\n"
     ]
    }
   ],
   "source": [
    "data_path = r\"D:\\DANE - Contrato\\2024\\Operativo Barrido\\Data\"\n",
    "emicron_19 = pd.read_csv(os.path.join(data_path,\"EMICRON_19.csv\"),header = 0)\n",
    "emicron_21 = pd.read_csv(os.path.join(data_path,\"EMICRON_21.csv\"),header = 0)\n",
    "emicron_22 = pd.read_csv(os.path.join(data_path,\"EMICRON_22.csv\"),header = 0)"
   ]
  },
  {
   "cell_type": "code",
   "execution_count": 171,
   "metadata": {},
   "outputs": [],
   "source": [
    "emicron = pd.concat([emicron_19, emicron_21, emicron_22])"
   ]
  },
  {
   "cell_type": "markdown",
   "metadata": {},
   "source": [
    "## 2. Filtrado de la base de datos\n",
    "Se procederá a filtrar la base de datos con base en unos elementos particulares:  \n",
    "1. Actividades económicas que cubre EMICRON y que no serán tenidas en cuenta en CENU.  \n",
    "2. Ubicación del micronegocio. Ya que se entrenará un modelo para puestos fijos y micronegocios en vivienda, y otro para puestos móviles. Con micronegocios o puestos móviles que sean visibles.   \n",
    "3. Sólo serán informativos aquellos micronegocios que hayan operado durante el mes anterior a la aplicación de la encuesta a partir de valores en ventas del mes pasado que sean diferentes de cero (como no existen valores menores que cero, entonces los que son mayores a cero).\n",
    "4. Otras variables como el número de establecimientos, que permitan mantener una información homogénea."
   ]
  },
  {
   "cell_type": "markdown",
   "metadata": {},
   "source": [
    "### 2.1 Actividades económicas que cubrirá el CENU \n",
    "Emicron incluye preguntas a los sectores de agricultura, ganadería, caza, silvicultura y pesca; además, de minería. Debido a que estos sectores no harán parte del Universo del Censo Económico, se descartarán de la base de datos:"
   ]
  },
  {
   "cell_type": "code",
   "execution_count": 172,
   "metadata": {},
   "outputs": [
    {
     "data": {
      "text/plain": [
       "(214010, 210)"
      ]
     },
     "execution_count": 172,
     "metadata": {},
     "output_type": "execute_result"
    }
   ],
   "source": [
    "emicron = emicron[~(emicron['GRUPOS12'].isin([1,2,13]))]\n",
    "emicron.shape"
   ]
  },
  {
   "cell_type": "code",
   "execution_count": 173,
   "metadata": {},
   "outputs": [
    {
     "data": {
      "text/html": [
       "<div>\n",
       "<style scoped>\n",
       "    .dataframe tbody tr th:only-of-type {\n",
       "        vertical-align: middle;\n",
       "    }\n",
       "\n",
       "    .dataframe tbody tr th {\n",
       "        vertical-align: top;\n",
       "    }\n",
       "\n",
       "    .dataframe thead th {\n",
       "        text-align: right;\n",
       "    }\n",
       "</style>\n",
       "<table border=\"1\" class=\"dataframe\">\n",
       "  <thead>\n",
       "    <tr style=\"text-align: right;\">\n",
       "      <th>GRUPOS4</th>\n",
       "      <th>2</th>\n",
       "      <th>3</th>\n",
       "      <th>4</th>\n",
       "    </tr>\n",
       "    <tr>\n",
       "      <th>GRUPOS12</th>\n",
       "      <th></th>\n",
       "      <th></th>\n",
       "      <th></th>\n",
       "    </tr>\n",
       "  </thead>\n",
       "  <tbody>\n",
       "    <tr>\n",
       "      <th>3</th>\n",
       "      <td>27522</td>\n",
       "      <td>0</td>\n",
       "      <td>0</td>\n",
       "    </tr>\n",
       "    <tr>\n",
       "      <th>4</th>\n",
       "      <td>0</td>\n",
       "      <td>0</td>\n",
       "      <td>16889</td>\n",
       "    </tr>\n",
       "    <tr>\n",
       "      <th>5</th>\n",
       "      <td>0</td>\n",
       "      <td>72734</td>\n",
       "      <td>0</td>\n",
       "    </tr>\n",
       "    <tr>\n",
       "      <th>6</th>\n",
       "      <td>0</td>\n",
       "      <td>0</td>\n",
       "      <td>27319</td>\n",
       "    </tr>\n",
       "    <tr>\n",
       "      <th>7</th>\n",
       "      <td>0</td>\n",
       "      <td>0</td>\n",
       "      <td>23917</td>\n",
       "    </tr>\n",
       "    <tr>\n",
       "      <th>8</th>\n",
       "      <td>0</td>\n",
       "      <td>0</td>\n",
       "      <td>2310</td>\n",
       "    </tr>\n",
       "    <tr>\n",
       "      <th>9</th>\n",
       "      <td>0</td>\n",
       "      <td>0</td>\n",
       "      <td>12428</td>\n",
       "    </tr>\n",
       "    <tr>\n",
       "      <th>10</th>\n",
       "      <td>0</td>\n",
       "      <td>0</td>\n",
       "      <td>2424</td>\n",
       "    </tr>\n",
       "    <tr>\n",
       "      <th>11</th>\n",
       "      <td>0</td>\n",
       "      <td>0</td>\n",
       "      <td>2181</td>\n",
       "    </tr>\n",
       "    <tr>\n",
       "      <th>12</th>\n",
       "      <td>0</td>\n",
       "      <td>0</td>\n",
       "      <td>26286</td>\n",
       "    </tr>\n",
       "  </tbody>\n",
       "</table>\n",
       "</div>"
      ],
      "text/plain": [
       "GRUPOS4       2      3      4\n",
       "GRUPOS12                     \n",
       "3         27522      0      0\n",
       "4             0      0  16889\n",
       "5             0  72734      0\n",
       "6             0      0  27319\n",
       "7             0      0  23917\n",
       "8             0      0   2310\n",
       "9             0      0  12428\n",
       "10            0      0   2424\n",
       "11            0      0   2181\n",
       "12            0      0  26286"
      ]
     },
     "execution_count": 173,
     "metadata": {},
     "output_type": "execute_result"
    }
   ],
   "source": [
    "pd.crosstab(emicron['GRUPOS12'],emicron['GRUPOS4'])"
   ]
  },
  {
   "cell_type": "markdown",
   "metadata": {},
   "source": [
    "### 2.2 Ubicación del micronegocio\n",
    "Para el entrenamiento de los modelos se utilizará la ubicación de micronegocios en 1: Vivienda, 2: Local (puestos fijos), 4: Ambulante, por lo tanto sólo estas categorías se mantendrán. De igual manera, el CENU, sólo recolectará información de actividades económicas visibles, por lo tanto se filtrará por este tipo de micronegocios."
   ]
  },
  {
   "cell_type": "code",
   "execution_count": 174,
   "metadata": {},
   "outputs": [
    {
     "name": "stdout",
     "output_type": "stream",
     "text": [
      "1    73214\n",
      "3    43516\n",
      "2    33583\n",
      "5    26785\n",
      "4    26738\n",
      "6     7928\n",
      "8     1146\n",
      "7     1100\n",
      "Name: P3053, dtype: int64\n",
      "3    116730\n",
      "1     33583\n",
      "5     26785\n",
      "4     26738\n",
      "6      7928\n",
      "8      1146\n",
      "7      1100\n",
      "Name: P3053, dtype: int64\n"
     ]
    }
   ],
   "source": [
    "print(emicron['P3053'].value_counts())\n",
    "# Reemplazar los códigos en función de la codificación que se recibirá en el CENU\n",
    "# 1: Establecimiento fijo\n",
    "# 3: Vivienda con actividad económica visible\n",
    "def rule(i):\n",
    "    if i == 1:\n",
    "        return 3\n",
    "    elif i == 2:\n",
    "        return 1\n",
    "    return i\n",
    "\n",
    "emicron['P3053'] = list(map(rule,emicron['P3053']))\n",
    "print(emicron['P3053'].value_counts())\n",
    "\n",
    "# Seleccionar sólo viviendas, establecimientos y ambulantes\n",
    "emicron = emicron[emicron['P3053'].isin([1,3,4])]"
   ]
  },
  {
   "cell_type": "code",
   "execution_count": 175,
   "metadata": {},
   "outputs": [
    {
     "data": {
      "text/plain": [
       "(79060, 210)"
      ]
     },
     "execution_count": 175,
     "metadata": {},
     "output_type": "execute_result"
    }
   ],
   "source": [
    "# Visibilidad del micronegocio\n",
    "emicron = emicron[(emicron['P469'] == 1)]\n",
    "emicron.shape"
   ]
  },
  {
   "cell_type": "markdown",
   "metadata": {},
   "source": [
    "### 2.3 Ventas del mes anterior\n",
    "Eliminar las filas cuyas ventas del año pasado son missing y cero"
   ]
  },
  {
   "cell_type": "code",
   "execution_count": 176,
   "metadata": {},
   "outputs": [
    {
     "name": "stdout",
     "output_type": "stream",
     "text": [
      "Valores nulos ventas:  0\n",
      "Ventas en cero:  2309\n"
     ]
    }
   ],
   "source": [
    "# Valores nulos ventas\n",
    "print(\"Valores nulos ventas: \", emicron[\"VENTAS_MES_ANTERIOR\"].isna().sum())\n",
    "\n",
    "# Valores cero ventas\n",
    "print(\"Ventas en cero: \", (emicron[\"VENTAS_MES_ANTERIOR\"]==0).sum())\n",
    "\n",
    "# Eliminar los registros con venta cero\n",
    "emicron = emicron[~(emicron[\"VENTAS_MES_ANTERIOR\"] == 0)]"
   ]
  },
  {
   "cell_type": "code",
   "execution_count": 177,
   "metadata": {},
   "outputs": [
    {
     "data": {
      "text/plain": [
       "(76751, 210)"
      ]
     },
     "execution_count": 177,
     "metadata": {},
     "output_type": "execute_result"
    }
   ],
   "source": [
    "emicron.shape"
   ]
  },
  {
   "cell_type": "markdown",
   "metadata": {},
   "source": [
    "### 2.4 Número de establecimientos\n",
    "Eliminar las filas cuyo número de estabecimientos es diferente a 1, ya que la información que recolecta el CENU es por establecimiento y la recolectada por EMICRON es a nivel de negocio, pero a veces se presenta información también solo por establecimiento cuando el negocio tiene más de un establecimiento. Para evitar eso, sólo utilizar los micronegocios que reportan un sólo establecimiento comercial, que representan el 99.36 % de la muestra (casi todos)."
   ]
  },
  {
   "cell_type": "code",
   "execution_count": 178,
   "metadata": {},
   "outputs": [
    {
     "data": {
      "text/plain": [
       "1.0      76242\n",
       "2.0        322\n",
       "99.0       126\n",
       "3.0         37\n",
       "4.0          9\n",
       "5.0          7\n",
       "6.0          4\n",
       "999.0        1\n",
       "10.0         1\n",
       "7.0          1\n",
       "8.0          1\n",
       "Name: P3054, dtype: int64"
      ]
     },
     "execution_count": 178,
     "metadata": {},
     "output_type": "execute_result"
    }
   ],
   "source": [
    "emicron['P3054'] = pd.to_numeric(emicron['P3054'], errors='coerce')\n",
    "emicron['P3054'].value_counts()"
   ]
  },
  {
   "cell_type": "code",
   "execution_count": 179,
   "metadata": {},
   "outputs": [
    {
     "data": {
      "text/plain": [
       "(76242, 210)"
      ]
     },
     "execution_count": 179,
     "metadata": {},
     "output_type": "execute_result"
    }
   ],
   "source": [
    "emicron = emicron[(emicron['P3054'] == 1)]\n",
    "emicron.shape"
   ]
  },
  {
   "cell_type": "markdown",
   "metadata": {},
   "source": [
    "## 3. Construcción y transformación de variables\n",
    "1. Se creará una agrupación para la variable del número total de empleados  \n",
    "2. Se agregarán los costos y los gastos en una sola variable (CYG)  \n",
    "3. AREA se recodificará para que muestre si la observación pertenece a una ciudad capital del departamento  \n",
    "4. Contabilidad"
   ]
  },
  {
   "cell_type": "markdown",
   "metadata": {},
   "source": [
    "### 3.1 Personal Ocupado"
   ]
  },
  {
   "cell_type": "code",
   "execution_count": 180,
   "metadata": {},
   "outputs": [],
   "source": [
    "emicron['P3032_1'] = pd.to_numeric(emicron['P3032_1'], errors='coerce')\n",
    "emicron['P3032_2'] = pd.to_numeric(emicron['P3032_2'], errors='coerce')\n",
    "emicron['P3032_3'] = pd.to_numeric(emicron['P3032_3'], errors='coerce')\n",
    "\n",
    "emicron['POTTOT'] = emicron[['P3032_1','P3032_2','P3032_3']].sum(axis=1)"
   ]
  },
  {
   "cell_type": "markdown",
   "metadata": {},
   "source": [
    "### 3.2 Costos y Gastos agregados"
   ]
  },
  {
   "cell_type": "code",
   "execution_count": 181,
   "metadata": {},
   "outputs": [],
   "source": [
    "emicron['CYG'] = emicron[['COSTOS_MES_ANTERIOR','GASTOS_MES']].sum(axis=1)"
   ]
  },
  {
   "cell_type": "markdown",
   "metadata": {},
   "source": [
    "### 3.3 Variable de Área\n",
    "Recodificar la variable de Área en función de si es una ciudad principal o un área metropolitana dentro del departamento"
   ]
  },
  {
   "cell_type": "code",
   "execution_count": 182,
   "metadata": {},
   "outputs": [],
   "source": [
    "emicron['AREA'] = pd.to_numeric(emicron['AREA'], errors='coerce')\n",
    "\n",
    "def rule_city(i):\n",
    "    if pd.isna(i) == True:\n",
    "        return 0\n",
    "    else:\n",
    "        return 1\n",
    "    return i\n",
    "\n",
    "emicron['CPAM'] = list(map(rule_city,emicron['AREA']))"
   ]
  },
  {
   "cell_type": "markdown",
   "metadata": {},
   "source": [
    "### 3.4 Variables de formalidad"
   ]
  },
  {
   "cell_type": "code",
   "execution_count": 183,
   "metadata": {},
   "outputs": [],
   "source": [
    "## Formalidad del micronegocio\n",
    "# Tiene RUT\n",
    "emicron['P1633'] = [0 if num == 2 else num for num in emicron['P1633']]\n",
    "# Está inscrito en CC\n",
    "emicron['P1055'] = [0 if num == 2 else num for num in emicron['P1055']]"
   ]
  },
  {
   "cell_type": "markdown",
   "metadata": {},
   "source": [
    "### 3.5 Forma de llevar la contabilidad"
   ]
  },
  {
   "cell_type": "code",
   "execution_count": 184,
   "metadata": {},
   "outputs": [
    {
     "name": "stdout",
     "output_type": "stream",
     "text": [
      "5    37254\n",
      "3    29135\n",
      "2     6652\n",
      "1     2815\n",
      "4      386\n",
      "Name: P640, dtype: int64\n",
      "5    37254\n",
      "3    29135\n",
      "2     6652\n",
      "1     3201\n",
      "Name: P640, dtype: int64\n",
      "4    37254\n",
      "3    29135\n",
      "2     6652\n",
      "1     3201\n",
      "Name: P640, dtype: int64\n"
     ]
    }
   ],
   "source": [
    "## Manera de llevar contabilidad\n",
    "# Se unifica 4: informes financieros en 1: Balance General P&G\n",
    "print(emicron['P640'].value_counts())\n",
    "emicron['P640'] = [1 if num == 4 else num for num in emicron['P640']]\n",
    "print(emicron['P640'].value_counts())\n",
    "\n",
    "# Se cambia el 5 por 4, para homogenizar con los códigos de CENU\n",
    "emicron['P640'] = [4 if num == 5 else num for num in emicron['P640']]\n",
    "print(emicron['P640'].value_counts())"
   ]
  },
  {
   "cell_type": "markdown",
   "metadata": {},
   "source": [
    "## 4. Renombrar variables"
   ]
  },
  {
   "cell_type": "code",
   "execution_count": 185,
   "metadata": {},
   "outputs": [],
   "source": [
    "nombre_estandar = {'P3053': 'UBICA',\n",
    "                   'P1633': 'IDRUT',\n",
    "                   'P640': 'REG_CONT',\n",
    "                   'P1055':'CAMCOMER',\n",
    "                   'P639' : 'ANOS_ESPACIO'\n",
    "               }\n",
    "emicron.rename(columns=nombre_estandar, inplace=True)"
   ]
  },
  {
   "cell_type": "markdown",
   "metadata": {},
   "source": [
    "## 5. Selección de variables"
   ]
  },
  {
   "cell_type": "code",
   "execution_count": 186,
   "metadata": {},
   "outputs": [],
   "source": [
    "var_estab = ['id','VENTAS_MES_ANTERIOR','POTTOT','REMUNERACION_TOTAL','CYG','COD_DEPTO','CPAM','GRUPOS4','UBICA','IDRUT','REG_CONT','CAMCOMER'] \n",
    "var_mov = ['id','VENTAS_MES_ANTERIOR','POTTOT','REMUNERACION_TOTAL','CYG','COD_DEPTO','CPAM','GRUPOS4','ANOS_ESPACIO']"
   ]
  },
  {
   "cell_type": "code",
   "execution_count": 187,
   "metadata": {},
   "outputs": [],
   "source": [
    "emicron = emicron[pd.unique(var_estab + var_mov)]"
   ]
  },
  {
   "cell_type": "markdown",
   "metadata": {},
   "source": [
    "## 6. One-Hot Encoding"
   ]
  },
  {
   "cell_type": "code",
   "execution_count": 114,
   "metadata": {},
   "outputs": [],
   "source": [
    "from sklearn.preprocessing import OneHotEncoder"
   ]
  },
  {
   "cell_type": "markdown",
   "metadata": {},
   "source": [
    "### 6.1 Creación variables dummies"
   ]
  },
  {
   "cell_type": "code",
   "execution_count": 188,
   "metadata": {},
   "outputs": [],
   "source": [
    "ohe_dpto = OneHotEncoder().fit(emicron[['COD_DEPTO']])\n",
    "drop_enc = ohe_dpto.transform(emicron[['COD_DEPTO']]).toarray()\n",
    "drop_enc_df = pd.DataFrame(drop_enc,columns = ohe_dpto.get_feature_names_out())\n",
    "drop_enc_df\n",
    "drop_enc_df.drop('COD_DEPTO_5', axis=1, inplace = True) # Utilizar como categoría de referencia 5: Antioquia\n",
    "\n",
    "emicron = emicron.join(drop_enc_df)\n",
    "\n",
    "ohe_ubi = OneHotEncoder().fit(emicron[['UBICA']])\n",
    "drop_enc = ohe_ubi.transform(emicron[['UBICA']]).toarray()\n",
    "drop_enc_df = pd.DataFrame(drop_enc,columns = ohe_ubi.get_feature_names_out())\n",
    "drop_enc_df.drop('UBICA_3', axis=1, inplace = True)  # Utilizar como categoría de referencia 3: Vivienda (aplica sólo para Establecimientos)\n",
    "\n",
    "emicron = emicron.join(drop_enc_df)\n",
    "\n",
    "ohe_sector = OneHotEncoder().fit(emicron[['GRUPOS4']])\n",
    "drop_enc = ohe_sector.transform(emicron[['GRUPOS4']]).toarray()\n",
    "drop_enc_df = pd.DataFrame(drop_enc,columns = ohe_sector.get_feature_names_out())\n",
    "drop_enc_df.drop('GRUPOS4_2', axis=1, inplace = True) # Utilizar como categoría de referencia 2: Industria Manufacturera\n",
    "\n",
    "emicron = emicron.join(drop_enc_df)\n",
    "\n",
    "ohe_conta = OneHotEncoder().fit(emicron[['REG_CONT']])\n",
    "drop_enc = ohe_conta.transform(emicron[['REG_CONT']]).toarray()\n",
    "drop_enc_df = pd.DataFrame(drop_enc,columns = ohe_conta.get_feature_names_out())\n",
    "drop_enc_df.drop('REG_CONT_4', axis=1, inplace = True) # Utilizar como categoría de referencia 4: No lleva registros (aplica sólo para Establecimientos)\n",
    "\n",
    "emicron = emicron.join(drop_enc_df)\n",
    "\n",
    "# ohe_sector12 = OneHotEncoder().fit(emicron[['GRUPOS12']])\n",
    "# drop_enc = ohe_sector12.transform(emicron[['GRUPOS12']]).toarray()\n",
    "# drop_enc_df = pd.DataFrame(drop_enc,columns = ohe_sector12.get_feature_names_out())\n",
    "# drop_enc_df.drop('GRUPOS12_4', axis=1, inplace = True)\n",
    "\n",
    "# emicron = emicron.join(drop_enc_df)\n",
    "\n",
    "ohe_anoe = OneHotEncoder().fit(emicron[['ANOS_ESPACIO']])\n",
    "drop_enc = ohe_anoe.transform(emicron[['ANOS_ESPACIO']]).toarray()\n",
    "drop_enc_df = pd.DataFrame(drop_enc,columns = ohe_anoe.get_feature_names_out())\n",
    "drop_enc_df.drop('ANOS_ESPACIO_1', axis=1, inplace = True) # Utilizar como categoría de referencia 1: Menos de un año\n",
    "\n",
    "emicron = emicron.join(drop_enc_df)"
   ]
  },
  {
   "cell_type": "markdown",
   "metadata": {},
   "source": [
    "### 6.1 Eliminar variables base"
   ]
  },
  {
   "cell_type": "code",
   "execution_count": 146,
   "metadata": {},
   "outputs": [
    {
     "data": {
      "text/html": [
       "<div>\n",
       "<style scoped>\n",
       "    .dataframe tbody tr th:only-of-type {\n",
       "        vertical-align: middle;\n",
       "    }\n",
       "\n",
       "    .dataframe tbody tr th {\n",
       "        vertical-align: top;\n",
       "    }\n",
       "\n",
       "    .dataframe thead th {\n",
       "        text-align: right;\n",
       "    }\n",
       "</style>\n",
       "<table border=\"1\" class=\"dataframe\">\n",
       "  <thead>\n",
       "    <tr style=\"text-align: right;\">\n",
       "      <th></th>\n",
       "      <th>id</th>\n",
       "      <th>VENTAS_MES_ANTERIOR</th>\n",
       "      <th>POTTOT</th>\n",
       "      <th>REMUNERACION_TOTAL</th>\n",
       "      <th>CYG</th>\n",
       "      <th>COD_DEPTO</th>\n",
       "      <th>CPAM</th>\n",
       "      <th>GRUPOS4</th>\n",
       "      <th>UBICA</th>\n",
       "      <th>IDRUT</th>\n",
       "      <th>...</th>\n",
       "      <th>COD_DEPTO_73</th>\n",
       "      <th>COD_DEPTO_76</th>\n",
       "      <th>COD_DEPTO_88</th>\n",
       "      <th>UBICA_1</th>\n",
       "      <th>UBICA_4</th>\n",
       "      <th>GRUPOS4_3</th>\n",
       "      <th>GRUPOS4_4</th>\n",
       "      <th>REG_CONT_1</th>\n",
       "      <th>REG_CONT_2</th>\n",
       "      <th>REG_CONT_3</th>\n",
       "    </tr>\n",
       "  </thead>\n",
       "  <tbody>\n",
       "    <tr>\n",
       "      <th>1</th>\n",
       "      <td>533276512</td>\n",
       "      <td>554000</td>\n",
       "      <td>0.0</td>\n",
       "      <td>0.0</td>\n",
       "      <td>420000</td>\n",
       "      <td>63</td>\n",
       "      <td>1</td>\n",
       "      <td>4</td>\n",
       "      <td>4</td>\n",
       "      <td>1</td>\n",
       "      <td>...</td>\n",
       "      <td>0.0</td>\n",
       "      <td>1.0</td>\n",
       "      <td>0.0</td>\n",
       "      <td>1.0</td>\n",
       "      <td>0.0</td>\n",
       "      <td>0.0</td>\n",
       "      <td>1.0</td>\n",
       "      <td>0.0</td>\n",
       "      <td>0.0</td>\n",
       "      <td>0.0</td>\n",
       "    </tr>\n",
       "    <tr>\n",
       "      <th>2</th>\n",
       "      <td>478012511</td>\n",
       "      <td>1300000</td>\n",
       "      <td>0.0</td>\n",
       "      <td>0.0</td>\n",
       "      <td>802000</td>\n",
       "      <td>76</td>\n",
       "      <td>0</td>\n",
       "      <td>4</td>\n",
       "      <td>1</td>\n",
       "      <td>1</td>\n",
       "      <td>...</td>\n",
       "      <td>0.0</td>\n",
       "      <td>0.0</td>\n",
       "      <td>0.0</td>\n",
       "      <td>0.0</td>\n",
       "      <td>0.0</td>\n",
       "      <td>1.0</td>\n",
       "      <td>0.0</td>\n",
       "      <td>0.0</td>\n",
       "      <td>0.0</td>\n",
       "      <td>1.0</td>\n",
       "    </tr>\n",
       "    <tr>\n",
       "      <th>2</th>\n",
       "      <td>533277411</td>\n",
       "      <td>450000</td>\n",
       "      <td>0.0</td>\n",
       "      <td>0.0</td>\n",
       "      <td>90000</td>\n",
       "      <td>68</td>\n",
       "      <td>1</td>\n",
       "      <td>3</td>\n",
       "      <td>3</td>\n",
       "      <td>0</td>\n",
       "      <td>...</td>\n",
       "      <td>0.0</td>\n",
       "      <td>0.0</td>\n",
       "      <td>0.0</td>\n",
       "      <td>0.0</td>\n",
       "      <td>0.0</td>\n",
       "      <td>1.0</td>\n",
       "      <td>0.0</td>\n",
       "      <td>0.0</td>\n",
       "      <td>0.0</td>\n",
       "      <td>1.0</td>\n",
       "    </tr>\n",
       "    <tr>\n",
       "      <th>3</th>\n",
       "      <td>533277911</td>\n",
       "      <td>400000</td>\n",
       "      <td>0.0</td>\n",
       "      <td>0.0</td>\n",
       "      <td>200000</td>\n",
       "      <td>63</td>\n",
       "      <td>1</td>\n",
       "      <td>3</td>\n",
       "      <td>3</td>\n",
       "      <td>1</td>\n",
       "      <td>...</td>\n",
       "      <td>0.0</td>\n",
       "      <td>0.0</td>\n",
       "      <td>0.0</td>\n",
       "      <td>0.0</td>\n",
       "      <td>0.0</td>\n",
       "      <td>1.0</td>\n",
       "      <td>0.0</td>\n",
       "      <td>0.0</td>\n",
       "      <td>0.0</td>\n",
       "      <td>1.0</td>\n",
       "    </tr>\n",
       "    <tr>\n",
       "      <th>4</th>\n",
       "      <td>533278011</td>\n",
       "      <td>3000000</td>\n",
       "      <td>1.0</td>\n",
       "      <td>800000.0</td>\n",
       "      <td>1450000</td>\n",
       "      <td>63</td>\n",
       "      <td>1</td>\n",
       "      <td>3</td>\n",
       "      <td>1</td>\n",
       "      <td>1</td>\n",
       "      <td>...</td>\n",
       "      <td>0.0</td>\n",
       "      <td>0.0</td>\n",
       "      <td>0.0</td>\n",
       "      <td>1.0</td>\n",
       "      <td>0.0</td>\n",
       "      <td>1.0</td>\n",
       "      <td>0.0</td>\n",
       "      <td>0.0</td>\n",
       "      <td>0.0</td>\n",
       "      <td>1.0</td>\n",
       "    </tr>\n",
       "  </tbody>\n",
       "</table>\n",
       "<p>5 rows × 44 columns</p>\n",
       "</div>"
      ],
      "text/plain": [
       "          id  VENTAS_MES_ANTERIOR  POTTOT  REMUNERACION_TOTAL      CYG  \\\n",
       "1  533276512               554000     0.0                 0.0   420000   \n",
       "2  478012511              1300000     0.0                 0.0   802000   \n",
       "2  533277411               450000     0.0                 0.0    90000   \n",
       "3  533277911               400000     0.0                 0.0   200000   \n",
       "4  533278011              3000000     1.0            800000.0  1450000   \n",
       "\n",
       "   COD_DEPTO  CPAM  GRUPOS4  UBICA  IDRUT  ...  COD_DEPTO_73  COD_DEPTO_76  \\\n",
       "1         63     1        4      4      1  ...           0.0           1.0   \n",
       "2         76     0        4      1      1  ...           0.0           0.0   \n",
       "2         68     1        3      3      0  ...           0.0           0.0   \n",
       "3         63     1        3      3      1  ...           0.0           0.0   \n",
       "4         63     1        3      1      1  ...           0.0           0.0   \n",
       "\n",
       "   COD_DEPTO_88  UBICA_1  UBICA_4  GRUPOS4_3  GRUPOS4_4  REG_CONT_1  \\\n",
       "1           0.0      1.0      0.0        0.0        1.0         0.0   \n",
       "2           0.0      0.0      0.0        1.0        0.0         0.0   \n",
       "2           0.0      0.0      0.0        1.0        0.0         0.0   \n",
       "3           0.0      0.0      0.0        1.0        0.0         0.0   \n",
       "4           0.0      1.0      0.0        1.0        0.0         0.0   \n",
       "\n",
       "   REG_CONT_2  REG_CONT_3  \n",
       "1         0.0         0.0  \n",
       "2         0.0         1.0  \n",
       "2         0.0         1.0  \n",
       "3         0.0         1.0  \n",
       "4         0.0         1.0  \n",
       "\n",
       "[5 rows x 44 columns]"
      ]
     },
     "execution_count": 146,
     "metadata": {},
     "output_type": "execute_result"
    }
   ],
   "source": [
    "## Eliminar las variables de las que se partió para la dicotomización\n",
    "# Código aplicable para la base de establecimientos\n",
    "emicron.drop(['COD_DEPTO','UBICA','GRUPOS4','REG_CONT'],axis=1, inplace= True)  \n",
    "# Código aplicable para la base de puestos móviles\n",
    "emicron.drop(['COD_DEPTO','GRUPOS4','ANOS_ESPACIO'],axis=1, inplace= True)"
   ]
  }
 ],
 "metadata": {
  "kernelspec": {
   "display_name": "Python 3",
   "language": "python",
   "name": "python3"
  },
  "language_info": {
   "codemirror_mode": {
    "name": "ipython",
    "version": 3
   },
   "file_extension": ".py",
   "mimetype": "text/x-python",
   "name": "python",
   "nbconvert_exporter": "python",
   "pygments_lexer": "ipython3",
   "version": "3.10.5"
  }
 },
 "nbformat": 4,
 "nbformat_minor": 2
}
