{
 "cells": [
  {
   "cell_type": "code",
   "execution_count": 23,
   "metadata": {},
   "outputs": [],
   "source": [
    "import pandas as pd\n",
    "import os\n",
    "import re\n",
    "import numpy as np\n",
    "import seaborn as sns\n",
    "import matplotlib.pyplot as plt"
   ]
  },
  {
   "cell_type": "code",
   "execution_count": 57,
   "metadata": {},
   "outputs": [],
   "source": [
    "from sklearn.preprocessing import OneHotEncoder\n",
    "from pyod.models.hbos import HBOS\n",
    "from pyod.models.combination import aom, moa, average, maximization"
   ]
  },
  {
   "cell_type": "markdown",
   "metadata": {},
   "source": [
    "## 1. Lectura base de datos"
   ]
  },
  {
   "cell_type": "code",
   "execution_count": 50,
   "metadata": {},
   "outputs": [],
   "source": [
    "data_path = r\"D:\\DANE - Contrato\\2024\\Operativo Barrido\\Data\"\n",
    "emicron = pd.read_csv(os.path.join(data_path,\"emicron_establecimientos.csv\"),header = 0)\n",
    "emicron = emicron[emicron['OLA']==2022].reset_index(drop=True)\n",
    "emicron.drop('OLA',axis=1,inplace=True)"
   ]
  },
  {
   "cell_type": "markdown",
   "metadata": {},
   "source": [
    "#### One-hot encoding"
   ]
  },
  {
   "cell_type": "code",
   "execution_count": 51,
   "metadata": {},
   "outputs": [],
   "source": [
    "emicron_ohe = emicron.copy()\n",
    "\n",
    "ohe_dpto = OneHotEncoder().fit(emicron_ohe[['COD_DEPTO']])\n",
    "drop_enc = ohe_dpto.transform(emicron_ohe[['COD_DEPTO']]).toarray()\n",
    "drop_enc_df = pd.DataFrame(drop_enc,columns = ohe_dpto.get_feature_names_out())\n",
    "#drop_enc_df.drop('COD_DEPTO_5', axis=1, inplace = True) # Utilizar como categoría de referencia 5: Antioquia\n",
    "\n",
    "emicron_ohe = emicron_ohe.join(drop_enc_df)\n",
    "\n",
    "ohe_ubi = OneHotEncoder().fit(emicron_ohe[['UBICA']])\n",
    "drop_enc = ohe_ubi.transform(emicron_ohe[['UBICA']]).toarray()\n",
    "drop_enc_df = pd.DataFrame(drop_enc,columns = ohe_ubi.get_feature_names_out())\n",
    "drop_enc_df.drop('UBICA_3', axis=1, inplace = True)  # Utilizar como categoría de referencia 3: Vivienda (aplica sólo para Establecimientos)\n",
    "\n",
    "emicron_ohe = emicron_ohe.join(drop_enc_df)\n",
    "\n",
    "ohe_sector = OneHotEncoder().fit(emicron_ohe[['GRUPOS4']])\n",
    "drop_enc = ohe_sector.transform(emicron_ohe[['GRUPOS4']]).toarray()\n",
    "drop_enc_df = pd.DataFrame(drop_enc,columns = ohe_sector.get_feature_names_out())\n",
    "#drop_enc_df.drop('GRUPOS4_2', axis=1, inplace = True) # Utilizar como categoría de referencia 2: Industria Manufacturera\n",
    "\n",
    "emicron_ohe = emicron_ohe.join(drop_enc_df)\n",
    "\n",
    "ohe_conta = OneHotEncoder().fit(emicron_ohe[['REG_CONT']])\n",
    "drop_enc = ohe_conta.transform(emicron_ohe[['REG_CONT']]).toarray()\n",
    "drop_enc_df = pd.DataFrame(drop_enc,columns = ohe_conta.get_feature_names_out())\n",
    "#drop_enc_df.drop('REG_CONT_4', axis=1, inplace = True) # Utilizar como categoría de referencia 4: No lleva registros (aplica sólo para Establecimientos)\n",
    "\n",
    "emicron_ohe = emicron_ohe.join(drop_enc_df)"
   ]
  },
  {
   "cell_type": "code",
   "execution_count": 52,
   "metadata": {},
   "outputs": [],
   "source": [
    "emicron_ohe.drop(['COD_DEPTO','UBICA','GRUPOS4','REG_CONT'],axis=1, inplace= True) \n",
    "emicron_ohe.set_index('id',inplace = True, drop = True)"
   ]
  },
  {
   "cell_type": "markdown",
   "metadata": {},
   "source": [
    "## 2. Implementación"
   ]
  },
  {
   "cell_type": "code",
   "execution_count": 28,
   "metadata": {},
   "outputs": [
    {
     "data": {
      "text/plain": [
       "HBOS(alpha=0.1, contamination=0.05, n_bins=50, tol=0.5)"
      ]
     },
     "execution_count": 28,
     "metadata": {},
     "output_type": "execute_result"
    }
   ],
   "source": [
    "n_bins = 50\n",
    "hbos = HBOS(n_bins = n_bins, contamination = 0.05)\n",
    "hbos.fit(emicron_ohe)"
   ]
  },
  {
   "cell_type": "code",
   "execution_count": 29,
   "metadata": {},
   "outputs": [
    {
     "name": "stdout",
     "output_type": "stream",
     "text": [
      "El umbral para los datos de ratio contaminados:  -174.1943442943894\n"
     ]
    }
   ],
   "source": [
    "print(\"El umbral para los datos de ratio contaminados: \", hbos.threshold_)"
   ]
  },
  {
   "cell_type": "code",
   "execution_count": 30,
   "metadata": {},
   "outputs": [],
   "source": [
    "scores = hbos.decision_function(emicron_ohe)\n",
    "pred = hbos.predict(emicron_ohe)"
   ]
  },
  {
   "cell_type": "code",
   "execution_count": 31,
   "metadata": {},
   "outputs": [],
   "source": [
    "emicron['Anomaly'] = pred"
   ]
  },
  {
   "cell_type": "code",
   "execution_count": 32,
   "metadata": {},
   "outputs": [
    {
     "data": {
      "text/plain": [
       "0    21642\n",
       "1     1140\n",
       "Name: Anomaly, dtype: int64"
      ]
     },
     "execution_count": 32,
     "metadata": {},
     "output_type": "execute_result"
    }
   ],
   "source": [
    "emicron['Anomaly'].value_counts()"
   ]
  },
  {
   "cell_type": "code",
   "execution_count": 33,
   "metadata": {},
   "outputs": [
    {
     "data": {
      "image/png": "[encoded data removed]",
      "text/plain": [
       "<Figure size 640x480 with 1 Axes>"
      ]
     },
     "metadata": {},
     "output_type": "display_data"
    }
   ],
   "source": [
    "plt.hist(scores, bins = 'auto')\n",
    "plt.title(\"Histogram con 'auto' bins para datos de entrenamiento\")\n",
    "plt.xlabel('HBOS')\n",
    "plt.show()"
   ]
  },
  {
   "cell_type": "code",
   "execution_count": 34,
   "metadata": {},
   "outputs": [],
   "source": [
    "threshold = hbos.threshold_"
   ]
  },
  {
   "cell_type": "code",
   "execution_count": 73,
   "metadata": {},
   "outputs": [
    {
     "data": {
      "text/plain": [
       "-174.1943442943894"
      ]
     },
     "execution_count": 73,
     "metadata": {},
     "output_type": "execute_result"
    }
   ],
   "source": [
    "np.percentile(np.sort(scores), 95) "
   ]
  },
  {
   "cell_type": "code",
   "execution_count": 18,
   "metadata": {},
   "outputs": [],
   "source": [
    "def descriptive_stat_threshold(df, pred_score, threshold, opcion = 1):\n",
    "    # Observemos cuántos 0 o 1 hay\n",
    "    if opcion == 1:    \n",
    "        df = pd.DataFrame(df)\n",
    "        df['Anomaly_Score'] = pred_score\n",
    "        df['Group'] = np.where(df['Anomaly_Score'] < threshold, 'Normal', 'Outlier')\n",
    "        # Ahora mostraremos las estadísticas resumen\n",
    "        cnt = df.groupby('Group')['Anomaly_Score'].count().reset_index().rename(columns = {'Anomaly_Score': 'Count'})\n",
    "        # Conto del conteo\n",
    "        cnt['Count %'] = (cnt['Count'] / cnt['Count'].sum()) * 100\n",
    "        # Promedio\n",
    "        stat = df.groupby('Group').mean().round(2).reset_index()\n",
    "        # Poniendo el conteo y el promedio juntos\n",
    "        stat = cnt.merge(stat, left_on = 'Group', right_on = 'Group')\n",
    "        return(stat)\n",
    "    else:\n",
    "        df = pd.DataFrame(df)\n",
    "        df['Anomaly_Score'] = pred_score\n",
    "        df['Group'] = np.where(df['Anomaly_Score'] < threshold, 'Normal', 'Outlier')\n",
    "        return(df)"
   ]
  },
  {
   "cell_type": "code",
   "execution_count": 35,
   "metadata": {},
   "outputs": [
    {
     "data": {
      "text/html": [
       "<div>\n",
       "<style scoped>\n",
       "    .dataframe tbody tr th:only-of-type {\n",
       "        vertical-align: middle;\n",
       "    }\n",
       "\n",
       "    .dataframe tbody tr th {\n",
       "        vertical-align: top;\n",
       "    }\n",
       "\n",
       "    .dataframe thead th {\n",
       "        text-align: right;\n",
       "    }\n",
       "</style>\n",
       "<table border=\"1\" class=\"dataframe\">\n",
       "  <thead>\n",
       "    <tr style=\"text-align: right;\">\n",
       "      <th></th>\n",
       "      <th>Group</th>\n",
       "      <th>Count</th>\n",
       "      <th>Count %</th>\n",
       "      <th>VENTAS_MES_ANTERIOR</th>\n",
       "      <th>POTTOT</th>\n",
       "      <th>REMUNERACION_TOTAL</th>\n",
       "      <th>CYG</th>\n",
       "      <th>CPAM</th>\n",
       "      <th>IDRUT</th>\n",
       "      <th>CAMCOMER</th>\n",
       "      <th>...</th>\n",
       "      <th>COD_DEPTO_88</th>\n",
       "      <th>UBICA_1</th>\n",
       "      <th>GRUPOS4_2</th>\n",
       "      <th>GRUPOS4_3</th>\n",
       "      <th>GRUPOS4_4</th>\n",
       "      <th>REG_CONT_1</th>\n",
       "      <th>REG_CONT_2</th>\n",
       "      <th>REG_CONT_3</th>\n",
       "      <th>REG_CONT_4</th>\n",
       "      <th>Anomaly_Score</th>\n",
       "    </tr>\n",
       "  </thead>\n",
       "  <tbody>\n",
       "    <tr>\n",
       "      <th>0</th>\n",
       "      <td>Normal</td>\n",
       "      <td>21642</td>\n",
       "      <td>94.99605</td>\n",
       "      <td>3382168.12</td>\n",
       "      <td>0.36</td>\n",
       "      <td>200451.71</td>\n",
       "      <td>2264294.60</td>\n",
       "      <td>0.72</td>\n",
       "      <td>0.40</td>\n",
       "      <td>0.27</td>\n",
       "      <td>...</td>\n",
       "      <td>0.01</td>\n",
       "      <td>0.41</td>\n",
       "      <td>0.14</td>\n",
       "      <td>0.49</td>\n",
       "      <td>0.37</td>\n",
       "      <td>0.02</td>\n",
       "      <td>0.10</td>\n",
       "      <td>0.41</td>\n",
       "      <td>0.47</td>\n",
       "      <td>-180.28</td>\n",
       "    </tr>\n",
       "    <tr>\n",
       "      <th>1</th>\n",
       "      <td>Outlier</td>\n",
       "      <td>1140</td>\n",
       "      <td>5.00395</td>\n",
       "      <td>18929701.04</td>\n",
       "      <td>3.00</td>\n",
       "      <td>3655481.36</td>\n",
       "      <td>13228565.86</td>\n",
       "      <td>0.70</td>\n",
       "      <td>0.99</td>\n",
       "      <td>0.96</td>\n",
       "      <td>...</td>\n",
       "      <td>0.06</td>\n",
       "      <td>0.88</td>\n",
       "      <td>0.28</td>\n",
       "      <td>0.32</td>\n",
       "      <td>0.39</td>\n",
       "      <td>0.53</td>\n",
       "      <td>0.36</td>\n",
       "      <td>0.10</td>\n",
       "      <td>0.01</td>\n",
       "      <td>-172.44</td>\n",
       "    </tr>\n",
       "  </tbody>\n",
       "</table>\n",
       "<p>2 rows × 44 columns</p>\n",
       "</div>"
      ],
      "text/plain": [
       "     Group  Count   Count %  VENTAS_MES_ANTERIOR  POTTOT  REMUNERACION_TOTAL  \\\n",
       "0   Normal  21642  94.99605           3382168.12    0.36           200451.71   \n",
       "1  Outlier   1140   5.00395          18929701.04    3.00          3655481.36   \n",
       "\n",
       "           CYG  CPAM  IDRUT  CAMCOMER  ...  COD_DEPTO_88  UBICA_1  GRUPOS4_2  \\\n",
       "0   2264294.60  0.72   0.40      0.27  ...          0.01     0.41       0.14   \n",
       "1  13228565.86  0.70   0.99      0.96  ...          0.06     0.88       0.28   \n",
       "\n",
       "   GRUPOS4_3  GRUPOS4_4  REG_CONT_1  REG_CONT_2  REG_CONT_3  REG_CONT_4  \\\n",
       "0       0.49       0.37        0.02        0.10        0.41        0.47   \n",
       "1       0.32       0.39        0.53        0.36        0.10        0.01   \n",
       "\n",
       "   Anomaly_Score  \n",
       "0        -180.28  \n",
       "1        -172.44  \n",
       "\n",
       "[2 rows x 44 columns]"
      ]
     },
     "execution_count": 35,
     "metadata": {},
     "output_type": "execute_result"
    }
   ],
   "source": [
    "descriptive_stat_threshold(emicron_ohe, scores, threshold)"
   ]
  },
  {
   "cell_type": "markdown",
   "metadata": {},
   "source": [
    "### 2.1 Definición umbral promedio"
   ]
  },
  {
   "cell_type": "code",
   "execution_count": 67,
   "metadata": {},
   "outputs": [],
   "source": [
    "# Generando diez modelos HBOS por rangos de 5, 10, 15, 20, 25, 30, 50, 60, 70 y 100 bins\n",
    "# testando el rango de agrupaciones (binning)\n",
    "k_list = [5,10,15,20,25,30,50,60,75,100]\n",
    "n_clf = len(k_list)\n",
    "# Se crea un dataframe vacío para los datos de entrenamiento y de test para almacenar las predicciones. Habrá diez modelos por lo que el data frame tendrá 10 columnas\n",
    "#Almacenar los resultados\n",
    "scores_mult = np.zeros([emicron_ohe.shape[0], n_clf])\n",
    "\n",
    "# Modelando\n",
    "\n",
    "for i in range(n_clf):\n",
    "    k = k_list[i]\n",
    "    hbos = HBOS(n_bins = k)\n",
    "    hbos.fit(emicron_ohe)\n",
    "    # Almacenando los resultados en cada columna\n",
    "    scores_mult[:, i] = hbos.decision_function(emicron_ohe)"
   ]
  },
  {
   "cell_type": "code",
   "execution_count": 68,
   "metadata": {},
   "outputs": [
    {
     "data": {
      "text/plain": [
       "array([[ -59.61306025,  -95.27759892, -116.56226003, ..., -190.00710119,\n",
       "        -201.88065427, -217.19915378],\n",
       "       [ -60.27342149,  -95.95126329, -117.24048034, ..., -190.69227378,\n",
       "        -202.56629549, -217.88526428],\n",
       "       [ -60.27342149,  -94.48286101, -115.67853975, ..., -188.96234041,\n",
       "        -200.82370871, -216.12981557],\n",
       "       ...,\n",
       "       [ -61.71473805,  -97.38930924, -118.67414995, ..., -192.11484165,\n",
       "        -203.98788717, -219.30584606],\n",
       "       [ -61.59735897,  -97.26979257, -118.55390429, ..., -191.99348662,\n",
       "        -203.86645751, -219.18434166],\n",
       "       [ -57.00880645,  -92.27269934, -113.27980193, ..., -183.70924567,\n",
       "        -197.95097962, -210.1703444 ]])"
      ]
     },
     "execution_count": 68,
     "metadata": {},
     "output_type": "execute_result"
    }
   ],
   "source": [
    "scores_mult"
   ]
  },
  {
   "cell_type": "code",
   "execution_count": 69,
   "metadata": {},
   "outputs": [
    {
     "data": {
      "image/png": "[encoded data removed]",
      "text/plain": [
       "<Figure size 640x480 with 1 Axes>"
      ]
     },
     "metadata": {},
     "output_type": "display_data"
    }
   ],
   "source": [
    "# El promedio de las predicciones de los 10 puntajes están en y_by_average abajo. Se crea esto en un histograma\n",
    "# El resultado \"y_by_average\" es una columna:\n",
    "Y_by_average = average(scores_mult)\n",
    "plt.hist(Y_by_average, bins = 'auto')\n",
    "#plt.xlim(4.2, 8)\n",
    "plt.title(\"Combinación por promedio\")\n",
    "plt.show()"
   ]
  },
  {
   "cell_type": "code",
   "execution_count": 87,
   "metadata": {},
   "outputs": [],
   "source": [
    "threshold = np.percentile(np.sort(Y_by_average), 90) "
   ]
  },
  {
   "cell_type": "code",
   "execution_count": 88,
   "metadata": {},
   "outputs": [
    {
     "data": {
      "text/html": [
       "<div>\n",
       "<style scoped>\n",
       "    .dataframe tbody tr th:only-of-type {\n",
       "        vertical-align: middle;\n",
       "    }\n",
       "\n",
       "    .dataframe tbody tr th {\n",
       "        vertical-align: top;\n",
       "    }\n",
       "\n",
       "    .dataframe thead th {\n",
       "        text-align: right;\n",
       "    }\n",
       "</style>\n",
       "<table border=\"1\" class=\"dataframe\">\n",
       "  <thead>\n",
       "    <tr style=\"text-align: right;\">\n",
       "      <th></th>\n",
       "      <th>Group</th>\n",
       "      <th>Count</th>\n",
       "      <th>Count %</th>\n",
       "      <th>VENTAS_MES_ANTERIOR</th>\n",
       "      <th>POTTOT</th>\n",
       "      <th>REMUNERACION_TOTAL</th>\n",
       "      <th>CYG</th>\n",
       "      <th>CPAM</th>\n",
       "      <th>IDRUT</th>\n",
       "      <th>CAMCOMER</th>\n",
       "      <th>...</th>\n",
       "      <th>COD_DEPTO_88</th>\n",
       "      <th>UBICA_1</th>\n",
       "      <th>GRUPOS4_2</th>\n",
       "      <th>GRUPOS4_3</th>\n",
       "      <th>GRUPOS4_4</th>\n",
       "      <th>REG_CONT_1</th>\n",
       "      <th>REG_CONT_2</th>\n",
       "      <th>REG_CONT_3</th>\n",
       "      <th>REG_CONT_4</th>\n",
       "      <th>Anomaly_Score</th>\n",
       "    </tr>\n",
       "  </thead>\n",
       "  <tbody>\n",
       "    <tr>\n",
       "      <th>0</th>\n",
       "      <td>Normal</td>\n",
       "      <td>20503</td>\n",
       "      <td>89.996488</td>\n",
       "      <td>3023525.38</td>\n",
       "      <td>0.29</td>\n",
       "      <td>143750.20</td>\n",
       "      <td>2013378.17</td>\n",
       "      <td>0.72</td>\n",
       "      <td>0.37</td>\n",
       "      <td>0.24</td>\n",
       "      <td>...</td>\n",
       "      <td>0.01</td>\n",
       "      <td>0.38</td>\n",
       "      <td>0.13</td>\n",
       "      <td>0.50</td>\n",
       "      <td>0.37</td>\n",
       "      <td>0.01</td>\n",
       "      <td>0.08</td>\n",
       "      <td>0.42</td>\n",
       "      <td>0.49</td>\n",
       "      <td>-149.23</td>\n",
       "    </tr>\n",
       "    <tr>\n",
       "      <th>1</th>\n",
       "      <td>Outlier</td>\n",
       "      <td>2279</td>\n",
       "      <td>10.003512</td>\n",
       "      <td>14385871.34</td>\n",
       "      <td>2.29</td>\n",
       "      <td>2438839.03</td>\n",
       "      <td>10006202.76</td>\n",
       "      <td>0.67</td>\n",
       "      <td>0.97</td>\n",
       "      <td>0.93</td>\n",
       "      <td>...</td>\n",
       "      <td>0.04</td>\n",
       "      <td>0.84</td>\n",
       "      <td>0.25</td>\n",
       "      <td>0.36</td>\n",
       "      <td>0.38</td>\n",
       "      <td>0.38</td>\n",
       "      <td>0.39</td>\n",
       "      <td>0.19</td>\n",
       "      <td>0.04</td>\n",
       "      <td>-142.65</td>\n",
       "    </tr>\n",
       "  </tbody>\n",
       "</table>\n",
       "<p>2 rows × 44 columns</p>\n",
       "</div>"
      ],
      "text/plain": [
       "     Group  Count    Count %  VENTAS_MES_ANTERIOR  POTTOT  REMUNERACION_TOTAL  \\\n",
       "0   Normal  20503  89.996488           3023525.38    0.29           143750.20   \n",
       "1  Outlier   2279  10.003512          14385871.34    2.29          2438839.03   \n",
       "\n",
       "           CYG  CPAM  IDRUT  CAMCOMER  ...  COD_DEPTO_88  UBICA_1  GRUPOS4_2  \\\n",
       "0   2013378.17  0.72   0.37      0.24  ...          0.01     0.38       0.13   \n",
       "1  10006202.76  0.67   0.97      0.93  ...          0.04     0.84       0.25   \n",
       "\n",
       "   GRUPOS4_3  GRUPOS4_4  REG_CONT_1  REG_CONT_2  REG_CONT_3  REG_CONT_4  \\\n",
       "0       0.50       0.37        0.01        0.08        0.42        0.49   \n",
       "1       0.36       0.38        0.38        0.39        0.19        0.04   \n",
       "\n",
       "   Anomaly_Score  \n",
       "0        -149.23  \n",
       "1        -142.65  \n",
       "\n",
       "[2 rows x 44 columns]"
      ]
     },
     "execution_count": 88,
     "metadata": {},
     "output_type": "execute_result"
    }
   ],
   "source": [
    "# Dado que el histograma anterior sugiere que el umbral esté por encima de 4.2, este será el umbral para categorizar lo valores anómalos\n",
    "descriptive_stat_threshold(emicron_ohe, Y_by_average, threshold)"
   ]
  },
  {
   "cell_type": "code",
   "execution_count": 89,
   "metadata": {},
   "outputs": [],
   "source": [
    "hbos_res = descriptive_stat_threshold(emicron, Y_by_average, threshold, 2)"
   ]
  },
  {
   "cell_type": "code",
   "execution_count": 90,
   "metadata": {},
   "outputs": [],
   "source": [
    "hbos_res.to_csv(os.path.join(data_path,\"fijos_hbos_res.csv\"), index = False)"
   ]
  }
 ],
 "metadata": {
  "kernelspec": {
   "display_name": "Python 3",
   "language": "python",
   "name": "python3"
  },
  "language_info": {
   "codemirror_mode": {
    "name": "ipython",
    "version": 3
   },
   "file_extension": ".py",
   "mimetype": "text/x-python",
   "name": "python",
   "nbconvert_exporter": "python",
   "pygments_lexer": "ipython3",
   "version": "3.10.5"
  }
 },
 "nbformat": 4,
 "nbformat_minor": 2
}
